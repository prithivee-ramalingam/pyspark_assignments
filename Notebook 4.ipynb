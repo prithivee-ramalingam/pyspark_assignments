{
 "cells": [
  {
   "cell_type": "code",
   "execution_count": 0,
   "metadata": {
    "application/vnd.databricks.v1+cell": {
     "cellMetadata": {
      "byteLimit": 2048000,
      "rowLimit": 10000
     },
     "inputWidgets": {},
     "nuid": "d2f219c4-b1ef-421f-a3cb-ec685b947ee5",
     "showTitle": false,
     "tableResultSettingsMap": {},
     "title": ""
    }
   },
   "outputs": [],
   "source": [
    "from pyspark.sql import SparkSession\n",
    "from pyspark.sql.functions import col"
   ]
  },
  {
   "cell_type": "code",
   "execution_count": 0,
   "metadata": {
    "application/vnd.databricks.v1+cell": {
     "cellMetadata": {
      "byteLimit": 2048000,
      "rowLimit": 10000
     },
     "inputWidgets": {},
     "nuid": "44300cd6-9ec7-451f-84e7-33aa1b9f8982",
     "showTitle": false,
     "tableResultSettingsMap": {},
     "title": ""
    }
   },
   "outputs": [],
   "source": [
    "spark = SparkSession.builder.appName(\"Spark DataFrames\").getOrCreate()"
   ]
  },
  {
   "cell_type": "code",
   "execution_count": 0,
   "metadata": {
    "application/vnd.databricks.v1+cell": {
     "cellMetadata": {
      "byteLimit": 2048000,
      "rowLimit": 10000
     },
     "inputWidgets": {},
     "nuid": "3f4d75cb-6e15-449d-8224-346079caa768",
     "showTitle": false,
     "tableResultSettingsMap": {},
     "title": ""
    }
   },
   "outputs": [],
   "source": [
    "person = spark.createDataFrame([\n",
    "(0, \"Bill Chambers\", 0, [100]),\n",
    "(1, \"Matei Zaharia\", 1, [500, 250, 100]),\n",
    "(2, \"Michael Armbrust\", 1, [250, 100])])\\\n",
    ".toDF(\"id\", \"name\", \"graduate_program\", \"spark_status\")\n",
    "\n",
    "graduate_program = spark.createDataFrame([\n",
    "(0, \"Masters\", \"School of Information\", \"UC Berkeley\"),\n",
    "(2, \"Masters\", \"EECS\", \"UC Berkeley\"),\n",
    "(1, \"Ph.D.\", \"EECS\", \"UC Berkeley\")])\\\n",
    ".toDF(\"id\", \"degree\", \"department\", \"school\")\n",
    "\n",
    "spark_status = spark.createDataFrame([\n",
    "(500, \"Vice President\"),\n",
    "(250, \"PMC Member\"),\n",
    "(100, \"Contributor\")])\\\n",
    ".toDF(\"id\", \"status\")"
   ]
  },
  {
   "cell_type": "code",
   "execution_count": 0,
   "metadata": {
    "application/vnd.databricks.v1+cell": {
     "cellMetadata": {
      "byteLimit": 2048000,
      "rowLimit": 10000
     },
     "inputWidgets": {},
     "nuid": "45210cea-4b99-4c1a-a10e-b5b1469d6a06",
     "showTitle": false,
     "tableResultSettingsMap": {},
     "title": ""
    }
   },
   "outputs": [],
   "source": [
    "person.createOrReplaceTempView(\"person\")\n",
    "graduate_program.createOrReplaceTempView(\"graduate_program\")\n",
    "spark_status.createOrReplaceTempView(\"spark_status\")"
   ]
  },
  {
   "cell_type": "markdown",
   "metadata": {
    "application/vnd.databricks.v1+cell": {
     "cellMetadata": {},
     "inputWidgets": {},
     "nuid": "4612c8b7-efbe-484b-b9a3-e8b598f70696",
     "showTitle": false,
     "tableResultSettingsMap": {},
     "title": ""
    }
   },
   "source": [
    "Inner join"
   ]
  },
  {
   "cell_type": "code",
   "execution_count": 0,
   "metadata": {
    "application/vnd.databricks.v1+cell": {
     "cellMetadata": {
      "byteLimit": 2048000,
      "rowLimit": 10000
     },
     "inputWidgets": {},
     "nuid": "ebdcfe92-f603-416a-a9de-4dcea025ee76",
     "showTitle": false,
     "tableResultSettingsMap": {},
     "title": ""
    }
   },
   "outputs": [
    {
     "output_type": "execute_result",
     "data": {
      "text/plain": [
       "Column<'`=`(graduate_program, id)'>"
      ]
     },
     "execution_count": 48,
     "metadata": {},
     "output_type": "execute_result"
    }
   ],
   "source": [
    "join_expression = person['graduate_program'] == graduate_program['id']\n",
    "join_expression"
   ]
  },
  {
   "cell_type": "code",
   "execution_count": 0,
   "metadata": {
    "application/vnd.databricks.v1+cell": {
     "cellMetadata": {
      "byteLimit": 2048000,
      "rowLimit": 10000
     },
     "inputWidgets": {},
     "nuid": "93529774-60c5-4eb2-a9f1-d7746de8b2a0",
     "showTitle": false,
     "tableResultSettingsMap": {},
     "title": ""
    }
   },
   "outputs": [
    {
     "output_type": "execute_result",
     "data": {
      "text/plain": [
       "Column<'`=`(name, school)'>"
      ]
     },
     "execution_count": 17,
     "metadata": {},
     "output_type": "execute_result"
    }
   ],
   "source": [
    "wrongJoinExpression = person[\"name\"] == graduate_program[\"school\"]\n",
    "wrongJoinExpression"
   ]
  },
  {
   "cell_type": "code",
   "execution_count": 0,
   "metadata": {
    "application/vnd.databricks.v1+cell": {
     "cellMetadata": {
      "byteLimit": 2048000,
      "rowLimit": 10000
     },
     "inputWidgets": {},
     "nuid": "6cdcef77-1630-42e0-9925-c9afec6c7d37",
     "showTitle": false,
     "tableResultSettingsMap": {},
     "title": ""
    }
   },
   "outputs": [],
   "source": [
    "join_type = 'inner'"
   ]
  },
  {
   "cell_type": "code",
   "execution_count": 0,
   "metadata": {
    "application/vnd.databricks.v1+cell": {
     "cellMetadata": {
      "byteLimit": 2048000,
      "rowLimit": 10000
     },
     "inputWidgets": {},
     "nuid": "9c6c86f0-2a81-4969-9882-23ecb7dc920e",
     "showTitle": false,
     "tableResultSettingsMap": {},
     "title": ""
    }
   },
   "outputs": [
    {
     "output_type": "stream",
     "name": "stdout",
     "output_type": "stream",
     "text": [
      "+---+----------------+----------------+---------------+---+-------+--------------------+-----------+\n| id|            name|graduate_program|   spark_status| id| degree|          department|     school|\n+---+----------------+----------------+---------------+---+-------+--------------------+-----------+\n|  0|   Bill Chambers|               0|          [100]|  0|Masters|School of Informa...|UC Berkeley|\n|  1|   Matei Zaharia|               1|[500, 250, 100]|  1|  Ph.D.|                EECS|UC Berkeley|\n|  2|Michael Armbrust|               1|     [250, 100]|  1|  Ph.D.|                EECS|UC Berkeley|\n+---+----------------+----------------+---------------+---+-------+--------------------+-----------+\n\n"
     ]
    }
   ],
   "source": [
    "(\n",
    "    person\n",
    "    .join(graduate_program, join_expression, join_type)\n",
    ").show()"
   ]
  },
  {
   "cell_type": "code",
   "execution_count": 0,
   "metadata": {
    "application/vnd.databricks.v1+cell": {
     "cellMetadata": {
      "byteLimit": 2048000,
      "implicitDf": true,
      "rowLimit": 10000
     },
     "inputWidgets": {},
     "nuid": "1f4c7bfd-efa5-4db5-bd2f-17dedcf17677",
     "showTitle": false,
     "tableResultSettingsMap": {},
     "title": ""
    }
   },
   "outputs": [
    {
     "output_type": "display_data",
     "data": {
      "text/html": [
       "<style scoped>\n",
       "  .table-result-container {\n",
       "    max-height: 300px;\n",
       "    overflow: auto;\n",
       "  }\n",
       "  table, th, td {\n",
       "    border: 1px solid black;\n",
       "    border-collapse: collapse;\n",
       "  }\n",
       "  th, td {\n",
       "    padding: 5px;\n",
       "  }\n",
       "  th {\n",
       "    text-align: left;\n",
       "  }\n",
       "</style><div class='table-result-container'><table class='table-result'><thead style='background-color: white'><tr><th>id</th><th>name</th><th>graduate_program</th><th>spark_status</th><th>id</th><th>degree</th><th>department</th><th>school</th></tr></thead><tbody><tr><td>0</td><td>Bill Chambers</td><td>0</td><td>List(100)</td><td>0</td><td>Masters</td><td>School of Information</td><td>UC Berkeley</td></tr><tr><td>1</td><td>Matei Zaharia</td><td>1</td><td>List(500, 250, 100)</td><td>1</td><td>Ph.D.</td><td>EECS</td><td>UC Berkeley</td></tr><tr><td>2</td><td>Michael Armbrust</td><td>1</td><td>List(250, 100)</td><td>1</td><td>Ph.D.</td><td>EECS</td><td>UC Berkeley</td></tr></tbody></table></div>"
      ]
     },
     "metadata": {
      "application/vnd.databricks.v1+output": {
       "addedWidgets": {},
       "aggData": [],
       "aggError": "",
       "aggOverflow": false,
       "aggSchema": [],
       "aggSeriesLimitReached": false,
       "aggType": "",
       "arguments": {},
       "columnCustomDisplayInfos": {},
       "data": [
        [
         0,
         "Bill Chambers",
         0,
         [
          100
         ],
         0,
         "Masters",
         "School of Information",
         "UC Berkeley"
        ],
        [
         1,
         "Matei Zaharia",
         1,
         [
          500,
          250,
          100
         ],
         1,
         "Ph.D.",
         "EECS",
         "UC Berkeley"
        ],
        [
         2,
         "Michael Armbrust",
         1,
         [
          250,
          100
         ],
         1,
         "Ph.D.",
         "EECS",
         "UC Berkeley"
        ]
       ],
       "datasetInfos": [],
       "dbfsResultPath": null,
       "isJsonSchema": true,
       "metadata": {
        "createTempViewForImplicitDf": true,
        "dataframeName": "_sqldf",
        "executionCount": 20
       },
       "overflow": false,
       "plotOptions": {
        "customPlotOptions": {},
        "displayType": "table",
        "pivotAggregation": null,
        "pivotColumns": null,
        "xColumns": null,
        "yColumns": null
       },
       "removedWidgets": [],
       "schema": [
        {
         "metadata": "{}",
         "name": "id",
         "type": "\"long\""
        },
        {
         "metadata": "{}",
         "name": "name",
         "type": "\"string\""
        },
        {
         "metadata": "{}",
         "name": "graduate_program",
         "type": "\"long\""
        },
        {
         "metadata": "{}",
         "name": "spark_status",
         "type": "{\"type\":\"array\",\"elementType\":\"long\",\"containsNull\":true}"
        },
        {
         "metadata": "{}",
         "name": "id",
         "type": "\"long\""
        },
        {
         "metadata": "{}",
         "name": "degree",
         "type": "\"string\""
        },
        {
         "metadata": "{}",
         "name": "department",
         "type": "\"string\""
        },
        {
         "metadata": "{}",
         "name": "school",
         "type": "\"string\""
        }
       ],
       "type": "table"
      }
     },
     "output_type": "display_data"
    }
   ],
   "source": [
    "%sql\n",
    "select * from person inner join graduate_program on person.graduate_program = graduate_program.id"
   ]
  },
  {
   "cell_type": "markdown",
   "metadata": {
    "application/vnd.databricks.v1+cell": {
     "cellMetadata": {},
     "inputWidgets": {},
     "nuid": "2c7634f5-b4af-4ef5-9b66-0f3f0d78b242",
     "showTitle": false,
     "tableResultSettingsMap": {},
     "title": ""
    }
   },
   "source": [
    "Outer join"
   ]
  },
  {
   "cell_type": "code",
   "execution_count": 0,
   "metadata": {
    "application/vnd.databricks.v1+cell": {
     "cellMetadata": {
      "byteLimit": 2048000,
      "rowLimit": 10000
     },
     "inputWidgets": {},
     "nuid": "061beafc-3510-4db0-a6c9-42e7c6fb09c2",
     "showTitle": false,
     "tableResultSettingsMap": {},
     "title": ""
    }
   },
   "outputs": [
    {
     "output_type": "stream",
     "name": "stdout",
     "output_type": "stream",
     "text": [
      "+----+----------------+----------------+---------------+---+-------+--------------------+-----------+\n|  id|            name|graduate_program|   spark_status| id| degree|          department|     school|\n+----+----------------+----------------+---------------+---+-------+--------------------+-----------+\n|   0|   Bill Chambers|               0|          [100]|  0|Masters|School of Informa...|UC Berkeley|\n|   1|   Matei Zaharia|               1|[500, 250, 100]|  1|  Ph.D.|                EECS|UC Berkeley|\n|   2|Michael Armbrust|               1|     [250, 100]|  1|  Ph.D.|                EECS|UC Berkeley|\n|NULL|            NULL|            NULL|           NULL|  2|Masters|                EECS|UC Berkeley|\n+----+----------------+----------------+---------------+---+-------+--------------------+-----------+\n\n"
     ]
    }
   ],
   "source": [
    "join_type = 'outer'\n",
    "(\n",
    "  person\n",
    "  .join(graduate_program, join_expression, join_type)\n",
    ").show()\n"
   ]
  },
  {
   "cell_type": "code",
   "execution_count": 0,
   "metadata": {
    "application/vnd.databricks.v1+cell": {
     "cellMetadata": {
      "byteLimit": 2048000,
      "implicitDf": true,
      "rowLimit": 10000
     },
     "inputWidgets": {},
     "nuid": "ba0c5658-ddbd-4f73-b58e-4b9154edf55e",
     "showTitle": false,
     "tableResultSettingsMap": {},
     "title": ""
    }
   },
   "outputs": [
    {
     "output_type": "display_data",
     "data": {
      "text/html": [
       "<style scoped>\n",
       "  .table-result-container {\n",
       "    max-height: 300px;\n",
       "    overflow: auto;\n",
       "  }\n",
       "  table, th, td {\n",
       "    border: 1px solid black;\n",
       "    border-collapse: collapse;\n",
       "  }\n",
       "  th, td {\n",
       "    padding: 5px;\n",
       "  }\n",
       "  th {\n",
       "    text-align: left;\n",
       "  }\n",
       "</style><div class='table-result-container'><table class='table-result'><thead style='background-color: white'><tr><th>id</th><th>name</th><th>graduate_program</th><th>spark_status</th><th>id</th><th>degree</th><th>department</th><th>school</th></tr></thead><tbody><tr><td>0</td><td>Bill Chambers</td><td>0</td><td>List(100)</td><td>0</td><td>Masters</td><td>School of Information</td><td>UC Berkeley</td></tr><tr><td>1</td><td>Matei Zaharia</td><td>1</td><td>List(500, 250, 100)</td><td>1</td><td>Ph.D.</td><td>EECS</td><td>UC Berkeley</td></tr><tr><td>2</td><td>Michael Armbrust</td><td>1</td><td>List(250, 100)</td><td>1</td><td>Ph.D.</td><td>EECS</td><td>UC Berkeley</td></tr><tr><td>null</td><td>null</td><td>null</td><td>null</td><td>2</td><td>Masters</td><td>EECS</td><td>UC Berkeley</td></tr></tbody></table></div>"
      ]
     },
     "metadata": {
      "application/vnd.databricks.v1+output": {
       "addedWidgets": {},
       "aggData": [],
       "aggError": "",
       "aggOverflow": false,
       "aggSchema": [],
       "aggSeriesLimitReached": false,
       "aggType": "",
       "arguments": {},
       "columnCustomDisplayInfos": {},
       "data": [
        [
         0,
         "Bill Chambers",
         0,
         [
          100
         ],
         0,
         "Masters",
         "School of Information",
         "UC Berkeley"
        ],
        [
         1,
         "Matei Zaharia",
         1,
         [
          500,
          250,
          100
         ],
         1,
         "Ph.D.",
         "EECS",
         "UC Berkeley"
        ],
        [
         2,
         "Michael Armbrust",
         1,
         [
          250,
          100
         ],
         1,
         "Ph.D.",
         "EECS",
         "UC Berkeley"
        ],
        [
         null,
         null,
         null,
         null,
         2,
         "Masters",
         "EECS",
         "UC Berkeley"
        ]
       ],
       "datasetInfos": [],
       "dbfsResultPath": null,
       "isJsonSchema": true,
       "metadata": {
        "createTempViewForImplicitDf": true,
        "dataframeName": "_sqldf",
        "executionCount": 22
       },
       "overflow": false,
       "plotOptions": {
        "customPlotOptions": {},
        "displayType": "table",
        "pivotAggregation": null,
        "pivotColumns": null,
        "xColumns": null,
        "yColumns": null
       },
       "removedWidgets": [],
       "schema": [
        {
         "metadata": "{}",
         "name": "id",
         "type": "\"long\""
        },
        {
         "metadata": "{}",
         "name": "name",
         "type": "\"string\""
        },
        {
         "metadata": "{}",
         "name": "graduate_program",
         "type": "\"long\""
        },
        {
         "metadata": "{}",
         "name": "spark_status",
         "type": "{\"type\":\"array\",\"elementType\":\"long\",\"containsNull\":true}"
        },
        {
         "metadata": "{}",
         "name": "id",
         "type": "\"long\""
        },
        {
         "metadata": "{}",
         "name": "degree",
         "type": "\"string\""
        },
        {
         "metadata": "{}",
         "name": "department",
         "type": "\"string\""
        },
        {
         "metadata": "{}",
         "name": "school",
         "type": "\"string\""
        }
       ],
       "type": "table"
      }
     },
     "output_type": "display_data"
    }
   ],
   "source": [
    "%sql\n",
    "select * from person full outer join graduate_program on person.graduate_program = graduate_program.id"
   ]
  },
  {
   "cell_type": "markdown",
   "metadata": {
    "application/vnd.databricks.v1+cell": {
     "cellMetadata": {},
     "inputWidgets": {},
     "nuid": "d61297d1-0eb6-4abf-9cc2-1a326743c4fb",
     "showTitle": false,
     "tableResultSettingsMap": {},
     "title": ""
    }
   },
   "source": [
    "Left Outer join"
   ]
  },
  {
   "cell_type": "code",
   "execution_count": 0,
   "metadata": {
    "application/vnd.databricks.v1+cell": {
     "cellMetadata": {
      "byteLimit": 2048000,
      "rowLimit": 10000
     },
     "inputWidgets": {},
     "nuid": "f1be298b-4b7e-4299-8ea3-fbb994c9bd67",
     "showTitle": false,
     "tableResultSettingsMap": {},
     "title": ""
    }
   },
   "outputs": [
    {
     "output_type": "stream",
     "name": "stdout",
     "output_type": "stream",
     "text": [
      "+---+-------+--------------------+-----------+----+----------------+----------------+---------------+\n| id| degree|          department|     school|  id|            name|graduate_program|   spark_status|\n+---+-------+--------------------+-----------+----+----------------+----------------+---------------+\n|  0|Masters|School of Informa...|UC Berkeley|   0|   Bill Chambers|               0|          [100]|\n|  2|Masters|                EECS|UC Berkeley|NULL|            NULL|            NULL|           NULL|\n|  1|  Ph.D.|                EECS|UC Berkeley|   2|Michael Armbrust|               1|     [250, 100]|\n|  1|  Ph.D.|                EECS|UC Berkeley|   1|   Matei Zaharia|               1|[500, 250, 100]|\n+---+-------+--------------------+-----------+----+----------------+----------------+---------------+\n\n"
     ]
    }
   ],
   "source": [
    "join_type = 'left_outer'\n",
    "\n",
    "(\n",
    "    graduate_program\n",
    "    .join(person, join_expression, join_type)\n",
    ").show()"
   ]
  },
  {
   "cell_type": "code",
   "execution_count": 0,
   "metadata": {
    "application/vnd.databricks.v1+cell": {
     "cellMetadata": {
      "byteLimit": 2048000,
      "implicitDf": true,
      "rowLimit": 10000
     },
     "inputWidgets": {},
     "nuid": "735e4afc-a62a-4220-b53f-5f8388cfac9f",
     "showTitle": false,
     "tableResultSettingsMap": {},
     "title": ""
    }
   },
   "outputs": [
    {
     "output_type": "display_data",
     "data": {
      "text/html": [
       "<style scoped>\n",
       "  .table-result-container {\n",
       "    max-height: 300px;\n",
       "    overflow: auto;\n",
       "  }\n",
       "  table, th, td {\n",
       "    border: 1px solid black;\n",
       "    border-collapse: collapse;\n",
       "  }\n",
       "  th, td {\n",
       "    padding: 5px;\n",
       "  }\n",
       "  th {\n",
       "    text-align: left;\n",
       "  }\n",
       "</style><div class='table-result-container'><table class='table-result'><thead style='background-color: white'><tr><th>id</th><th>degree</th><th>department</th><th>school</th><th>id</th><th>name</th><th>graduate_program</th><th>spark_status</th></tr></thead><tbody><tr><td>0</td><td>Masters</td><td>School of Information</td><td>UC Berkeley</td><td>0</td><td>Bill Chambers</td><td>0</td><td>List(100)</td></tr><tr><td>2</td><td>Masters</td><td>EECS</td><td>UC Berkeley</td><td>null</td><td>null</td><td>null</td><td>null</td></tr><tr><td>1</td><td>Ph.D.</td><td>EECS</td><td>UC Berkeley</td><td>2</td><td>Michael Armbrust</td><td>1</td><td>List(250, 100)</td></tr><tr><td>1</td><td>Ph.D.</td><td>EECS</td><td>UC Berkeley</td><td>1</td><td>Matei Zaharia</td><td>1</td><td>List(500, 250, 100)</td></tr></tbody></table></div>"
      ]
     },
     "metadata": {
      "application/vnd.databricks.v1+output": {
       "addedWidgets": {},
       "aggData": [],
       "aggError": "",
       "aggOverflow": false,
       "aggSchema": [],
       "aggSeriesLimitReached": false,
       "aggType": "",
       "arguments": {},
       "columnCustomDisplayInfos": {},
       "data": [
        [
         0,
         "Masters",
         "School of Information",
         "UC Berkeley",
         0,
         "Bill Chambers",
         0,
         [
          100
         ]
        ],
        [
         2,
         "Masters",
         "EECS",
         "UC Berkeley",
         null,
         null,
         null,
         null
        ],
        [
         1,
         "Ph.D.",
         "EECS",
         "UC Berkeley",
         2,
         "Michael Armbrust",
         1,
         [
          250,
          100
         ]
        ],
        [
         1,
         "Ph.D.",
         "EECS",
         "UC Berkeley",
         1,
         "Matei Zaharia",
         1,
         [
          500,
          250,
          100
         ]
        ]
       ],
       "datasetInfos": [],
       "dbfsResultPath": null,
       "isJsonSchema": true,
       "metadata": {
        "createTempViewForImplicitDf": true,
        "dataframeName": "_sqldf",
        "executionCount": 24
       },
       "overflow": false,
       "plotOptions": {
        "customPlotOptions": {},
        "displayType": "table",
        "pivotAggregation": null,
        "pivotColumns": null,
        "xColumns": null,
        "yColumns": null
       },
       "removedWidgets": [],
       "schema": [
        {
         "metadata": "{}",
         "name": "id",
         "type": "\"long\""
        },
        {
         "metadata": "{}",
         "name": "degree",
         "type": "\"string\""
        },
        {
         "metadata": "{}",
         "name": "department",
         "type": "\"string\""
        },
        {
         "metadata": "{}",
         "name": "school",
         "type": "\"string\""
        },
        {
         "metadata": "{}",
         "name": "id",
         "type": "\"long\""
        },
        {
         "metadata": "{}",
         "name": "name",
         "type": "\"string\""
        },
        {
         "metadata": "{}",
         "name": "graduate_program",
         "type": "\"long\""
        },
        {
         "metadata": "{}",
         "name": "spark_status",
         "type": "{\"type\":\"array\",\"elementType\":\"long\",\"containsNull\":true}"
        }
       ],
       "type": "table"
      }
     },
     "output_type": "display_data"
    }
   ],
   "source": [
    "%sql\n",
    "select * from graduate_program left outer join person on graduate_program.id = person.graduate_program"
   ]
  },
  {
   "cell_type": "markdown",
   "metadata": {
    "application/vnd.databricks.v1+cell": {
     "cellMetadata": {},
     "inputWidgets": {},
     "nuid": "b573acbc-15b1-43d4-aad7-4ad2e81765c9",
     "showTitle": false,
     "tableResultSettingsMap": {},
     "title": ""
    }
   },
   "source": [
    "Right Outer join"
   ]
  },
  {
   "cell_type": "code",
   "execution_count": 0,
   "metadata": {
    "application/vnd.databricks.v1+cell": {
     "cellMetadata": {
      "byteLimit": 2048000,
      "rowLimit": 10000
     },
     "inputWidgets": {},
     "nuid": "bb7f5363-3fbb-4d89-9b32-4ba144ae83fd",
     "showTitle": false,
     "tableResultSettingsMap": {},
     "title": ""
    }
   },
   "outputs": [
    {
     "output_type": "stream",
     "name": "stdout",
     "output_type": "stream",
     "text": [
      "+----+----------------+----------------+---------------+---+-------+--------------------+-----------+\n|  id|            name|graduate_program|   spark_status| id| degree|          department|     school|\n+----+----------------+----------------+---------------+---+-------+--------------------+-----------+\n|   0|   Bill Chambers|               0|          [100]|  0|Masters|School of Informa...|UC Berkeley|\n|   1|   Matei Zaharia|               1|[500, 250, 100]|  1|  Ph.D.|                EECS|UC Berkeley|\n|   2|Michael Armbrust|               1|     [250, 100]|  1|  Ph.D.|                EECS|UC Berkeley|\n|NULL|            NULL|            NULL|           NULL|  2|Masters|                EECS|UC Berkeley|\n+----+----------------+----------------+---------------+---+-------+--------------------+-----------+\n\n"
     ]
    }
   ],
   "source": [
    "join_type = 'right_outer'\n",
    "\n",
    "(\n",
    "  person.join(graduate_program, join_expression, join_type)\n",
    ").show()"
   ]
  },
  {
   "cell_type": "code",
   "execution_count": 0,
   "metadata": {
    "application/vnd.databricks.v1+cell": {
     "cellMetadata": {
      "byteLimit": 2048000,
      "implicitDf": true,
      "rowLimit": 10000
     },
     "inputWidgets": {},
     "nuid": "ba056077-a247-4146-8dc6-b49562c52362",
     "showTitle": false,
     "tableResultSettingsMap": {},
     "title": ""
    }
   },
   "outputs": [
    {
     "output_type": "display_data",
     "data": {
      "text/html": [
       "<style scoped>\n",
       "  .table-result-container {\n",
       "    max-height: 300px;\n",
       "    overflow: auto;\n",
       "  }\n",
       "  table, th, td {\n",
       "    border: 1px solid black;\n",
       "    border-collapse: collapse;\n",
       "  }\n",
       "  th, td {\n",
       "    padding: 5px;\n",
       "  }\n",
       "  th {\n",
       "    text-align: left;\n",
       "  }\n",
       "</style><div class='table-result-container'><table class='table-result'><thead style='background-color: white'><tr><th>id</th><th>name</th><th>graduate_program</th><th>spark_status</th><th>id</th><th>degree</th><th>department</th><th>school</th></tr></thead><tbody><tr><td>0</td><td>Bill Chambers</td><td>0</td><td>List(100)</td><td>0</td><td>Masters</td><td>School of Information</td><td>UC Berkeley</td></tr><tr><td>null</td><td>null</td><td>null</td><td>null</td><td>2</td><td>Masters</td><td>EECS</td><td>UC Berkeley</td></tr><tr><td>2</td><td>Michael Armbrust</td><td>1</td><td>List(250, 100)</td><td>1</td><td>Ph.D.</td><td>EECS</td><td>UC Berkeley</td></tr><tr><td>1</td><td>Matei Zaharia</td><td>1</td><td>List(500, 250, 100)</td><td>1</td><td>Ph.D.</td><td>EECS</td><td>UC Berkeley</td></tr></tbody></table></div>"
      ]
     },
     "metadata": {
      "application/vnd.databricks.v1+output": {
       "addedWidgets": {},
       "aggData": [],
       "aggError": "",
       "aggOverflow": false,
       "aggSchema": [],
       "aggSeriesLimitReached": false,
       "aggType": "",
       "arguments": {},
       "columnCustomDisplayInfos": {},
       "data": [
        [
         0,
         "Bill Chambers",
         0,
         [
          100
         ],
         0,
         "Masters",
         "School of Information",
         "UC Berkeley"
        ],
        [
         null,
         null,
         null,
         null,
         2,
         "Masters",
         "EECS",
         "UC Berkeley"
        ],
        [
         2,
         "Michael Armbrust",
         1,
         [
          250,
          100
         ],
         1,
         "Ph.D.",
         "EECS",
         "UC Berkeley"
        ],
        [
         1,
         "Matei Zaharia",
         1,
         [
          500,
          250,
          100
         ],
         1,
         "Ph.D.",
         "EECS",
         "UC Berkeley"
        ]
       ],
       "datasetInfos": [],
       "dbfsResultPath": null,
       "isJsonSchema": true,
       "metadata": {
        "createTempViewForImplicitDf": true,
        "dataframeName": "_sqldf",
        "executionCount": 26
       },
       "overflow": false,
       "plotOptions": {
        "customPlotOptions": {},
        "displayType": "table",
        "pivotAggregation": null,
        "pivotColumns": null,
        "xColumns": null,
        "yColumns": null
       },
       "removedWidgets": [],
       "schema": [
        {
         "metadata": "{}",
         "name": "id",
         "type": "\"long\""
        },
        {
         "metadata": "{}",
         "name": "name",
         "type": "\"string\""
        },
        {
         "metadata": "{}",
         "name": "graduate_program",
         "type": "\"long\""
        },
        {
         "metadata": "{}",
         "name": "spark_status",
         "type": "{\"type\":\"array\",\"elementType\":\"long\",\"containsNull\":true}"
        },
        {
         "metadata": "{}",
         "name": "id",
         "type": "\"long\""
        },
        {
         "metadata": "{}",
         "name": "degree",
         "type": "\"string\""
        },
        {
         "metadata": "{}",
         "name": "department",
         "type": "\"string\""
        },
        {
         "metadata": "{}",
         "name": "school",
         "type": "\"string\""
        }
       ],
       "type": "table"
      }
     },
     "output_type": "display_data"
    }
   ],
   "source": [
    "%sql\n",
    "select * from person right outer join graduate_program on person.graduate_program = graduate_program.id"
   ]
  },
  {
   "cell_type": "markdown",
   "metadata": {
    "application/vnd.databricks.v1+cell": {
     "cellMetadata": {},
     "inputWidgets": {},
     "nuid": "fcb08206-856b-4c2f-8a6d-b88ef2ff27c8",
     "showTitle": false,
     "tableResultSettingsMap": {},
     "title": ""
    }
   },
   "source": [
    "Left Semi join"
   ]
  },
  {
   "cell_type": "code",
   "execution_count": 0,
   "metadata": {
    "application/vnd.databricks.v1+cell": {
     "cellMetadata": {
      "byteLimit": 2048000,
      "rowLimit": 10000
     },
     "inputWidgets": {},
     "nuid": "388bffbf-159d-400f-ad64-403950d511ac",
     "showTitle": false,
     "tableResultSettingsMap": {},
     "title": ""
    }
   },
   "outputs": [
    {
     "output_type": "stream",
     "name": "stdout",
     "output_type": "stream",
     "text": [
      "+---+-------+--------------------+-----------+\n| id| degree|          department|     school|\n+---+-------+--------------------+-----------+\n|  0|Masters|School of Informa...|UC Berkeley|\n|  1|  Ph.D.|                EECS|UC Berkeley|\n+---+-------+--------------------+-----------+\n\n"
     ]
    }
   ],
   "source": [
    "join_type = 'left_semi'\n",
    "\n",
    "(\n",
    "    graduate_program\n",
    "    .join(person, join_expression, join_type)\n",
    "    .show()\n",
    ")"
   ]
  },
  {
   "cell_type": "code",
   "execution_count": 0,
   "metadata": {
    "application/vnd.databricks.v1+cell": {
     "cellMetadata": {
      "byteLimit": 2048000,
      "rowLimit": 10000
     },
     "inputWidgets": {},
     "nuid": "22f64853-0d5d-4cee-9e13-9926efabfda3",
     "showTitle": false,
     "tableResultSettingsMap": {},
     "title": ""
    }
   },
   "outputs": [],
   "source": [
    "graduate_program2 = graduate_program.union(spark.createDataFrame([(0,\"Masters\",\"Duplicated Row\",\"Duplicated School\")]))\n",
    "graduate_program2.createOrReplaceTempView(\"graduate_program2\")"
   ]
  },
  {
   "cell_type": "code",
   "execution_count": 0,
   "metadata": {
    "application/vnd.databricks.v1+cell": {
     "cellMetadata": {
      "byteLimit": 2048000,
      "rowLimit": 10000
     },
     "inputWidgets": {},
     "nuid": "11af97a9-773a-4157-8a04-e5a6023ff4a5",
     "showTitle": false,
     "tableResultSettingsMap": {},
     "title": ""
    }
   },
   "outputs": [
    {
     "output_type": "stream",
     "name": "stdout",
     "output_type": "stream",
     "text": [
      "+---+-------+--------------------+-----------------+\n| id| degree|          department|           school|\n+---+-------+--------------------+-----------------+\n|  0|Masters|School of Informa...|      UC Berkeley|\n|  1|  Ph.D.|                EECS|      UC Berkeley|\n|  0|Masters|      Duplicated Row|Duplicated School|\n+---+-------+--------------------+-----------------+\n\n"
     ]
    }
   ],
   "source": [
    "(\n",
    "    graduate_program2\n",
    "    .join(person, join_expression, join_type)\n",
    "    .show()\n",
    ")"
   ]
  },
  {
   "cell_type": "code",
   "execution_count": 0,
   "metadata": {
    "application/vnd.databricks.v1+cell": {
     "cellMetadata": {
      "byteLimit": 2048000,
      "implicitDf": true,
      "rowLimit": 10000
     },
     "inputWidgets": {},
     "nuid": "fcf54503-f7e9-4918-bdad-565aaecd627b",
     "showTitle": false,
     "tableResultSettingsMap": {},
     "title": ""
    }
   },
   "outputs": [
    {
     "output_type": "display_data",
     "data": {
      "text/html": [
       "<style scoped>\n",
       "  .table-result-container {\n",
       "    max-height: 300px;\n",
       "    overflow: auto;\n",
       "  }\n",
       "  table, th, td {\n",
       "    border: 1px solid black;\n",
       "    border-collapse: collapse;\n",
       "  }\n",
       "  th, td {\n",
       "    padding: 5px;\n",
       "  }\n",
       "  th {\n",
       "    text-align: left;\n",
       "  }\n",
       "</style><div class='table-result-container'><table class='table-result'><thead style='background-color: white'><tr><th>id</th><th>degree</th><th>department</th><th>school</th></tr></thead><tbody><tr><td>0</td><td>Masters</td><td>School of Information</td><td>UC Berkeley</td></tr><tr><td>1</td><td>Ph.D.</td><td>EECS</td><td>UC Berkeley</td></tr><tr><td>0</td><td>Masters</td><td>Duplicated Row</td><td>Duplicated School</td></tr></tbody></table></div>"
      ]
     },
     "metadata": {
      "application/vnd.databricks.v1+output": {
       "addedWidgets": {},
       "aggData": [],
       "aggError": "",
       "aggOverflow": false,
       "aggSchema": [],
       "aggSeriesLimitReached": false,
       "aggType": "",
       "arguments": {},
       "columnCustomDisplayInfos": {},
       "data": [
        [
         0,
         "Masters",
         "School of Information",
         "UC Berkeley"
        ],
        [
         1,
         "Ph.D.",
         "EECS",
         "UC Berkeley"
        ],
        [
         0,
         "Masters",
         "Duplicated Row",
         "Duplicated School"
        ]
       ],
       "datasetInfos": [],
       "dbfsResultPath": null,
       "isJsonSchema": true,
       "metadata": {
        "createTempViewForImplicitDf": true,
        "dataframeName": "_sqldf",
        "executionCount": 33
       },
       "overflow": false,
       "plotOptions": {
        "customPlotOptions": {},
        "displayType": "table",
        "pivotAggregation": null,
        "pivotColumns": null,
        "xColumns": null,
        "yColumns": null
       },
       "removedWidgets": [],
       "schema": [
        {
         "metadata": "{}",
         "name": "id",
         "type": "\"long\""
        },
        {
         "metadata": "{}",
         "name": "degree",
         "type": "\"string\""
        },
        {
         "metadata": "{}",
         "name": "department",
         "type": "\"string\""
        },
        {
         "metadata": "{}",
         "name": "school",
         "type": "\"string\""
        }
       ],
       "type": "table"
      }
     },
     "output_type": "display_data"
    }
   ],
   "source": [
    "%sql\n",
    "select * from graduate_program2 left semi join person on graduate_program2.id = person.graduate_program"
   ]
  },
  {
   "cell_type": "markdown",
   "metadata": {
    "application/vnd.databricks.v1+cell": {
     "cellMetadata": {},
     "inputWidgets": {},
     "nuid": "61c8731e-9a32-4dbd-ae8b-ef66a0d274bf",
     "showTitle": false,
     "tableResultSettingsMap": {},
     "title": ""
    }
   },
   "source": [
    "Left Anti join"
   ]
  },
  {
   "cell_type": "code",
   "execution_count": 0,
   "metadata": {
    "application/vnd.databricks.v1+cell": {
     "cellMetadata": {
      "byteLimit": 2048000,
      "rowLimit": 10000
     },
     "inputWidgets": {},
     "nuid": "0f200737-dfaa-44c8-949b-59708f4824d2",
     "showTitle": false,
     "tableResultSettingsMap": {},
     "title": ""
    }
   },
   "outputs": [
    {
     "output_type": "stream",
     "name": "stdout",
     "output_type": "stream",
     "text": [
      "+---+-------+----------+-----------+\n| id| degree|department|     school|\n+---+-------+----------+-----------+\n|  2|Masters|      EECS|UC Berkeley|\n+---+-------+----------+-----------+\n\n"
     ]
    }
   ],
   "source": [
    "join_type = 'left_anti'\n",
    "(\n",
    "  graduate_program2\n",
    "  .join(person, join_expression, join_type)\n",
    "  .show()\n",
    ")"
   ]
  },
  {
   "cell_type": "code",
   "execution_count": 0,
   "metadata": {
    "application/vnd.databricks.v1+cell": {
     "cellMetadata": {
      "byteLimit": 2048000,
      "implicitDf": true,
      "rowLimit": 10000
     },
     "inputWidgets": {},
     "nuid": "78786e4b-3a5a-4519-88d8-bcdf7eaf577d",
     "showTitle": false,
     "tableResultSettingsMap": {},
     "title": ""
    }
   },
   "outputs": [
    {
     "output_type": "display_data",
     "data": {
      "text/html": [
       "<style scoped>\n",
       "  .table-result-container {\n",
       "    max-height: 300px;\n",
       "    overflow: auto;\n",
       "  }\n",
       "  table, th, td {\n",
       "    border: 1px solid black;\n",
       "    border-collapse: collapse;\n",
       "  }\n",
       "  th, td {\n",
       "    padding: 5px;\n",
       "  }\n",
       "  th {\n",
       "    text-align: left;\n",
       "  }\n",
       "</style><div class='table-result-container'><table class='table-result'><thead style='background-color: white'><tr><th>id</th><th>degree</th><th>department</th><th>school</th></tr></thead><tbody><tr><td>2</td><td>Masters</td><td>EECS</td><td>UC Berkeley</td></tr></tbody></table></div>"
      ]
     },
     "metadata": {
      "application/vnd.databricks.v1+output": {
       "addedWidgets": {},
       "aggData": [],
       "aggError": "",
       "aggOverflow": false,
       "aggSchema": [],
       "aggSeriesLimitReached": false,
       "aggType": "",
       "arguments": {},
       "columnCustomDisplayInfos": {},
       "data": [
        [
         2,
         "Masters",
         "EECS",
         "UC Berkeley"
        ]
       ],
       "datasetInfos": [],
       "dbfsResultPath": null,
       "isJsonSchema": true,
       "metadata": {
        "createTempViewForImplicitDf": true,
        "dataframeName": "_sqldf",
        "executionCount": 37
       },
       "overflow": false,
       "plotOptions": {
        "customPlotOptions": {},
        "displayType": "table",
        "pivotAggregation": null,
        "pivotColumns": null,
        "xColumns": null,
        "yColumns": null
       },
       "removedWidgets": [],
       "schema": [
        {
         "metadata": "{}",
         "name": "id",
         "type": "\"long\""
        },
        {
         "metadata": "{}",
         "name": "degree",
         "type": "\"string\""
        },
        {
         "metadata": "{}",
         "name": "department",
         "type": "\"string\""
        },
        {
         "metadata": "{}",
         "name": "school",
         "type": "\"string\""
        }
       ],
       "type": "table"
      }
     },
     "output_type": "display_data"
    }
   ],
   "source": [
    "%sql\n",
    "select * from graduate_program2 left anti join person on graduate_program2.id = person.graduate_program"
   ]
  },
  {
   "cell_type": "markdown",
   "metadata": {
    "application/vnd.databricks.v1+cell": {
     "cellMetadata": {},
     "inputWidgets": {},
     "nuid": "36fdaf5b-0ac1-495d-b275-08a734921cd3",
     "showTitle": false,
     "tableResultSettingsMap": {},
     "title": ""
    }
   },
   "source": [
    "Natural Join -> Not suggested"
   ]
  },
  {
   "cell_type": "code",
   "execution_count": 0,
   "metadata": {
    "application/vnd.databricks.v1+cell": {
     "cellMetadata": {
      "byteLimit": 2048000,
      "implicitDf": true,
      "rowLimit": 10000
     },
     "inputWidgets": {},
     "nuid": "ab3fdaf3-601a-4188-836b-f1282e51b2d9",
     "showTitle": false,
     "tableResultSettingsMap": {},
     "title": ""
    }
   },
   "outputs": [
    {
     "output_type": "display_data",
     "data": {
      "text/html": [
       "<style scoped>\n",
       "  .table-result-container {\n",
       "    max-height: 300px;\n",
       "    overflow: auto;\n",
       "  }\n",
       "  table, th, td {\n",
       "    border: 1px solid black;\n",
       "    border-collapse: collapse;\n",
       "  }\n",
       "  th, td {\n",
       "    padding: 5px;\n",
       "  }\n",
       "  th {\n",
       "    text-align: left;\n",
       "  }\n",
       "</style><div class='table-result-container'><table class='table-result'><thead style='background-color: white'><tr><th>id</th><th>name</th><th>graduate_program</th><th>spark_status</th><th>degree</th><th>department</th><th>school</th></tr></thead><tbody><tr><td>0</td><td>Bill Chambers</td><td>0</td><td>List(100)</td><td>Masters</td><td>School of Information</td><td>UC Berkeley</td></tr><tr><td>1</td><td>Matei Zaharia</td><td>1</td><td>List(500, 250, 100)</td><td>Ph.D.</td><td>EECS</td><td>UC Berkeley</td></tr><tr><td>2</td><td>Michael Armbrust</td><td>1</td><td>List(250, 100)</td><td>Masters</td><td>EECS</td><td>UC Berkeley</td></tr></tbody></table></div>"
      ]
     },
     "metadata": {
      "application/vnd.databricks.v1+output": {
       "addedWidgets": {},
       "aggData": [],
       "aggError": "",
       "aggOverflow": false,
       "aggSchema": [],
       "aggSeriesLimitReached": false,
       "aggType": "",
       "arguments": {},
       "columnCustomDisplayInfos": {},
       "data": [
        [
         0,
         "Bill Chambers",
         0,
         [
          100
         ],
         "Masters",
         "School of Information",
         "UC Berkeley"
        ],
        [
         1,
         "Matei Zaharia",
         1,
         [
          500,
          250,
          100
         ],
         "Ph.D.",
         "EECS",
         "UC Berkeley"
        ],
        [
         2,
         "Michael Armbrust",
         1,
         [
          250,
          100
         ],
         "Masters",
         "EECS",
         "UC Berkeley"
        ]
       ],
       "datasetInfos": [],
       "dbfsResultPath": null,
       "isJsonSchema": true,
       "metadata": {
        "createTempViewForImplicitDf": true,
        "dataframeName": "_sqldf",
        "executionCount": 38
       },
       "overflow": false,
       "plotOptions": {
        "customPlotOptions": {},
        "displayType": "table",
        "pivotAggregation": null,
        "pivotColumns": null,
        "xColumns": null,
        "yColumns": null
       },
       "removedWidgets": [],
       "schema": [
        {
         "metadata": "{}",
         "name": "id",
         "type": "\"long\""
        },
        {
         "metadata": "{}",
         "name": "name",
         "type": "\"string\""
        },
        {
         "metadata": "{}",
         "name": "graduate_program",
         "type": "\"long\""
        },
        {
         "metadata": "{}",
         "name": "spark_status",
         "type": "{\"type\":\"array\",\"elementType\":\"long\",\"containsNull\":true}"
        },
        {
         "metadata": "{}",
         "name": "degree",
         "type": "\"string\""
        },
        {
         "metadata": "{}",
         "name": "department",
         "type": "\"string\""
        },
        {
         "metadata": "{}",
         "name": "school",
         "type": "\"string\""
        }
       ],
       "type": "table"
      }
     },
     "output_type": "display_data"
    }
   ],
   "source": [
    "%sql\n",
    "select * from person natural join graduate_program"
   ]
  },
  {
   "cell_type": "markdown",
   "metadata": {
    "application/vnd.databricks.v1+cell": {
     "cellMetadata": {},
     "inputWidgets": {},
     "nuid": "36aedc13-a3bd-4c7a-867c-fc7330ea8997",
     "showTitle": false,
     "tableResultSettingsMap": {},
     "title": ""
    }
   },
   "source": [
    "Cross join or Cartesian join -> Join every row in left with every row in right"
   ]
  },
  {
   "cell_type": "code",
   "execution_count": 0,
   "metadata": {
    "application/vnd.databricks.v1+cell": {
     "cellMetadata": {
      "byteLimit": 2048000,
      "rowLimit": 10000
     },
     "inputWidgets": {},
     "nuid": "e4393393-f7ec-43c0-a8b5-4650be5a2cb7",
     "showTitle": false,
     "tableResultSettingsMap": {},
     "title": ""
    }
   },
   "outputs": [
    {
     "output_type": "stream",
     "name": "stdout",
     "output_type": "stream",
     "text": [
      "+---+-------+--------------------+-----------------+---+----------------+----------------+---------------+\n| id| degree|          department|           school| id|            name|graduate_program|   spark_status|\n+---+-------+--------------------+-----------------+---+----------------+----------------+---------------+\n|  0|Masters|School of Informa...|      UC Berkeley|  0|   Bill Chambers|               0|          [100]|\n|  0|Masters|School of Informa...|      UC Berkeley|  1|   Matei Zaharia|               1|[500, 250, 100]|\n|  0|Masters|School of Informa...|      UC Berkeley|  2|Michael Armbrust|               1|     [250, 100]|\n|  2|Masters|                EECS|      UC Berkeley|  0|   Bill Chambers|               0|          [100]|\n|  2|Masters|                EECS|      UC Berkeley|  1|   Matei Zaharia|               1|[500, 250, 100]|\n|  2|Masters|                EECS|      UC Berkeley|  2|Michael Armbrust|               1|     [250, 100]|\n|  1|  Ph.D.|                EECS|      UC Berkeley|  0|   Bill Chambers|               0|          [100]|\n|  1|  Ph.D.|                EECS|      UC Berkeley|  1|   Matei Zaharia|               1|[500, 250, 100]|\n|  1|  Ph.D.|                EECS|      UC Berkeley|  2|Michael Armbrust|               1|     [250, 100]|\n|  0|Masters|      Duplicated Row|Duplicated School|  0|   Bill Chambers|               0|          [100]|\n|  0|Masters|      Duplicated Row|Duplicated School|  1|   Matei Zaharia|               1|[500, 250, 100]|\n|  0|Masters|      Duplicated Row|Duplicated School|  2|Michael Armbrust|               1|     [250, 100]|\n+---+-------+--------------------+-----------------+---+----------------+----------------+---------------+\n\n"
     ]
    }
   ],
   "source": [
    "graduate_program2.crossJoin(person).show()"
   ]
  },
  {
   "cell_type": "code",
   "execution_count": 0,
   "metadata": {
    "application/vnd.databricks.v1+cell": {
     "cellMetadata": {
      "byteLimit": 2048000,
      "implicitDf": true,
      "rowLimit": 10000
     },
     "inputWidgets": {},
     "nuid": "b16a0380-7aa4-4e92-ae50-1b89e0ca5c00",
     "showTitle": false,
     "tableResultSettingsMap": {},
     "title": ""
    }
   },
   "outputs": [
    {
     "output_type": "display_data",
     "data": {
      "text/html": [
       "<style scoped>\n",
       "  .table-result-container {\n",
       "    max-height: 300px;\n",
       "    overflow: auto;\n",
       "  }\n",
       "  table, th, td {\n",
       "    border: 1px solid black;\n",
       "    border-collapse: collapse;\n",
       "  }\n",
       "  th, td {\n",
       "    padding: 5px;\n",
       "  }\n",
       "  th {\n",
       "    text-align: left;\n",
       "  }\n",
       "</style><div class='table-result-container'><table class='table-result'><thead style='background-color: white'><tr><th>id</th><th>degree</th><th>department</th><th>school</th><th>id</th><th>name</th><th>graduate_program</th><th>spark_status</th></tr></thead><tbody><tr><td>0</td><td>Masters</td><td>School of Information</td><td>UC Berkeley</td><td>0</td><td>Bill Chambers</td><td>0</td><td>List(100)</td></tr><tr><td>0</td><td>Masters</td><td>School of Information</td><td>UC Berkeley</td><td>1</td><td>Matei Zaharia</td><td>1</td><td>List(500, 250, 100)</td></tr><tr><td>0</td><td>Masters</td><td>School of Information</td><td>UC Berkeley</td><td>2</td><td>Michael Armbrust</td><td>1</td><td>List(250, 100)</td></tr><tr><td>2</td><td>Masters</td><td>EECS</td><td>UC Berkeley</td><td>0</td><td>Bill Chambers</td><td>0</td><td>List(100)</td></tr><tr><td>2</td><td>Masters</td><td>EECS</td><td>UC Berkeley</td><td>1</td><td>Matei Zaharia</td><td>1</td><td>List(500, 250, 100)</td></tr><tr><td>2</td><td>Masters</td><td>EECS</td><td>UC Berkeley</td><td>2</td><td>Michael Armbrust</td><td>1</td><td>List(250, 100)</td></tr><tr><td>1</td><td>Ph.D.</td><td>EECS</td><td>UC Berkeley</td><td>0</td><td>Bill Chambers</td><td>0</td><td>List(100)</td></tr><tr><td>1</td><td>Ph.D.</td><td>EECS</td><td>UC Berkeley</td><td>1</td><td>Matei Zaharia</td><td>1</td><td>List(500, 250, 100)</td></tr><tr><td>1</td><td>Ph.D.</td><td>EECS</td><td>UC Berkeley</td><td>2</td><td>Michael Armbrust</td><td>1</td><td>List(250, 100)</td></tr><tr><td>0</td><td>Masters</td><td>Duplicated Row</td><td>Duplicated School</td><td>0</td><td>Bill Chambers</td><td>0</td><td>List(100)</td></tr><tr><td>0</td><td>Masters</td><td>Duplicated Row</td><td>Duplicated School</td><td>1</td><td>Matei Zaharia</td><td>1</td><td>List(500, 250, 100)</td></tr><tr><td>0</td><td>Masters</td><td>Duplicated Row</td><td>Duplicated School</td><td>2</td><td>Michael Armbrust</td><td>1</td><td>List(250, 100)</td></tr></tbody></table></div>"
      ]
     },
     "metadata": {
      "application/vnd.databricks.v1+output": {
       "addedWidgets": {},
       "aggData": [],
       "aggError": "",
       "aggOverflow": false,
       "aggSchema": [],
       "aggSeriesLimitReached": false,
       "aggType": "",
       "arguments": {},
       "columnCustomDisplayInfos": {},
       "data": [
        [
         0,
         "Masters",
         "School of Information",
         "UC Berkeley",
         0,
         "Bill Chambers",
         0,
         [
          100
         ]
        ],
        [
         0,
         "Masters",
         "School of Information",
         "UC Berkeley",
         1,
         "Matei Zaharia",
         1,
         [
          500,
          250,
          100
         ]
        ],
        [
         0,
         "Masters",
         "School of Information",
         "UC Berkeley",
         2,
         "Michael Armbrust",
         1,
         [
          250,
          100
         ]
        ],
        [
         2,
         "Masters",
         "EECS",
         "UC Berkeley",
         0,
         "Bill Chambers",
         0,
         [
          100
         ]
        ],
        [
         2,
         "Masters",
         "EECS",
         "UC Berkeley",
         1,
         "Matei Zaharia",
         1,
         [
          500,
          250,
          100
         ]
        ],
        [
         2,
         "Masters",
         "EECS",
         "UC Berkeley",
         2,
         "Michael Armbrust",
         1,
         [
          250,
          100
         ]
        ],
        [
         1,
         "Ph.D.",
         "EECS",
         "UC Berkeley",
         0,
         "Bill Chambers",
         0,
         [
          100
         ]
        ],
        [
         1,
         "Ph.D.",
         "EECS",
         "UC Berkeley",
         1,
         "Matei Zaharia",
         1,
         [
          500,
          250,
          100
         ]
        ],
        [
         1,
         "Ph.D.",
         "EECS",
         "UC Berkeley",
         2,
         "Michael Armbrust",
         1,
         [
          250,
          100
         ]
        ],
        [
         0,
         "Masters",
         "Duplicated Row",
         "Duplicated School",
         0,
         "Bill Chambers",
         0,
         [
          100
         ]
        ],
        [
         0,
         "Masters",
         "Duplicated Row",
         "Duplicated School",
         1,
         "Matei Zaharia",
         1,
         [
          500,
          250,
          100
         ]
        ],
        [
         0,
         "Masters",
         "Duplicated Row",
         "Duplicated School",
         2,
         "Michael Armbrust",
         1,
         [
          250,
          100
         ]
        ]
       ],
       "datasetInfos": [],
       "dbfsResultPath": null,
       "isJsonSchema": true,
       "metadata": {
        "createTempViewForImplicitDf": true,
        "dataframeName": "_sqldf",
        "executionCount": 43
       },
       "overflow": false,
       "plotOptions": {
        "customPlotOptions": {},
        "displayType": "table",
        "pivotAggregation": null,
        "pivotColumns": null,
        "xColumns": null,
        "yColumns": null
       },
       "removedWidgets": [],
       "schema": [
        {
         "metadata": "{}",
         "name": "id",
         "type": "\"long\""
        },
        {
         "metadata": "{}",
         "name": "degree",
         "type": "\"string\""
        },
        {
         "metadata": "{}",
         "name": "department",
         "type": "\"string\""
        },
        {
         "metadata": "{}",
         "name": "school",
         "type": "\"string\""
        },
        {
         "metadata": "{}",
         "name": "id",
         "type": "\"long\""
        },
        {
         "metadata": "{}",
         "name": "name",
         "type": "\"string\""
        },
        {
         "metadata": "{}",
         "name": "graduate_program",
         "type": "\"long\""
        },
        {
         "metadata": "{}",
         "name": "spark_status",
         "type": "{\"type\":\"array\",\"elementType\":\"long\",\"containsNull\":true}"
        }
       ],
       "type": "table"
      }
     },
     "output_type": "display_data"
    }
   ],
   "source": [
    "%sql\n",
    "select * from graduate_program2 cross join person"
   ]
  }
 ],
 "metadata": {
  "application/vnd.databricks.v1+notebook": {
   "computePreferences": null,
   "dashboards": [],
   "environmentMetadata": {
    "base_environment": "",
    "environment_version": "2"
   },
   "inputWidgetPreferences": null,
   "language": "python",
   "notebookMetadata": {
    "mostRecentlyExecutedCommandWithImplicitDF": {
     "commandId": 6610808310003890,
     "dataframes": [
      "_sqldf"
     ]
    },
    "pythonIndentUnit": 4
   },
   "notebookName": "Notebook 4",
   "widgets": {}
  },
  "language_info": {
   "name": "python"
  }
 },
 "nbformat": 4,
 "nbformat_minor": 0
}