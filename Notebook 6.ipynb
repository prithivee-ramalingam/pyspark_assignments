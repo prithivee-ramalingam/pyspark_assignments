{
 "cells": [
  {
   "cell_type": "code",
   "execution_count": 0,
   "metadata": {
    "application/vnd.databricks.v1+cell": {
     "cellMetadata": {
      "byteLimit": 2048000,
      "rowLimit": 10000
     },
     "inputWidgets": {},
     "nuid": "2fe4df8c-1a23-463c-90a0-eb88301753c0",
     "showTitle": false,
     "tableResultSettingsMap": {},
     "title": ""
    }
   },
   "outputs": [],
   "source": [
    "from pyspark.sql import SparkSession\n",
    "spark = SparkSession.builder.appName(\"Spark DataFrames\").getOrCreate()"
   ]
  },
  {
   "cell_type": "code",
   "execution_count": 0,
   "metadata": {
    "application/vnd.databricks.v1+cell": {
     "cellMetadata": {
      "byteLimit": 2048000,
      "rowLimit": 10000
     },
     "inputWidgets": {},
     "nuid": "1f1423c0-95be-4a73-9e0f-642e60c68086",
     "showTitle": false,
     "tableResultSettingsMap": {},
     "title": ""
    }
   },
   "outputs": [
    {
     "output_type": "stream",
     "name": "stdout",
     "output_type": "stream",
     "text": [
      "+-------+\n|compute|\n+-------+\n|      2|\n+-------+\n\n"
     ]
    }
   ],
   "source": [
    "spark.sql(\"\"\"select 1 + 1 as compute\"\"\").show()"
   ]
  },
  {
   "cell_type": "code",
   "execution_count": 0,
   "metadata": {
    "application/vnd.databricks.v1+cell": {
     "cellMetadata": {},
     "inputWidgets": {},
     "nuid": "721a5676-2c57-4900-a3e6-ec044321176f",
     "showTitle": false,
     "tableResultSettingsMap": {},
     "title": ""
    }
   },
   "outputs": [],
   "source": [
    "flight_data = spark.read.option('header',True).csv(\"/tmp/2015-summary.csv\")"
   ]
  },
  {
   "cell_type": "code",
   "execution_count": 0,
   "metadata": {
    "application/vnd.databricks.v1+cell": {
     "cellMetadata": {
      "byteLimit": 2048000,
      "rowLimit": 10000
     },
     "inputWidgets": {},
     "nuid": "f2e334fd-6a4a-4c65-9ad4-a6f945f79fb6",
     "showTitle": false,
     "tableResultSettingsMap": {},
     "title": ""
    }
   },
   "outputs": [],
   "source": [
    "import os\n",
    "os.makedirs(\"/dbfs/tmp/\", exist_ok=True)"
   ]
  },
  {
   "cell_type": "code",
   "execution_count": 0,
   "metadata": {
    "application/vnd.databricks.v1+cell": {
     "cellMetadata": {
      "byteLimit": 2048000,
      "rowLimit": 10000
     },
     "inputWidgets": {},
     "nuid": "1649a082-4bbd-4722-a82c-924463038aa6",
     "showTitle": false,
     "tableResultSettingsMap": {},
     "title": ""
    }
   },
   "outputs": [
    {
     "output_type": "execute_result",
     "data": {
      "text/plain": [
       "('/dbfs/tmp/2015-summary.csv', <http.client.HTTPMessage at 0x771ca350ecd0>)"
      ]
     },
     "execution_count": 6,
     "metadata": {},
     "output_type": "execute_result"
    }
   ],
   "source": [
    "import urllib.request\n",
    "\n",
    "url = \"https://raw.githubusercontent.com/databricks/Spark-The-Definitive-Guide/refs/heads/master/data/flight-data/csv/2015-summary.csv\"\n",
    "\n",
    "path = \"/dbfs/tmp/2015-summary.csv\"\n",
    "\n",
    "urllib.request.urlretrieve(url, path)"
   ]
  },
  {
   "cell_type": "code",
   "execution_count": 0,
   "metadata": {
    "application/vnd.databricks.v1+cell": {
     "cellMetadata": {
      "byteLimit": 2048000,
      "rowLimit": 10000
     },
     "inputWidgets": {},
     "nuid": "f7e78da5-8719-48b1-9562-af95fcf6f1a9",
     "showTitle": false,
     "tableResultSettingsMap": {},
     "title": ""
    }
   },
   "outputs": [],
   "source": [
    "spark.read.options(header=True).csv(\"/tmp/2015-summary.csv\").createOrReplaceTempView(\"some_sql_view\") "
   ]
  },
  {
   "cell_type": "code",
   "execution_count": 0,
   "metadata": {
    "application/vnd.databricks.v1+cell": {
     "cellMetadata": {
      "byteLimit": 2048000,
      "implicitDf": true,
      "rowLimit": 10000
     },
     "inputWidgets": {},
     "nuid": "2a3cb396-4cfc-429c-814d-fe4a0ab75194",
     "showTitle": false,
     "tableResultSettingsMap": {},
     "title": ""
    }
   },
   "outputs": [
    {
     "output_type": "display_data",
     "data": {
      "text/html": [
       "<style scoped>\n",
       "  .table-result-container {\n",
       "    max-height: 300px;\n",
       "    overflow: auto;\n",
       "  }\n",
       "  table, th, td {\n",
       "    border: 1px solid black;\n",
       "    border-collapse: collapse;\n",
       "  }\n",
       "  th, td {\n",
       "    padding: 5px;\n",
       "  }\n",
       "  th {\n",
       "    text-align: left;\n",
       "  }\n",
       "</style><div class='table-result-container'><table class='table-result'><thead style='background-color: white'><tr><th>DEST_COUNTRY_NAME</th><th>ORIGIN_COUNTRY_NAME</th><th>count</th></tr></thead><tbody><tr><td>United States</td><td>Romania</td><td>15</td></tr><tr><td>United States</td><td>Croatia</td><td>1</td></tr><tr><td>United States</td><td>Ireland</td><td>344</td></tr><tr><td>Egypt</td><td>United States</td><td>15</td></tr><tr><td>United States</td><td>India</td><td>62</td></tr></tbody></table></div>"
      ]
     },
     "metadata": {
      "application/vnd.databricks.v1+output": {
       "addedWidgets": {},
       "aggData": [],
       "aggError": "",
       "aggOverflow": false,
       "aggSchema": [],
       "aggSeriesLimitReached": false,
       "aggType": "",
       "arguments": {},
       "columnCustomDisplayInfos": {},
       "data": [
        [
         "United States",
         "Romania",
         "15"
        ],
        [
         "United States",
         "Croatia",
         "1"
        ],
        [
         "United States",
         "Ireland",
         "344"
        ],
        [
         "Egypt",
         "United States",
         "15"
        ],
        [
         "United States",
         "India",
         "62"
        ]
       ],
       "datasetInfos": [],
       "dbfsResultPath": null,
       "isJsonSchema": true,
       "metadata": {
        "createTempViewForImplicitDf": true,
        "dataframeName": "_sqldf",
        "executionCount": 19
       },
       "overflow": false,
       "plotOptions": {
        "customPlotOptions": {},
        "displayType": "table",
        "pivotAggregation": null,
        "pivotColumns": null,
        "xColumns": null,
        "yColumns": null
       },
       "removedWidgets": [],
       "schema": [
        {
         "metadata": "{}",
         "name": "DEST_COUNTRY_NAME",
         "type": "\"string\""
        },
        {
         "metadata": "{}",
         "name": "ORIGIN_COUNTRY_NAME",
         "type": "\"string\""
        },
        {
         "metadata": "{}",
         "name": "count",
         "type": "\"string\""
        }
       ],
       "type": "table"
      }
     },
     "output_type": "display_data"
    }
   ],
   "source": [
    "%sql\n",
    "select * from some_sql_view limit 5"
   ]
  },
  {
   "cell_type": "code",
   "execution_count": 0,
   "metadata": {
    "application/vnd.databricks.v1+cell": {
     "cellMetadata": {
      "byteLimit": 2048000,
      "rowLimit": 10000
     },
     "inputWidgets": {},
     "nuid": "b08d3dbd-9df1-4ab0-ba00-40f32864a1c3",
     "showTitle": false,
     "tableResultSettingsMap": {},
     "title": ""
    }
   },
   "outputs": [
    {
     "output_type": "execute_result",
     "data": {
      "text/plain": [
       "12"
      ]
     },
     "execution_count": 22,
     "metadata": {},
     "output_type": "execute_result"
    }
   ],
   "source": [
    "spark.sql(\"select sum(count), DEST_COUNTRY_NAME from some_sql_view group by DEST_COUNTRY_NAME\") \\\n",
    "    .where(\"DEST_COUNTRY_NAME like 'S%'\").where(\"`sum(count)` > 10\").count()"
   ]
  },
  {
   "cell_type": "code",
   "execution_count": 0,
   "metadata": {
    "application/vnd.databricks.v1+cell": {
     "cellMetadata": {
      "byteLimit": 2048000,
      "implicitDf": true,
      "rowLimit": 10000
     },
     "inputWidgets": {},
     "nuid": "1ba69be8-2643-485a-a65c-3774f4b885ae",
     "showTitle": false,
     "tableResultSettingsMap": {},
     "title": ""
    }
   },
   "outputs": [
    {
     "output_type": "display_data",
     "data": {
      "text/html": [
       "<style scoped>\n",
       "  .table-result-container {\n",
       "    max-height: 300px;\n",
       "    overflow: auto;\n",
       "  }\n",
       "  table, th, td {\n",
       "    border: 1px solid black;\n",
       "    border-collapse: collapse;\n",
       "  }\n",
       "  th, td {\n",
       "    padding: 5px;\n",
       "  }\n",
       "  th {\n",
       "    text-align: left;\n",
       "  }\n",
       "</style><div class='table-result-container'><table class='table-result'><thead style='background-color: white'><tr></tr></thead><tbody></tbody></table></div>"
      ]
     },
     "metadata": {
      "application/vnd.databricks.v1+output": {
       "addedWidgets": {},
       "aggData": [],
       "aggError": "",
       "aggOverflow": false,
       "aggSchema": [],
       "aggSeriesLimitReached": false,
       "aggType": "",
       "arguments": {},
       "columnCustomDisplayInfos": {},
       "data": [],
       "datasetInfos": [],
       "dbfsResultPath": null,
       "isJsonSchema": true,
       "metadata": {
        "dataframeName": null
       },
       "overflow": false,
       "plotOptions": {
        "customPlotOptions": {},
        "displayType": "table",
        "pivotAggregation": null,
        "pivotColumns": null,
        "xColumns": null,
        "yColumns": null
       },
       "removedWidgets": [],
       "schema": [],
       "type": "table"
      }
     },
     "output_type": "display_data"
    }
   ],
   "source": [
    "%sql\n",
    "create table flights_from_select using parquet as select * from some_sql_view;"
   ]
  },
  {
   "cell_type": "code",
   "execution_count": 0,
   "metadata": {
    "application/vnd.databricks.v1+cell": {
     "cellMetadata": {
      "byteLimit": 2048000,
      "implicitDf": true,
      "rowLimit": 10000
     },
     "inputWidgets": {},
     "nuid": "b73ca0e3-4943-4e1a-bdbb-0d6bf13baa56",
     "showTitle": false,
     "tableResultSettingsMap": {},
     "title": ""
    }
   },
   "outputs": [
    {
     "output_type": "display_data",
     "data": {
      "text/html": [
       "<style scoped>\n",
       "  .table-result-container {\n",
       "    max-height: 300px;\n",
       "    overflow: auto;\n",
       "  }\n",
       "  table, th, td {\n",
       "    border: 1px solid black;\n",
       "    border-collapse: collapse;\n",
       "  }\n",
       "  th, td {\n",
       "    padding: 5px;\n",
       "  }\n",
       "  th {\n",
       "    text-align: left;\n",
       "  }\n",
       "</style><div class='table-result-container'><table class='table-result'><thead style='background-color: white'><tr></tr></thead><tbody></tbody></table></div>"
      ]
     },
     "metadata": {
      "application/vnd.databricks.v1+output": {
       "addedWidgets": {},
       "aggData": [],
       "aggError": "",
       "aggOverflow": false,
       "aggSchema": [],
       "aggSeriesLimitReached": false,
       "aggType": "",
       "arguments": {},
       "columnCustomDisplayInfos": {},
       "data": [],
       "datasetInfos": [],
       "dbfsResultPath": null,
       "isJsonSchema": true,
       "metadata": {
        "dataframeName": null
       },
       "overflow": false,
       "plotOptions": {
        "customPlotOptions": {},
        "displayType": "table",
        "pivotAggregation": null,
        "pivotColumns": null,
        "xColumns": null,
        "yColumns": null
       },
       "removedWidgets": [],
       "schema": [],
       "type": "table"
      }
     },
     "output_type": "display_data"
    }
   ],
   "source": [
    "%sql\n",
    "CREATE TABLE partitioned_flights USING parquet PARTITIONED BY (DEST_COUNTRY_NAME)\n",
    "AS SELECT DEST_COUNTRY_NAME, ORIGIN_COUNTRY_NAME, count FROM some_sql_view LIMIT 5"
   ]
  },
  {
   "cell_type": "code",
   "execution_count": 0,
   "metadata": {
    "application/vnd.databricks.v1+cell": {
     "cellMetadata": {
      "byteLimit": 2048000,
      "implicitDf": true,
      "rowLimit": 10000
     },
     "inputWidgets": {},
     "nuid": "84fd36ef-3bde-4665-950f-4fbe28e1f335",
     "showTitle": false,
     "tableResultSettingsMap": {},
     "title": ""
    }
   },
   "outputs": [
    {
     "output_type": "display_data",
     "data": {
      "text/html": [
       "<style scoped>\n",
       "  .table-result-container {\n",
       "    max-height: 300px;\n",
       "    overflow: auto;\n",
       "  }\n",
       "  table, th, td {\n",
       "    border: 1px solid black;\n",
       "    border-collapse: collapse;\n",
       "  }\n",
       "  th, td {\n",
       "    padding: 5px;\n",
       "  }\n",
       "  th {\n",
       "    text-align: left;\n",
       "  }\n",
       "</style><div class='table-result-container'><table class='table-result'><thead style='background-color: white'><tr></tr></thead><tbody></tbody></table></div>"
      ]
     },
     "metadata": {
      "application/vnd.databricks.v1+output": {
       "addedWidgets": {},
       "aggData": [],
       "aggError": "",
       "aggOverflow": false,
       "aggSchema": [],
       "aggSeriesLimitReached": false,
       "aggType": "",
       "arguments": {},
       "columnCustomDisplayInfos": {},
       "data": [],
       "datasetInfos": [],
       "dbfsResultPath": null,
       "isJsonSchema": true,
       "metadata": {
        "dataframeName": null
       },
       "overflow": false,
       "plotOptions": {
        "customPlotOptions": {},
        "displayType": "table",
        "pivotAggregation": null,
        "pivotColumns": null,
        "xColumns": null,
        "yColumns": null
       },
       "removedWidgets": [],
       "schema": [],
       "type": "table"
      }
     },
     "output_type": "display_data"
    }
   ],
   "source": [
    "%sql\n",
    "INSERT INTO flights_from_select\n",
    "SELECT DEST_COUNTRY_NAME, ORIGIN_COUNTRY_NAME, count FROM some_sql_view LIMIT 20"
   ]
  },
  {
   "cell_type": "code",
   "execution_count": 0,
   "metadata": {
    "application/vnd.databricks.v1+cell": {
     "cellMetadata": {
      "byteLimit": 2048000,
      "implicitDf": true,
      "rowLimit": 10000
     },
     "inputWidgets": {},
     "nuid": "027a199a-065e-449d-92de-d69b74ece930",
     "showTitle": false,
     "tableResultSettingsMap": {},
     "title": ""
    }
   },
   "outputs": [
    {
     "output_type": "display_data",
     "data": {
      "text/html": [
       "<style scoped>\n",
       "  .table-result-container {\n",
       "    max-height: 300px;\n",
       "    overflow: auto;\n",
       "  }\n",
       "  table, th, td {\n",
       "    border: 1px solid black;\n",
       "    border-collapse: collapse;\n",
       "  }\n",
       "  th, td {\n",
       "    padding: 5px;\n",
       "  }\n",
       "  th {\n",
       "    text-align: left;\n",
       "  }\n",
       "</style><div class='table-result-container'><table class='table-result'><thead style='background-color: white'><tr><th>col_name</th><th>data_type</th><th>comment</th></tr></thead><tbody><tr><td>DEST_COUNTRY_NAME</td><td>string</td><td>null</td></tr><tr><td>ORIGIN_COUNTRY_NAME</td><td>string</td><td>null</td></tr><tr><td>count</td><td>string</td><td>null</td></tr></tbody></table></div>"
      ]
     },
     "metadata": {
      "application/vnd.databricks.v1+output": {
       "addedWidgets": {},
       "aggData": [],
       "aggError": "",
       "aggOverflow": false,
       "aggSchema": [],
       "aggSeriesLimitReached": false,
       "aggType": "",
       "arguments": {},
       "columnCustomDisplayInfos": {},
       "data": [
        [
         "DEST_COUNTRY_NAME",
         "string",
         null
        ],
        [
         "ORIGIN_COUNTRY_NAME",
         "string",
         null
        ],
        [
         "count",
         "string",
         null
        ]
       ],
       "datasetInfos": [],
       "dbfsResultPath": null,
       "isJsonSchema": true,
       "metadata": {
        "createTempViewForImplicitDf": true,
        "dataframeName": "_sqldf",
        "executionCount": 23
       },
       "overflow": false,
       "plotOptions": {
        "customPlotOptions": {},
        "displayType": "table",
        "pivotAggregation": null,
        "pivotColumns": null,
        "xColumns": null,
        "yColumns": null
       },
       "removedWidgets": [],
       "schema": [
        {
         "metadata": "{\"comment\":\"name of the column\"}",
         "name": "col_name",
         "type": "\"string\""
        },
        {
         "metadata": "{\"comment\":\"data type of the column\"}",
         "name": "data_type",
         "type": "\"string\""
        },
        {
         "metadata": "{\"comment\":\"comment of the column\"}",
         "name": "comment",
         "type": "\"string\""
        }
       ],
       "type": "table"
      }
     },
     "output_type": "display_data"
    }
   ],
   "source": [
    "%sql\n",
    "describe table flights_from_select"
   ]
  },
  {
   "cell_type": "code",
   "execution_count": 0,
   "metadata": {
    "application/vnd.databricks.v1+cell": {
     "cellMetadata": {
      "byteLimit": 2048000,
      "implicitDf": true,
      "rowLimit": 10000
     },
     "inputWidgets": {},
     "nuid": "54f6d58c-c049-46f3-a117-9fb1b229d1d4",
     "showTitle": false,
     "tableResultSettingsMap": {},
     "title": ""
    }
   },
   "outputs": [
    {
     "output_type": "display_data",
     "data": {
      "text/html": [
       "<style scoped>\n",
       "  .table-result-container {\n",
       "    max-height: 300px;\n",
       "    overflow: auto;\n",
       "  }\n",
       "  table, th, td {\n",
       "    border: 1px solid black;\n",
       "    border-collapse: collapse;\n",
       "  }\n",
       "  th, td {\n",
       "    padding: 5px;\n",
       "  }\n",
       "  th {\n",
       "    text-align: left;\n",
       "  }\n",
       "</style><div class='table-result-container'><table class='table-result'><thead style='background-color: white'><tr><th>partition</th></tr></thead><tbody><tr><td>DEST_COUNTRY_NAME=Egypt</td></tr><tr><td>DEST_COUNTRY_NAME=United States</td></tr></tbody></table></div>"
      ]
     },
     "metadata": {
      "application/vnd.databricks.v1+output": {
       "addedWidgets": {},
       "aggData": [],
       "aggError": "",
       "aggOverflow": false,
       "aggSchema": [],
       "aggSeriesLimitReached": false,
       "aggType": "",
       "arguments": {},
       "columnCustomDisplayInfos": {},
       "data": [
        [
         "DEST_COUNTRY_NAME=Egypt"
        ],
        [
         "DEST_COUNTRY_NAME=United States"
        ]
       ],
       "datasetInfos": [],
       "dbfsResultPath": null,
       "isJsonSchema": true,
       "metadata": {
        "createTempViewForImplicitDf": true,
        "dataframeName": "_sqldf",
        "executionCount": 24
       },
       "overflow": false,
       "plotOptions": {
        "customPlotOptions": {},
        "displayType": "table",
        "pivotAggregation": null,
        "pivotColumns": null,
        "xColumns": null,
        "yColumns": null
       },
       "removedWidgets": [],
       "schema": [
        {
         "metadata": "{}",
         "name": "partition",
         "type": "\"string\""
        }
       ],
       "type": "table"
      }
     },
     "output_type": "display_data"
    }
   ],
   "source": [
    "%sql\n",
    "show partitions partitioned_flights"
   ]
  },
  {
   "cell_type": "code",
   "execution_count": 0,
   "metadata": {
    "application/vnd.databricks.v1+cell": {
     "cellMetadata": {
      "byteLimit": 2048000,
      "implicitDf": true,
      "rowLimit": 10000
     },
     "inputWidgets": {},
     "nuid": "cd208f5b-b0e5-4fe4-baea-0cc272f04c82",
     "showTitle": false,
     "tableResultSettingsMap": {},
     "title": ""
    }
   },
   "outputs": [
    {
     "output_type": "display_data",
     "data": {
      "text/html": [
       "<style scoped>\n",
       "  .table-result-container {\n",
       "    max-height: 300px;\n",
       "    overflow: auto;\n",
       "  }\n",
       "  table, th, td {\n",
       "    border: 1px solid black;\n",
       "    border-collapse: collapse;\n",
       "  }\n",
       "  th, td {\n",
       "    padding: 5px;\n",
       "  }\n",
       "  th {\n",
       "    text-align: left;\n",
       "  }\n",
       "</style><div class='table-result-container'><table class='table-result'><thead style='background-color: white'><tr></tr></thead><tbody></tbody></table></div>"
      ]
     },
     "metadata": {
      "application/vnd.databricks.v1+output": {
       "addedWidgets": {},
       "aggData": [],
       "aggError": "",
       "aggOverflow": false,
       "aggSchema": [],
       "aggSeriesLimitReached": false,
       "aggType": "",
       "arguments": {},
       "columnCustomDisplayInfos": {},
       "data": [],
       "datasetInfos": [],
       "dbfsResultPath": null,
       "isJsonSchema": true,
       "metadata": {
        "dataframeName": null
       },
       "overflow": false,
       "plotOptions": {
        "customPlotOptions": {},
        "displayType": "table",
        "pivotAggregation": null,
        "pivotColumns": null,
        "xColumns": null,
        "yColumns": null
       },
       "removedWidgets": [],
       "schema": [],
       "type": "table"
      }
     },
     "output_type": "display_data"
    }
   ],
   "source": [
    "%sql\n",
    "REFRESH table partitioned_flights"
   ]
  },
  {
   "cell_type": "code",
   "execution_count": 0,
   "metadata": {
    "application/vnd.databricks.v1+cell": {
     "cellMetadata": {
      "byteLimit": 2048000,
      "implicitDf": true,
      "rowLimit": 10000
     },
     "inputWidgets": {},
     "nuid": "62ee7e4d-e7e5-4029-a2e4-153650ac600b",
     "showTitle": false,
     "tableResultSettingsMap": {},
     "title": ""
    }
   },
   "outputs": [
    {
     "output_type": "display_data",
     "data": {
      "text/html": [
       "<style scoped>\n",
       "  .table-result-container {\n",
       "    max-height: 300px;\n",
       "    overflow: auto;\n",
       "  }\n",
       "  table, th, td {\n",
       "    border: 1px solid black;\n",
       "    border-collapse: collapse;\n",
       "  }\n",
       "  th, td {\n",
       "    padding: 5px;\n",
       "  }\n",
       "  th {\n",
       "    text-align: left;\n",
       "  }\n",
       "</style><div class='table-result-container'><table class='table-result'><thead style='background-color: white'><tr><th>partition</th></tr></thead><tbody><tr><td>DEST_COUNTRY_NAME=Egypt</td></tr><tr><td>DEST_COUNTRY_NAME=United States</td></tr></tbody></table></div>"
      ]
     },
     "metadata": {
      "application/vnd.databricks.v1+output": {
       "addedWidgets": {},
       "aggData": [],
       "aggError": "",
       "aggOverflow": false,
       "aggSchema": [],
       "aggSeriesLimitReached": false,
       "aggType": "",
       "arguments": {},
       "columnCustomDisplayInfos": {},
       "data": [
        [
         "DEST_COUNTRY_NAME=Egypt"
        ],
        [
         "DEST_COUNTRY_NAME=United States"
        ]
       ],
       "datasetInfos": [],
       "dbfsResultPath": null,
       "isJsonSchema": true,
       "metadata": {
        "createTempViewForImplicitDf": true,
        "dataframeName": "_sqldf",
        "executionCount": 25
       },
       "overflow": false,
       "plotOptions": {
        "customPlotOptions": {},
        "displayType": "table",
        "pivotAggregation": null,
        "pivotColumns": null,
        "xColumns": null,
        "yColumns": null
       },
       "removedWidgets": [],
       "schema": [
        {
         "metadata": "{}",
         "name": "partition",
         "type": "\"string\""
        }
       ],
       "type": "table"
      }
     },
     "output_type": "display_data"
    }
   ],
   "source": [
    "%sql\n",
    "show partitions partitioned_flights"
   ]
  },
  {
   "cell_type": "code",
   "execution_count": 0,
   "metadata": {
    "application/vnd.databricks.v1+cell": {
     "cellMetadata": {
      "byteLimit": 2048000,
      "implicitDf": true,
      "rowLimit": 10000
     },
     "inputWidgets": {},
     "nuid": "55c92b1e-757d-4294-b743-3bb289b941bc",
     "showTitle": false,
     "tableResultSettingsMap": {},
     "title": ""
    }
   },
   "outputs": [
    {
     "output_type": "display_data",
     "data": {
      "text/html": [
       "<style scoped>\n",
       "  .table-result-container {\n",
       "    max-height: 300px;\n",
       "    overflow: auto;\n",
       "  }\n",
       "  table, th, td {\n",
       "    border: 1px solid black;\n",
       "    border-collapse: collapse;\n",
       "  }\n",
       "  th, td {\n",
       "    padding: 5px;\n",
       "  }\n",
       "  th {\n",
       "    text-align: left;\n",
       "  }\n",
       "</style><div class='table-result-container'><table class='table-result'><thead style='background-color: white'><tr></tr></thead><tbody></tbody></table></div>"
      ]
     },
     "metadata": {
      "application/vnd.databricks.v1+output": {
       "addedWidgets": {},
       "aggData": [],
       "aggError": "",
       "aggOverflow": false,
       "aggSchema": [],
       "aggSeriesLimitReached": false,
       "aggType": "",
       "arguments": {},
       "columnCustomDisplayInfos": {},
       "data": [],
       "datasetInfos": [],
       "dbfsResultPath": null,
       "isJsonSchema": true,
       "metadata": {
        "dataframeName": null
       },
       "overflow": false,
       "plotOptions": {
        "customPlotOptions": {},
        "displayType": "table",
        "pivotAggregation": null,
        "pivotColumns": null,
        "xColumns": null,
        "yColumns": null
       },
       "removedWidgets": [],
       "schema": [],
       "type": "table"
      }
     },
     "output_type": "display_data"
    }
   ],
   "source": [
    "%sql\n",
    "MSCK REPAIR TABLE partitioned_flights"
   ]
  },
  {
   "cell_type": "code",
   "execution_count": 0,
   "metadata": {
    "application/vnd.databricks.v1+cell": {
     "cellMetadata": {
      "byteLimit": 2048000,
      "implicitDf": true,
      "rowLimit": 10000
     },
     "inputWidgets": {},
     "nuid": "d1f9fcf1-21cd-4228-8f5d-5c8cebe2b19d",
     "showTitle": false,
     "tableResultSettingsMap": {},
     "title": ""
    }
   },
   "outputs": [
    {
     "output_type": "display_data",
     "data": {
      "text/html": [
       "<style scoped>\n",
       "  .table-result-container {\n",
       "    max-height: 300px;\n",
       "    overflow: auto;\n",
       "  }\n",
       "  table, th, td {\n",
       "    border: 1px solid black;\n",
       "    border-collapse: collapse;\n",
       "  }\n",
       "  th, td {\n",
       "    padding: 5px;\n",
       "  }\n",
       "  th {\n",
       "    text-align: left;\n",
       "  }\n",
       "</style><div class='table-result-container'><table class='table-result'><thead style='background-color: white'><tr></tr></thead><tbody></tbody></table></div>"
      ]
     },
     "metadata": {
      "application/vnd.databricks.v1+output": {
       "addedWidgets": {},
       "aggData": [],
       "aggError": "",
       "aggOverflow": false,
       "aggSchema": [],
       "aggSeriesLimitReached": false,
       "aggType": "",
       "arguments": {},
       "columnCustomDisplayInfos": {},
       "data": [],
       "datasetInfos": [],
       "dbfsResultPath": null,
       "isJsonSchema": true,
       "metadata": {
        "dataframeName": null
       },
       "overflow": false,
       "plotOptions": {
        "customPlotOptions": {},
        "displayType": "table",
        "pivotAggregation": null,
        "pivotColumns": null,
        "xColumns": null,
        "yColumns": null
       },
       "removedWidgets": [],
       "schema": [],
       "type": "table"
      }
     },
     "output_type": "display_data"
    }
   ],
   "source": [
    "%sql\n",
    "DROP TABLE IF EXISTS flights_csv;"
   ]
  },
  {
   "cell_type": "code",
   "execution_count": 0,
   "metadata": {
    "application/vnd.databricks.v1+cell": {
     "cellMetadata": {
      "byteLimit": 2048000,
      "rowLimit": 10000
     },
     "inputWidgets": {},
     "nuid": "c99e0d0d-55cf-4c3f-8c4c-d865c9baaa0e",
     "showTitle": false,
     "tableResultSettingsMap": {},
     "title": ""
    }
   },
   "outputs": [
    {
     "output_type": "display_data",
     "data": {
      "text/html": [
       "<style scoped>\n",
       "  .table-result-container {\n",
       "    max-height: 300px;\n",
       "    overflow: auto;\n",
       "  }\n",
       "  table, th, td {\n",
       "    border: 1px solid black;\n",
       "    border-collapse: collapse;\n",
       "  }\n",
       "  th, td {\n",
       "    padding: 5px;\n",
       "  }\n",
       "  th {\n",
       "    text-align: left;\n",
       "  }\n",
       "</style><div class='table-result-container'><table class='table-result'><thead style='background-color: white'><tr></tr></thead><tbody></tbody></table></div>"
      ]
     },
     "metadata": {
      "application/vnd.databricks.v1+output": {
       "addedWidgets": {},
       "aggData": [],
       "aggError": "",
       "aggOverflow": false,
       "aggSchema": [],
       "aggSeriesLimitReached": false,
       "aggType": "",
       "arguments": {},
       "columnCustomDisplayInfos": {},
       "data": [],
       "datasetInfos": [],
       "dbfsResultPath": null,
       "isJsonSchema": true,
       "metadata": {
        "dataframeName": null
       },
       "overflow": false,
       "plotOptions": {
        "customPlotOptions": {},
        "displayType": "table",
        "pivotAggregation": null,
        "pivotColumns": null,
        "xColumns": null,
        "yColumns": null
       },
       "removedWidgets": [],
       "schema": [],
       "type": "table"
      }
     },
     "output_type": "display_data"
    }
   ],
   "source": [
    "%sql\n",
    "cache table flights_from_select"
   ]
  },
  {
   "cell_type": "code",
   "execution_count": 0,
   "metadata": {
    "application/vnd.databricks.v1+cell": {
     "cellMetadata": {
      "byteLimit": 2048000,
      "rowLimit": 10000
     },
     "inputWidgets": {},
     "nuid": "ae91f9d2-69cb-4514-b21c-e118c8a3815e",
     "showTitle": false,
     "tableResultSettingsMap": {},
     "title": ""
    }
   },
   "outputs": [
    {
     "output_type": "display_data",
     "data": {
      "text/html": [
       "<style scoped>\n",
       "  .table-result-container {\n",
       "    max-height: 300px;\n",
       "    overflow: auto;\n",
       "  }\n",
       "  table, th, td {\n",
       "    border: 1px solid black;\n",
       "    border-collapse: collapse;\n",
       "  }\n",
       "  th, td {\n",
       "    padding: 5px;\n",
       "  }\n",
       "  th {\n",
       "    text-align: left;\n",
       "  }\n",
       "</style><div class='table-result-container'><table class='table-result'><thead style='background-color: white'><tr></tr></thead><tbody></tbody></table></div>"
      ]
     },
     "metadata": {
      "application/vnd.databricks.v1+output": {
       "addedWidgets": {},
       "aggData": [],
       "aggError": "",
       "aggOverflow": false,
       "aggSchema": [],
       "aggSeriesLimitReached": false,
       "aggType": "",
       "arguments": {},
       "columnCustomDisplayInfos": {},
       "data": [],
       "datasetInfos": [],
       "dbfsResultPath": null,
       "isJsonSchema": true,
       "metadata": {
        "dataframeName": null
       },
       "overflow": false,
       "plotOptions": {
        "customPlotOptions": {},
        "displayType": "table",
        "pivotAggregation": null,
        "pivotColumns": null,
        "xColumns": null,
        "yColumns": null
       },
       "removedWidgets": [],
       "schema": [],
       "type": "table"
      }
     },
     "output_type": "display_data"
    }
   ],
   "source": [
    "%sql\n",
    "uncache table flights_from_select"
   ]
  },
  {
   "cell_type": "code",
   "execution_count": 0,
   "metadata": {
    "application/vnd.databricks.v1+cell": {
     "cellMetadata": {
      "byteLimit": 2048000,
      "implicitDf": true,
      "rowLimit": 10000
     },
     "inputWidgets": {},
     "nuid": "3cc9761a-a324-4f8c-8904-fd6f22187721",
     "showTitle": false,
     "tableResultSettingsMap": {},
     "title": ""
    }
   },
   "outputs": [
    {
     "output_type": "display_data",
     "data": {
      "text/html": [
       "<style scoped>\n",
       "  .table-result-container {\n",
       "    max-height: 300px;\n",
       "    overflow: auto;\n",
       "  }\n",
       "  table, th, td {\n",
       "    border: 1px solid black;\n",
       "    border-collapse: collapse;\n",
       "  }\n",
       "  th, td {\n",
       "    padding: 5px;\n",
       "  }\n",
       "  th {\n",
       "    text-align: left;\n",
       "  }\n",
       "</style><div class='table-result-container'><table class='table-result'><thead style='background-color: white'><tr></tr></thead><tbody></tbody></table></div>"
      ]
     },
     "metadata": {
      "application/vnd.databricks.v1+output": {
       "addedWidgets": {},
       "aggData": [],
       "aggError": "",
       "aggOverflow": false,
       "aggSchema": [],
       "aggSeriesLimitReached": false,
       "aggType": "",
       "arguments": {},
       "columnCustomDisplayInfos": {},
       "data": [],
       "datasetInfos": [],
       "dbfsResultPath": null,
       "isJsonSchema": true,
       "metadata": {
        "dataframeName": null
       },
       "overflow": false,
       "plotOptions": {
        "customPlotOptions": {},
        "displayType": "table",
        "pivotAggregation": null,
        "pivotColumns": null,
        "xColumns": null,
        "yColumns": null
       },
       "removedWidgets": [],
       "schema": [],
       "type": "table"
      }
     },
     "output_type": "display_data"
    }
   ],
   "source": [
    "%sql\n",
    "create view just_usa_view as select * from flights_from_select where DEST_COUNTRY_NAME = 'United States'"
   ]
  },
  {
   "cell_type": "code",
   "execution_count": 0,
   "metadata": {
    "application/vnd.databricks.v1+cell": {
     "cellMetadata": {
      "byteLimit": 2048000,
      "implicitDf": true,
      "rowLimit": 10000
     },
     "inputWidgets": {},
     "nuid": "b02708e1-f180-4fc4-aab2-f3500587826a",
     "showTitle": false,
     "tableResultSettingsMap": {},
     "title": ""
    }
   },
   "outputs": [
    {
     "output_type": "display_data",
     "data": {
      "text/html": [
       "<style scoped>\n",
       "  .table-result-container {\n",
       "    max-height: 300px;\n",
       "    overflow: auto;\n",
       "  }\n",
       "  table, th, td {\n",
       "    border: 1px solid black;\n",
       "    border-collapse: collapse;\n",
       "  }\n",
       "  th, td {\n",
       "    padding: 5px;\n",
       "  }\n",
       "  th {\n",
       "    text-align: left;\n",
       "  }\n",
       "</style><div class='table-result-container'><table class='table-result'><thead style='background-color: white'><tr></tr></thead><tbody></tbody></table></div>"
      ]
     },
     "metadata": {
      "application/vnd.databricks.v1+output": {
       "addedWidgets": {},
       "aggData": [],
       "aggError": "",
       "aggOverflow": false,
       "aggSchema": [],
       "aggSeriesLimitReached": false,
       "aggType": "",
       "arguments": {},
       "columnCustomDisplayInfos": {},
       "data": [],
       "datasetInfos": [],
       "dbfsResultPath": null,
       "isJsonSchema": true,
       "metadata": {
        "dataframeName": null
       },
       "overflow": false,
       "plotOptions": {
        "customPlotOptions": {},
        "displayType": "table",
        "pivotAggregation": null,
        "pivotColumns": null,
        "xColumns": null,
        "yColumns": null
       },
       "removedWidgets": [],
       "schema": [],
       "type": "table"
      }
     },
     "output_type": "display_data"
    }
   ],
   "source": [
    "%sql\n",
    "CREATE TEMP VIEW just_usa_view_temp AS\n",
    "SELECT * FROM flights_from_select WHERE dest_country_name = 'United States'"
   ]
  },
  {
   "cell_type": "code",
   "execution_count": 0,
   "metadata": {
    "application/vnd.databricks.v1+cell": {
     "cellMetadata": {
      "byteLimit": 2048000,
      "implicitDf": true,
      "rowLimit": 10000
     },
     "inputWidgets": {},
     "nuid": "299aa2cb-b905-4c72-bdf2-690992395fcb",
     "showTitle": false,
     "tableResultSettingsMap": {},
     "title": ""
    }
   },
   "outputs": [
    {
     "output_type": "display_data",
     "data": {
      "text/html": [
       "<style scoped>\n",
       "  .table-result-container {\n",
       "    max-height: 300px;\n",
       "    overflow: auto;\n",
       "  }\n",
       "  table, th, td {\n",
       "    border: 1px solid black;\n",
       "    border-collapse: collapse;\n",
       "  }\n",
       "  th, td {\n",
       "    padding: 5px;\n",
       "  }\n",
       "  th {\n",
       "    text-align: left;\n",
       "  }\n",
       "</style><div class='table-result-container'><table class='table-result'><thead style='background-color: white'><tr></tr></thead><tbody></tbody></table></div>"
      ]
     },
     "metadata": {
      "application/vnd.databricks.v1+output": {
       "addedWidgets": {},
       "aggData": [],
       "aggError": "",
       "aggOverflow": false,
       "aggSchema": [],
       "aggSeriesLimitReached": false,
       "aggType": "",
       "arguments": {},
       "columnCustomDisplayInfos": {},
       "data": [],
       "datasetInfos": [],
       "dbfsResultPath": null,
       "isJsonSchema": true,
       "metadata": {
        "dataframeName": null
       },
       "overflow": false,
       "plotOptions": {
        "customPlotOptions": {},
        "displayType": "table",
        "pivotAggregation": null,
        "pivotColumns": null,
        "xColumns": null,
        "yColumns": null
       },
       "removedWidgets": [],
       "schema": [],
       "type": "table"
      }
     },
     "output_type": "display_data"
    }
   ],
   "source": [
    "%sql\n",
    "CREATE GLOBAL TEMP VIEW just_usa_global_view_temp AS\n",
    "SELECT * FROM flights_from_select WHERE dest_country_name = 'United States'"
   ]
  },
  {
   "cell_type": "code",
   "execution_count": 0,
   "metadata": {
    "application/vnd.databricks.v1+cell": {
     "cellMetadata": {
      "byteLimit": 2048000,
      "implicitDf": true,
      "rowLimit": 10000
     },
     "inputWidgets": {},
     "nuid": "c45cf185-06a1-4378-b2f1-738194691b45",
     "showTitle": false,
     "tableResultSettingsMap": {},
     "title": ""
    }
   },
   "outputs": [
    {
     "output_type": "display_data",
     "data": {
      "text/html": [
       "<style scoped>\n",
       "  .table-result-container {\n",
       "    max-height: 300px;\n",
       "    overflow: auto;\n",
       "  }\n",
       "  table, th, td {\n",
       "    border: 1px solid black;\n",
       "    border-collapse: collapse;\n",
       "  }\n",
       "  th, td {\n",
       "    padding: 5px;\n",
       "  }\n",
       "  th {\n",
       "    text-align: left;\n",
       "  }\n",
       "</style><div class='table-result-container'><table class='table-result'><thead style='background-color: white'><tr></tr></thead><tbody></tbody></table></div>"
      ]
     },
     "metadata": {
      "application/vnd.databricks.v1+output": {
       "addedWidgets": {},
       "aggData": [],
       "aggError": "",
       "aggOverflow": false,
       "aggSchema": [],
       "aggSeriesLimitReached": false,
       "aggType": "",
       "arguments": {},
       "columnCustomDisplayInfos": {},
       "data": [],
       "datasetInfos": [],
       "dbfsResultPath": null,
       "isJsonSchema": true,
       "metadata": {
        "dataframeName": null
       },
       "overflow": false,
       "plotOptions": {
        "customPlotOptions": {},
        "displayType": "table",
        "pivotAggregation": null,
        "pivotColumns": null,
        "xColumns": null,
        "yColumns": null
       },
       "removedWidgets": [],
       "schema": [],
       "type": "table"
      }
     },
     "output_type": "display_data"
    }
   ],
   "source": [
    "%sql\n",
    "CREATE OR REPLACE TEMP VIEW just_usa_view_temp AS\n",
    "SELECT * FROM flights_from_select WHERE dest_country_name = 'United States'"
   ]
  },
  {
   "cell_type": "code",
   "execution_count": 0,
   "metadata": {
    "application/vnd.databricks.v1+cell": {
     "cellMetadata": {
      "byteLimit": 2048000,
      "implicitDf": true,
      "rowLimit": 10000
     },
     "inputWidgets": {},
     "nuid": "361d884d-8e22-4dcc-9eb3-28fcc0127ea4",
     "showTitle": false,
     "tableResultSettingsMap": {},
     "title": ""
    }
   },
   "outputs": [
    {
     "output_type": "display_data",
     "data": {
      "text/html": [
       "<style scoped>\n",
       "  .table-result-container {\n",
       "    max-height: 300px;\n",
       "    overflow: auto;\n",
       "  }\n",
       "  table, th, td {\n",
       "    border: 1px solid black;\n",
       "    border-collapse: collapse;\n",
       "  }\n",
       "  th, td {\n",
       "    padding: 5px;\n",
       "  }\n",
       "  th {\n",
       "    text-align: left;\n",
       "  }\n",
       "</style><div class='table-result-container'><table class='table-result'><thead style='background-color: white'><tr><th>DEST_COUNTRY_NAME</th><th>ORIGIN_COUNTRY_NAME</th><th>count</th></tr></thead><tbody><tr><td>United States</td><td>Romania</td><td>15</td></tr><tr><td>United States</td><td>Croatia</td><td>1</td></tr><tr><td>United States</td><td>Ireland</td><td>344</td></tr><tr><td>Egypt</td><td>United States</td><td>15</td></tr><tr><td>United States</td><td>India</td><td>62</td></tr></tbody></table></div>"
      ]
     },
     "metadata": {
      "application/vnd.databricks.v1+output": {
       "addedWidgets": {},
       "aggData": [],
       "aggError": "",
       "aggOverflow": false,
       "aggSchema": [],
       "aggSeriesLimitReached": false,
       "aggType": "",
       "arguments": {},
       "columnCustomDisplayInfos": {},
       "data": [
        [
         "United States",
         "Romania",
         "15"
        ],
        [
         "United States",
         "Croatia",
         "1"
        ],
        [
         "United States",
         "Ireland",
         "344"
        ],
        [
         "Egypt",
         "United States",
         "15"
        ],
        [
         "United States",
         "India",
         "62"
        ]
       ],
       "datasetInfos": [],
       "dbfsResultPath": null,
       "isJsonSchema": true,
       "metadata": {
        "createTempViewForImplicitDf": true,
        "dataframeName": "_sqldf",
        "executionCount": 27
       },
       "overflow": false,
       "plotOptions": {
        "customPlotOptions": {},
        "displayType": "table",
        "pivotAggregation": null,
        "pivotColumns": null,
        "xColumns": null,
        "yColumns": null
       },
       "removedWidgets": [],
       "schema": [
        {
         "metadata": "{}",
         "name": "DEST_COUNTRY_NAME",
         "type": "\"string\""
        },
        {
         "metadata": "{}",
         "name": "ORIGIN_COUNTRY_NAME",
         "type": "\"string\""
        },
        {
         "metadata": "{}",
         "name": "count",
         "type": "\"string\""
        }
       ],
       "type": "table"
      }
     },
     "output_type": "display_data"
    }
   ],
   "source": [
    "%sql\n",
    "select * from flights_from_select limit 5"
   ]
  },
  {
   "cell_type": "code",
   "execution_count": 0,
   "metadata": {
    "application/vnd.databricks.v1+cell": {
     "cellMetadata": {
      "byteLimit": 2048000,
      "implicitDf": true,
      "rowLimit": 10000
     },
     "inputWidgets": {},
     "nuid": "14b40490-d062-49e0-9a99-d96fbe3695b7",
     "showTitle": false,
     "tableResultSettingsMap": {},
     "title": ""
    }
   },
   "outputs": [
    {
     "output_type": "display_data",
     "data": {
      "text/html": [
       "<style scoped>\n",
       "  .table-result-container {\n",
       "    max-height: 300px;\n",
       "    overflow: auto;\n",
       "  }\n",
       "  table, th, td {\n",
       "    border: 1px solid black;\n",
       "    border-collapse: collapse;\n",
       "  }\n",
       "  th, td {\n",
       "    padding: 5px;\n",
       "  }\n",
       "  th {\n",
       "    text-align: left;\n",
       "  }\n",
       "</style><div class='table-result-container'><table class='table-result'><thead style='background-color: white'><tr><th>plan</th></tr></thead><tbody><tr><td>== Physical Plan ==\n",
       "*(1) ColumnarToRow\n",
       "+- PhotonResultStage\n",
       "   +- PhotonScan parquet spark_catalog.default.flights_from_select[DEST_COUNTRY_NAME#1858,ORIGIN_COUNTRY_NAME#1859,count#1860] DataFilters: [isnotnull(DEST_COUNTRY_NAME#1858), (DEST_COUNTRY_NAME#1858 = United States)], DictionaryFilters: [(DEST_COUNTRY_NAME#1858 = United States)], Format: parquet, Location: InMemoryFileIndex(1 paths)[dbfs:/user/hive/warehouse/flights_from_select], OptionalDataFilters: [], PartitionFilters: [], ReadSchema: struct<DEST_COUNTRY_NAME:string,ORIGIN_COUNTRY_NAME:string,count:string>, RequiredDataFilters: [isnotnull(DEST_COUNTRY_NAME#1858), (DEST_COUNTRY_NAME#1858 = United States)]\n",
       "\n",
       "\n",
       "== Photon Explanation ==\n",
       "The query is fully supported by Photon.</td></tr></tbody></table></div>"
      ]
     },
     "metadata": {
      "application/vnd.databricks.v1+output": {
       "addedWidgets": {},
       "aggData": [],
       "aggError": "",
       "aggOverflow": false,
       "aggSchema": [],
       "aggSeriesLimitReached": false,
       "aggType": "",
       "arguments": {},
       "columnCustomDisplayInfos": {},
       "data": [
        [
         "== Physical Plan ==\n*(1) ColumnarToRow\n+- PhotonResultStage\n   +- PhotonScan parquet spark_catalog.default.flights_from_select[DEST_COUNTRY_NAME#1858,ORIGIN_COUNTRY_NAME#1859,count#1860] DataFilters: [isnotnull(DEST_COUNTRY_NAME#1858), (DEST_COUNTRY_NAME#1858 = United States)], DictionaryFilters: [(DEST_COUNTRY_NAME#1858 = United States)], Format: parquet, Location: InMemoryFileIndex(1 paths)[dbfs:/user/hive/warehouse/flights_from_select], OptionalDataFilters: [], PartitionFilters: [], ReadSchema: struct<DEST_COUNTRY_NAME:string,ORIGIN_COUNTRY_NAME:string,count:string>, RequiredDataFilters: [isnotnull(DEST_COUNTRY_NAME#1858), (DEST_COUNTRY_NAME#1858 = United States)]\n\n\n== Photon Explanation ==\nThe query is fully supported by Photon."
        ]
       ],
       "datasetInfos": [],
       "dbfsResultPath": null,
       "isJsonSchema": true,
       "metadata": {
        "createTempViewForImplicitDf": true,
        "dataframeName": "_sqldf",
        "executionCount": 28
       },
       "overflow": false,
       "plotOptions": {
        "customPlotOptions": {},
        "displayType": "table",
        "pivotAggregation": null,
        "pivotColumns": null,
        "xColumns": null,
        "yColumns": null
       },
       "removedWidgets": [],
       "schema": [
        {
         "metadata": "{}",
         "name": "plan",
         "type": "\"string\""
        }
       ],
       "type": "table"
      }
     },
     "output_type": "display_data"
    }
   ],
   "source": [
    "%sql\n",
    "EXPLAIN SELECT * FROM just_usa_view"
   ]
  },
  {
   "cell_type": "code",
   "execution_count": 0,
   "metadata": {
    "application/vnd.databricks.v1+cell": {
     "cellMetadata": {
      "byteLimit": 2048000,
      "implicitDf": true,
      "rowLimit": 10000
     },
     "inputWidgets": {},
     "nuid": "40ad5497-df35-4677-b2a3-0d7cea7124a8",
     "showTitle": false,
     "tableResultSettingsMap": {},
     "title": ""
    }
   },
   "outputs": [
    {
     "output_type": "display_data",
     "data": {
      "text/html": [
       "<style scoped>\n",
       "  .table-result-container {\n",
       "    max-height: 300px;\n",
       "    overflow: auto;\n",
       "  }\n",
       "  table, th, td {\n",
       "    border: 1px solid black;\n",
       "    border-collapse: collapse;\n",
       "  }\n",
       "  th, td {\n",
       "    padding: 5px;\n",
       "  }\n",
       "  th {\n",
       "    text-align: left;\n",
       "  }\n",
       "</style><div class='table-result-container'><table class='table-result'><thead style='background-color: white'><tr></tr></thead><tbody></tbody></table></div>"
      ]
     },
     "metadata": {
      "application/vnd.databricks.v1+output": {
       "addedWidgets": {},
       "aggData": [],
       "aggError": "",
       "aggOverflow": false,
       "aggSchema": [],
       "aggSeriesLimitReached": false,
       "aggType": "",
       "arguments": {},
       "columnCustomDisplayInfos": {},
       "data": [],
       "datasetInfos": [],
       "dbfsResultPath": null,
       "isJsonSchema": true,
       "metadata": {
        "dataframeName": null
       },
       "overflow": false,
       "plotOptions": {
        "customPlotOptions": {},
        "displayType": "table",
        "pivotAggregation": null,
        "pivotColumns": null,
        "xColumns": null,
        "yColumns": null
       },
       "removedWidgets": [],
       "schema": [],
       "type": "table"
      }
     },
     "output_type": "display_data"
    }
   ],
   "source": [
    "%sql\n",
    "DROP VIEW IF EXISTS just_usa_view;"
   ]
  },
  {
   "cell_type": "code",
   "execution_count": 0,
   "metadata": {
    "application/vnd.databricks.v1+cell": {
     "cellMetadata": {
      "byteLimit": 2048000,
      "implicitDf": true,
      "rowLimit": 10000
     },
     "inputWidgets": {},
     "nuid": "ce16b94b-ed6a-4efb-9f99-a6b135f168bf",
     "showTitle": false,
     "tableResultSettingsMap": {},
     "title": ""
    }
   },
   "outputs": [
    {
     "output_type": "display_data",
     "data": {
      "text/html": [
       "<style scoped>\n",
       "  .table-result-container {\n",
       "    max-height: 300px;\n",
       "    overflow: auto;\n",
       "  }\n",
       "  table, th, td {\n",
       "    border: 1px solid black;\n",
       "    border-collapse: collapse;\n",
       "  }\n",
       "  th, td {\n",
       "    padding: 5px;\n",
       "  }\n",
       "  th {\n",
       "    text-align: left;\n",
       "  }\n",
       "</style><div class='table-result-container'><table class='table-result'><thead style='background-color: white'><tr></tr></thead><tbody></tbody></table></div>"
      ]
     },
     "metadata": {
      "application/vnd.databricks.v1+output": {
       "addedWidgets": {},
       "aggData": [],
       "aggError": "",
       "aggOverflow": false,
       "aggSchema": [],
       "aggSeriesLimitReached": false,
       "aggType": "",
       "arguments": {},
       "columnCustomDisplayInfos": {},
       "data": [],
       "datasetInfos": [],
       "dbfsResultPath": null,
       "isJsonSchema": true,
       "metadata": {
        "dataframeName": null
       },
       "overflow": false,
       "plotOptions": {
        "customPlotOptions": {},
        "displayType": "table",
        "pivotAggregation": null,
        "pivotColumns": null,
        "xColumns": null,
        "yColumns": null
       },
       "removedWidgets": [],
       "schema": [],
       "type": "table"
      }
     },
     "output_type": "display_data"
    }
   ],
   "source": [
    "%sql\n",
    "CREATE DATABASE some_db"
   ]
  },
  {
   "cell_type": "code",
   "execution_count": 0,
   "metadata": {
    "application/vnd.databricks.v1+cell": {
     "cellMetadata": {
      "byteLimit": 2048000,
      "implicitDf": true,
      "rowLimit": 10000
     },
     "inputWidgets": {},
     "nuid": "b6e9374a-b7e9-4042-a2d8-22e57efcd778",
     "showTitle": false,
     "tableResultSettingsMap": {},
     "title": ""
    }
   },
   "outputs": [
    {
     "output_type": "display_data",
     "data": {
      "text/html": [
       "<style scoped>\n",
       "  .table-result-container {\n",
       "    max-height: 300px;\n",
       "    overflow: auto;\n",
       "  }\n",
       "  table, th, td {\n",
       "    border: 1px solid black;\n",
       "    border-collapse: collapse;\n",
       "  }\n",
       "  th, td {\n",
       "    padding: 5px;\n",
       "  }\n",
       "  th {\n",
       "    text-align: left;\n",
       "  }\n",
       "</style><div class='table-result-container'><table class='table-result'><thead style='background-color: white'><tr></tr></thead><tbody></tbody></table></div>"
      ]
     },
     "metadata": {
      "application/vnd.databricks.v1+output": {
       "addedWidgets": {},
       "aggData": [],
       "aggError": "",
       "aggOverflow": false,
       "aggSchema": [],
       "aggSeriesLimitReached": false,
       "aggType": "",
       "arguments": {},
       "columnCustomDisplayInfos": {},
       "data": [],
       "datasetInfos": [],
       "dbfsResultPath": null,
       "isJsonSchema": true,
       "metadata": {
        "dataframeName": null
       },
       "overflow": false,
       "plotOptions": {
        "customPlotOptions": {},
        "displayType": "table",
        "pivotAggregation": null,
        "pivotColumns": null,
        "xColumns": null,
        "yColumns": null
       },
       "removedWidgets": [],
       "schema": [],
       "type": "table"
      }
     },
     "output_type": "display_data"
    }
   ],
   "source": [
    "%sql\n",
    "USE some_db"
   ]
  },
  {
   "cell_type": "code",
   "execution_count": 0,
   "metadata": {
    "application/vnd.databricks.v1+cell": {
     "cellMetadata": {
      "byteLimit": 2048000,
      "implicitDf": true,
      "rowLimit": 10000
     },
     "inputWidgets": {},
     "nuid": "01167cb2-7123-43fb-bc11-56bcdff4cca5",
     "showTitle": false,
     "tableResultSettingsMap": {},
     "title": ""
    }
   },
   "outputs": [
    {
     "output_type": "display_data",
     "data": {
      "text/html": [
       "<style scoped>\n",
       "  .table-result-container {\n",
       "    max-height: 300px;\n",
       "    overflow: auto;\n",
       "  }\n",
       "  table, th, td {\n",
       "    border: 1px solid black;\n",
       "    border-collapse: collapse;\n",
       "  }\n",
       "  th, td {\n",
       "    padding: 5px;\n",
       "  }\n",
       "  th {\n",
       "    text-align: left;\n",
       "  }\n",
       "</style><div class='table-result-container'><table class='table-result'><thead style='background-color: white'><tr><th>database</th><th>tableName</th><th>isTemporary</th></tr></thead><tbody><tr><td></td><td>_sqldf</td><td>true</td></tr><tr><td></td><td>just_usa_view_temp</td><td>true</td></tr><tr><td></td><td>some_sql_view</td><td>true</td></tr></tbody></table></div>"
      ]
     },
     "metadata": {
      "application/vnd.databricks.v1+output": {
       "addedWidgets": {},
       "aggData": [],
       "aggError": "",
       "aggOverflow": false,
       "aggSchema": [],
       "aggSeriesLimitReached": false,
       "aggType": "",
       "arguments": {},
       "columnCustomDisplayInfos": {},
       "data": [
        [
         "",
         "_sqldf",
         true
        ],
        [
         "",
         "just_usa_view_temp",
         true
        ],
        [
         "",
         "some_sql_view",
         true
        ]
       ],
       "datasetInfos": [],
       "dbfsResultPath": null,
       "isJsonSchema": true,
       "metadata": {
        "createTempViewForImplicitDf": true,
        "dataframeName": "_sqldf",
        "executionCount": 29
       },
       "overflow": false,
       "plotOptions": {
        "customPlotOptions": {},
        "displayType": "table",
        "pivotAggregation": null,
        "pivotColumns": null,
        "xColumns": null,
        "yColumns": null
       },
       "removedWidgets": [],
       "schema": [
        {
         "metadata": "{}",
         "name": "database",
         "type": "\"string\""
        },
        {
         "metadata": "{}",
         "name": "tableName",
         "type": "\"string\""
        },
        {
         "metadata": "{}",
         "name": "isTemporary",
         "type": "\"boolean\""
        }
       ],
       "type": "table"
      }
     },
     "output_type": "display_data"
    }
   ],
   "source": [
    "%sql\n",
    "SHOW tables"
   ]
  },
  {
   "cell_type": "code",
   "execution_count": 0,
   "metadata": {
    "application/vnd.databricks.v1+cell": {
     "cellMetadata": {
      "byteLimit": 2048000,
      "implicitDf": true,
      "rowLimit": 10000
     },
     "inputWidgets": {},
     "nuid": "62ad7324-5c93-4dcb-a374-bb29a9f23302",
     "showTitle": false,
     "tableResultSettingsMap": {},
     "title": ""
    }
   },
   "outputs": [
    {
     "output_type": "display_data",
     "data": {
      "text/html": [
       "<style scoped>\n",
       "  .table-result-container {\n",
       "    max-height: 300px;\n",
       "    overflow: auto;\n",
       "  }\n",
       "  table, th, td {\n",
       "    border: 1px solid black;\n",
       "    border-collapse: collapse;\n",
       "  }\n",
       "  th, td {\n",
       "    padding: 5px;\n",
       "  }\n",
       "  th {\n",
       "    text-align: left;\n",
       "  }\n",
       "</style><div class='table-result-container'><table class='table-result'><thead style='background-color: white'><tr><th>DEST_COUNTRY_NAME</th><th>ORIGIN_COUNTRY_NAME</th><th>count</th></tr></thead><tbody><tr><td>United States</td><td>Romania</td><td>15</td></tr><tr><td>United States</td><td>Croatia</td><td>1</td></tr><tr><td>United States</td><td>Ireland</td><td>344</td></tr><tr><td>Egypt</td><td>United States</td><td>15</td></tr><tr><td>United States</td><td>India</td><td>62</td></tr></tbody></table></div>"
      ]
     },
     "metadata": {
      "application/vnd.databricks.v1+output": {
       "addedWidgets": {},
       "aggData": [],
       "aggError": "",
       "aggOverflow": false,
       "aggSchema": [],
       "aggSeriesLimitReached": false,
       "aggType": "",
       "arguments": {},
       "columnCustomDisplayInfos": {},
       "data": [
        [
         "United States",
         "Romania",
         "15"
        ],
        [
         "United States",
         "Croatia",
         "1"
        ],
        [
         "United States",
         "Ireland",
         "344"
        ],
        [
         "Egypt",
         "United States",
         "15"
        ],
        [
         "United States",
         "India",
         "62"
        ]
       ],
       "datasetInfos": [],
       "dbfsResultPath": null,
       "isJsonSchema": true,
       "metadata": {
        "createTempViewForImplicitDf": true,
        "dataframeName": "_sqldf",
        "executionCount": 31
       },
       "overflow": false,
       "plotOptions": {
        "customPlotOptions": {},
        "displayType": "table",
        "pivotAggregation": null,
        "pivotColumns": null,
        "xColumns": null,
        "yColumns": null
       },
       "removedWidgets": [],
       "schema": [
        {
         "metadata": "{}",
         "name": "DEST_COUNTRY_NAME",
         "type": "\"string\""
        },
        {
         "metadata": "{}",
         "name": "ORIGIN_COUNTRY_NAME",
         "type": "\"string\""
        },
        {
         "metadata": "{}",
         "name": "count",
         "type": "\"string\""
        }
       ],
       "type": "table"
      }
     },
     "output_type": "display_data"
    }
   ],
   "source": [
    "%sql\n",
    "SELECT * FROM default.flights_from_select limit 5"
   ]
  },
  {
   "cell_type": "code",
   "execution_count": 0,
   "metadata": {
    "application/vnd.databricks.v1+cell": {
     "cellMetadata": {
      "byteLimit": 2048000,
      "implicitDf": true,
      "rowLimit": 10000
     },
     "inputWidgets": {},
     "nuid": "605708fa-bbca-435d-9024-2d3485b7f6a0",
     "showTitle": false,
     "tableResultSettingsMap": {},
     "title": ""
    }
   },
   "outputs": [
    {
     "output_type": "display_data",
     "data": {
      "text/html": [
       "<style scoped>\n",
       "  .table-result-container {\n",
       "    max-height: 300px;\n",
       "    overflow: auto;\n",
       "  }\n",
       "  table, th, td {\n",
       "    border: 1px solid black;\n",
       "    border-collapse: collapse;\n",
       "  }\n",
       "  th, td {\n",
       "    padding: 5px;\n",
       "  }\n",
       "  th {\n",
       "    text-align: left;\n",
       "  }\n",
       "</style><div class='table-result-container'><table class='table-result'><thead style='background-color: white'><tr><th>current_schema()</th></tr></thead><tbody><tr><td>some_db</td></tr></tbody></table></div>"
      ]
     },
     "metadata": {
      "application/vnd.databricks.v1+output": {
       "addedWidgets": {},
       "aggData": [],
       "aggError": "",
       "aggOverflow": false,
       "aggSchema": [],
       "aggSeriesLimitReached": false,
       "aggType": "",
       "arguments": {},
       "columnCustomDisplayInfos": {},
       "data": [
        [
         "some_db"
        ]
       ],
       "datasetInfos": [],
       "dbfsResultPath": null,
       "isJsonSchema": true,
       "metadata": {
        "createTempViewForImplicitDf": true,
        "dataframeName": "_sqldf",
        "executionCount": 30
       },
       "overflow": false,
       "plotOptions": {
        "customPlotOptions": {},
        "displayType": "table",
        "pivotAggregation": null,
        "pivotColumns": null,
        "xColumns": null,
        "yColumns": null
       },
       "removedWidgets": [],
       "schema": [
        {
         "metadata": "{\"__autoGeneratedAlias\":\"true\"}",
         "name": "current_schema()",
         "type": "\"string\""
        }
       ],
       "type": "table"
      }
     },
     "output_type": "display_data"
    }
   ],
   "source": [
    "%sql\n",
    "SELECT current_database()"
   ]
  },
  {
   "cell_type": "code",
   "execution_count": 0,
   "metadata": {
    "application/vnd.databricks.v1+cell": {
     "cellMetadata": {
      "byteLimit": 2048000,
      "implicitDf": true,
      "rowLimit": 10000
     },
     "inputWidgets": {},
     "nuid": "5242eedd-e431-4211-9841-a895c6e2c92f",
     "showTitle": false,
     "tableResultSettingsMap": {},
     "title": ""
    }
   },
   "outputs": [
    {
     "output_type": "display_data",
     "data": {
      "text/html": [
       "<style scoped>\n",
       "  .table-result-container {\n",
       "    max-height: 300px;\n",
       "    overflow: auto;\n",
       "  }\n",
       "  table, th, td {\n",
       "    border: 1px solid black;\n",
       "    border-collapse: collapse;\n",
       "  }\n",
       "  th, td {\n",
       "    padding: 5px;\n",
       "  }\n",
       "  th {\n",
       "    text-align: left;\n",
       "  }\n",
       "</style><div class='table-result-container'><table class='table-result'><thead style='background-color: white'><tr></tr></thead><tbody></tbody></table></div>"
      ]
     },
     "metadata": {
      "application/vnd.databricks.v1+output": {
       "addedWidgets": {},
       "aggData": [],
       "aggError": "",
       "aggOverflow": false,
       "aggSchema": [],
       "aggSeriesLimitReached": false,
       "aggType": "",
       "arguments": {},
       "columnCustomDisplayInfos": {},
       "data": [],
       "datasetInfos": [],
       "dbfsResultPath": null,
       "isJsonSchema": true,
       "metadata": {
        "dataframeName": null
       },
       "overflow": false,
       "plotOptions": {
        "customPlotOptions": {},
        "displayType": "table",
        "pivotAggregation": null,
        "pivotColumns": null,
        "xColumns": null,
        "yColumns": null
       },
       "removedWidgets": [],
       "schema": [],
       "type": "table"
      }
     },
     "output_type": "display_data"
    }
   ],
   "source": [
    "%sql\n",
    "USE default;"
   ]
  },
  {
   "cell_type": "code",
   "execution_count": 0,
   "metadata": {
    "application/vnd.databricks.v1+cell": {
     "cellMetadata": {
      "byteLimit": 2048000,
      "implicitDf": true,
      "rowLimit": 10000
     },
     "inputWidgets": {},
     "nuid": "cc828e23-b34d-418d-ae23-d41a17ebf9d4",
     "showTitle": false,
     "tableResultSettingsMap": {},
     "title": ""
    }
   },
   "outputs": [
    {
     "output_type": "display_data",
     "data": {
      "text/html": [
       "<style scoped>\n",
       "  .table-result-container {\n",
       "    max-height: 300px;\n",
       "    overflow: auto;\n",
       "  }\n",
       "  table, th, td {\n",
       "    border: 1px solid black;\n",
       "    border-collapse: collapse;\n",
       "  }\n",
       "  th, td {\n",
       "    padding: 5px;\n",
       "  }\n",
       "  th {\n",
       "    text-align: left;\n",
       "  }\n",
       "</style><div class='table-result-container'><table class='table-result'><thead style='background-color: white'><tr></tr></thead><tbody></tbody></table></div>"
      ]
     },
     "metadata": {
      "application/vnd.databricks.v1+output": {
       "addedWidgets": {},
       "aggData": [],
       "aggError": "",
       "aggOverflow": false,
       "aggSchema": [],
       "aggSeriesLimitReached": false,
       "aggType": "",
       "arguments": {},
       "columnCustomDisplayInfos": {},
       "data": [],
       "datasetInfos": [],
       "dbfsResultPath": null,
       "isJsonSchema": true,
       "metadata": {
        "dataframeName": null
       },
       "overflow": false,
       "plotOptions": {
        "customPlotOptions": {},
        "displayType": "table",
        "pivotAggregation": null,
        "pivotColumns": null,
        "xColumns": null,
        "yColumns": null
       },
       "removedWidgets": [],
       "schema": [],
       "type": "table"
      }
     },
     "output_type": "display_data"
    }
   ],
   "source": [
    "%sql\n",
    "DROP DATABASE IF EXISTS some_db;"
   ]
  },
  {
   "cell_type": "code",
   "execution_count": 0,
   "metadata": {
    "application/vnd.databricks.v1+cell": {
     "cellMetadata": {
      "byteLimit": 2048000,
      "implicitDf": true,
      "rowLimit": 10000
     },
     "inputWidgets": {},
     "nuid": "01ac2983-2592-453d-b1c6-f7c30f1c5e91",
     "showTitle": false,
     "tableResultSettingsMap": {},
     "title": ""
    }
   },
   "outputs": [
    {
     "output_type": "display_data",
     "data": {
      "text/html": [
       "<style scoped>\n",
       "  .table-result-container {\n",
       "    max-height: 300px;\n",
       "    overflow: auto;\n",
       "  }\n",
       "  table, th, td {\n",
       "    border: 1px solid black;\n",
       "    border-collapse: collapse;\n",
       "  }\n",
       "  th, td {\n",
       "    padding: 5px;\n",
       "  }\n",
       "  th {\n",
       "    text-align: left;\n",
       "  }\n",
       "</style><div class='table-result-container'><table class='table-result'><thead style='background-color: white'><tr></tr></thead><tbody></tbody></table></div>"
      ]
     },
     "metadata": {
      "application/vnd.databricks.v1+output": {
       "addedWidgets": {},
       "aggData": [],
       "aggError": "",
       "aggOverflow": false,
       "aggSchema": [],
       "aggSeriesLimitReached": false,
       "aggType": "",
       "arguments": {},
       "columnCustomDisplayInfos": {},
       "data": [],
       "datasetInfos": [],
       "dbfsResultPath": null,
       "isJsonSchema": true,
       "metadata": {
        "dataframeName": null
       },
       "overflow": false,
       "plotOptions": {
        "customPlotOptions": {},
        "displayType": "table",
        "pivotAggregation": null,
        "pivotColumns": null,
        "xColumns": null,
        "yColumns": null
       },
       "removedWidgets": [],
       "schema": [],
       "type": "table"
      }
     },
     "output_type": "display_data"
    }
   ],
   "source": [
    "%sql\n",
    "CREATE VIEW IF NOT EXISTS nested_data AS\n",
    "SELECT (DEST_COUNTRY_NAME, ORIGIN_COUNTRY_NAME) as country, count FROM flights_from_select"
   ]
  },
  {
   "cell_type": "code",
   "execution_count": 0,
   "metadata": {
    "application/vnd.databricks.v1+cell": {
     "cellMetadata": {
      "byteLimit": 2048000,
      "implicitDf": true,
      "rowLimit": 10000
     },
     "inputWidgets": {},
     "nuid": "dfe64af6-42e3-4272-8421-fbc5d3540bbe",
     "showTitle": false,
     "tableResultSettingsMap": {},
     "title": ""
    }
   },
   "outputs": [
    {
     "output_type": "display_data",
     "data": {
      "text/html": [
       "<style scoped>\n",
       "  .table-result-container {\n",
       "    max-height: 300px;\n",
       "    overflow: auto;\n",
       "  }\n",
       "  table, th, td {\n",
       "    border: 1px solid black;\n",
       "    border-collapse: collapse;\n",
       "  }\n",
       "  th, td {\n",
       "    padding: 5px;\n",
       "  }\n",
       "  th {\n",
       "    text-align: left;\n",
       "  }\n",
       "</style><div class='table-result-container'><table class='table-result'><thead style='background-color: white'><tr><th>country</th><th>count</th></tr></thead><tbody><tr><td>List(United States, Romania)</td><td>15</td></tr><tr><td>List(United States, Croatia)</td><td>1</td></tr><tr><td>List(United States, Ireland)</td><td>344</td></tr><tr><td>List(Egypt, United States)</td><td>15</td></tr><tr><td>List(United States, India)</td><td>62</td></tr></tbody></table></div>"
      ]
     },
     "metadata": {
      "application/vnd.databricks.v1+output": {
       "addedWidgets": {},
       "aggData": [],
       "aggError": "",
       "aggOverflow": false,
       "aggSchema": [],
       "aggSeriesLimitReached": false,
       "aggType": "",
       "arguments": {},
       "columnCustomDisplayInfos": {},
       "data": [
        [
         [
          "United States",
          "Romania"
         ],
         "15"
        ],
        [
         [
          "United States",
          "Croatia"
         ],
         "1"
        ],
        [
         [
          "United States",
          "Ireland"
         ],
         "344"
        ],
        [
         [
          "Egypt",
          "United States"
         ],
         "15"
        ],
        [
         [
          "United States",
          "India"
         ],
         "62"
        ]
       ],
       "datasetInfos": [],
       "dbfsResultPath": null,
       "isJsonSchema": true,
       "metadata": {
        "createTempViewForImplicitDf": true,
        "dataframeName": "_sqldf",
        "executionCount": 32
       },
       "overflow": false,
       "plotOptions": {
        "customPlotOptions": {},
        "displayType": "table",
        "pivotAggregation": null,
        "pivotColumns": null,
        "xColumns": null,
        "yColumns": null
       },
       "removedWidgets": [],
       "schema": [
        {
         "metadata": "{}",
         "name": "country",
         "type": "{\"type\":\"struct\",\"fields\":[{\"name\":\"DEST_COUNTRY_NAME\",\"type\":\"string\",\"nullable\":true,\"metadata\":{}},{\"name\":\"ORIGIN_COUNTRY_NAME\",\"type\":\"string\",\"nullable\":true,\"metadata\":{}}]}"
        },
        {
         "metadata": "{}",
         "name": "count",
         "type": "\"string\""
        }
       ],
       "type": "table"
      }
     },
     "output_type": "display_data"
    }
   ],
   "source": [
    "%sql\n",
    "SELECT * FROM nested_data limit 5"
   ]
  },
  {
   "cell_type": "code",
   "execution_count": 0,
   "metadata": {
    "application/vnd.databricks.v1+cell": {
     "cellMetadata": {
      "byteLimit": 2048000,
      "implicitDf": true,
      "rowLimit": 10000
     },
     "inputWidgets": {},
     "nuid": "0a2f0a01-9581-47b0-bd92-71732562c1e8",
     "showTitle": false,
     "tableResultSettingsMap": {},
     "title": ""
    }
   },
   "outputs": [
    {
     "output_type": "display_data",
     "data": {
      "text/html": [
       "<style scoped>\n",
       "  .table-result-container {\n",
       "    max-height: 300px;\n",
       "    overflow: auto;\n",
       "  }\n",
       "  table, th, td {\n",
       "    border: 1px solid black;\n",
       "    border-collapse: collapse;\n",
       "  }\n",
       "  th, td {\n",
       "    padding: 5px;\n",
       "  }\n",
       "  th {\n",
       "    text-align: left;\n",
       "  }\n",
       "</style><div class='table-result-container'><table class='table-result'><thead style='background-color: white'><tr><th>DEST_COUNTRY_NAME</th><th>count</th></tr></thead><tbody><tr><td>United States</td><td>15</td></tr><tr><td>United States</td><td>1</td></tr><tr><td>United States</td><td>344</td></tr><tr><td>Egypt</td><td>15</td></tr><tr><td>United States</td><td>62</td></tr></tbody></table></div>"
      ]
     },
     "metadata": {
      "application/vnd.databricks.v1+output": {
       "addedWidgets": {},
       "aggData": [],
       "aggError": "",
       "aggOverflow": false,
       "aggSchema": [],
       "aggSeriesLimitReached": false,
       "aggType": "",
       "arguments": {},
       "columnCustomDisplayInfos": {},
       "data": [
        [
         "United States",
         "15"
        ],
        [
         "United States",
         "1"
        ],
        [
         "United States",
         "344"
        ],
        [
         "Egypt",
         "15"
        ],
        [
         "United States",
         "62"
        ]
       ],
       "datasetInfos": [],
       "dbfsResultPath": null,
       "isJsonSchema": true,
       "metadata": {
        "createTempViewForImplicitDf": true,
        "dataframeName": "_sqldf",
        "executionCount": 35
       },
       "overflow": false,
       "plotOptions": {
        "customPlotOptions": {},
        "displayType": "table",
        "pivotAggregation": null,
        "pivotColumns": null,
        "xColumns": null,
        "yColumns": null
       },
       "removedWidgets": [],
       "schema": [
        {
         "metadata": "{}",
         "name": "DEST_COUNTRY_NAME",
         "type": "\"string\""
        },
        {
         "metadata": "{}",
         "name": "count",
         "type": "\"string\""
        }
       ],
       "type": "table"
      }
     },
     "output_type": "display_data"
    }
   ],
   "source": [
    "%sql\n",
    "SELECT country.DEST_COUNTRY_NAME, count FROM nested_data limit 5"
   ]
  },
  {
   "cell_type": "code",
   "execution_count": 0,
   "metadata": {
    "application/vnd.databricks.v1+cell": {
     "cellMetadata": {
      "byteLimit": 2048000,
      "implicitDf": true,
      "rowLimit": 10000
     },
     "inputWidgets": {},
     "nuid": "e737ca9b-750d-44dd-a343-db1415a72438",
     "showTitle": false,
     "tableResultSettingsMap": {},
     "title": ""
    }
   },
   "outputs": [
    {
     "output_type": "display_data",
     "data": {
      "text/html": [
       "<style scoped>\n",
       "  .table-result-container {\n",
       "    max-height: 300px;\n",
       "    overflow: auto;\n",
       "  }\n",
       "  table, th, td {\n",
       "    border: 1px solid black;\n",
       "    border-collapse: collapse;\n",
       "  }\n",
       "  th, td {\n",
       "    padding: 5px;\n",
       "  }\n",
       "  th {\n",
       "    text-align: left;\n",
       "  }\n",
       "</style><div class='table-result-container'><table class='table-result'><thead style='background-color: white'><tr><th>DEST_COUNTRY_NAME</th><th>ORIGIN_COUNTRY_NAME</th><th>count</th></tr></thead><tbody><tr><td>United States</td><td>Romania</td><td>15</td></tr><tr><td>United States</td><td>Croatia</td><td>1</td></tr><tr><td>United States</td><td>Ireland</td><td>344</td></tr><tr><td>Egypt</td><td>United States</td><td>15</td></tr><tr><td>United States</td><td>India</td><td>62</td></tr></tbody></table></div>"
      ]
     },
     "metadata": {
      "application/vnd.databricks.v1+output": {
       "addedWidgets": {},
       "aggData": [],
       "aggError": "",
       "aggOverflow": false,
       "aggSchema": [],
       "aggSeriesLimitReached": false,
       "aggType": "",
       "arguments": {},
       "columnCustomDisplayInfos": {},
       "data": [
        [
         "United States",
         "Romania",
         "15"
        ],
        [
         "United States",
         "Croatia",
         "1"
        ],
        [
         "United States",
         "Ireland",
         "344"
        ],
        [
         "Egypt",
         "United States",
         "15"
        ],
        [
         "United States",
         "India",
         "62"
        ]
       ],
       "datasetInfos": [],
       "dbfsResultPath": null,
       "isJsonSchema": true,
       "metadata": {
        "createTempViewForImplicitDf": true,
        "dataframeName": "_sqldf",
        "executionCount": 33
       },
       "overflow": false,
       "plotOptions": {
        "customPlotOptions": {},
        "displayType": "table",
        "pivotAggregation": null,
        "pivotColumns": null,
        "xColumns": null,
        "yColumns": null
       },
       "removedWidgets": [],
       "schema": [
        {
         "metadata": "{}",
         "name": "DEST_COUNTRY_NAME",
         "type": "\"string\""
        },
        {
         "metadata": "{}",
         "name": "ORIGIN_COUNTRY_NAME",
         "type": "\"string\""
        },
        {
         "metadata": "{}",
         "name": "count",
         "type": "\"string\""
        }
       ],
       "type": "table"
      }
     },
     "output_type": "display_data"
    }
   ],
   "source": [
    "%sql\n",
    "SELECT country.*, count FROM nested_data limit 5"
   ]
  },
  {
   "cell_type": "code",
   "execution_count": 0,
   "metadata": {
    "application/vnd.databricks.v1+cell": {
     "cellMetadata": {
      "byteLimit": 2048000,
      "implicitDf": true,
      "rowLimit": 10000
     },
     "inputWidgets": {},
     "nuid": "0968c78d-8c9c-49b0-9d77-425bc83db8b5",
     "showTitle": false,
     "tableResultSettingsMap": {},
     "title": ""
    }
   },
   "outputs": [
    {
     "output_type": "display_data",
     "data": {
      "text/html": [
       "<style scoped>\n",
       "  .table-result-container {\n",
       "    max-height: 300px;\n",
       "    overflow: auto;\n",
       "  }\n",
       "  table, th, td {\n",
       "    border: 1px solid black;\n",
       "    border-collapse: collapse;\n",
       "  }\n",
       "  th, td {\n",
       "    padding: 5px;\n",
       "  }\n",
       "  th {\n",
       "    text-align: left;\n",
       "  }\n",
       "</style><div class='table-result-container'><table class='table-result'><thead style='background-color: white'><tr><th>new_name</th><th>flight_counts</th><th>origin_set</th></tr></thead><tbody><tr><td>Algeria</td><td>List(4, 4)</td><td>List(United States)</td></tr><tr><td>Angola</td><td>List(15)</td><td>List(United States)</td></tr><tr><td>Anguilla</td><td>List(41, 41)</td><td>List(United States)</td></tr><tr><td>Antigua and Barbuda</td><td>List(126)</td><td>List(United States)</td></tr><tr><td>Argentina</td><td>List(180)</td><td>List(United States)</td></tr><tr><td>Aruba</td><td>List(346)</td><td>List(United States)</td></tr><tr><td>Australia</td><td>List(329)</td><td>List(United States)</td></tr><tr><td>Austria</td><td>List(62)</td><td>List(United States)</td></tr><tr><td>Azerbaijan</td><td>List(21)</td><td>List(United States)</td></tr><tr><td>Bahrain</td><td>List(19)</td><td>List(United States)</td></tr><tr><td>Barbados</td><td>List(154)</td><td>List(United States)</td></tr><tr><td>Belgium</td><td>List(259)</td><td>List(United States)</td></tr><tr><td>Belize</td><td>List(188)</td><td>List(United States)</td></tr><tr><td>Bermuda</td><td>List(183)</td><td>List(United States)</td></tr><tr><td>Bolivia</td><td>List(30, 30)</td><td>List(United States)</td></tr><tr><td>Bonaire, Sint Eustatius, and Saba</td><td>List(58)</td><td>List(United States)</td></tr><tr><td>Brazil</td><td>List(853)</td><td>List(United States)</td></tr><tr><td>British Virgin Islands</td><td>List(107)</td><td>List(United States)</td></tr><tr><td>Bulgaria</td><td>List(3)</td><td>List(United States)</td></tr><tr><td>Burkina Faso</td><td>List(1)</td><td>List(United States)</td></tr><tr><td>Canada</td><td>List(8399)</td><td>List(United States)</td></tr><tr><td>Cape Verde</td><td>List(20)</td><td>List(United States)</td></tr><tr><td>Cayman Islands</td><td>List(314)</td><td>List(United States)</td></tr><tr><td>Chile</td><td>List(174)</td><td>List(United States)</td></tr><tr><td>China</td><td>List(772)</td><td>List(United States)</td></tr><tr><td>Colombia</td><td>List(873)</td><td>List(United States)</td></tr><tr><td>Cook Islands</td><td>List(13)</td><td>List(United States)</td></tr><tr><td>Costa Rica</td><td>List(588, 588)</td><td>List(United States)</td></tr><tr><td>Cote d'Ivoire</td><td>List(1)</td><td>List(United States)</td></tr><tr><td>Croatia</td><td>List(2)</td><td>List(United States)</td></tr><tr><td>Cuba</td><td>List(466)</td><td>List(United States)</td></tr><tr><td>Curacao</td><td>List(90)</td><td>List(United States)</td></tr><tr><td>Cyprus</td><td>List(1)</td><td>List(United States)</td></tr><tr><td>Czech Republic</td><td>List(13)</td><td>List(United States)</td></tr><tr><td>Denmark</td><td>List(153)</td><td>List(United States)</td></tr><tr><td>Djibouti</td><td>List(1)</td><td>List(United States)</td></tr><tr><td>Dominica</td><td>List(20)</td><td>List(United States)</td></tr><tr><td>Dominican Republic</td><td>List(1353)</td><td>List(United States)</td></tr><tr><td>Ecuador</td><td>List(268)</td><td>List(United States)</td></tr><tr><td>Egypt</td><td>List(15, 15)</td><td>List(United States)</td></tr><tr><td>El Salvador</td><td>List(561)</td><td>List(United States)</td></tr><tr><td>Ethiopia</td><td>List(13)</td><td>List(United States)</td></tr><tr><td>Federated States of Micronesia</td><td>List(69)</td><td>List(United States)</td></tr><tr><td>Fiji</td><td>List(24)</td><td>List(United States)</td></tr><tr><td>Finland</td><td>List(26)</td><td>List(United States)</td></tr><tr><td>France</td><td>List(935)</td><td>List(United States)</td></tr><tr><td>French Guiana</td><td>List(5)</td><td>List(United States)</td></tr><tr><td>French Polynesia</td><td>List(43)</td><td>List(United States)</td></tr><tr><td>Georgia</td><td>List(2)</td><td>List(United States)</td></tr><tr><td>Germany</td><td>List(1468)</td><td>List(United States)</td></tr><tr><td>Ghana</td><td>List(18)</td><td>List(United States)</td></tr><tr><td>Greece</td><td>List(30)</td><td>List(United States)</td></tr><tr><td>Greenland</td><td>List(2)</td><td>List(United States)</td></tr><tr><td>Grenada</td><td>List(53)</td><td>List(United States)</td></tr><tr><td>Guadeloupe</td><td>List(56)</td><td>List(United States)</td></tr><tr><td>Guatemala</td><td>List(397)</td><td>List(United States)</td></tr><tr><td>Guyana</td><td>List(64, 64)</td><td>List(United States)</td></tr><tr><td>Haiti</td><td>List(226)</td><td>List(United States)</td></tr><tr><td>Honduras</td><td>List(362)</td><td>List(United States)</td></tr><tr><td>Hong Kong</td><td>List(332)</td><td>List(United States)</td></tr><tr><td>Hungary</td><td>List(2)</td><td>List(United States)</td></tr><tr><td>Iceland</td><td>List(181)</td><td>List(United States)</td></tr><tr><td>India</td><td>List(61)</td><td>List(United States)</td></tr><tr><td>Indonesia</td><td>List(1)</td><td>List(United States)</td></tr><tr><td>Iraq</td><td>List(1)</td><td>List(United States)</td></tr><tr><td>Ireland</td><td>List(335)</td><td>List(United States)</td></tr><tr><td>Israel</td><td>List(134)</td><td>List(United States)</td></tr><tr><td>Italy</td><td>List(382)</td><td>List(United States)</td></tr><tr><td>Jamaica</td><td>List(666)</td><td>List(United States)</td></tr><tr><td>Japan</td><td>List(1548)</td><td>List(United States)</td></tr><tr><td>Jordan</td><td>List(44)</td><td>List(United States)</td></tr><tr><td>Kiribati</td><td>List(26)</td><td>List(United States)</td></tr><tr><td>Kosovo</td><td>List(1)</td><td>List(United States)</td></tr><tr><td>Kuwait</td><td>List(32)</td><td>List(United States)</td></tr><tr><td>Latvia</td><td>List(19)</td><td>List(United States)</td></tr><tr><td>Liberia</td><td>List(2)</td><td>List(United States)</td></tr><tr><td>Luxembourg</td><td>List(155)</td><td>List(United States)</td></tr><tr><td>Malaysia</td><td>List(2)</td><td>List(United States)</td></tr><tr><td>Malta</td><td>List(1, 1)</td><td>List(United States)</td></tr><tr><td>Marshall Islands</td><td>List(42)</td><td>List(United States)</td></tr><tr><td>Martinique</td><td>List(44)</td><td>List(United States)</td></tr><tr><td>Mexico</td><td>List(7140)</td><td>List(United States)</td></tr><tr><td>Moldova</td><td>List(1, 1)</td><td>List(United States)</td></tr><tr><td>Morocco</td><td>List(15)</td><td>List(United States)</td></tr><tr><td>Netherlands</td><td>List(776)</td><td>List(United States)</td></tr><tr><td>New Caledonia</td><td>List(1)</td><td>List(United States)</td></tr><tr><td>New Zealand</td><td>List(111)</td><td>List(United States)</td></tr><tr><td>Nicaragua</td><td>List(179)</td><td>List(United States)</td></tr><tr><td>Niger</td><td>List(2)</td><td>List(United States)</td></tr><tr><td>Nigeria</td><td>List(59)</td><td>List(United States)</td></tr><tr><td>Norway</td><td>List(121)</td><td>List(United States)</td></tr><tr><td>Pakistan</td><td>List(12)</td><td>List(United States)</td></tr><tr><td>Palau</td><td>List(30)</td><td>List(United States)</td></tr><tr><td>Panama</td><td>List(510)</td><td>List(United States)</td></tr><tr><td>Papua New Guinea</td><td>List(3)</td><td>List(United States)</td></tr><tr><td>Paraguay</td><td>List(60)</td><td>List(United States)</td></tr><tr><td>Peru</td><td>List(279)</td><td>List(United States)</td></tr><tr><td>Philippines</td><td>List(134)</td><td>List(United States)</td></tr><tr><td>Poland</td><td>List(32)</td><td>List(United States)</td></tr><tr><td>Portugal</td><td>List(127)</td><td>List(United States)</td></tr><tr><td>Qatar</td><td>List(108)</td><td>List(United States)</td></tr><tr><td>Romania</td><td>List(14)</td><td>List(United States)</td></tr><tr><td>Russia</td><td>List(176)</td><td>List(United States)</td></tr><tr><td>Saint Barthelemy</td><td>List(39)</td><td>List(United States)</td></tr><tr><td>Saint Kitts and Nevis</td><td>List(139)</td><td>List(United States)</td></tr><tr><td>Saint Lucia</td><td>List(123)</td><td>List(United States)</td></tr><tr><td>Saint Vincent and the Grenadines</td><td>List(1)</td><td>List(United States)</td></tr><tr><td>Samoa</td><td>List(25)</td><td>List(United States)</td></tr><tr><td>Saudi Arabia</td><td>List(83)</td><td>List(United States)</td></tr><tr><td>Senegal</td><td>List(40, 40)</td><td>List(United States)</td></tr><tr><td>Singapore</td><td>List(3)</td><td>List(United States)</td></tr><tr><td>Sint Maarten</td><td>List(325)</td><td>List(United States)</td></tr><tr><td>South Africa</td><td>List(36)</td><td>List(United States)</td></tr><tr><td>South Korea</td><td>List(1048)</td><td>List(United States)</td></tr><tr><td>Spain</td><td>List(420)</td><td>List(United States)</td></tr><tr><td>Suriname</td><td>List(1)</td><td>List(United States)</td></tr><tr><td>Sweden</td><td>List(118)</td><td>List(United States)</td></tr><tr><td>Switzerland</td><td>List(294)</td><td>List(United States)</td></tr><tr><td>Taiwan</td><td>List(266)</td><td>List(United States)</td></tr><tr><td>Thailand</td><td>List(3)</td><td>List(United States)</td></tr><tr><td>The Bahamas</td><td>List(955)</td><td>List(United States)</td></tr><tr><td>Trinidad and Tobago</td><td>List(211)</td><td>List(United States)</td></tr><tr><td>Tunisia</td><td>List(3)</td><td>List(United States)</td></tr><tr><td>Turkey</td><td>List(138)</td><td>List(United States)</td></tr><tr><td>Turks and Caicos Islands</td><td>List(230, 230)</td><td>List(United States)</td></tr><tr><td>Ukraine</td><td>List(14)</td><td>List(United States)</td></tr><tr><td>United Arab Emirates</td><td>List(320)</td><td>List(United States)</td></tr><tr><td>United Kingdom</td><td>List(2025)</td><td>List(United States)</td></tr><tr><td>United States</td><td>List(13, 38, 117, 141, 342, 258, 63, 21, 1, 130, 228, 193, 193, 13, 59, 619, 80, 1, 8483, 14, 310, 185, 920, 867, 13, 608, 1, 1, 478, 83, 1, 12, 152, 27, 1420, 300, 12, 508, 1, 12, 69, 25, 28, 952, 40, 1, 1336, 20, 1, 1, 23, 4, 62, 62, 59, 318, 63, 225, 407, 414, 3, 202, 62, 62, 2, 344, 344, 127, 438, 712, 1496, 44, 35, 28, 15, 2, 1, 134, 3, 2, 39, 39, 43, 7187, 1, 19, 1, 660, 74, 201, 50, 115, 12, 31, 465, 1, 6, 6, 337, 126, 33, 134, 109, 15, 15, 161, 41, 145, 136, 25, 70, 42, 1, 1, 325, 325, 40, 827, 442, 34, 119, 305, 235, 4, 986, 217, 129, 236, 13, 313, 1970, 370002, 13, 246, 2)</td><td>List(Angola, Anguilla, Antigua and Barbuda, Argentina, Aruba, Australia, Austria, Azerbaijan, Bahrain, Barbados, Belgium, Belize, Bermuda, Bolivia, Bonaire, Sint Eustatius, and Saba, Brazil, British Virgin Islands, Bulgaria, Canada, Cape Verde, Cayman Islands, Chile, China, Colombia, Cook Islands, Costa Rica, Croatia, Cuba, Curacao, Cyprus, Czech Republic, Denmark, Dominica, Dominican Republic, Ecuador, Egypt, El Salvador, Estonia, Ethiopia, Federated States of Micronesia, Fiji, Finland, France, French Polynesia, Georgia, Germany, Ghana, Gibraltar, Greece, Greenland, Grenada, Guadeloupe, Guatemala, Guyana, Haiti, Honduras, Hong Kong, Hungary, Iceland, India, Indonesia, Ireland, Israel, Italy, Jamaica, Japan, Jordan, Kiribati, Kuwait, Latvia, Liberia, Lithuania, Luxembourg, Malaysia, Malta, Marshall Islands, Martinique, Mexico, Montenegro, Morocco, Namibia, Netherlands, New Zealand, Nicaragua, Nigeria, Norway, Pakistan, Palau, Panama, Papua New Guinea, Paraguay, Peru, Philippines, Poland, Portugal, Qatar, Romania, Russia, Saint Barthelemy, Saint Kitts and Nevis, Saint Lucia, Samoa, Saudi Arabia, Senegal, Singapore, Sint Maarten, South Africa, South Korea, Spain, Suriname, Sweden, Switzerland, Taiwan, Thailand, The Bahamas, Trinidad and Tobago, Turkey, Turks and Caicos Islands, Ukraine, United Arab Emirates, United Kingdom, United States, Uruguay, Venezuela, Vietnam)</td></tr><tr><td>Uruguay</td><td>List(43)</td><td>List(United States)</td></tr><tr><td>Venezuela</td><td>List(290)</td><td>List(United States)</td></tr><tr><td>Zambia</td><td>List(1)</td><td>List(United States)</td></tr></tbody></table></div>"
      ]
     },
     "metadata": {
      "application/vnd.databricks.v1+output": {
       "addedWidgets": {},
       "aggData": [],
       "aggError": "",
       "aggOverflow": false,
       "aggSchema": [],
       "aggSeriesLimitReached": false,
       "aggType": "",
       "arguments": {},
       "columnCustomDisplayInfos": {},
       "data": [
        [
         "Algeria",
         [
          "4",
          "4"
         ],
         [
          "United States"
         ]
        ],
        [
         "Angola",
         [
          "15"
         ],
         [
          "United States"
         ]
        ],
        [
         "Anguilla",
         [
          "41",
          "41"
         ],
         [
          "United States"
         ]
        ],
        [
         "Antigua and Barbuda",
         [
          "126"
         ],
         [
          "United States"
         ]
        ],
        [
         "Argentina",
         [
          "180"
         ],
         [
          "United States"
         ]
        ],
        [
         "Aruba",
         [
          "346"
         ],
         [
          "United States"
         ]
        ],
        [
         "Australia",
         [
          "329"
         ],
         [
          "United States"
         ]
        ],
        [
         "Austria",
         [
          "62"
         ],
         [
          "United States"
         ]
        ],
        [
         "Azerbaijan",
         [
          "21"
         ],
         [
          "United States"
         ]
        ],
        [
         "Bahrain",
         [
          "19"
         ],
         [
          "United States"
         ]
        ],
        [
         "Barbados",
         [
          "154"
         ],
         [
          "United States"
         ]
        ],
        [
         "Belgium",
         [
          "259"
         ],
         [
          "United States"
         ]
        ],
        [
         "Belize",
         [
          "188"
         ],
         [
          "United States"
         ]
        ],
        [
         "Bermuda",
         [
          "183"
         ],
         [
          "United States"
         ]
        ],
        [
         "Bolivia",
         [
          "30",
          "30"
         ],
         [
          "United States"
         ]
        ],
        [
         "Bonaire, Sint Eustatius, and Saba",
         [
          "58"
         ],
         [
          "United States"
         ]
        ],
        [
         "Brazil",
         [
          "853"
         ],
         [
          "United States"
         ]
        ],
        [
         "British Virgin Islands",
         [
          "107"
         ],
         [
          "United States"
         ]
        ],
        [
         "Bulgaria",
         [
          "3"
         ],
         [
          "United States"
         ]
        ],
        [
         "Burkina Faso",
         [
          "1"
         ],
         [
          "United States"
         ]
        ],
        [
         "Canada",
         [
          "8399"
         ],
         [
          "United States"
         ]
        ],
        [
         "Cape Verde",
         [
          "20"
         ],
         [
          "United States"
         ]
        ],
        [
         "Cayman Islands",
         [
          "314"
         ],
         [
          "United States"
         ]
        ],
        [
         "Chile",
         [
          "174"
         ],
         [
          "United States"
         ]
        ],
        [
         "China",
         [
          "772"
         ],
         [
          "United States"
         ]
        ],
        [
         "Colombia",
         [
          "873"
         ],
         [
          "United States"
         ]
        ],
        [
         "Cook Islands",
         [
          "13"
         ],
         [
          "United States"
         ]
        ],
        [
         "Costa Rica",
         [
          "588",
          "588"
         ],
         [
          "United States"
         ]
        ],
        [
         "Cote d'Ivoire",
         [
          "1"
         ],
         [
          "United States"
         ]
        ],
        [
         "Croatia",
         [
          "2"
         ],
         [
          "United States"
         ]
        ],
        [
         "Cuba",
         [
          "466"
         ],
         [
          "United States"
         ]
        ],
        [
         "Curacao",
         [
          "90"
         ],
         [
          "United States"
         ]
        ],
        [
         "Cyprus",
         [
          "1"
         ],
         [
          "United States"
         ]
        ],
        [
         "Czech Republic",
         [
          "13"
         ],
         [
          "United States"
         ]
        ],
        [
         "Denmark",
         [
          "153"
         ],
         [
          "United States"
         ]
        ],
        [
         "Djibouti",
         [
          "1"
         ],
         [
          "United States"
         ]
        ],
        [
         "Dominica",
         [
          "20"
         ],
         [
          "United States"
         ]
        ],
        [
         "Dominican Republic",
         [
          "1353"
         ],
         [
          "United States"
         ]
        ],
        [
         "Ecuador",
         [
          "268"
         ],
         [
          "United States"
         ]
        ],
        [
         "Egypt",
         [
          "15",
          "15"
         ],
         [
          "United States"
         ]
        ],
        [
         "El Salvador",
         [
          "561"
         ],
         [
          "United States"
         ]
        ],
        [
         "Ethiopia",
         [
          "13"
         ],
         [
          "United States"
         ]
        ],
        [
         "Federated States of Micronesia",
         [
          "69"
         ],
         [
          "United States"
         ]
        ],
        [
         "Fiji",
         [
          "24"
         ],
         [
          "United States"
         ]
        ],
        [
         "Finland",
         [
          "26"
         ],
         [
          "United States"
         ]
        ],
        [
         "France",
         [
          "935"
         ],
         [
          "United States"
         ]
        ],
        [
         "French Guiana",
         [
          "5"
         ],
         [
          "United States"
         ]
        ],
        [
         "French Polynesia",
         [
          "43"
         ],
         [
          "United States"
         ]
        ],
        [
         "Georgia",
         [
          "2"
         ],
         [
          "United States"
         ]
        ],
        [
         "Germany",
         [
          "1468"
         ],
         [
          "United States"
         ]
        ],
        [
         "Ghana",
         [
          "18"
         ],
         [
          "United States"
         ]
        ],
        [
         "Greece",
         [
          "30"
         ],
         [
          "United States"
         ]
        ],
        [
         "Greenland",
         [
          "2"
         ],
         [
          "United States"
         ]
        ],
        [
         "Grenada",
         [
          "53"
         ],
         [
          "United States"
         ]
        ],
        [
         "Guadeloupe",
         [
          "56"
         ],
         [
          "United States"
         ]
        ],
        [
         "Guatemala",
         [
          "397"
         ],
         [
          "United States"
         ]
        ],
        [
         "Guyana",
         [
          "64",
          "64"
         ],
         [
          "United States"
         ]
        ],
        [
         "Haiti",
         [
          "226"
         ],
         [
          "United States"
         ]
        ],
        [
         "Honduras",
         [
          "362"
         ],
         [
          "United States"
         ]
        ],
        [
         "Hong Kong",
         [
          "332"
         ],
         [
          "United States"
         ]
        ],
        [
         "Hungary",
         [
          "2"
         ],
         [
          "United States"
         ]
        ],
        [
         "Iceland",
         [
          "181"
         ],
         [
          "United States"
         ]
        ],
        [
         "India",
         [
          "61"
         ],
         [
          "United States"
         ]
        ],
        [
         "Indonesia",
         [
          "1"
         ],
         [
          "United States"
         ]
        ],
        [
         "Iraq",
         [
          "1"
         ],
         [
          "United States"
         ]
        ],
        [
         "Ireland",
         [
          "335"
         ],
         [
          "United States"
         ]
        ],
        [
         "Israel",
         [
          "134"
         ],
         [
          "United States"
         ]
        ],
        [
         "Italy",
         [
          "382"
         ],
         [
          "United States"
         ]
        ],
        [
         "Jamaica",
         [
          "666"
         ],
         [
          "United States"
         ]
        ],
        [
         "Japan",
         [
          "1548"
         ],
         [
          "United States"
         ]
        ],
        [
         "Jordan",
         [
          "44"
         ],
         [
          "United States"
         ]
        ],
        [
         "Kiribati",
         [
          "26"
         ],
         [
          "United States"
         ]
        ],
        [
         "Kosovo",
         [
          "1"
         ],
         [
          "United States"
         ]
        ],
        [
         "Kuwait",
         [
          "32"
         ],
         [
          "United States"
         ]
        ],
        [
         "Latvia",
         [
          "19"
         ],
         [
          "United States"
         ]
        ],
        [
         "Liberia",
         [
          "2"
         ],
         [
          "United States"
         ]
        ],
        [
         "Luxembourg",
         [
          "155"
         ],
         [
          "United States"
         ]
        ],
        [
         "Malaysia",
         [
          "2"
         ],
         [
          "United States"
         ]
        ],
        [
         "Malta",
         [
          "1",
          "1"
         ],
         [
          "United States"
         ]
        ],
        [
         "Marshall Islands",
         [
          "42"
         ],
         [
          "United States"
         ]
        ],
        [
         "Martinique",
         [
          "44"
         ],
         [
          "United States"
         ]
        ],
        [
         "Mexico",
         [
          "7140"
         ],
         [
          "United States"
         ]
        ],
        [
         "Moldova",
         [
          "1",
          "1"
         ],
         [
          "United States"
         ]
        ],
        [
         "Morocco",
         [
          "15"
         ],
         [
          "United States"
         ]
        ],
        [
         "Netherlands",
         [
          "776"
         ],
         [
          "United States"
         ]
        ],
        [
         "New Caledonia",
         [
          "1"
         ],
         [
          "United States"
         ]
        ],
        [
         "New Zealand",
         [
          "111"
         ],
         [
          "United States"
         ]
        ],
        [
         "Nicaragua",
         [
          "179"
         ],
         [
          "United States"
         ]
        ],
        [
         "Niger",
         [
          "2"
         ],
         [
          "United States"
         ]
        ],
        [
         "Nigeria",
         [
          "59"
         ],
         [
          "United States"
         ]
        ],
        [
         "Norway",
         [
          "121"
         ],
         [
          "United States"
         ]
        ],
        [
         "Pakistan",
         [
          "12"
         ],
         [
          "United States"
         ]
        ],
        [
         "Palau",
         [
          "30"
         ],
         [
          "United States"
         ]
        ],
        [
         "Panama",
         [
          "510"
         ],
         [
          "United States"
         ]
        ],
        [
         "Papua New Guinea",
         [
          "3"
         ],
         [
          "United States"
         ]
        ],
        [
         "Paraguay",
         [
          "60"
         ],
         [
          "United States"
         ]
        ],
        [
         "Peru",
         [
          "279"
         ],
         [
          "United States"
         ]
        ],
        [
         "Philippines",
         [
          "134"
         ],
         [
          "United States"
         ]
        ],
        [
         "Poland",
         [
          "32"
         ],
         [
          "United States"
         ]
        ],
        [
         "Portugal",
         [
          "127"
         ],
         [
          "United States"
         ]
        ],
        [
         "Qatar",
         [
          "108"
         ],
         [
          "United States"
         ]
        ],
        [
         "Romania",
         [
          "14"
         ],
         [
          "United States"
         ]
        ],
        [
         "Russia",
         [
          "176"
         ],
         [
          "United States"
         ]
        ],
        [
         "Saint Barthelemy",
         [
          "39"
         ],
         [
          "United States"
         ]
        ],
        [
         "Saint Kitts and Nevis",
         [
          "139"
         ],
         [
          "United States"
         ]
        ],
        [
         "Saint Lucia",
         [
          "123"
         ],
         [
          "United States"
         ]
        ],
        [
         "Saint Vincent and the Grenadines",
         [
          "1"
         ],
         [
          "United States"
         ]
        ],
        [
         "Samoa",
         [
          "25"
         ],
         [
          "United States"
         ]
        ],
        [
         "Saudi Arabia",
         [
          "83"
         ],
         [
          "United States"
         ]
        ],
        [
         "Senegal",
         [
          "40",
          "40"
         ],
         [
          "United States"
         ]
        ],
        [
         "Singapore",
         [
          "3"
         ],
         [
          "United States"
         ]
        ],
        [
         "Sint Maarten",
         [
          "325"
         ],
         [
          "United States"
         ]
        ],
        [
         "South Africa",
         [
          "36"
         ],
         [
          "United States"
         ]
        ],
        [
         "South Korea",
         [
          "1048"
         ],
         [
          "United States"
         ]
        ],
        [
         "Spain",
         [
          "420"
         ],
         [
          "United States"
         ]
        ],
        [
         "Suriname",
         [
          "1"
         ],
         [
          "United States"
         ]
        ],
        [
         "Sweden",
         [
          "118"
         ],
         [
          "United States"
         ]
        ],
        [
         "Switzerland",
         [
          "294"
         ],
         [
          "United States"
         ]
        ],
        [
         "Taiwan",
         [
          "266"
         ],
         [
          "United States"
         ]
        ],
        [
         "Thailand",
         [
          "3"
         ],
         [
          "United States"
         ]
        ],
        [
         "The Bahamas",
         [
          "955"
         ],
         [
          "United States"
         ]
        ],
        [
         "Trinidad and Tobago",
         [
          "211"
         ],
         [
          "United States"
         ]
        ],
        [
         "Tunisia",
         [
          "3"
         ],
         [
          "United States"
         ]
        ],
        [
         "Turkey",
         [
          "138"
         ],
         [
          "United States"
         ]
        ],
        [
         "Turks and Caicos Islands",
         [
          "230",
          "230"
         ],
         [
          "United States"
         ]
        ],
        [
         "Ukraine",
         [
          "14"
         ],
         [
          "United States"
         ]
        ],
        [
         "United Arab Emirates",
         [
          "320"
         ],
         [
          "United States"
         ]
        ],
        [
         "United Kingdom",
         [
          "2025"
         ],
         [
          "United States"
         ]
        ],
        [
         "United States",
         [
          "13",
          "38",
          "117",
          "141",
          "342",
          "258",
          "63",
          "21",
          "1",
          "130",
          "228",
          "193",
          "193",
          "13",
          "59",
          "619",
          "80",
          "1",
          "8483",
          "14",
          "310",
          "185",
          "920",
          "867",
          "13",
          "608",
          "1",
          "1",
          "478",
          "83",
          "1",
          "12",
          "152",
          "27",
          "1420",
          "300",
          "12",
          "508",
          "1",
          "12",
          "69",
          "25",
          "28",
          "952",
          "40",
          "1",
          "1336",
          "20",
          "1",
          "1",
          "23",
          "4",
          "62",
          "62",
          "59",
          "318",
          "63",
          "225",
          "407",
          "414",
          "3",
          "202",
          "62",
          "62",
          "2",
          "344",
          "344",
          "127",
          "438",
          "712",
          "1496",
          "44",
          "35",
          "28",
          "15",
          "2",
          "1",
          "134",
          "3",
          "2",
          "39",
          "39",
          "43",
          "7187",
          "1",
          "19",
          "1",
          "660",
          "74",
          "201",
          "50",
          "115",
          "12",
          "31",
          "465",
          "1",
          "6",
          "6",
          "337",
          "126",
          "33",
          "134",
          "109",
          "15",
          "15",
          "161",
          "41",
          "145",
          "136",
          "25",
          "70",
          "42",
          "1",
          "1",
          "325",
          "325",
          "40",
          "827",
          "442",
          "34",
          "119",
          "305",
          "235",
          "4",
          "986",
          "217",
          "129",
          "236",
          "13",
          "313",
          "1970",
          "370002",
          "13",
          "246",
          "2"
         ],
         [
          "Angola",
          "Anguilla",
          "Antigua and Barbuda",
          "Argentina",
          "Aruba",
          "Australia",
          "Austria",
          "Azerbaijan",
          "Bahrain",
          "Barbados",
          "Belgium",
          "Belize",
          "Bermuda",
          "Bolivia",
          "Bonaire, Sint Eustatius, and Saba",
          "Brazil",
          "British Virgin Islands",
          "Bulgaria",
          "Canada",
          "Cape Verde",
          "Cayman Islands",
          "Chile",
          "China",
          "Colombia",
          "Cook Islands",
          "Costa Rica",
          "Croatia",
          "Cuba",
          "Curacao",
          "Cyprus",
          "Czech Republic",
          "Denmark",
          "Dominica",
          "Dominican Republic",
          "Ecuador",
          "Egypt",
          "El Salvador",
          "Estonia",
          "Ethiopia",
          "Federated States of Micronesia",
          "Fiji",
          "Finland",
          "France",
          "French Polynesia",
          "Georgia",
          "Germany",
          "Ghana",
          "Gibraltar",
          "Greece",
          "Greenland",
          "Grenada",
          "Guadeloupe",
          "Guatemala",
          "Guyana",
          "Haiti",
          "Honduras",
          "Hong Kong",
          "Hungary",
          "Iceland",
          "India",
          "Indonesia",
          "Ireland",
          "Israel",
          "Italy",
          "Jamaica",
          "Japan",
          "Jordan",
          "Kiribati",
          "Kuwait",
          "Latvia",
          "Liberia",
          "Lithuania",
          "Luxembourg",
          "Malaysia",
          "Malta",
          "Marshall Islands",
          "Martinique",
          "Mexico",
          "Montenegro",
          "Morocco",
          "Namibia",
          "Netherlands",
          "New Zealand",
          "Nicaragua",
          "Nigeria",
          "Norway",
          "Pakistan",
          "Palau",
          "Panama",
          "Papua New Guinea",
          "Paraguay",
          "Peru",
          "Philippines",
          "Poland",
          "Portugal",
          "Qatar",
          "Romania",
          "Russia",
          "Saint Barthelemy",
          "Saint Kitts and Nevis",
          "Saint Lucia",
          "Samoa",
          "Saudi Arabia",
          "Senegal",
          "Singapore",
          "Sint Maarten",
          "South Africa",
          "South Korea",
          "Spain",
          "Suriname",
          "Sweden",
          "Switzerland",
          "Taiwan",
          "Thailand",
          "The Bahamas",
          "Trinidad and Tobago",
          "Turkey",
          "Turks and Caicos Islands",
          "Ukraine",
          "United Arab Emirates",
          "United Kingdom",
          "United States",
          "Uruguay",
          "Venezuela",
          "Vietnam"
         ]
        ],
        [
         "Uruguay",
         [
          "43"
         ],
         [
          "United States"
         ]
        ],
        [
         "Venezuela",
         [
          "290"
         ],
         [
          "United States"
         ]
        ],
        [
         "Zambia",
         [
          "1"
         ],
         [
          "United States"
         ]
        ]
       ],
       "datasetInfos": [],
       "dbfsResultPath": null,
       "isJsonSchema": true,
       "metadata": {
        "createTempViewForImplicitDf": true,
        "dataframeName": "_sqldf",
        "executionCount": 36
       },
       "overflow": false,
       "plotOptions": {
        "customPlotOptions": {},
        "displayType": "table",
        "pivotAggregation": null,
        "pivotColumns": null,
        "xColumns": null,
        "yColumns": null
       },
       "removedWidgets": [],
       "schema": [
        {
         "metadata": "{}",
         "name": "new_name",
         "type": "\"string\""
        },
        {
         "metadata": "{}",
         "name": "flight_counts",
         "type": "{\"type\":\"array\",\"elementType\":\"string\",\"containsNull\":false}"
        },
        {
         "metadata": "{}",
         "name": "origin_set",
         "type": "{\"type\":\"array\",\"elementType\":\"string\",\"containsNull\":false}"
        }
       ],
       "type": "table"
      }
     },
     "output_type": "display_data"
    }
   ],
   "source": [
    "%sql\n",
    "SELECT DEST_COUNTRY_NAME as new_name, collect_list(count) as flight_counts,\n",
    "collect_set(ORIGIN_COUNTRY_NAME) as origin_set\n",
    "FROM flights_from_select GROUP BY DEST_COUNTRY_NAME"
   ]
  },
  {
   "cell_type": "code",
   "execution_count": 0,
   "metadata": {
    "application/vnd.databricks.v1+cell": {
     "cellMetadata": {
      "byteLimit": 2048000,
      "implicitDf": true,
      "rowLimit": 10000
     },
     "inputWidgets": {},
     "nuid": "cd3441ee-522c-4feb-a751-632103ee55c9",
     "showTitle": false,
     "tableResultSettingsMap": {},
     "title": ""
    }
   },
   "outputs": [
    {
     "output_type": "display_data",
     "data": {
      "text/html": [
       "<style scoped>\n",
       "  .table-result-container {\n",
       "    max-height: 300px;\n",
       "    overflow: auto;\n",
       "  }\n",
       "  table, th, td {\n",
       "    border: 1px solid black;\n",
       "    border-collapse: collapse;\n",
       "  }\n",
       "  th, td {\n",
       "    padding: 5px;\n",
       "  }\n",
       "  th {\n",
       "    text-align: left;\n",
       "  }\n",
       "</style><div class='table-result-container'><table class='table-result'><thead style='background-color: white'><tr><th>DEST_COUNTRY_NAME</th><th>array(1, 2, 3)</th></tr></thead><tbody><tr><td>United States</td><td>List(1, 2, 3)</td></tr><tr><td>United States</td><td>List(1, 2, 3)</td></tr><tr><td>United States</td><td>List(1, 2, 3)</td></tr><tr><td>Egypt</td><td>List(1, 2, 3)</td></tr><tr><td>United States</td><td>List(1, 2, 3)</td></tr><tr><td>United States</td><td>List(1, 2, 3)</td></tr><tr><td>United States</td><td>List(1, 2, 3)</td></tr><tr><td>Costa Rica</td><td>List(1, 2, 3)</td></tr><tr><td>Senegal</td><td>List(1, 2, 3)</td></tr><tr><td>Moldova</td><td>List(1, 2, 3)</td></tr><tr><td>United States</td><td>List(1, 2, 3)</td></tr><tr><td>United States</td><td>List(1, 2, 3)</td></tr><tr><td>Guyana</td><td>List(1, 2, 3)</td></tr><tr><td>Malta</td><td>List(1, 2, 3)</td></tr><tr><td>Anguilla</td><td>List(1, 2, 3)</td></tr><tr><td>Bolivia</td><td>List(1, 2, 3)</td></tr><tr><td>United States</td><td>List(1, 2, 3)</td></tr><tr><td>Algeria</td><td>List(1, 2, 3)</td></tr><tr><td>Turks and Caicos Islands</td><td>List(1, 2, 3)</td></tr><tr><td>United States</td><td>List(1, 2, 3)</td></tr><tr><td>Saint Vincent and the Grenadines</td><td>List(1, 2, 3)</td></tr><tr><td>Italy</td><td>List(1, 2, 3)</td></tr><tr><td>United States</td><td>List(1, 2, 3)</td></tr><tr><td>United States</td><td>List(1, 2, 3)</td></tr><tr><td>Pakistan</td><td>List(1, 2, 3)</td></tr><tr><td>United States</td><td>List(1, 2, 3)</td></tr><tr><td>Iceland</td><td>List(1, 2, 3)</td></tr><tr><td>Marshall Islands</td><td>List(1, 2, 3)</td></tr><tr><td>Luxembourg</td><td>List(1, 2, 3)</td></tr><tr><td>Honduras</td><td>List(1, 2, 3)</td></tr><tr><td>The Bahamas</td><td>List(1, 2, 3)</td></tr><tr><td>United States</td><td>List(1, 2, 3)</td></tr><tr><td>El Salvador</td><td>List(1, 2, 3)</td></tr><tr><td>Samoa</td><td>List(1, 2, 3)</td></tr><tr><td>United States</td><td>List(1, 2, 3)</td></tr><tr><td>Switzerland</td><td>List(1, 2, 3)</td></tr><tr><td>United States</td><td>List(1, 2, 3)</td></tr><tr><td>Sint Maarten</td><td>List(1, 2, 3)</td></tr><tr><td>Hong Kong</td><td>List(1, 2, 3)</td></tr><tr><td>Trinidad and Tobago</td><td>List(1, 2, 3)</td></tr><tr><td>Latvia</td><td>List(1, 2, 3)</td></tr><tr><td>United States</td><td>List(1, 2, 3)</td></tr><tr><td>Suriname</td><td>List(1, 2, 3)</td></tr><tr><td>Mexico</td><td>List(1, 2, 3)</td></tr><tr><td>United States</td><td>List(1, 2, 3)</td></tr><tr><td>Ecuador</td><td>List(1, 2, 3)</td></tr><tr><td>United States</td><td>List(1, 2, 3)</td></tr><tr><td>United States</td><td>List(1, 2, 3)</td></tr><tr><td>United States</td><td>List(1, 2, 3)</td></tr><tr><td>United States</td><td>List(1, 2, 3)</td></tr><tr><td>Colombia</td><td>List(1, 2, 3)</td></tr><tr><td>United States</td><td>List(1, 2, 3)</td></tr><tr><td>United States</td><td>List(1, 2, 3)</td></tr><tr><td>Norway</td><td>List(1, 2, 3)</td></tr><tr><td>United States</td><td>List(1, 2, 3)</td></tr><tr><td>United States</td><td>List(1, 2, 3)</td></tr><tr><td>Thailand</td><td>List(1, 2, 3)</td></tr><tr><td>United States</td><td>List(1, 2, 3)</td></tr><tr><td>Venezuela</td><td>List(1, 2, 3)</td></tr><tr><td>United States</td><td>List(1, 2, 3)</td></tr><tr><td>United States</td><td>List(1, 2, 3)</td></tr><tr><td>Panama</td><td>List(1, 2, 3)</td></tr><tr><td>Antigua and Barbuda</td><td>List(1, 2, 3)</td></tr><tr><td>United States</td><td>List(1, 2, 3)</td></tr><tr><td>Morocco</td><td>List(1, 2, 3)</td></tr><tr><td>United States</td><td>List(1, 2, 3)</td></tr><tr><td>Azerbaijan</td><td>List(1, 2, 3)</td></tr><tr><td>United States</td><td>List(1, 2, 3)</td></tr><tr><td>United States</td><td>List(1, 2, 3)</td></tr><tr><td>New Zealand</td><td>List(1, 2, 3)</td></tr><tr><td>Liberia</td><td>List(1, 2, 3)</td></tr><tr><td>United States</td><td>List(1, 2, 3)</td></tr><tr><td>Hungary</td><td>List(1, 2, 3)</td></tr><tr><td>United States</td><td>List(1, 2, 3)</td></tr><tr><td>United States</td><td>List(1, 2, 3)</td></tr><tr><td>Burkina Faso</td><td>List(1, 2, 3)</td></tr><tr><td>Sweden</td><td>List(1, 2, 3)</td></tr><tr><td>United States</td><td>List(1, 2, 3)</td></tr><tr><td>United States</td><td>List(1, 2, 3)</td></tr><tr><td>United States</td><td>List(1, 2, 3)</td></tr><tr><td>Israel</td><td>List(1, 2, 3)</td></tr><tr><td>United States</td><td>List(1, 2, 3)</td></tr><tr><td>Ethiopia</td><td>List(1, 2, 3)</td></tr><tr><td>United States</td><td>List(1, 2, 3)</td></tr><tr><td>United States</td><td>List(1, 2, 3)</td></tr><tr><td>Martinique</td><td>List(1, 2, 3)</td></tr><tr><td>United States</td><td>List(1, 2, 3)</td></tr><tr><td>Saint Barthelemy</td><td>List(1, 2, 3)</td></tr><tr><td>Barbados</td><td>List(1, 2, 3)</td></tr><tr><td>United States</td><td>List(1, 2, 3)</td></tr><tr><td>Djibouti</td><td>List(1, 2, 3)</td></tr><tr><td>United States</td><td>List(1, 2, 3)</td></tr><tr><td>United States</td><td>List(1, 2, 3)</td></tr><tr><td>Germany</td><td>List(1, 2, 3)</td></tr><tr><td>United States</td><td>List(1, 2, 3)</td></tr><tr><td>United States</td><td>List(1, 2, 3)</td></tr><tr><td>Ireland</td><td>List(1, 2, 3)</td></tr><tr><td>United States</td><td>List(1, 2, 3)</td></tr><tr><td>Zambia</td><td>List(1, 2, 3)</td></tr><tr><td>Malaysia</td><td>List(1, 2, 3)</td></tr><tr><td>United States</td><td>List(1, 2, 3)</td></tr><tr><td>United States</td><td>List(1, 2, 3)</td></tr><tr><td>United States</td><td>List(1, 2, 3)</td></tr><tr><td>United States</td><td>List(1, 2, 3)</td></tr><tr><td>United States</td><td>List(1, 2, 3)</td></tr><tr><td>Croatia</td><td>List(1, 2, 3)</td></tr><tr><td>United States</td><td>List(1, 2, 3)</td></tr><tr><td>Cyprus</td><td>List(1, 2, 3)</td></tr><tr><td>United States</td><td>List(1, 2, 3)</td></tr><tr><td>Fiji</td><td>List(1, 2, 3)</td></tr><tr><td>Qatar</td><td>List(1, 2, 3)</td></tr><tr><td>Saint Kitts and Nevis</td><td>List(1, 2, 3)</td></tr><tr><td>Kuwait</td><td>List(1, 2, 3)</td></tr><tr><td>Taiwan</td><td>List(1, 2, 3)</td></tr><tr><td>Haiti</td><td>List(1, 2, 3)</td></tr><tr><td>Canada</td><td>List(1, 2, 3)</td></tr><tr><td>Federated States of Micronesia</td><td>List(1, 2, 3)</td></tr><tr><td>United States</td><td>List(1, 2, 3)</td></tr><tr><td>Jamaica</td><td>List(1, 2, 3)</td></tr><tr><td>United States</td><td>List(1, 2, 3)</td></tr><tr><td>Dominican Republic</td><td>List(1, 2, 3)</td></tr><tr><td>Japan</td><td>List(1, 2, 3)</td></tr><tr><td>United States</td><td>List(1, 2, 3)</td></tr><tr><td>Finland</td><td>List(1, 2, 3)</td></tr><tr><td>United States</td><td>List(1, 2, 3)</td></tr><tr><td>United States</td><td>List(1, 2, 3)</td></tr><tr><td>United States</td><td>List(1, 2, 3)</td></tr><tr><td>United States</td><td>List(1, 2, 3)</td></tr><tr><td>Aruba</td><td>List(1, 2, 3)</td></tr><tr><td>French Guiana</td><td>List(1, 2, 3)</td></tr><tr><td>United States</td><td>List(1, 2, 3)</td></tr><tr><td>India</td><td>List(1, 2, 3)</td></tr><tr><td>British Virgin Islands</td><td>List(1, 2, 3)</td></tr><tr><td>Brazil</td><td>List(1, 2, 3)</td></tr><tr><td>United States</td><td>List(1, 2, 3)</td></tr><tr><td>United States</td><td>List(1, 2, 3)</td></tr><tr><td>French Polynesia</td><td>List(1, 2, 3)</td></tr><tr><td>United Arab Emirates</td><td>List(1, 2, 3)</td></tr><tr><td>Singapore</td><td>List(1, 2, 3)</td></tr><tr><td>United States</td><td>List(1, 2, 3)</td></tr><tr><td>United States</td><td>List(1, 2, 3)</td></tr><tr><td>Netherlands</td><td>List(1, 2, 3)</td></tr><tr><td>United States</td><td>List(1, 2, 3)</td></tr><tr><td>United States</td><td>List(1, 2, 3)</td></tr><tr><td>United States</td><td>List(1, 2, 3)</td></tr><tr><td>Denmark</td><td>List(1, 2, 3)</td></tr><tr><td>China</td><td>List(1, 2, 3)</td></tr><tr><td>United States</td><td>List(1, 2, 3)</td></tr><tr><td>United States</td><td>List(1, 2, 3)</td></tr><tr><td>United States</td><td>List(1, 2, 3)</td></tr><tr><td>United States</td><td>List(1, 2, 3)</td></tr><tr><td>Cayman Islands</td><td>List(1, 2, 3)</td></tr><tr><td>Argentina</td><td>List(1, 2, 3)</td></tr><tr><td>Peru</td><td>List(1, 2, 3)</td></tr><tr><td>South Africa</td><td>List(1, 2, 3)</td></tr><tr><td>United States</td><td>List(1, 2, 3)</td></tr><tr><td>United States</td><td>List(1, 2, 3)</td></tr><tr><td>Spain</td><td>List(1, 2, 3)</td></tr><tr><td>Bermuda</td><td>List(1, 2, 3)</td></tr><tr><td>United States</td><td>List(1, 2, 3)</td></tr><tr><td>United States</td><td>List(1, 2, 3)</td></tr><tr><td>United States</td><td>List(1, 2, 3)</td></tr><tr><td>Kiribati</td><td>List(1, 2, 3)</td></tr><tr><td>Saudi Arabia</td><td>List(1, 2, 3)</td></tr><tr><td>Czech Republic</td><td>List(1, 2, 3)</td></tr><tr><td>United States</td><td>List(1, 2, 3)</td></tr><tr><td>Belgium</td><td>List(1, 2, 3)</td></tr><tr><td>United States</td><td>List(1, 2, 3)</td></tr><tr><td>United States</td><td>List(1, 2, 3)</td></tr><tr><td>United States</td><td>List(1, 2, 3)</td></tr><tr><td>Curacao</td><td>List(1, 2, 3)</td></tr><tr><td>Georgia</td><td>List(1, 2, 3)</td></tr><tr><td>United States</td><td>List(1, 2, 3)</td></tr><tr><td>United States</td><td>List(1, 2, 3)</td></tr><tr><td>Philippines</td><td>List(1, 2, 3)</td></tr><tr><td>Grenada</td><td>List(1, 2, 3)</td></tr><tr><td>Cape Verde</td><td>List(1, 2, 3)</td></tr><tr><td>Cote d'Ivoire</td><td>List(1, 2, 3)</td></tr><tr><td>Ukraine</td><td>List(1, 2, 3)</td></tr><tr><td>United States</td><td>List(1, 2, 3)</td></tr><tr><td>Russia</td><td>List(1, 2, 3)</td></tr><tr><td>United States</td><td>List(1, 2, 3)</td></tr><tr><td>Guatemala</td><td>List(1, 2, 3)</td></tr><tr><td>Saint Lucia</td><td>List(1, 2, 3)</td></tr><tr><td>Paraguay</td><td>List(1, 2, 3)</td></tr><tr><td>United States</td><td>List(1, 2, 3)</td></tr><tr><td>Kosovo</td><td>List(1, 2, 3)</td></tr><tr><td>United States</td><td>List(1, 2, 3)</td></tr><tr><td>Tunisia</td><td>List(1, 2, 3)</td></tr><tr><td>United States</td><td>List(1, 2, 3)</td></tr><tr><td>Niger</td><td>List(1, 2, 3)</td></tr><tr><td>Turkey</td><td>List(1, 2, 3)</td></tr><tr><td>United Kingdom</td><td>List(1, 2, 3)</td></tr><tr><td>Romania</td><td>List(1, 2, 3)</td></tr><tr><td>United States</td><td>List(1, 2, 3)</td></tr><tr><td>Papua New Guinea</td><td>List(1, 2, 3)</td></tr><tr><td>United States</td><td>List(1, 2, 3)</td></tr><tr><td>Iraq</td><td>List(1, 2, 3)</td></tr><tr><td>United States</td><td>List(1, 2, 3)</td></tr><tr><td>Cuba</td><td>List(1, 2, 3)</td></tr><tr><td>United States</td><td>List(1, 2, 3)</td></tr><tr><td>Dominica</td><td>List(1, 2, 3)</td></tr><tr><td>United States</td><td>List(1, 2, 3)</td></tr><tr><td>Portugal</td><td>List(1, 2, 3)</td></tr><tr><td>United States</td><td>List(1, 2, 3)</td></tr><tr><td>Bahrain</td><td>List(1, 2, 3)</td></tr><tr><td>United States</td><td>List(1, 2, 3)</td></tr><tr><td>Indonesia</td><td>List(1, 2, 3)</td></tr><tr><td>United States</td><td>List(1, 2, 3)</td></tr><tr><td>United States</td><td>List(1, 2, 3)</td></tr><tr><td>Belize</td><td>List(1, 2, 3)</td></tr><tr><td>United States</td><td>List(1, 2, 3)</td></tr><tr><td>United States</td><td>List(1, 2, 3)</td></tr><tr><td>United States</td><td>List(1, 2, 3)</td></tr><tr><td>United States</td><td>List(1, 2, 3)</td></tr><tr><td>United States</td><td>List(1, 2, 3)</td></tr><tr><td>United States</td><td>List(1, 2, 3)</td></tr><tr><td>Nicaragua</td><td>List(1, 2, 3)</td></tr><tr><td>United States</td><td>List(1, 2, 3)</td></tr><tr><td>United States</td><td>List(1, 2, 3)</td></tr><tr><td>United States</td><td>List(1, 2, 3)</td></tr><tr><td>United States</td><td>List(1, 2, 3)</td></tr><tr><td>United States</td><td>List(1, 2, 3)</td></tr><tr><td>Austria</td><td>List(1, 2, 3)</td></tr><tr><td>Jordan</td><td>List(1, 2, 3)</td></tr><tr><td>Palau</td><td>List(1, 2, 3)</td></tr><tr><td>South Korea</td><td>List(1, 2, 3)</td></tr><tr><td>Angola</td><td>List(1, 2, 3)</td></tr><tr><td>Ghana</td><td>List(1, 2, 3)</td></tr><tr><td>New Caledonia</td><td>List(1, 2, 3)</td></tr><tr><td>Guadeloupe</td><td>List(1, 2, 3)</td></tr><tr><td>France</td><td>List(1, 2, 3)</td></tr><tr><td>Poland</td><td>List(1, 2, 3)</td></tr><tr><td>Nigeria</td><td>List(1, 2, 3)</td></tr><tr><td>United States</td><td>List(1, 2, 3)</td></tr><tr><td>Greenland</td><td>List(1, 2, 3)</td></tr><tr><td>United States</td><td>List(1, 2, 3)</td></tr><tr><td>Chile</td><td>List(1, 2, 3)</td></tr><tr><td>United States</td><td>List(1, 2, 3)</td></tr><tr><td>United States</td><td>List(1, 2, 3)</td></tr><tr><td>United States</td><td>List(1, 2, 3)</td></tr><tr><td>United States</td><td>List(1, 2, 3)</td></tr><tr><td>United States</td><td>List(1, 2, 3)</td></tr><tr><td>Australia</td><td>List(1, 2, 3)</td></tr><tr><td>United States</td><td>List(1, 2, 3)</td></tr><tr><td>United States</td><td>List(1, 2, 3)</td></tr><tr><td>United States</td><td>List(1, 2, 3)</td></tr><tr><td>United States</td><td>List(1, 2, 3)</td></tr><tr><td>United States</td><td>List(1, 2, 3)</td></tr><tr><td>Cook Islands</td><td>List(1, 2, 3)</td></tr><tr><td>Bulgaria</td><td>List(1, 2, 3)</td></tr><tr><td>United States</td><td>List(1, 2, 3)</td></tr><tr><td>Uruguay</td><td>List(1, 2, 3)</td></tr><tr><td>United States</td><td>List(1, 2, 3)</td></tr><tr><td>Bonaire, Sint Eustatius, and Saba</td><td>List(1, 2, 3)</td></tr><tr><td>Greece</td><td>List(1, 2, 3)</td></tr><tr><td>United States</td><td>List(1, 2, 3)</td></tr><tr><td>United States</td><td>List(1, 2, 3)</td></tr><tr><td>United States</td><td>List(1, 2, 3)</td></tr><tr><td>Egypt</td><td>List(1, 2, 3)</td></tr><tr><td>United States</td><td>List(1, 2, 3)</td></tr><tr><td>United States</td><td>List(1, 2, 3)</td></tr><tr><td>United States</td><td>List(1, 2, 3)</td></tr><tr><td>Costa Rica</td><td>List(1, 2, 3)</td></tr><tr><td>Senegal</td><td>List(1, 2, 3)</td></tr><tr><td>Moldova</td><td>List(1, 2, 3)</td></tr><tr><td>United States</td><td>List(1, 2, 3)</td></tr><tr><td>United States</td><td>List(1, 2, 3)</td></tr><tr><td>Guyana</td><td>List(1, 2, 3)</td></tr><tr><td>Malta</td><td>List(1, 2, 3)</td></tr><tr><td>Anguilla</td><td>List(1, 2, 3)</td></tr><tr><td>Bolivia</td><td>List(1, 2, 3)</td></tr><tr><td>United States</td><td>List(1, 2, 3)</td></tr><tr><td>Algeria</td><td>List(1, 2, 3)</td></tr><tr><td>Turks and Caicos Islands</td><td>List(1, 2, 3)</td></tr><tr><td>United States</td><td>List(1, 2, 3)</td></tr></tbody></table></div>"
      ]
     },
     "metadata": {
      "application/vnd.databricks.v1+output": {
       "addedWidgets": {},
       "aggData": [],
       "aggError": "",
       "aggOverflow": false,
       "aggSchema": [],
       "aggSeriesLimitReached": false,
       "aggType": "",
       "arguments": {},
       "columnCustomDisplayInfos": {},
       "data": [
        [
         "United States",
         [
          1,
          2,
          3
         ]
        ],
        [
         "United States",
         [
          1,
          2,
          3
         ]
        ],
        [
         "United States",
         [
          1,
          2,
          3
         ]
        ],
        [
         "Egypt",
         [
          1,
          2,
          3
         ]
        ],
        [
         "United States",
         [
          1,
          2,
          3
         ]
        ],
        [
         "United States",
         [
          1,
          2,
          3
         ]
        ],
        [
         "United States",
         [
          1,
          2,
          3
         ]
        ],
        [
         "Costa Rica",
         [
          1,
          2,
          3
         ]
        ],
        [
         "Senegal",
         [
          1,
          2,
          3
         ]
        ],
        [
         "Moldova",
         [
          1,
          2,
          3
         ]
        ],
        [
         "United States",
         [
          1,
          2,
          3
         ]
        ],
        [
         "United States",
         [
          1,
          2,
          3
         ]
        ],
        [
         "Guyana",
         [
          1,
          2,
          3
         ]
        ],
        [
         "Malta",
         [
          1,
          2,
          3
         ]
        ],
        [
         "Anguilla",
         [
          1,
          2,
          3
         ]
        ],
        [
         "Bolivia",
         [
          1,
          2,
          3
         ]
        ],
        [
         "United States",
         [
          1,
          2,
          3
         ]
        ],
        [
         "Algeria",
         [
          1,
          2,
          3
         ]
        ],
        [
         "Turks and Caicos Islands",
         [
          1,
          2,
          3
         ]
        ],
        [
         "United States",
         [
          1,
          2,
          3
         ]
        ],
        [
         "Saint Vincent and the Grenadines",
         [
          1,
          2,
          3
         ]
        ],
        [
         "Italy",
         [
          1,
          2,
          3
         ]
        ],
        [
         "United States",
         [
          1,
          2,
          3
         ]
        ],
        [
         "United States",
         [
          1,
          2,
          3
         ]
        ],
        [
         "Pakistan",
         [
          1,
          2,
          3
         ]
        ],
        [
         "United States",
         [
          1,
          2,
          3
         ]
        ],
        [
         "Iceland",
         [
          1,
          2,
          3
         ]
        ],
        [
         "Marshall Islands",
         [
          1,
          2,
          3
         ]
        ],
        [
         "Luxembourg",
         [
          1,
          2,
          3
         ]
        ],
        [
         "Honduras",
         [
          1,
          2,
          3
         ]
        ],
        [
         "The Bahamas",
         [
          1,
          2,
          3
         ]
        ],
        [
         "United States",
         [
          1,
          2,
          3
         ]
        ],
        [
         "El Salvador",
         [
          1,
          2,
          3
         ]
        ],
        [
         "Samoa",
         [
          1,
          2,
          3
         ]
        ],
        [
         "United States",
         [
          1,
          2,
          3
         ]
        ],
        [
         "Switzerland",
         [
          1,
          2,
          3
         ]
        ],
        [
         "United States",
         [
          1,
          2,
          3
         ]
        ],
        [
         "Sint Maarten",
         [
          1,
          2,
          3
         ]
        ],
        [
         "Hong Kong",
         [
          1,
          2,
          3
         ]
        ],
        [
         "Trinidad and Tobago",
         [
          1,
          2,
          3
         ]
        ],
        [
         "Latvia",
         [
          1,
          2,
          3
         ]
        ],
        [
         "United States",
         [
          1,
          2,
          3
         ]
        ],
        [
         "Suriname",
         [
          1,
          2,
          3
         ]
        ],
        [
         "Mexico",
         [
          1,
          2,
          3
         ]
        ],
        [
         "United States",
         [
          1,
          2,
          3
         ]
        ],
        [
         "Ecuador",
         [
          1,
          2,
          3
         ]
        ],
        [
         "United States",
         [
          1,
          2,
          3
         ]
        ],
        [
         "United States",
         [
          1,
          2,
          3
         ]
        ],
        [
         "United States",
         [
          1,
          2,
          3
         ]
        ],
        [
         "United States",
         [
          1,
          2,
          3
         ]
        ],
        [
         "Colombia",
         [
          1,
          2,
          3
         ]
        ],
        [
         "United States",
         [
          1,
          2,
          3
         ]
        ],
        [
         "United States",
         [
          1,
          2,
          3
         ]
        ],
        [
         "Norway",
         [
          1,
          2,
          3
         ]
        ],
        [
         "United States",
         [
          1,
          2,
          3
         ]
        ],
        [
         "United States",
         [
          1,
          2,
          3
         ]
        ],
        [
         "Thailand",
         [
          1,
          2,
          3
         ]
        ],
        [
         "United States",
         [
          1,
          2,
          3
         ]
        ],
        [
         "Venezuela",
         [
          1,
          2,
          3
         ]
        ],
        [
         "United States",
         [
          1,
          2,
          3
         ]
        ],
        [
         "United States",
         [
          1,
          2,
          3
         ]
        ],
        [
         "Panama",
         [
          1,
          2,
          3
         ]
        ],
        [
         "Antigua and Barbuda",
         [
          1,
          2,
          3
         ]
        ],
        [
         "United States",
         [
          1,
          2,
          3
         ]
        ],
        [
         "Morocco",
         [
          1,
          2,
          3
         ]
        ],
        [
         "United States",
         [
          1,
          2,
          3
         ]
        ],
        [
         "Azerbaijan",
         [
          1,
          2,
          3
         ]
        ],
        [
         "United States",
         [
          1,
          2,
          3
         ]
        ],
        [
         "United States",
         [
          1,
          2,
          3
         ]
        ],
        [
         "New Zealand",
         [
          1,
          2,
          3
         ]
        ],
        [
         "Liberia",
         [
          1,
          2,
          3
         ]
        ],
        [
         "United States",
         [
          1,
          2,
          3
         ]
        ],
        [
         "Hungary",
         [
          1,
          2,
          3
         ]
        ],
        [
         "United States",
         [
          1,
          2,
          3
         ]
        ],
        [
         "United States",
         [
          1,
          2,
          3
         ]
        ],
        [
         "Burkina Faso",
         [
          1,
          2,
          3
         ]
        ],
        [
         "Sweden",
         [
          1,
          2,
          3
         ]
        ],
        [
         "United States",
         [
          1,
          2,
          3
         ]
        ],
        [
         "United States",
         [
          1,
          2,
          3
         ]
        ],
        [
         "United States",
         [
          1,
          2,
          3
         ]
        ],
        [
         "Israel",
         [
          1,
          2,
          3
         ]
        ],
        [
         "United States",
         [
          1,
          2,
          3
         ]
        ],
        [
         "Ethiopia",
         [
          1,
          2,
          3
         ]
        ],
        [
         "United States",
         [
          1,
          2,
          3
         ]
        ],
        [
         "United States",
         [
          1,
          2,
          3
         ]
        ],
        [
         "Martinique",
         [
          1,
          2,
          3
         ]
        ],
        [
         "United States",
         [
          1,
          2,
          3
         ]
        ],
        [
         "Saint Barthelemy",
         [
          1,
          2,
          3
         ]
        ],
        [
         "Barbados",
         [
          1,
          2,
          3
         ]
        ],
        [
         "United States",
         [
          1,
          2,
          3
         ]
        ],
        [
         "Djibouti",
         [
          1,
          2,
          3
         ]
        ],
        [
         "United States",
         [
          1,
          2,
          3
         ]
        ],
        [
         "United States",
         [
          1,
          2,
          3
         ]
        ],
        [
         "Germany",
         [
          1,
          2,
          3
         ]
        ],
        [
         "United States",
         [
          1,
          2,
          3
         ]
        ],
        [
         "United States",
         [
          1,
          2,
          3
         ]
        ],
        [
         "Ireland",
         [
          1,
          2,
          3
         ]
        ],
        [
         "United States",
         [
          1,
          2,
          3
         ]
        ],
        [
         "Zambia",
         [
          1,
          2,
          3
         ]
        ],
        [
         "Malaysia",
         [
          1,
          2,
          3
         ]
        ],
        [
         "United States",
         [
          1,
          2,
          3
         ]
        ],
        [
         "United States",
         [
          1,
          2,
          3
         ]
        ],
        [
         "United States",
         [
          1,
          2,
          3
         ]
        ],
        [
         "United States",
         [
          1,
          2,
          3
         ]
        ],
        [
         "United States",
         [
          1,
          2,
          3
         ]
        ],
        [
         "Croatia",
         [
          1,
          2,
          3
         ]
        ],
        [
         "United States",
         [
          1,
          2,
          3
         ]
        ],
        [
         "Cyprus",
         [
          1,
          2,
          3
         ]
        ],
        [
         "United States",
         [
          1,
          2,
          3
         ]
        ],
        [
         "Fiji",
         [
          1,
          2,
          3
         ]
        ],
        [
         "Qatar",
         [
          1,
          2,
          3
         ]
        ],
        [
         "Saint Kitts and Nevis",
         [
          1,
          2,
          3
         ]
        ],
        [
         "Kuwait",
         [
          1,
          2,
          3
         ]
        ],
        [
         "Taiwan",
         [
          1,
          2,
          3
         ]
        ],
        [
         "Haiti",
         [
          1,
          2,
          3
         ]
        ],
        [
         "Canada",
         [
          1,
          2,
          3
         ]
        ],
        [
         "Federated States of Micronesia",
         [
          1,
          2,
          3
         ]
        ],
        [
         "United States",
         [
          1,
          2,
          3
         ]
        ],
        [
         "Jamaica",
         [
          1,
          2,
          3
         ]
        ],
        [
         "United States",
         [
          1,
          2,
          3
         ]
        ],
        [
         "Dominican Republic",
         [
          1,
          2,
          3
         ]
        ],
        [
         "Japan",
         [
          1,
          2,
          3
         ]
        ],
        [
         "United States",
         [
          1,
          2,
          3
         ]
        ],
        [
         "Finland",
         [
          1,
          2,
          3
         ]
        ],
        [
         "United States",
         [
          1,
          2,
          3
         ]
        ],
        [
         "United States",
         [
          1,
          2,
          3
         ]
        ],
        [
         "United States",
         [
          1,
          2,
          3
         ]
        ],
        [
         "United States",
         [
          1,
          2,
          3
         ]
        ],
        [
         "Aruba",
         [
          1,
          2,
          3
         ]
        ],
        [
         "French Guiana",
         [
          1,
          2,
          3
         ]
        ],
        [
         "United States",
         [
          1,
          2,
          3
         ]
        ],
        [
         "India",
         [
          1,
          2,
          3
         ]
        ],
        [
         "British Virgin Islands",
         [
          1,
          2,
          3
         ]
        ],
        [
         "Brazil",
         [
          1,
          2,
          3
         ]
        ],
        [
         "United States",
         [
          1,
          2,
          3
         ]
        ],
        [
         "United States",
         [
          1,
          2,
          3
         ]
        ],
        [
         "French Polynesia",
         [
          1,
          2,
          3
         ]
        ],
        [
         "United Arab Emirates",
         [
          1,
          2,
          3
         ]
        ],
        [
         "Singapore",
         [
          1,
          2,
          3
         ]
        ],
        [
         "United States",
         [
          1,
          2,
          3
         ]
        ],
        [
         "United States",
         [
          1,
          2,
          3
         ]
        ],
        [
         "Netherlands",
         [
          1,
          2,
          3
         ]
        ],
        [
         "United States",
         [
          1,
          2,
          3
         ]
        ],
        [
         "United States",
         [
          1,
          2,
          3
         ]
        ],
        [
         "United States",
         [
          1,
          2,
          3
         ]
        ],
        [
         "Denmark",
         [
          1,
          2,
          3
         ]
        ],
        [
         "China",
         [
          1,
          2,
          3
         ]
        ],
        [
         "United States",
         [
          1,
          2,
          3
         ]
        ],
        [
         "United States",
         [
          1,
          2,
          3
         ]
        ],
        [
         "United States",
         [
          1,
          2,
          3
         ]
        ],
        [
         "United States",
         [
          1,
          2,
          3
         ]
        ],
        [
         "Cayman Islands",
         [
          1,
          2,
          3
         ]
        ],
        [
         "Argentina",
         [
          1,
          2,
          3
         ]
        ],
        [
         "Peru",
         [
          1,
          2,
          3
         ]
        ],
        [
         "South Africa",
         [
          1,
          2,
          3
         ]
        ],
        [
         "United States",
         [
          1,
          2,
          3
         ]
        ],
        [
         "United States",
         [
          1,
          2,
          3
         ]
        ],
        [
         "Spain",
         [
          1,
          2,
          3
         ]
        ],
        [
         "Bermuda",
         [
          1,
          2,
          3
         ]
        ],
        [
         "United States",
         [
          1,
          2,
          3
         ]
        ],
        [
         "United States",
         [
          1,
          2,
          3
         ]
        ],
        [
         "United States",
         [
          1,
          2,
          3
         ]
        ],
        [
         "Kiribati",
         [
          1,
          2,
          3
         ]
        ],
        [
         "Saudi Arabia",
         [
          1,
          2,
          3
         ]
        ],
        [
         "Czech Republic",
         [
          1,
          2,
          3
         ]
        ],
        [
         "United States",
         [
          1,
          2,
          3
         ]
        ],
        [
         "Belgium",
         [
          1,
          2,
          3
         ]
        ],
        [
         "United States",
         [
          1,
          2,
          3
         ]
        ],
        [
         "United States",
         [
          1,
          2,
          3
         ]
        ],
        [
         "United States",
         [
          1,
          2,
          3
         ]
        ],
        [
         "Curacao",
         [
          1,
          2,
          3
         ]
        ],
        [
         "Georgia",
         [
          1,
          2,
          3
         ]
        ],
        [
         "United States",
         [
          1,
          2,
          3
         ]
        ],
        [
         "United States",
         [
          1,
          2,
          3
         ]
        ],
        [
         "Philippines",
         [
          1,
          2,
          3
         ]
        ],
        [
         "Grenada",
         [
          1,
          2,
          3
         ]
        ],
        [
         "Cape Verde",
         [
          1,
          2,
          3
         ]
        ],
        [
         "Cote d'Ivoire",
         [
          1,
          2,
          3
         ]
        ],
        [
         "Ukraine",
         [
          1,
          2,
          3
         ]
        ],
        [
         "United States",
         [
          1,
          2,
          3
         ]
        ],
        [
         "Russia",
         [
          1,
          2,
          3
         ]
        ],
        [
         "United States",
         [
          1,
          2,
          3
         ]
        ],
        [
         "Guatemala",
         [
          1,
          2,
          3
         ]
        ],
        [
         "Saint Lucia",
         [
          1,
          2,
          3
         ]
        ],
        [
         "Paraguay",
         [
          1,
          2,
          3
         ]
        ],
        [
         "United States",
         [
          1,
          2,
          3
         ]
        ],
        [
         "Kosovo",
         [
          1,
          2,
          3
         ]
        ],
        [
         "United States",
         [
          1,
          2,
          3
         ]
        ],
        [
         "Tunisia",
         [
          1,
          2,
          3
         ]
        ],
        [
         "United States",
         [
          1,
          2,
          3
         ]
        ],
        [
         "Niger",
         [
          1,
          2,
          3
         ]
        ],
        [
         "Turkey",
         [
          1,
          2,
          3
         ]
        ],
        [
         "United Kingdom",
         [
          1,
          2,
          3
         ]
        ],
        [
         "Romania",
         [
          1,
          2,
          3
         ]
        ],
        [
         "United States",
         [
          1,
          2,
          3
         ]
        ],
        [
         "Papua New Guinea",
         [
          1,
          2,
          3
         ]
        ],
        [
         "United States",
         [
          1,
          2,
          3
         ]
        ],
        [
         "Iraq",
         [
          1,
          2,
          3
         ]
        ],
        [
         "United States",
         [
          1,
          2,
          3
         ]
        ],
        [
         "Cuba",
         [
          1,
          2,
          3
         ]
        ],
        [
         "United States",
         [
          1,
          2,
          3
         ]
        ],
        [
         "Dominica",
         [
          1,
          2,
          3
         ]
        ],
        [
         "United States",
         [
          1,
          2,
          3
         ]
        ],
        [
         "Portugal",
         [
          1,
          2,
          3
         ]
        ],
        [
         "United States",
         [
          1,
          2,
          3
         ]
        ],
        [
         "Bahrain",
         [
          1,
          2,
          3
         ]
        ],
        [
         "United States",
         [
          1,
          2,
          3
         ]
        ],
        [
         "Indonesia",
         [
          1,
          2,
          3
         ]
        ],
        [
         "United States",
         [
          1,
          2,
          3
         ]
        ],
        [
         "United States",
         [
          1,
          2,
          3
         ]
        ],
        [
         "Belize",
         [
          1,
          2,
          3
         ]
        ],
        [
         "United States",
         [
          1,
          2,
          3
         ]
        ],
        [
         "United States",
         [
          1,
          2,
          3
         ]
        ],
        [
         "United States",
         [
          1,
          2,
          3
         ]
        ],
        [
         "United States",
         [
          1,
          2,
          3
         ]
        ],
        [
         "United States",
         [
          1,
          2,
          3
         ]
        ],
        [
         "United States",
         [
          1,
          2,
          3
         ]
        ],
        [
         "Nicaragua",
         [
          1,
          2,
          3
         ]
        ],
        [
         "United States",
         [
          1,
          2,
          3
         ]
        ],
        [
         "United States",
         [
          1,
          2,
          3
         ]
        ],
        [
         "United States",
         [
          1,
          2,
          3
         ]
        ],
        [
         "United States",
         [
          1,
          2,
          3
         ]
        ],
        [
         "United States",
         [
          1,
          2,
          3
         ]
        ],
        [
         "Austria",
         [
          1,
          2,
          3
         ]
        ],
        [
         "Jordan",
         [
          1,
          2,
          3
         ]
        ],
        [
         "Palau",
         [
          1,
          2,
          3
         ]
        ],
        [
         "South Korea",
         [
          1,
          2,
          3
         ]
        ],
        [
         "Angola",
         [
          1,
          2,
          3
         ]
        ],
        [
         "Ghana",
         [
          1,
          2,
          3
         ]
        ],
        [
         "New Caledonia",
         [
          1,
          2,
          3
         ]
        ],
        [
         "Guadeloupe",
         [
          1,
          2,
          3
         ]
        ],
        [
         "France",
         [
          1,
          2,
          3
         ]
        ],
        [
         "Poland",
         [
          1,
          2,
          3
         ]
        ],
        [
         "Nigeria",
         [
          1,
          2,
          3
         ]
        ],
        [
         "United States",
         [
          1,
          2,
          3
         ]
        ],
        [
         "Greenland",
         [
          1,
          2,
          3
         ]
        ],
        [
         "United States",
         [
          1,
          2,
          3
         ]
        ],
        [
         "Chile",
         [
          1,
          2,
          3
         ]
        ],
        [
         "United States",
         [
          1,
          2,
          3
         ]
        ],
        [
         "United States",
         [
          1,
          2,
          3
         ]
        ],
        [
         "United States",
         [
          1,
          2,
          3
         ]
        ],
        [
         "United States",
         [
          1,
          2,
          3
         ]
        ],
        [
         "United States",
         [
          1,
          2,
          3
         ]
        ],
        [
         "Australia",
         [
          1,
          2,
          3
         ]
        ],
        [
         "United States",
         [
          1,
          2,
          3
         ]
        ],
        [
         "United States",
         [
          1,
          2,
          3
         ]
        ],
        [
         "United States",
         [
          1,
          2,
          3
         ]
        ],
        [
         "United States",
         [
          1,
          2,
          3
         ]
        ],
        [
         "United States",
         [
          1,
          2,
          3
         ]
        ],
        [
         "Cook Islands",
         [
          1,
          2,
          3
         ]
        ],
        [
         "Bulgaria",
         [
          1,
          2,
          3
         ]
        ],
        [
         "United States",
         [
          1,
          2,
          3
         ]
        ],
        [
         "Uruguay",
         [
          1,
          2,
          3
         ]
        ],
        [
         "United States",
         [
          1,
          2,
          3
         ]
        ],
        [
         "Bonaire, Sint Eustatius, and Saba",
         [
          1,
          2,
          3
         ]
        ],
        [
         "Greece",
         [
          1,
          2,
          3
         ]
        ],
        [
         "United States",
         [
          1,
          2,
          3
         ]
        ],
        [
         "United States",
         [
          1,
          2,
          3
         ]
        ],
        [
         "United States",
         [
          1,
          2,
          3
         ]
        ],
        [
         "Egypt",
         [
          1,
          2,
          3
         ]
        ],
        [
         "United States",
         [
          1,
          2,
          3
         ]
        ],
        [
         "United States",
         [
          1,
          2,
          3
         ]
        ],
        [
         "United States",
         [
          1,
          2,
          3
         ]
        ],
        [
         "Costa Rica",
         [
          1,
          2,
          3
         ]
        ],
        [
         "Senegal",
         [
          1,
          2,
          3
         ]
        ],
        [
         "Moldova",
         [
          1,
          2,
          3
         ]
        ],
        [
         "United States",
         [
          1,
          2,
          3
         ]
        ],
        [
         "United States",
         [
          1,
          2,
          3
         ]
        ],
        [
         "Guyana",
         [
          1,
          2,
          3
         ]
        ],
        [
         "Malta",
         [
          1,
          2,
          3
         ]
        ],
        [
         "Anguilla",
         [
          1,
          2,
          3
         ]
        ],
        [
         "Bolivia",
         [
          1,
          2,
          3
         ]
        ],
        [
         "United States",
         [
          1,
          2,
          3
         ]
        ],
        [
         "Algeria",
         [
          1,
          2,
          3
         ]
        ],
        [
         "Turks and Caicos Islands",
         [
          1,
          2,
          3
         ]
        ],
        [
         "United States",
         [
          1,
          2,
          3
         ]
        ]
       ],
       "datasetInfos": [],
       "dbfsResultPath": null,
       "isJsonSchema": true,
       "metadata": {
        "createTempViewForImplicitDf": true,
        "dataframeName": "_sqldf",
        "executionCount": 37
       },
       "overflow": false,
       "plotOptions": {
        "customPlotOptions": {},
        "displayType": "table",
        "pivotAggregation": null,
        "pivotColumns": null,
        "xColumns": null,
        "yColumns": null
       },
       "removedWidgets": [],
       "schema": [
        {
         "metadata": "{}",
         "name": "DEST_COUNTRY_NAME",
         "type": "\"string\""
        },
        {
         "metadata": "{\"__autoGeneratedAlias\":\"true\"}",
         "name": "array(1, 2, 3)",
         "type": "{\"type\":\"array\",\"elementType\":\"integer\",\"containsNull\":false}"
        }
       ],
       "type": "table"
      }
     },
     "output_type": "display_data"
    }
   ],
   "source": [
    "%sql\n",
    "SELECT DEST_COUNTRY_NAME, ARRAY(1, 2, 3) FROM flights_from_select"
   ]
  },
  {
   "cell_type": "code",
   "execution_count": 0,
   "metadata": {
    "application/vnd.databricks.v1+cell": {
     "cellMetadata": {
      "byteLimit": 2048000,
      "implicitDf": true,
      "rowLimit": 10000
     },
     "inputWidgets": {},
     "nuid": "beb4d624-bff9-4e92-aad3-b8a02a96daa0",
     "showTitle": false,
     "tableResultSettingsMap": {},
     "title": ""
    }
   },
   "outputs": [
    {
     "output_type": "display_data",
     "data": {
      "text/html": [
       "<style scoped>\n",
       "  .table-result-container {\n",
       "    max-height: 300px;\n",
       "    overflow: auto;\n",
       "  }\n",
       "  table, th, td {\n",
       "    border: 1px solid black;\n",
       "    border-collapse: collapse;\n",
       "  }\n",
       "  th, td {\n",
       "    padding: 5px;\n",
       "  }\n",
       "  th {\n",
       "    text-align: left;\n",
       "  }\n",
       "</style><div class='table-result-container'><table class='table-result'><thead style='background-color: white'><tr><th>new_name</th><th>collect_list(count)[0]</th></tr></thead><tbody><tr><td>Anguilla</td><td>41</td></tr><tr><td>Russia</td><td>176</td></tr><tr><td>Paraguay</td><td>60</td></tr><tr><td>Senegal</td><td>40</td></tr><tr><td>Sweden</td><td>118</td></tr><tr><td>Kiribati</td><td>26</td></tr><tr><td>Guyana</td><td>64</td></tr><tr><td>Philippines</td><td>134</td></tr><tr><td>Djibouti</td><td>1</td></tr><tr><td>Malaysia</td><td>2</td></tr><tr><td>Singapore</td><td>3</td></tr><tr><td>Fiji</td><td>24</td></tr><tr><td>Turkey</td><td>138</td></tr><tr><td>Iraq</td><td>1</td></tr><tr><td>Germany</td><td>1468</td></tr><tr><td>Jordan</td><td>44</td></tr><tr><td>Palau</td><td>30</td></tr><tr><td>Turks and Caicos Islands</td><td>230</td></tr><tr><td>France</td><td>935</td></tr><tr><td>Greece</td><td>30</td></tr><tr><td>Kosovo</td><td>1</td></tr><tr><td>Taiwan</td><td>266</td></tr><tr><td>British Virgin Islands</td><td>107</td></tr><tr><td>Dominica</td><td>20</td></tr><tr><td>Algeria</td><td>4</td></tr><tr><td>Argentina</td><td>180</td></tr><tr><td>Belgium</td><td>259</td></tr><tr><td>Angola</td><td>15</td></tr><tr><td>Ecuador</td><td>268</td></tr><tr><td>Qatar</td><td>108</td></tr><tr><td>Finland</td><td>26</td></tr><tr><td>New Caledonia</td><td>1</td></tr><tr><td>Nicaragua</td><td>179</td></tr><tr><td>Ghana</td><td>18</td></tr><tr><td>Peru</td><td>279</td></tr><tr><td>United States</td><td>15</td></tr><tr><td>India</td><td>61</td></tr><tr><td>China</td><td>772</td></tr><tr><td>Curacao</td><td>90</td></tr><tr><td>Malta</td><td>1</td></tr><tr><td>Kuwait</td><td>32</td></tr><tr><td>Marshall Islands</td><td>42</td></tr><tr><td>Chile</td><td>174</td></tr><tr><td>Martinique</td><td>44</td></tr><tr><td>Cayman Islands</td><td>314</td></tr><tr><td>Croatia</td><td>2</td></tr><tr><td>Bolivia</td><td>30</td></tr><tr><td>Nigeria</td><td>59</td></tr><tr><td>Italy</td><td>382</td></tr><tr><td>Suriname</td><td>1</td></tr><tr><td>Norway</td><td>121</td></tr><tr><td>Spain</td><td>420</td></tr><tr><td>Cuba</td><td>466</td></tr><tr><td>Guadeloupe</td><td>56</td></tr><tr><td>Denmark</td><td>153</td></tr><tr><td>Niger</td><td>2</td></tr><tr><td>Barbados</td><td>154</td></tr><tr><td>Ireland</td><td>335</td></tr><tr><td>Thailand</td><td>3</td></tr><tr><td>Morocco</td><td>15</td></tr><tr><td>Panama</td><td>510</td></tr><tr><td>Cape Verde</td><td>20</td></tr><tr><td>Hong Kong</td><td>332</td></tr><tr><td>Venezuela</td><td>290</td></tr><tr><td>Ukraine</td><td>14</td></tr><tr><td>Iceland</td><td>181</td></tr><tr><td>Israel</td><td>134</td></tr><tr><td>Saint Barthelemy</td><td>39</td></tr><tr><td>Saint Kitts and Nevis</td><td>139</td></tr><tr><td>French Polynesia</td><td>43</td></tr><tr><td>South Korea</td><td>1048</td></tr><tr><td>Cyprus</td><td>1</td></tr><tr><td>Uruguay</td><td>43</td></tr><tr><td>Bonaire, Sint Eustatius, and Saba</td><td>58</td></tr><tr><td>Mexico</td><td>7140</td></tr><tr><td>Cote d'Ivoire</td><td>1</td></tr><tr><td>Aruba</td><td>346</td></tr><tr><td>Georgia</td><td>2</td></tr><tr><td>Indonesia</td><td>1</td></tr><tr><td>Saint Vincent and the Grenadines</td><td>1</td></tr><tr><td>The Bahamas</td><td>955</td></tr><tr><td>Guatemala</td><td>397</td></tr><tr><td>Azerbaijan</td><td>21</td></tr><tr><td>Sint Maarten</td><td>325</td></tr><tr><td>Grenada</td><td>53</td></tr><tr><td>Federated States of Micronesia</td><td>69</td></tr><tr><td>Liberia</td><td>2</td></tr><tr><td>Tunisia</td><td>3</td></tr><tr><td>Honduras</td><td>362</td></tr><tr><td>Trinidad and Tobago</td><td>211</td></tr><tr><td>Saudi Arabia</td><td>83</td></tr><tr><td>French Guiana</td><td>5</td></tr><tr><td>Switzerland</td><td>294</td></tr><tr><td>Zambia</td><td>1</td></tr><tr><td>Ethiopia</td><td>13</td></tr><tr><td>Latvia</td><td>19</td></tr><tr><td>Jamaica</td><td>666</td></tr><tr><td>United Arab Emirates</td><td>320</td></tr><tr><td>Saint Lucia</td><td>123</td></tr><tr><td>Canada</td><td>8399</td></tr><tr><td>Samoa</td><td>25</td></tr><tr><td>Czech Republic</td><td>13</td></tr><tr><td>Cook Islands</td><td>13</td></tr><tr><td>Brazil</td><td>853</td></tr><tr><td>Belize</td><td>188</td></tr><tr><td>Antigua and Barbuda</td><td>126</td></tr><tr><td>Dominican Republic</td><td>1353</td></tr><tr><td>Japan</td><td>1548</td></tr><tr><td>Luxembourg</td><td>155</td></tr><tr><td>New Zealand</td><td>111</td></tr><tr><td>Greenland</td><td>2</td></tr><tr><td>Haiti</td><td>226</td></tr><tr><td>Poland</td><td>32</td></tr><tr><td>Portugal</td><td>127</td></tr><tr><td>Papua New Guinea</td><td>3</td></tr><tr><td>Australia</td><td>329</td></tr><tr><td>Romania</td><td>14</td></tr><tr><td>Bulgaria</td><td>3</td></tr><tr><td>Austria</td><td>62</td></tr><tr><td>Egypt</td><td>15</td></tr><tr><td>Costa Rica</td><td>588</td></tr><tr><td>El Salvador</td><td>561</td></tr><tr><td>Burkina Faso</td><td>1</td></tr><tr><td>South Africa</td><td>36</td></tr><tr><td>Bermuda</td><td>183</td></tr><tr><td>Bahrain</td><td>19</td></tr><tr><td>Colombia</td><td>873</td></tr><tr><td>Hungary</td><td>2</td></tr><tr><td>Pakistan</td><td>12</td></tr><tr><td>Moldova</td><td>1</td></tr><tr><td>United Kingdom</td><td>2025</td></tr><tr><td>Netherlands</td><td>776</td></tr></tbody></table></div>"
      ]
     },
     "metadata": {
      "application/vnd.databricks.v1+output": {
       "addedWidgets": {},
       "aggData": [],
       "aggError": "",
       "aggOverflow": false,
       "aggSchema": [],
       "aggSeriesLimitReached": false,
       "aggType": "",
       "arguments": {},
       "columnCustomDisplayInfos": {},
       "data": [
        [
         "Anguilla",
         "41"
        ],
        [
         "Russia",
         "176"
        ],
        [
         "Paraguay",
         "60"
        ],
        [
         "Senegal",
         "40"
        ],
        [
         "Sweden",
         "118"
        ],
        [
         "Kiribati",
         "26"
        ],
        [
         "Guyana",
         "64"
        ],
        [
         "Philippines",
         "134"
        ],
        [
         "Djibouti",
         "1"
        ],
        [
         "Malaysia",
         "2"
        ],
        [
         "Singapore",
         "3"
        ],
        [
         "Fiji",
         "24"
        ],
        [
         "Turkey",
         "138"
        ],
        [
         "Iraq",
         "1"
        ],
        [
         "Germany",
         "1468"
        ],
        [
         "Jordan",
         "44"
        ],
        [
         "Palau",
         "30"
        ],
        [
         "Turks and Caicos Islands",
         "230"
        ],
        [
         "France",
         "935"
        ],
        [
         "Greece",
         "30"
        ],
        [
         "Kosovo",
         "1"
        ],
        [
         "Taiwan",
         "266"
        ],
        [
         "British Virgin Islands",
         "107"
        ],
        [
         "Dominica",
         "20"
        ],
        [
         "Algeria",
         "4"
        ],
        [
         "Argentina",
         "180"
        ],
        [
         "Belgium",
         "259"
        ],
        [
         "Angola",
         "15"
        ],
        [
         "Ecuador",
         "268"
        ],
        [
         "Qatar",
         "108"
        ],
        [
         "Finland",
         "26"
        ],
        [
         "New Caledonia",
         "1"
        ],
        [
         "Nicaragua",
         "179"
        ],
        [
         "Ghana",
         "18"
        ],
        [
         "Peru",
         "279"
        ],
        [
         "United States",
         "15"
        ],
        [
         "India",
         "61"
        ],
        [
         "China",
         "772"
        ],
        [
         "Curacao",
         "90"
        ],
        [
         "Malta",
         "1"
        ],
        [
         "Kuwait",
         "32"
        ],
        [
         "Marshall Islands",
         "42"
        ],
        [
         "Chile",
         "174"
        ],
        [
         "Martinique",
         "44"
        ],
        [
         "Cayman Islands",
         "314"
        ],
        [
         "Croatia",
         "2"
        ],
        [
         "Bolivia",
         "30"
        ],
        [
         "Nigeria",
         "59"
        ],
        [
         "Italy",
         "382"
        ],
        [
         "Suriname",
         "1"
        ],
        [
         "Norway",
         "121"
        ],
        [
         "Spain",
         "420"
        ],
        [
         "Cuba",
         "466"
        ],
        [
         "Guadeloupe",
         "56"
        ],
        [
         "Denmark",
         "153"
        ],
        [
         "Niger",
         "2"
        ],
        [
         "Barbados",
         "154"
        ],
        [
         "Ireland",
         "335"
        ],
        [
         "Thailand",
         "3"
        ],
        [
         "Morocco",
         "15"
        ],
        [
         "Panama",
         "510"
        ],
        [
         "Cape Verde",
         "20"
        ],
        [
         "Hong Kong",
         "332"
        ],
        [
         "Venezuela",
         "290"
        ],
        [
         "Ukraine",
         "14"
        ],
        [
         "Iceland",
         "181"
        ],
        [
         "Israel",
         "134"
        ],
        [
         "Saint Barthelemy",
         "39"
        ],
        [
         "Saint Kitts and Nevis",
         "139"
        ],
        [
         "French Polynesia",
         "43"
        ],
        [
         "South Korea",
         "1048"
        ],
        [
         "Cyprus",
         "1"
        ],
        [
         "Uruguay",
         "43"
        ],
        [
         "Bonaire, Sint Eustatius, and Saba",
         "58"
        ],
        [
         "Mexico",
         "7140"
        ],
        [
         "Cote d'Ivoire",
         "1"
        ],
        [
         "Aruba",
         "346"
        ],
        [
         "Georgia",
         "2"
        ],
        [
         "Indonesia",
         "1"
        ],
        [
         "Saint Vincent and the Grenadines",
         "1"
        ],
        [
         "The Bahamas",
         "955"
        ],
        [
         "Guatemala",
         "397"
        ],
        [
         "Azerbaijan",
         "21"
        ],
        [
         "Sint Maarten",
         "325"
        ],
        [
         "Grenada",
         "53"
        ],
        [
         "Federated States of Micronesia",
         "69"
        ],
        [
         "Liberia",
         "2"
        ],
        [
         "Tunisia",
         "3"
        ],
        [
         "Honduras",
         "362"
        ],
        [
         "Trinidad and Tobago",
         "211"
        ],
        [
         "Saudi Arabia",
         "83"
        ],
        [
         "French Guiana",
         "5"
        ],
        [
         "Switzerland",
         "294"
        ],
        [
         "Zambia",
         "1"
        ],
        [
         "Ethiopia",
         "13"
        ],
        [
         "Latvia",
         "19"
        ],
        [
         "Jamaica",
         "666"
        ],
        [
         "United Arab Emirates",
         "320"
        ],
        [
         "Saint Lucia",
         "123"
        ],
        [
         "Canada",
         "8399"
        ],
        [
         "Samoa",
         "25"
        ],
        [
         "Czech Republic",
         "13"
        ],
        [
         "Cook Islands",
         "13"
        ],
        [
         "Brazil",
         "853"
        ],
        [
         "Belize",
         "188"
        ],
        [
         "Antigua and Barbuda",
         "126"
        ],
        [
         "Dominican Republic",
         "1353"
        ],
        [
         "Japan",
         "1548"
        ],
        [
         "Luxembourg",
         "155"
        ],
        [
         "New Zealand",
         "111"
        ],
        [
         "Greenland",
         "2"
        ],
        [
         "Haiti",
         "226"
        ],
        [
         "Poland",
         "32"
        ],
        [
         "Portugal",
         "127"
        ],
        [
         "Papua New Guinea",
         "3"
        ],
        [
         "Australia",
         "329"
        ],
        [
         "Romania",
         "14"
        ],
        [
         "Bulgaria",
         "3"
        ],
        [
         "Austria",
         "62"
        ],
        [
         "Egypt",
         "15"
        ],
        [
         "Costa Rica",
         "588"
        ],
        [
         "El Salvador",
         "561"
        ],
        [
         "Burkina Faso",
         "1"
        ],
        [
         "South Africa",
         "36"
        ],
        [
         "Bermuda",
         "183"
        ],
        [
         "Bahrain",
         "19"
        ],
        [
         "Colombia",
         "873"
        ],
        [
         "Hungary",
         "2"
        ],
        [
         "Pakistan",
         "12"
        ],
        [
         "Moldova",
         "1"
        ],
        [
         "United Kingdom",
         "2025"
        ],
        [
         "Netherlands",
         "776"
        ]
       ],
       "datasetInfos": [],
       "dbfsResultPath": null,
       "isJsonSchema": true,
       "metadata": {
        "createTempViewForImplicitDf": true,
        "dataframeName": "_sqldf",
        "executionCount": 38
       },
       "overflow": false,
       "plotOptions": {
        "customPlotOptions": {},
        "displayType": "table",
        "pivotAggregation": null,
        "pivotColumns": null,
        "xColumns": null,
        "yColumns": null
       },
       "removedWidgets": [],
       "schema": [
        {
         "metadata": "{}",
         "name": "new_name",
         "type": "\"string\""
        },
        {
         "metadata": "{\"__autoGeneratedAlias\":\"true\"}",
         "name": "collect_list(count)[0]",
         "type": "\"string\""
        }
       ],
       "type": "table"
      }
     },
     "output_type": "display_data"
    }
   ],
   "source": [
    "%sql\n",
    "SELECT DEST_COUNTRY_NAME as new_name, collect_list(count)[0]\n",
    "FROM flights_from_select\n",
    "GROUP BY DEST_COUNTRY_NAME"
   ]
  },
  {
   "cell_type": "code",
   "execution_count": 0,
   "metadata": {
    "application/vnd.databricks.v1+cell": {
     "cellMetadata": {
      "byteLimit": 2048000,
      "implicitDf": true,
      "rowLimit": 10000
     },
     "inputWidgets": {},
     "nuid": "8e220b17-e70b-488e-aa69-07fd9b69027b",
     "showTitle": false,
     "tableResultSettingsMap": {},
     "title": ""
    }
   },
   "outputs": [
    {
     "output_type": "display_data",
     "data": {
      "text/html": [
       "<style scoped>\n",
       "  .table-result-container {\n",
       "    max-height: 300px;\n",
       "    overflow: auto;\n",
       "  }\n",
       "  table, th, td {\n",
       "    border: 1px solid black;\n",
       "    border-collapse: collapse;\n",
       "  }\n",
       "  th, td {\n",
       "    padding: 5px;\n",
       "  }\n",
       "  th {\n",
       "    text-align: left;\n",
       "  }\n",
       "</style><div class='table-result-container'><table class='table-result'><thead style='background-color: white'><tr></tr></thead><tbody></tbody></table></div>"
      ]
     },
     "metadata": {
      "application/vnd.databricks.v1+output": {
       "addedWidgets": {},
       "aggData": [],
       "aggError": "",
       "aggOverflow": false,
       "aggSchema": [],
       "aggSeriesLimitReached": false,
       "aggType": "",
       "arguments": {},
       "columnCustomDisplayInfos": {},
       "data": [],
       "datasetInfos": [],
       "dbfsResultPath": null,
       "isJsonSchema": true,
       "metadata": {
        "dataframeName": null
       },
       "overflow": false,
       "plotOptions": {
        "customPlotOptions": {},
        "displayType": "table",
        "pivotAggregation": null,
        "pivotColumns": null,
        "xColumns": null,
        "yColumns": null
       },
       "removedWidgets": [],
       "schema": [],
       "type": "table"
      }
     },
     "output_type": "display_data"
    }
   ],
   "source": [
    "%sql\n",
    "CREATE OR REPLACE TEMP VIEW flights_agg AS\n",
    "SELECT DEST_COUNTRY_NAME, collect_list(count) as collected_counts\n",
    "FROM flights_from_select GROUP BY DEST_COUNTRY_NAME"
   ]
  },
  {
   "cell_type": "code",
   "execution_count": 0,
   "metadata": {
    "application/vnd.databricks.v1+cell": {
     "cellMetadata": {
      "byteLimit": 2048000,
      "implicitDf": true,
      "rowLimit": 10000
     },
     "inputWidgets": {},
     "nuid": "4f1030b2-f99b-4932-8778-a38502d9aa7b",
     "showTitle": false,
     "tableResultSettingsMap": {},
     "title": ""
    }
   },
   "outputs": [
    {
     "output_type": "display_data",
     "data": {
      "text/html": [
       "<style scoped>\n",
       "  .table-result-container {\n",
       "    max-height: 300px;\n",
       "    overflow: auto;\n",
       "  }\n",
       "  table, th, td {\n",
       "    border: 1px solid black;\n",
       "    border-collapse: collapse;\n",
       "  }\n",
       "  th, td {\n",
       "    padding: 5px;\n",
       "  }\n",
       "  th {\n",
       "    text-align: left;\n",
       "  }\n",
       "</style><div class='table-result-container'><table class='table-result'><thead style='background-color: white'><tr><th>col</th><th>DEST_COUNTRY_NAME</th></tr></thead><tbody><tr><td>41</td><td>Anguilla</td></tr><tr><td>41</td><td>Anguilla</td></tr><tr><td>176</td><td>Russia</td></tr><tr><td>60</td><td>Paraguay</td></tr><tr><td>40</td><td>Senegal</td></tr><tr><td>40</td><td>Senegal</td></tr><tr><td>118</td><td>Sweden</td></tr><tr><td>26</td><td>Kiribati</td></tr><tr><td>64</td><td>Guyana</td></tr><tr><td>64</td><td>Guyana</td></tr><tr><td>134</td><td>Philippines</td></tr><tr><td>1</td><td>Djibouti</td></tr><tr><td>2</td><td>Malaysia</td></tr><tr><td>3</td><td>Singapore</td></tr><tr><td>24</td><td>Fiji</td></tr><tr><td>138</td><td>Turkey</td></tr><tr><td>1</td><td>Iraq</td></tr><tr><td>1468</td><td>Germany</td></tr><tr><td>44</td><td>Jordan</td></tr><tr><td>30</td><td>Palau</td></tr><tr><td>230</td><td>Turks and Caicos Islands</td></tr><tr><td>230</td><td>Turks and Caicos Islands</td></tr><tr><td>935</td><td>France</td></tr><tr><td>30</td><td>Greece</td></tr><tr><td>1</td><td>Kosovo</td></tr><tr><td>266</td><td>Taiwan</td></tr><tr><td>107</td><td>British Virgin Islands</td></tr><tr><td>20</td><td>Dominica</td></tr><tr><td>4</td><td>Algeria</td></tr><tr><td>4</td><td>Algeria</td></tr><tr><td>180</td><td>Argentina</td></tr><tr><td>259</td><td>Belgium</td></tr><tr><td>15</td><td>Angola</td></tr><tr><td>268</td><td>Ecuador</td></tr><tr><td>108</td><td>Qatar</td></tr><tr><td>26</td><td>Finland</td></tr><tr><td>1</td><td>New Caledonia</td></tr><tr><td>179</td><td>Nicaragua</td></tr><tr><td>18</td><td>Ghana</td></tr><tr><td>279</td><td>Peru</td></tr><tr><td>15</td><td>United States</td></tr><tr><td>1</td><td>United States</td></tr><tr><td>344</td><td>United States</td></tr><tr><td>62</td><td>United States</td></tr><tr><td>1</td><td>United States</td></tr><tr><td>62</td><td>United States</td></tr><tr><td>325</td><td>United States</td></tr><tr><td>39</td><td>United States</td></tr><tr><td>6</td><td>United States</td></tr><tr><td>1</td><td>United States</td></tr><tr><td>69</td><td>United States</td></tr><tr><td>161</td><td>United States</td></tr><tr><td>660</td><td>United States</td></tr><tr><td>42</td><td>United States</td></tr><tr><td>13</td><td>United States</td></tr><tr><td>38</td><td>United States</td></tr><tr><td>300</td><td>United States</td></tr><tr><td>1</td><td>United States</td></tr><tr><td>134</td><td>United States</td></tr><tr><td>608</td><td>United States</td></tr><tr><td>318</td><td>United States</td></tr><tr><td>34</td><td>United States</td></tr><tr><td>14</td><td>United States</td></tr><tr><td>712</td><td>United States</td></tr><tr><td>3</td><td>United States</td></tr><tr><td>19</td><td>United States</td></tr><tr><td>25</td><td>United States</td></tr><tr><td>31</td><td>United States</td></tr><tr><td>246</td><td>United States</td></tr><tr><td>185</td><td>United States</td></tr><tr><td>28</td><td>United States</td></tr><tr><td>23</td><td>United States</td></tr><tr><td>986</td><td>United States</td></tr><tr><td>414</td><td>United States</td></tr><tr><td>920</td><td>United States</td></tr><tr><td>2</td><td>United States</td></tr><tr><td>28</td><td>United States</td></tr><tr><td>1420</td><td>United States</td></tr><tr><td>12</td><td>United States</td></tr><tr><td>370002</td><td>United States</td></tr><tr><td>134</td><td>United States</td></tr><tr><td>33</td><td>United States</td></tr><tr><td>41</td><td>United States</td></tr><tr><td>129</td><td>United States</td></tr><tr><td>21</td><td>United States</td></tr><tr><td>1</td><td>United States</td></tr><tr><td>827</td><td>United States</td></tr><tr><td>508</td><td>United States</td></tr><tr><td>3</td><td>United States</td></tr><tr><td>12</td><td>United States</td></tr><tr><td>465</td><td>United States</td></tr><tr><td>342</td><td>United States</td></tr><tr><td>4</td><td>United States</td></tr><tr><td>236</td><td>United States</td></tr><tr><td>12</td><td>United States</td></tr><tr><td>407</td><td>United States</td></tr><tr><td>2</td><td>United States</td></tr><tr><td>2</td><td>United States</td></tr><tr><td>1</td><td>United States</td></tr><tr><td>59</td><td>United States</td></tr><tr><td>13</td><td>United States</td></tr><tr><td>952</td><td>United States</td></tr><tr><td>115</td><td>United States</td></tr><tr><td>35</td><td>United States</td></tr><tr><td>1336</td><td>United States</td></tr><tr><td>74</td><td>United States</td></tr><tr><td>7187</td><td>United States</td></tr><tr><td>119</td><td>United States</td></tr><tr><td>43</td><td>United States</td></tr><tr><td>313</td><td>United States</td></tr><tr><td>1</td><td>United States</td></tr><tr><td>201</td><td>United States</td></tr><tr><td>126</td><td>United States</td></tr><tr><td>1</td><td>United States</td></tr><tr><td>228</td><td>United States</td></tr><tr><td>202</td><td>United States</td></tr><tr><td>141</td><td>United States</td></tr><tr><td>50</td><td>United States</td></tr><tr><td>63</td><td>United States</td></tr><tr><td>59</td><td>United States</td></tr><tr><td>127</td><td>United States</td></tr><tr><td>136</td><td>United States</td></tr><tr><td>1</td><td>United States</td></tr><tr><td>80</td><td>United States</td></tr><tr><td>152</td><td>United States</td></tr><tr><td>63</td><td>United States</td></tr><tr><td>1</td><td>United States</td></tr><tr><td>70</td><td>United States</td></tr><tr><td>83</td><td>United States</td></tr><tr><td>235</td><td>United States</td></tr><tr><td>40</td><td>United States</td></tr><tr><td>4</td><td>United States</td></tr><tr><td>442</td><td>United States</td></tr><tr><td>438</td><td>United States</td></tr><tr><td>305</td><td>United States</td></tr><tr><td>1496</td><td>United States</td></tr><tr><td>619</td><td>United States</td></tr><tr><td>337</td><td>United States</td></tr><tr><td>193</td><td>United States</td></tr><tr><td>1970</td><td>United States</td></tr><tr><td>20</td><td>United States</td></tr><tr><td>2</td><td>United States</td></tr><tr><td>25</td><td>United States</td></tr><tr><td>8483</td><td>United States</td></tr><tr><td>117</td><td>United States</td></tr><tr><td>40</td><td>United States</td></tr><tr><td>15</td><td>United States</td></tr><tr><td>27</td><td>United States</td></tr><tr><td>12</td><td>United States</td></tr><tr><td>258</td><td>United States</td></tr><tr><td>13</td><td>United States</td></tr><tr><td>13</td><td>United States</td></tr><tr><td>193</td><td>United States</td></tr><tr><td>478</td><td>United States</td></tr><tr><td>1</td><td>United States</td></tr><tr><td>867</td><td>United States</td></tr><tr><td>130</td><td>United States</td></tr><tr><td>109</td><td>United States</td></tr><tr><td>310</td><td>United States</td></tr><tr><td>44</td><td>United States</td></tr><tr><td>1</td><td>United States</td></tr><tr><td>217</td><td>United States</td></tr><tr><td>13</td><td>United States</td></tr><tr><td>145</td><td>United States</td></tr><tr><td>225</td><td>United States</td></tr><tr><td>15</td><td>United States</td></tr><tr><td>1</td><td>United States</td></tr><tr><td>344</td><td>United States</td></tr><tr><td>62</td><td>United States</td></tr><tr><td>1</td><td>United States</td></tr><tr><td>62</td><td>United States</td></tr><tr><td>325</td><td>United States</td></tr><tr><td>39</td><td>United States</td></tr><tr><td>6</td><td>United States</td></tr><tr><td>1</td><td>United States</td></tr><tr><td>61</td><td>India</td></tr><tr><td>772</td><td>China</td></tr><tr><td>90</td><td>Curacao</td></tr><tr><td>1</td><td>Malta</td></tr><tr><td>1</td><td>Malta</td></tr><tr><td>32</td><td>Kuwait</td></tr><tr><td>42</td><td>Marshall Islands</td></tr><tr><td>174</td><td>Chile</td></tr><tr><td>44</td><td>Martinique</td></tr><tr><td>314</td><td>Cayman Islands</td></tr><tr><td>2</td><td>Croatia</td></tr><tr><td>30</td><td>Bolivia</td></tr><tr><td>30</td><td>Bolivia</td></tr><tr><td>59</td><td>Nigeria</td></tr><tr><td>382</td><td>Italy</td></tr><tr><td>1</td><td>Suriname</td></tr><tr><td>121</td><td>Norway</td></tr><tr><td>420</td><td>Spain</td></tr><tr><td>466</td><td>Cuba</td></tr><tr><td>56</td><td>Guadeloupe</td></tr><tr><td>153</td><td>Denmark</td></tr><tr><td>2</td><td>Niger</td></tr><tr><td>154</td><td>Barbados</td></tr><tr><td>335</td><td>Ireland</td></tr><tr><td>3</td><td>Thailand</td></tr><tr><td>15</td><td>Morocco</td></tr><tr><td>510</td><td>Panama</td></tr><tr><td>20</td><td>Cape Verde</td></tr><tr><td>332</td><td>Hong Kong</td></tr><tr><td>290</td><td>Venezuela</td></tr><tr><td>14</td><td>Ukraine</td></tr><tr><td>181</td><td>Iceland</td></tr><tr><td>134</td><td>Israel</td></tr><tr><td>39</td><td>Saint Barthelemy</td></tr><tr><td>139</td><td>Saint Kitts and Nevis</td></tr><tr><td>43</td><td>French Polynesia</td></tr><tr><td>1048</td><td>South Korea</td></tr><tr><td>1</td><td>Cyprus</td></tr><tr><td>43</td><td>Uruguay</td></tr><tr><td>58</td><td>Bonaire, Sint Eustatius, and Saba</td></tr><tr><td>7140</td><td>Mexico</td></tr><tr><td>1</td><td>Cote d'Ivoire</td></tr><tr><td>346</td><td>Aruba</td></tr><tr><td>2</td><td>Georgia</td></tr><tr><td>1</td><td>Indonesia</td></tr><tr><td>1</td><td>Saint Vincent and the Grenadines</td></tr><tr><td>955</td><td>The Bahamas</td></tr><tr><td>397</td><td>Guatemala</td></tr><tr><td>21</td><td>Azerbaijan</td></tr><tr><td>325</td><td>Sint Maarten</td></tr><tr><td>53</td><td>Grenada</td></tr><tr><td>69</td><td>Federated States of Micronesia</td></tr><tr><td>2</td><td>Liberia</td></tr><tr><td>3</td><td>Tunisia</td></tr><tr><td>362</td><td>Honduras</td></tr><tr><td>211</td><td>Trinidad and Tobago</td></tr><tr><td>83</td><td>Saudi Arabia</td></tr><tr><td>5</td><td>French Guiana</td></tr><tr><td>294</td><td>Switzerland</td></tr><tr><td>1</td><td>Zambia</td></tr><tr><td>13</td><td>Ethiopia</td></tr><tr><td>19</td><td>Latvia</td></tr><tr><td>666</td><td>Jamaica</td></tr><tr><td>320</td><td>United Arab Emirates</td></tr><tr><td>123</td><td>Saint Lucia</td></tr><tr><td>8399</td><td>Canada</td></tr><tr><td>25</td><td>Samoa</td></tr><tr><td>13</td><td>Czech Republic</td></tr><tr><td>13</td><td>Cook Islands</td></tr><tr><td>853</td><td>Brazil</td></tr><tr><td>188</td><td>Belize</td></tr><tr><td>126</td><td>Antigua and Barbuda</td></tr><tr><td>1353</td><td>Dominican Republic</td></tr><tr><td>1548</td><td>Japan</td></tr><tr><td>155</td><td>Luxembourg</td></tr><tr><td>111</td><td>New Zealand</td></tr><tr><td>2</td><td>Greenland</td></tr><tr><td>226</td><td>Haiti</td></tr><tr><td>32</td><td>Poland</td></tr><tr><td>127</td><td>Portugal</td></tr><tr><td>3</td><td>Papua New Guinea</td></tr><tr><td>329</td><td>Australia</td></tr><tr><td>14</td><td>Romania</td></tr><tr><td>3</td><td>Bulgaria</td></tr><tr><td>62</td><td>Austria</td></tr><tr><td>15</td><td>Egypt</td></tr><tr><td>15</td><td>Egypt</td></tr><tr><td>588</td><td>Costa Rica</td></tr><tr><td>588</td><td>Costa Rica</td></tr><tr><td>561</td><td>El Salvador</td></tr><tr><td>1</td><td>Burkina Faso</td></tr><tr><td>36</td><td>South Africa</td></tr><tr><td>183</td><td>Bermuda</td></tr><tr><td>19</td><td>Bahrain</td></tr><tr><td>873</td><td>Colombia</td></tr><tr><td>2</td><td>Hungary</td></tr><tr><td>12</td><td>Pakistan</td></tr><tr><td>1</td><td>Moldova</td></tr><tr><td>1</td><td>Moldova</td></tr><tr><td>2025</td><td>United Kingdom</td></tr><tr><td>776</td><td>Netherlands</td></tr></tbody></table></div>"
      ]
     },
     "metadata": {
      "application/vnd.databricks.v1+output": {
       "addedWidgets": {},
       "aggData": [],
       "aggError": "",
       "aggOverflow": false,
       "aggSchema": [],
       "aggSeriesLimitReached": false,
       "aggType": "",
       "arguments": {},
       "columnCustomDisplayInfos": {},
       "data": [
        [
         "41",
         "Anguilla"
        ],
        [
         "41",
         "Anguilla"
        ],
        [
         "176",
         "Russia"
        ],
        [
         "60",
         "Paraguay"
        ],
        [
         "40",
         "Senegal"
        ],
        [
         "40",
         "Senegal"
        ],
        [
         "118",
         "Sweden"
        ],
        [
         "26",
         "Kiribati"
        ],
        [
         "64",
         "Guyana"
        ],
        [
         "64",
         "Guyana"
        ],
        [
         "134",
         "Philippines"
        ],
        [
         "1",
         "Djibouti"
        ],
        [
         "2",
         "Malaysia"
        ],
        [
         "3",
         "Singapore"
        ],
        [
         "24",
         "Fiji"
        ],
        [
         "138",
         "Turkey"
        ],
        [
         "1",
         "Iraq"
        ],
        [
         "1468",
         "Germany"
        ],
        [
         "44",
         "Jordan"
        ],
        [
         "30",
         "Palau"
        ],
        [
         "230",
         "Turks and Caicos Islands"
        ],
        [
         "230",
         "Turks and Caicos Islands"
        ],
        [
         "935",
         "France"
        ],
        [
         "30",
         "Greece"
        ],
        [
         "1",
         "Kosovo"
        ],
        [
         "266",
         "Taiwan"
        ],
        [
         "107",
         "British Virgin Islands"
        ],
        [
         "20",
         "Dominica"
        ],
        [
         "4",
         "Algeria"
        ],
        [
         "4",
         "Algeria"
        ],
        [
         "180",
         "Argentina"
        ],
        [
         "259",
         "Belgium"
        ],
        [
         "15",
         "Angola"
        ],
        [
         "268",
         "Ecuador"
        ],
        [
         "108",
         "Qatar"
        ],
        [
         "26",
         "Finland"
        ],
        [
         "1",
         "New Caledonia"
        ],
        [
         "179",
         "Nicaragua"
        ],
        [
         "18",
         "Ghana"
        ],
        [
         "279",
         "Peru"
        ],
        [
         "15",
         "United States"
        ],
        [
         "1",
         "United States"
        ],
        [
         "344",
         "United States"
        ],
        [
         "62",
         "United States"
        ],
        [
         "1",
         "United States"
        ],
        [
         "62",
         "United States"
        ],
        [
         "325",
         "United States"
        ],
        [
         "39",
         "United States"
        ],
        [
         "6",
         "United States"
        ],
        [
         "1",
         "United States"
        ],
        [
         "69",
         "United States"
        ],
        [
         "161",
         "United States"
        ],
        [
         "660",
         "United States"
        ],
        [
         "42",
         "United States"
        ],
        [
         "13",
         "United States"
        ],
        [
         "38",
         "United States"
        ],
        [
         "300",
         "United States"
        ],
        [
         "1",
         "United States"
        ],
        [
         "134",
         "United States"
        ],
        [
         "608",
         "United States"
        ],
        [
         "318",
         "United States"
        ],
        [
         "34",
         "United States"
        ],
        [
         "14",
         "United States"
        ],
        [
         "712",
         "United States"
        ],
        [
         "3",
         "United States"
        ],
        [
         "19",
         "United States"
        ],
        [
         "25",
         "United States"
        ],
        [
         "31",
         "United States"
        ],
        [
         "246",
         "United States"
        ],
        [
         "185",
         "United States"
        ],
        [
         "28",
         "United States"
        ],
        [
         "23",
         "United States"
        ],
        [
         "986",
         "United States"
        ],
        [
         "414",
         "United States"
        ],
        [
         "920",
         "United States"
        ],
        [
         "2",
         "United States"
        ],
        [
         "28",
         "United States"
        ],
        [
         "1420",
         "United States"
        ],
        [
         "12",
         "United States"
        ],
        [
         "370002",
         "United States"
        ],
        [
         "134",
         "United States"
        ],
        [
         "33",
         "United States"
        ],
        [
         "41",
         "United States"
        ],
        [
         "129",
         "United States"
        ],
        [
         "21",
         "United States"
        ],
        [
         "1",
         "United States"
        ],
        [
         "827",
         "United States"
        ],
        [
         "508",
         "United States"
        ],
        [
         "3",
         "United States"
        ],
        [
         "12",
         "United States"
        ],
        [
         "465",
         "United States"
        ],
        [
         "342",
         "United States"
        ],
        [
         "4",
         "United States"
        ],
        [
         "236",
         "United States"
        ],
        [
         "12",
         "United States"
        ],
        [
         "407",
         "United States"
        ],
        [
         "2",
         "United States"
        ],
        [
         "2",
         "United States"
        ],
        [
         "1",
         "United States"
        ],
        [
         "59",
         "United States"
        ],
        [
         "13",
         "United States"
        ],
        [
         "952",
         "United States"
        ],
        [
         "115",
         "United States"
        ],
        [
         "35",
         "United States"
        ],
        [
         "1336",
         "United States"
        ],
        [
         "74",
         "United States"
        ],
        [
         "7187",
         "United States"
        ],
        [
         "119",
         "United States"
        ],
        [
         "43",
         "United States"
        ],
        [
         "313",
         "United States"
        ],
        [
         "1",
         "United States"
        ],
        [
         "201",
         "United States"
        ],
        [
         "126",
         "United States"
        ],
        [
         "1",
         "United States"
        ],
        [
         "228",
         "United States"
        ],
        [
         "202",
         "United States"
        ],
        [
         "141",
         "United States"
        ],
        [
         "50",
         "United States"
        ],
        [
         "63",
         "United States"
        ],
        [
         "59",
         "United States"
        ],
        [
         "127",
         "United States"
        ],
        [
         "136",
         "United States"
        ],
        [
         "1",
         "United States"
        ],
        [
         "80",
         "United States"
        ],
        [
         "152",
         "United States"
        ],
        [
         "63",
         "United States"
        ],
        [
         "1",
         "United States"
        ],
        [
         "70",
         "United States"
        ],
        [
         "83",
         "United States"
        ],
        [
         "235",
         "United States"
        ],
        [
         "40",
         "United States"
        ],
        [
         "4",
         "United States"
        ],
        [
         "442",
         "United States"
        ],
        [
         "438",
         "United States"
        ],
        [
         "305",
         "United States"
        ],
        [
         "1496",
         "United States"
        ],
        [
         "619",
         "United States"
        ],
        [
         "337",
         "United States"
        ],
        [
         "193",
         "United States"
        ],
        [
         "1970",
         "United States"
        ],
        [
         "20",
         "United States"
        ],
        [
         "2",
         "United States"
        ],
        [
         "25",
         "United States"
        ],
        [
         "8483",
         "United States"
        ],
        [
         "117",
         "United States"
        ],
        [
         "40",
         "United States"
        ],
        [
         "15",
         "United States"
        ],
        [
         "27",
         "United States"
        ],
        [
         "12",
         "United States"
        ],
        [
         "258",
         "United States"
        ],
        [
         "13",
         "United States"
        ],
        [
         "13",
         "United States"
        ],
        [
         "193",
         "United States"
        ],
        [
         "478",
         "United States"
        ],
        [
         "1",
         "United States"
        ],
        [
         "867",
         "United States"
        ],
        [
         "130",
         "United States"
        ],
        [
         "109",
         "United States"
        ],
        [
         "310",
         "United States"
        ],
        [
         "44",
         "United States"
        ],
        [
         "1",
         "United States"
        ],
        [
         "217",
         "United States"
        ],
        [
         "13",
         "United States"
        ],
        [
         "145",
         "United States"
        ],
        [
         "225",
         "United States"
        ],
        [
         "15",
         "United States"
        ],
        [
         "1",
         "United States"
        ],
        [
         "344",
         "United States"
        ],
        [
         "62",
         "United States"
        ],
        [
         "1",
         "United States"
        ],
        [
         "62",
         "United States"
        ],
        [
         "325",
         "United States"
        ],
        [
         "39",
         "United States"
        ],
        [
         "6",
         "United States"
        ],
        [
         "1",
         "United States"
        ],
        [
         "61",
         "India"
        ],
        [
         "772",
         "China"
        ],
        [
         "90",
         "Curacao"
        ],
        [
         "1",
         "Malta"
        ],
        [
         "1",
         "Malta"
        ],
        [
         "32",
         "Kuwait"
        ],
        [
         "42",
         "Marshall Islands"
        ],
        [
         "174",
         "Chile"
        ],
        [
         "44",
         "Martinique"
        ],
        [
         "314",
         "Cayman Islands"
        ],
        [
         "2",
         "Croatia"
        ],
        [
         "30",
         "Bolivia"
        ],
        [
         "30",
         "Bolivia"
        ],
        [
         "59",
         "Nigeria"
        ],
        [
         "382",
         "Italy"
        ],
        [
         "1",
         "Suriname"
        ],
        [
         "121",
         "Norway"
        ],
        [
         "420",
         "Spain"
        ],
        [
         "466",
         "Cuba"
        ],
        [
         "56",
         "Guadeloupe"
        ],
        [
         "153",
         "Denmark"
        ],
        [
         "2",
         "Niger"
        ],
        [
         "154",
         "Barbados"
        ],
        [
         "335",
         "Ireland"
        ],
        [
         "3",
         "Thailand"
        ],
        [
         "15",
         "Morocco"
        ],
        [
         "510",
         "Panama"
        ],
        [
         "20",
         "Cape Verde"
        ],
        [
         "332",
         "Hong Kong"
        ],
        [
         "290",
         "Venezuela"
        ],
        [
         "14",
         "Ukraine"
        ],
        [
         "181",
         "Iceland"
        ],
        [
         "134",
         "Israel"
        ],
        [
         "39",
         "Saint Barthelemy"
        ],
        [
         "139",
         "Saint Kitts and Nevis"
        ],
        [
         "43",
         "French Polynesia"
        ],
        [
         "1048",
         "South Korea"
        ],
        [
         "1",
         "Cyprus"
        ],
        [
         "43",
         "Uruguay"
        ],
        [
         "58",
         "Bonaire, Sint Eustatius, and Saba"
        ],
        [
         "7140",
         "Mexico"
        ],
        [
         "1",
         "Cote d'Ivoire"
        ],
        [
         "346",
         "Aruba"
        ],
        [
         "2",
         "Georgia"
        ],
        [
         "1",
         "Indonesia"
        ],
        [
         "1",
         "Saint Vincent and the Grenadines"
        ],
        [
         "955",
         "The Bahamas"
        ],
        [
         "397",
         "Guatemala"
        ],
        [
         "21",
         "Azerbaijan"
        ],
        [
         "325",
         "Sint Maarten"
        ],
        [
         "53",
         "Grenada"
        ],
        [
         "69",
         "Federated States of Micronesia"
        ],
        [
         "2",
         "Liberia"
        ],
        [
         "3",
         "Tunisia"
        ],
        [
         "362",
         "Honduras"
        ],
        [
         "211",
         "Trinidad and Tobago"
        ],
        [
         "83",
         "Saudi Arabia"
        ],
        [
         "5",
         "French Guiana"
        ],
        [
         "294",
         "Switzerland"
        ],
        [
         "1",
         "Zambia"
        ],
        [
         "13",
         "Ethiopia"
        ],
        [
         "19",
         "Latvia"
        ],
        [
         "666",
         "Jamaica"
        ],
        [
         "320",
         "United Arab Emirates"
        ],
        [
         "123",
         "Saint Lucia"
        ],
        [
         "8399",
         "Canada"
        ],
        [
         "25",
         "Samoa"
        ],
        [
         "13",
         "Czech Republic"
        ],
        [
         "13",
         "Cook Islands"
        ],
        [
         "853",
         "Brazil"
        ],
        [
         "188",
         "Belize"
        ],
        [
         "126",
         "Antigua and Barbuda"
        ],
        [
         "1353",
         "Dominican Republic"
        ],
        [
         "1548",
         "Japan"
        ],
        [
         "155",
         "Luxembourg"
        ],
        [
         "111",
         "New Zealand"
        ],
        [
         "2",
         "Greenland"
        ],
        [
         "226",
         "Haiti"
        ],
        [
         "32",
         "Poland"
        ],
        [
         "127",
         "Portugal"
        ],
        [
         "3",
         "Papua New Guinea"
        ],
        [
         "329",
         "Australia"
        ],
        [
         "14",
         "Romania"
        ],
        [
         "3",
         "Bulgaria"
        ],
        [
         "62",
         "Austria"
        ],
        [
         "15",
         "Egypt"
        ],
        [
         "15",
         "Egypt"
        ],
        [
         "588",
         "Costa Rica"
        ],
        [
         "588",
         "Costa Rica"
        ],
        [
         "561",
         "El Salvador"
        ],
        [
         "1",
         "Burkina Faso"
        ],
        [
         "36",
         "South Africa"
        ],
        [
         "183",
         "Bermuda"
        ],
        [
         "19",
         "Bahrain"
        ],
        [
         "873",
         "Colombia"
        ],
        [
         "2",
         "Hungary"
        ],
        [
         "12",
         "Pakistan"
        ],
        [
         "1",
         "Moldova"
        ],
        [
         "1",
         "Moldova"
        ],
        [
         "2025",
         "United Kingdom"
        ],
        [
         "776",
         "Netherlands"
        ]
       ],
       "datasetInfos": [],
       "dbfsResultPath": null,
       "isJsonSchema": true,
       "metadata": {
        "createTempViewForImplicitDf": true,
        "dataframeName": "_sqldf",
        "executionCount": 39
       },
       "overflow": false,
       "plotOptions": {
        "customPlotOptions": {},
        "displayType": "table",
        "pivotAggregation": null,
        "pivotColumns": null,
        "xColumns": null,
        "yColumns": null
       },
       "removedWidgets": [],
       "schema": [
        {
         "metadata": "{}",
         "name": "col",
         "type": "\"string\""
        },
        {
         "metadata": "{}",
         "name": "DEST_COUNTRY_NAME",
         "type": "\"string\""
        }
       ],
       "type": "table"
      }
     },
     "output_type": "display_data"
    }
   ],
   "source": [
    "%sql\n",
    "SELECT explode(collected_counts), DEST_COUNTRY_NAME FROM flights_agg"
   ]
  },
  {
   "cell_type": "code",
   "execution_count": 0,
   "metadata": {
    "application/vnd.databricks.v1+cell": {
     "cellMetadata": {
      "byteLimit": 2048000,
      "implicitDf": true,
      "rowLimit": 10000
     },
     "inputWidgets": {},
     "nuid": "e2e84464-a199-4f19-bb7c-faf073310c3a",
     "showTitle": false,
     "tableResultSettingsMap": {},
     "title": ""
    }
   },
   "outputs": [
    {
     "output_type": "display_data",
     "data": {
      "text/html": [
       "<style scoped>\n",
       "  .table-result-container {\n",
       "    max-height: 300px;\n",
       "    overflow: auto;\n",
       "  }\n",
       "  table, th, td {\n",
       "    border: 1px solid black;\n",
       "    border-collapse: collapse;\n",
       "  }\n",
       "  th, td {\n",
       "    padding: 5px;\n",
       "  }\n",
       "  th {\n",
       "    text-align: left;\n",
       "  }\n",
       "</style><div class='table-result-container'><table class='table-result'><thead style='background-color: white'><tr><th>function</th></tr></thead><tbody><tr><td>!</td></tr><tr><td>!=</td></tr><tr><td>%</td></tr><tr><td>&</td></tr><tr><td>*</td></tr><tr><td>+</td></tr><tr><td>-</td></tr><tr><td>/</td></tr><tr><td><</td></tr><tr><td><<</td></tr><tr><td><=</td></tr><tr><td><=></td></tr><tr><td><></td></tr><tr><td>=</td></tr><tr><td>==</td></tr><tr><td>></td></tr><tr><td>>=</td></tr><tr><td>>></td></tr><tr><td>>>></td></tr><tr><td>^</td></tr><tr><td>abs</td></tr><tr><td>acos</td></tr><tr><td>acosh</td></tr><tr><td>add_months</td></tr><tr><td>aes_decrypt</td></tr><tr><td>aes_encrypt</td></tr><tr><td>aggregate</td></tr><tr><td>ai_analyze_sentiment</td></tr><tr><td>ai_classify</td></tr><tr><td>ai_extract</td></tr><tr><td>ai_fix_grammar</td></tr><tr><td>ai_forecast</td></tr><tr><td>ai_gen</td></tr><tr><td>ai_generate_text</td></tr><tr><td>ai_mask</td></tr><tr><td>ai_query</td></tr><tr><td>ai_similarity</td></tr><tr><td>ai_summarize</td></tr><tr><td>ai_translate</td></tr><tr><td>and</td></tr><tr><td>any</td></tr><tr><td>any_value</td></tr><tr><td>approx_count_distinct</td></tr><tr><td>approx_percentile</td></tr><tr><td>approx_top_k</td></tr><tr><td>array</td></tr><tr><td>array_agg</td></tr><tr><td>array_append</td></tr><tr><td>array_compact</td></tr><tr><td>array_contains</td></tr><tr><td>array_distinct</td></tr><tr><td>array_except</td></tr><tr><td>array_insert</td></tr><tr><td>array_intersect</td></tr><tr><td>array_join</td></tr><tr><td>array_max</td></tr><tr><td>array_min</td></tr><tr><td>array_position</td></tr><tr><td>array_prepend</td></tr><tr><td>array_remove</td></tr><tr><td>array_repeat</td></tr><tr><td>array_size</td></tr><tr><td>array_sort</td></tr><tr><td>array_union</td></tr><tr><td>arrays_overlap</td></tr><tr><td>arrays_zip</td></tr><tr><td>ascii</td></tr><tr><td>asin</td></tr><tr><td>asinh</td></tr><tr><td>assert_true</td></tr><tr><td>atan</td></tr><tr><td>atan2</td></tr><tr><td>atanh</td></tr><tr><td>avg</td></tr><tr><td>base64</td></tr><tr><td>between</td></tr><tr><td>bigint</td></tr><tr><td>bin</td></tr><tr><td>binary</td></tr><tr><td>bit_and</td></tr><tr><td>bit_count</td></tr><tr><td>bit_get</td></tr><tr><td>bit_length</td></tr><tr><td>bit_or</td></tr><tr><td>bit_reverse</td></tr><tr><td>bit_xor</td></tr><tr><td>bitmap_bit_position</td></tr><tr><td>bitmap_bucket_number</td></tr><tr><td>bitmap_construct_agg</td></tr><tr><td>bitmap_count</td></tr><tr><td>bitmap_or_agg</td></tr><tr><td>bool_and</td></tr><tr><td>bool_or</td></tr><tr><td>boolean</td></tr><tr><td>bround</td></tr><tr><td>btrim</td></tr><tr><td>cardinality</td></tr><tr><td>case</td></tr><tr><td>cast</td></tr><tr><td>cbrt</td></tr><tr><td>ceil</td></tr><tr><td>ceiling</td></tr><tr><td>char</td></tr><tr><td>char_length</td></tr><tr><td>character_length</td></tr><tr><td>charindex</td></tr><tr><td>chr</td></tr><tr><td>cloud_files</td></tr><tr><td>cloud_files_state</td></tr><tr><td>coalesce</td></tr><tr><td>collate</td></tr><tr><td>collation</td></tr><tr><td>collect_list</td></tr><tr><td>collect_set</td></tr><tr><td>concat</td></tr><tr><td>concat_ws</td></tr><tr><td>contains</td></tr><tr><td>conv</td></tr><tr><td>convert_timezone</td></tr><tr><td>corr</td></tr><tr><td>cos</td></tr><tr><td>cosh</td></tr><tr><td>cot</td></tr><tr><td>count</td></tr><tr><td>count_if</td></tr><tr><td>count_min_sketch</td></tr><tr><td>covar_pop</td></tr><tr><td>covar_samp</td></tr><tr><td>crc32</td></tr><tr><td>csc</td></tr><tr><td>cume_dist</td></tr><tr><td>curdate</td></tr><tr><td>current_catalog</td></tr><tr><td>current_database</td></tr><tr><td>current_date</td></tr><tr><td>current_metastore</td></tr><tr><td>current_oauth_custom_identity_claim</td></tr><tr><td>current_recipient</td></tr><tr><td>current_schema</td></tr><tr><td>current_timestamp</td></tr><tr><td>current_timezone</td></tr><tr><td>current_user</td></tr><tr><td>current_version</td></tr><tr><td>date</td></tr><tr><td>date_add</td></tr><tr><td>date_diff</td></tr><tr><td>date_format</td></tr><tr><td>date_from_unix_date</td></tr><tr><td>date_part</td></tr><tr><td>date_sub</td></tr><tr><td>date_trunc</td></tr><tr><td>dateadd</td></tr><tr><td>datediff</td></tr><tr><td>datepart</td></tr><tr><td>day</td></tr><tr><td>dayofmonth</td></tr><tr><td>dayofweek</td></tr><tr><td>dayofyear</td></tr><tr><td>decimal</td></tr><tr><td>decode</td></tr><tr><td>degrees</td></tr><tr><td>dense_rank</td></tr><tr><td>div</td></tr><tr><td>double</td></tr><tr><td>e</td></tr><tr><td>element_at</td></tr><tr><td>elt</td></tr><tr><td>encode</td></tr><tr><td>endswith</td></tr><tr><td>equal_null</td></tr><tr><td>event_log</td></tr><tr><td>every</td></tr><tr><td>exists</td></tr><tr><td>exp</td></tr><tr><td>explode</td></tr><tr><td>explode_outer</td></tr><tr><td>expm1</td></tr><tr><td>extract</td></tr><tr><td>factorial</td></tr><tr><td>filter</td></tr><tr><td>find_in_set</td></tr><tr><td>first</td></tr><tr><td>first_value</td></tr><tr><td>flatten</td></tr><tr><td>float</td></tr><tr><td>floor</td></tr><tr><td>forall</td></tr><tr><td>format_number</td></tr><tr><td>format_string</td></tr><tr><td>from_csv</td></tr><tr><td>from_json</td></tr><tr><td>from_unixtime</td></tr><tr><td>from_utc_timestamp</td></tr><tr><td>from_xml</td></tr><tr><td>get</td></tr><tr><td>get_json_object</td></tr><tr><td>get_warmup_tracing</td></tr><tr><td>getargument</td></tr><tr><td>getbit</td></tr><tr><td>getdate</td></tr><tr><td>greatest</td></tr><tr><td>grouping</td></tr><tr><td>grouping_id</td></tr><tr><td>h3_boundaryasgeojson</td></tr><tr><td>h3_boundaryaswkb</td></tr><tr><td>h3_boundaryaswkt</td></tr><tr><td>h3_centerasgeojson</td></tr><tr><td>h3_centeraswkb</td></tr><tr><td>h3_centeraswkt</td></tr><tr><td>h3_compact</td></tr><tr><td>h3_coverash3</td></tr><tr><td>h3_coverash3string</td></tr><tr><td>h3_distance</td></tr><tr><td>h3_getpentagoncellids</td></tr><tr><td>h3_h3tostring</td></tr><tr><td>h3_hexring</td></tr><tr><td>h3_ischildof</td></tr><tr><td>h3_ispentagon</td></tr><tr><td>h3_isvalid</td></tr><tr><td>h3_kring</td></tr><tr><td>h3_kringdistances</td></tr><tr><td>h3_longlatash3</td></tr><tr><td>h3_longlatash3string</td></tr><tr><td>h3_maxchild</td></tr><tr><td>h3_minchild</td></tr><tr><td>h3_pointash3</td></tr><tr><td>h3_pointash3string</td></tr><tr><td>h3_polyfillash3</td></tr><tr><td>h3_polyfillash3string</td></tr><tr><td>h3_resolution</td></tr><tr><td>h3_stringtoh3</td></tr><tr><td>h3_tessellateaswkb</td></tr><tr><td>h3_tochildren</td></tr><tr><td>h3_toparent</td></tr><tr><td>h3_try_distance</td></tr><tr><td>h3_try_polyfillash3</td></tr><tr><td>h3_try_polyfillash3string</td></tr><tr><td>h3_try_validate</td></tr><tr><td>h3_uncompact</td></tr><tr><td>h3_validate</td></tr><tr><td>hash</td></tr><tr><td>hex</td></tr><tr><td>histogram_numeric</td></tr><tr><td>hll_cardinality_internal</td></tr><tr><td>hll_collect_internal</td></tr><tr><td>hll_sketch_agg</td></tr><tr><td>hll_sketch_estimate</td></tr><tr><td>hll_union</td></tr><tr><td>hll_union_agg</td></tr><tr><td>hour</td></tr><tr><td>http_request</td></tr><tr><td>hypot</td></tr><tr><td>if</td></tr><tr><td>iff</td></tr><tr><td>ifnull</td></tr><tr><td>ilike</td></tr><tr><td>in</td></tr><tr><td>ingestion_describe_table</td></tr><tr><td>ingestion_list_catalogs</td></tr><tr><td>ingestion_list_schemas</td></tr><tr><td>ingestion_list_tables</td></tr><tr><td>ingestion_read_data</td></tr><tr><td>initcap</td></tr><tr><td>inline</td></tr><tr><td>inline_outer</td></tr><tr><td>input_file_block_length</td></tr><tr><td>input_file_block_start</td></tr><tr><td>input_file_name</td></tr><tr><td>instr</td></tr><tr><td>int</td></tr><tr><td>is_account_group_member</td></tr><tr><td>is_member</td></tr><tr><td>is_valid_utf8</td></tr><tr><td>is_variant_null</td></tr><tr><td>isnan</td></tr><tr><td>isnotnull</td></tr><tr><td>isnull</td></tr><tr><td>java_method</td></tr><tr><td>json_array_length</td></tr><tr><td>json_object_keys</td></tr><tr><td>json_tuple</td></tr><tr><td>kurtosis</td></tr><tr><td>lag</td></tr><tr><td>last</td></tr><tr><td>last_day</td></tr><tr><td>last_value</td></tr><tr><td>lcase</td></tr><tr><td>lead</td></tr><tr><td>least</td></tr><tr><td>left</td></tr><tr><td>len</td></tr><tr><td>length</td></tr><tr><td>levenshtein</td></tr><tr><td>like</td></tr><tr><td>list_secrets</td></tr><tr><td>ln</td></tr><tr><td>localtimestamp</td></tr><tr><td>locate</td></tr><tr><td>log</td></tr><tr><td>log10</td></tr><tr><td>log1p</td></tr><tr><td>log2</td></tr><tr><td>lower</td></tr><tr><td>lpad</td></tr><tr><td>ltrim</td></tr><tr><td>luhn_check</td></tr><tr><td>make_date</td></tr><tr><td>make_dt_interval</td></tr><tr><td>make_interval</td></tr><tr><td>make_timestamp</td></tr><tr><td>make_timestamp_ltz</td></tr><tr><td>make_timestamp_ntz</td></tr><tr><td>make_valid_utf8</td></tr><tr><td>make_ym_interval</td></tr><tr><td>map</td></tr><tr><td>map_concat</td></tr><tr><td>map_contains_key</td></tr><tr><td>map_entries</td></tr><tr><td>map_filter</td></tr><tr><td>map_from_arrays</td></tr><tr><td>map_from_entries</td></tr><tr><td>map_keys</td></tr><tr><td>map_values</td></tr><tr><td>map_zip_with</td></tr><tr><td>mask</td></tr><tr><td>max</td></tr><tr><td>max_by</td></tr><tr><td>md5</td></tr><tr><td>mean</td></tr><tr><td>median</td></tr><tr><td>metric_store</td></tr><tr><td>min</td></tr><tr><td>min_by</td></tr><tr><td>minute</td></tr><tr><td>mod</td></tr><tr><td>mode</td></tr><tr><td>monotonically_increasing_id</td></tr><tr><td>month</td></tr><tr><td>monthname</td></tr><tr><td>months_between</td></tr><tr><td>named_struct</td></tr><tr><td>nanvl</td></tr><tr><td>negative</td></tr><tr><td>next_day</td></tr><tr><td>not</td></tr><tr><td>now</td></tr><tr><td>nth_value</td></tr><tr><td>ntile</td></tr><tr><td>nullif</td></tr><tr><td>nvl</td></tr><tr><td>nvl2</td></tr><tr><td>octet_length</td></tr><tr><td>or</td></tr><tr><td>overlay</td></tr><tr><td>parse_json</td></tr><tr><td>parse_url</td></tr><tr><td>percent_rank</td></tr><tr><td>percentile</td></tr><tr><td>percentile_approx</td></tr><tr><td>percentile_cont</td></tr><tr><td>percentile_disc</td></tr><tr><td>pi</td></tr><tr><td>pmod</td></tr><tr><td>posexplode</td></tr><tr><td>posexplode_outer</td></tr><tr><td>position</td></tr><tr><td>positive</td></tr><tr><td>pow</td></tr><tr><td>power</td></tr><tr><td>printf</td></tr><tr><td>quarter</td></tr><tr><td>radians</td></tr><tr><td>raise_error</td></tr><tr><td>rand</td></tr><tr><td>randn</td></tr><tr><td>random</td></tr><tr><td>range</td></tr><tr><td>rank</td></tr><tr><td>read_files</td></tr><tr><td>read_kafka</td></tr><tr><td>read_kinesis</td></tr><tr><td>read_pubsub</td></tr><tr><td>read_pulsar</td></tr><tr><td>read_state_metadata</td></tr><tr><td>read_statestore</td></tr><tr><td>reduce</td></tr><tr><td>reflect</td></tr><tr><td>regexp</td></tr><tr><td>regexp_count</td></tr><tr><td>regexp_extract</td></tr><tr><td>regexp_extract_all</td></tr><tr><td>regexp_instr</td></tr><tr><td>regexp_like</td></tr><tr><td>regexp_replace</td></tr><tr><td>regexp_substr</td></tr><tr><td>regr_avgx</td></tr><tr><td>regr_avgy</td></tr><tr><td>regr_count</td></tr><tr><td>regr_intercept</td></tr><tr><td>regr_r2</td></tr><tr><td>regr_slope</td></tr><tr><td>regr_sxx</td></tr><tr><td>regr_sxy</td></tr><tr><td>regr_syy</td></tr><tr><td>repeat</td></tr><tr><td>replace</td></tr><tr><td>reverse</td></tr><tr><td>right</td></tr><tr><td>rint</td></tr><tr><td>rlike</td></tr><tr><td>round</td></tr><tr><td>row_number</td></tr><tr><td>rpad</td></tr><tr><td>rtrim</td></tr><tr><td>schema_of_csv</td></tr><tr><td>schema_of_json</td></tr><tr><td>schema_of_json_agg</td></tr><tr><td>schema_of_variant</td></tr><tr><td>schema_of_variant_agg</td></tr><tr><td>schema_of_xml</td></tr><tr><td>sec</td></tr><tr><td>second</td></tr><tr><td>secret</td></tr><tr><td>sentences</td></tr><tr><td>sequence</td></tr><tr><td>session_user</td></tr><tr><td>session_window</td></tr><tr><td>sha</td></tr><tr><td>sha1</td></tr><tr><td>sha2</td></tr><tr><td>shiftleft</td></tr><tr><td>shiftright</td></tr><tr><td>shiftrightunsigned</td></tr><tr><td>shuffle</td></tr><tr><td>sign</td></tr><tr><td>signum</td></tr><tr><td>sin</td></tr><tr><td>sinh</td></tr><tr><td>size</td></tr><tr><td>skewness</td></tr><tr><td>slice</td></tr><tr><td>smallint</td></tr><tr><td>some</td></tr><tr><td>sort_array</td></tr><tr><td>soundex</td></tr><tr><td>space</td></tr><tr><td>spark_partition_id</td></tr><tr><td>split</td></tr><tr><td>split_part</td></tr><tr><td>sql_keywords</td></tr><tr><td>sqrt</td></tr><tr><td>st_area</td></tr><tr><td>st_asbinary</td></tr><tr><td>st_asewkb</td></tr><tr><td>st_asgeojson</td></tr><tr><td>st_astext</td></tr><tr><td>st_aswkb</td></tr><tr><td>st_aswkt</td></tr><tr><td>st_buffer</td></tr><tr><td>st_centroid</td></tr><tr><td>st_contains</td></tr><tr><td>st_convexhull</td></tr><tr><td>st_difference</td></tr><tr><td>st_distance</td></tr><tr><td>st_distancesphere</td></tr><tr><td>st_distancespheroid</td></tr><tr><td>st_envelope</td></tr><tr><td>st_geogarea</td></tr><tr><td>st_geogfromgeojson</td></tr><tr><td>st_geogfromtext</td></tr><tr><td>st_geogfromwkb</td></tr><tr><td>st_geogfromwkt</td></tr><tr><td>st_geoglength</td></tr><tr><td>st_geogperimeter</td></tr><tr><td>st_geohash</td></tr><tr><td>st_geometryn</td></tr><tr><td>st_geometrytype</td></tr><tr><td>st_geomfromewkb</td></tr><tr><td>st_geomfromgeohash</td></tr><tr><td>st_geomfromgeojson</td></tr><tr><td>st_geomfromtext</td></tr><tr><td>st_geomfromwkb</td></tr><tr><td>st_geomfromwkt</td></tr><tr><td>st_intersection</td></tr><tr><td>st_intersects</td></tr><tr><td>st_isempty</td></tr><tr><td>st_isvalid</td></tr><tr><td>st_length</td></tr><tr><td>st_makeline</td></tr><tr><td>st_makepolygon</td></tr><tr><td>st_ndims</td></tr><tr><td>st_npoints</td></tr><tr><td>st_numgeometries</td></tr><tr><td>st_perimeter</td></tr><tr><td>st_point</td></tr><tr><td>st_pointfromgeohash</td></tr><tr><td>st_rotate</td></tr><tr><td>st_scale</td></tr><tr><td>st_setsrid</td></tr><tr><td>st_simplify</td></tr><tr><td>st_srid</td></tr><tr><td>st_transform</td></tr><tr><td>st_translate</td></tr><tr><td>st_union</td></tr><tr><td>st_union_agg</td></tr><tr><td>st_x</td></tr><tr><td>st_xmax</td></tr><tr><td>st_xmin</td></tr><tr><td>st_y</td></tr><tr><td>st_ymax</td></tr><tr><td>st_ymin</td></tr><tr><td>st_zmax</td></tr><tr><td>st_zmin</td></tr><tr><td>stack</td></tr><tr><td>startswith</td></tr><tr><td>std</td></tr><tr><td>stddev</td></tr><tr><td>stddev_pop</td></tr><tr><td>stddev_samp</td></tr><tr><td>str_to_map</td></tr><tr><td>string</td></tr><tr><td>stringdecode</td></tr><tr><td>struct</td></tr><tr><td>substr</td></tr><tr><td>substring</td></tr><tr><td>substring_index</td></tr><tr><td>sum</td></tr><tr><td>table_changes</td></tr><tr><td>table_changes_by_path</td></tr><tr><td>tan</td></tr><tr><td>tanh</td></tr><tr><td>timestamp</td></tr><tr><td>timestamp_micros</td></tr><tr><td>timestamp_millis</td></tr><tr><td>timestamp_seconds</td></tr><tr><td>tinyint</td></tr><tr><td>to_binary</td></tr><tr><td>to_char</td></tr><tr><td>to_csv</td></tr><tr><td>to_date</td></tr><tr><td>to_geography</td></tr><tr><td>to_geometry</td></tr><tr><td>to_json</td></tr><tr><td>to_number</td></tr><tr><td>to_timestamp</td></tr><tr><td>to_timestamp_ltz</td></tr><tr><td>to_timestamp_ntz</td></tr><tr><td>to_unix_timestamp</td></tr><tr><td>to_utc_timestamp</td></tr><tr><td>to_varchar</td></tr><tr><td>to_variant_object</td></tr><tr><td>to_xml</td></tr><tr><td>transform</td></tr><tr><td>transform_keys</td></tr><tr><td>transform_values</td></tr><tr><td>translate</td></tr><tr><td>trim</td></tr><tr><td>trunc</td></tr><tr><td>try_add</td></tr><tr><td>try_aes_decrypt</td></tr><tr><td>try_avg</td></tr><tr><td>try_divide</td></tr><tr><td>try_element_at</td></tr><tr><td>try_mod</td></tr><tr><td>try_multiply</td></tr><tr><td>try_parse_json</td></tr><tr><td>try_reflect</td></tr><tr><td>try_remainder</td></tr><tr><td>try_secret</td></tr><tr><td>try_subtract</td></tr><tr><td>try_sum</td></tr><tr><td>try_to_binary</td></tr><tr><td>try_to_geography</td></tr><tr><td>try_to_geometry</td></tr><tr><td>try_to_number</td></tr><tr><td>try_to_timestamp</td></tr><tr><td>try_validate_utf8</td></tr><tr><td>try_variant_get</td></tr><tr><td>try_zstd_decompress</td></tr><tr><td>typeof</td></tr><tr><td>ucase</td></tr><tr><td>unbase64</td></tr><tr><td>unhex</td></tr><tr><td>unix_date</td></tr><tr><td>unix_micros</td></tr><tr><td>unix_millis</td></tr><tr><td>unix_seconds</td></tr><tr><td>unix_timestamp</td></tr><tr><td>upper</td></tr><tr><td>url_decode</td></tr><tr><td>url_encode</td></tr><tr><td>user</td></tr><tr><td>uuid</td></tr><tr><td>validate_utf8</td></tr><tr><td>var_pop</td></tr><tr><td>var_samp</td></tr><tr><td>variance</td></tr><tr><td>variant_explode</td></tr><tr><td>variant_explode_outer</td></tr><tr><td>variant_get</td></tr><tr><td>vector_search</td></tr><tr><td>version</td></tr><tr><td>weekday</td></tr><tr><td>weekofyear</td></tr><tr><td>when</td></tr><tr><td>width_bucket</td></tr><tr><td>window</td></tr><tr><td>window_time</td></tr><tr><td>xpath</td></tr><tr><td>xpath_boolean</td></tr><tr><td>xpath_double</td></tr><tr><td>xpath_float</td></tr><tr><td>xpath_int</td></tr><tr><td>xpath_long</td></tr><tr><td>xpath_number</td></tr><tr><td>xpath_short</td></tr><tr><td>xpath_string</td></tr><tr><td>xxhash64</td></tr><tr><td>year</td></tr><tr><td>zip_with</td></tr><tr><td>zstd_compress</td></tr><tr><td>zstd_decompress</td></tr><tr><td>|</td></tr><tr><td>||</td></tr><tr><td>~</td></tr></tbody></table></div>"
      ]
     },
     "metadata": {
      "application/vnd.databricks.v1+output": {
       "addedWidgets": {},
       "aggData": [],
       "aggError": "",
       "aggOverflow": false,
       "aggSchema": [],
       "aggSeriesLimitReached": false,
       "aggType": "",
       "arguments": {},
       "columnCustomDisplayInfos": {},
       "data": [
        [
         "!"
        ],
        [
         "!="
        ],
        [
         "%"
        ],
        [
         "&"
        ],
        [
         "*"
        ],
        [
         "+"
        ],
        [
         "-"
        ],
        [
         "/"
        ],
        [
         "<"
        ],
        [
         "<<"
        ],
        [
         "<="
        ],
        [
         "<=>"
        ],
        [
         "<>"
        ],
        [
         "="
        ],
        [
         "=="
        ],
        [
         ">"
        ],
        [
         ">="
        ],
        [
         ">>"
        ],
        [
         ">>>"
        ],
        [
         "^"
        ],
        [
         "abs"
        ],
        [
         "acos"
        ],
        [
         "acosh"
        ],
        [
         "add_months"
        ],
        [
         "aes_decrypt"
        ],
        [
         "aes_encrypt"
        ],
        [
         "aggregate"
        ],
        [
         "ai_analyze_sentiment"
        ],
        [
         "ai_classify"
        ],
        [
         "ai_extract"
        ],
        [
         "ai_fix_grammar"
        ],
        [
         "ai_forecast"
        ],
        [
         "ai_gen"
        ],
        [
         "ai_generate_text"
        ],
        [
         "ai_mask"
        ],
        [
         "ai_query"
        ],
        [
         "ai_similarity"
        ],
        [
         "ai_summarize"
        ],
        [
         "ai_translate"
        ],
        [
         "and"
        ],
        [
         "any"
        ],
        [
         "any_value"
        ],
        [
         "approx_count_distinct"
        ],
        [
         "approx_percentile"
        ],
        [
         "approx_top_k"
        ],
        [
         "array"
        ],
        [
         "array_agg"
        ],
        [
         "array_append"
        ],
        [
         "array_compact"
        ],
        [
         "array_contains"
        ],
        [
         "array_distinct"
        ],
        [
         "array_except"
        ],
        [
         "array_insert"
        ],
        [
         "array_intersect"
        ],
        [
         "array_join"
        ],
        [
         "array_max"
        ],
        [
         "array_min"
        ],
        [
         "array_position"
        ],
        [
         "array_prepend"
        ],
        [
         "array_remove"
        ],
        [
         "array_repeat"
        ],
        [
         "array_size"
        ],
        [
         "array_sort"
        ],
        [
         "array_union"
        ],
        [
         "arrays_overlap"
        ],
        [
         "arrays_zip"
        ],
        [
         "ascii"
        ],
        [
         "asin"
        ],
        [
         "asinh"
        ],
        [
         "assert_true"
        ],
        [
         "atan"
        ],
        [
         "atan2"
        ],
        [
         "atanh"
        ],
        [
         "avg"
        ],
        [
         "base64"
        ],
        [
         "between"
        ],
        [
         "bigint"
        ],
        [
         "bin"
        ],
        [
         "binary"
        ],
        [
         "bit_and"
        ],
        [
         "bit_count"
        ],
        [
         "bit_get"
        ],
        [
         "bit_length"
        ],
        [
         "bit_or"
        ],
        [
         "bit_reverse"
        ],
        [
         "bit_xor"
        ],
        [
         "bitmap_bit_position"
        ],
        [
         "bitmap_bucket_number"
        ],
        [
         "bitmap_construct_agg"
        ],
        [
         "bitmap_count"
        ],
        [
         "bitmap_or_agg"
        ],
        [
         "bool_and"
        ],
        [
         "bool_or"
        ],
        [
         "boolean"
        ],
        [
         "bround"
        ],
        [
         "btrim"
        ],
        [
         "cardinality"
        ],
        [
         "case"
        ],
        [
         "cast"
        ],
        [
         "cbrt"
        ],
        [
         "ceil"
        ],
        [
         "ceiling"
        ],
        [
         "char"
        ],
        [
         "char_length"
        ],
        [
         "character_length"
        ],
        [
         "charindex"
        ],
        [
         "chr"
        ],
        [
         "cloud_files"
        ],
        [
         "cloud_files_state"
        ],
        [
         "coalesce"
        ],
        [
         "collate"
        ],
        [
         "collation"
        ],
        [
         "collect_list"
        ],
        [
         "collect_set"
        ],
        [
         "concat"
        ],
        [
         "concat_ws"
        ],
        [
         "contains"
        ],
        [
         "conv"
        ],
        [
         "convert_timezone"
        ],
        [
         "corr"
        ],
        [
         "cos"
        ],
        [
         "cosh"
        ],
        [
         "cot"
        ],
        [
         "count"
        ],
        [
         "count_if"
        ],
        [
         "count_min_sketch"
        ],
        [
         "covar_pop"
        ],
        [
         "covar_samp"
        ],
        [
         "crc32"
        ],
        [
         "csc"
        ],
        [
         "cume_dist"
        ],
        [
         "curdate"
        ],
        [
         "current_catalog"
        ],
        [
         "current_database"
        ],
        [
         "current_date"
        ],
        [
         "current_metastore"
        ],
        [
         "current_oauth_custom_identity_claim"
        ],
        [
         "current_recipient"
        ],
        [
         "current_schema"
        ],
        [
         "current_timestamp"
        ],
        [
         "current_timezone"
        ],
        [
         "current_user"
        ],
        [
         "current_version"
        ],
        [
         "date"
        ],
        [
         "date_add"
        ],
        [
         "date_diff"
        ],
        [
         "date_format"
        ],
        [
         "date_from_unix_date"
        ],
        [
         "date_part"
        ],
        [
         "date_sub"
        ],
        [
         "date_trunc"
        ],
        [
         "dateadd"
        ],
        [
         "datediff"
        ],
        [
         "datepart"
        ],
        [
         "day"
        ],
        [
         "dayofmonth"
        ],
        [
         "dayofweek"
        ],
        [
         "dayofyear"
        ],
        [
         "decimal"
        ],
        [
         "decode"
        ],
        [
         "degrees"
        ],
        [
         "dense_rank"
        ],
        [
         "div"
        ],
        [
         "double"
        ],
        [
         "e"
        ],
        [
         "element_at"
        ],
        [
         "elt"
        ],
        [
         "encode"
        ],
        [
         "endswith"
        ],
        [
         "equal_null"
        ],
        [
         "event_log"
        ],
        [
         "every"
        ],
        [
         "exists"
        ],
        [
         "exp"
        ],
        [
         "explode"
        ],
        [
         "explode_outer"
        ],
        [
         "expm1"
        ],
        [
         "extract"
        ],
        [
         "factorial"
        ],
        [
         "filter"
        ],
        [
         "find_in_set"
        ],
        [
         "first"
        ],
        [
         "first_value"
        ],
        [
         "flatten"
        ],
        [
         "float"
        ],
        [
         "floor"
        ],
        [
         "forall"
        ],
        [
         "format_number"
        ],
        [
         "format_string"
        ],
        [
         "from_csv"
        ],
        [
         "from_json"
        ],
        [
         "from_unixtime"
        ],
        [
         "from_utc_timestamp"
        ],
        [
         "from_xml"
        ],
        [
         "get"
        ],
        [
         "get_json_object"
        ],
        [
         "get_warmup_tracing"
        ],
        [
         "getargument"
        ],
        [
         "getbit"
        ],
        [
         "getdate"
        ],
        [
         "greatest"
        ],
        [
         "grouping"
        ],
        [
         "grouping_id"
        ],
        [
         "h3_boundaryasgeojson"
        ],
        [
         "h3_boundaryaswkb"
        ],
        [
         "h3_boundaryaswkt"
        ],
        [
         "h3_centerasgeojson"
        ],
        [
         "h3_centeraswkb"
        ],
        [
         "h3_centeraswkt"
        ],
        [
         "h3_compact"
        ],
        [
         "h3_coverash3"
        ],
        [
         "h3_coverash3string"
        ],
        [
         "h3_distance"
        ],
        [
         "h3_getpentagoncellids"
        ],
        [
         "h3_h3tostring"
        ],
        [
         "h3_hexring"
        ],
        [
         "h3_ischildof"
        ],
        [
         "h3_ispentagon"
        ],
        [
         "h3_isvalid"
        ],
        [
         "h3_kring"
        ],
        [
         "h3_kringdistances"
        ],
        [
         "h3_longlatash3"
        ],
        [
         "h3_longlatash3string"
        ],
        [
         "h3_maxchild"
        ],
        [
         "h3_minchild"
        ],
        [
         "h3_pointash3"
        ],
        [
         "h3_pointash3string"
        ],
        [
         "h3_polyfillash3"
        ],
        [
         "h3_polyfillash3string"
        ],
        [
         "h3_resolution"
        ],
        [
         "h3_stringtoh3"
        ],
        [
         "h3_tessellateaswkb"
        ],
        [
         "h3_tochildren"
        ],
        [
         "h3_toparent"
        ],
        [
         "h3_try_distance"
        ],
        [
         "h3_try_polyfillash3"
        ],
        [
         "h3_try_polyfillash3string"
        ],
        [
         "h3_try_validate"
        ],
        [
         "h3_uncompact"
        ],
        [
         "h3_validate"
        ],
        [
         "hash"
        ],
        [
         "hex"
        ],
        [
         "histogram_numeric"
        ],
        [
         "hll_cardinality_internal"
        ],
        [
         "hll_collect_internal"
        ],
        [
         "hll_sketch_agg"
        ],
        [
         "hll_sketch_estimate"
        ],
        [
         "hll_union"
        ],
        [
         "hll_union_agg"
        ],
        [
         "hour"
        ],
        [
         "http_request"
        ],
        [
         "hypot"
        ],
        [
         "if"
        ],
        [
         "iff"
        ],
        [
         "ifnull"
        ],
        [
         "ilike"
        ],
        [
         "in"
        ],
        [
         "ingestion_describe_table"
        ],
        [
         "ingestion_list_catalogs"
        ],
        [
         "ingestion_list_schemas"
        ],
        [
         "ingestion_list_tables"
        ],
        [
         "ingestion_read_data"
        ],
        [
         "initcap"
        ],
        [
         "inline"
        ],
        [
         "inline_outer"
        ],
        [
         "input_file_block_length"
        ],
        [
         "input_file_block_start"
        ],
        [
         "input_file_name"
        ],
        [
         "instr"
        ],
        [
         "int"
        ],
        [
         "is_account_group_member"
        ],
        [
         "is_member"
        ],
        [
         "is_valid_utf8"
        ],
        [
         "is_variant_null"
        ],
        [
         "isnan"
        ],
        [
         "isnotnull"
        ],
        [
         "isnull"
        ],
        [
         "java_method"
        ],
        [
         "json_array_length"
        ],
        [
         "json_object_keys"
        ],
        [
         "json_tuple"
        ],
        [
         "kurtosis"
        ],
        [
         "lag"
        ],
        [
         "last"
        ],
        [
         "last_day"
        ],
        [
         "last_value"
        ],
        [
         "lcase"
        ],
        [
         "lead"
        ],
        [
         "least"
        ],
        [
         "left"
        ],
        [
         "len"
        ],
        [
         "length"
        ],
        [
         "levenshtein"
        ],
        [
         "like"
        ],
        [
         "list_secrets"
        ],
        [
         "ln"
        ],
        [
         "localtimestamp"
        ],
        [
         "locate"
        ],
        [
         "log"
        ],
        [
         "log10"
        ],
        [
         "log1p"
        ],
        [
         "log2"
        ],
        [
         "lower"
        ],
        [
         "lpad"
        ],
        [
         "ltrim"
        ],
        [
         "luhn_check"
        ],
        [
         "make_date"
        ],
        [
         "make_dt_interval"
        ],
        [
         "make_interval"
        ],
        [
         "make_timestamp"
        ],
        [
         "make_timestamp_ltz"
        ],
        [
         "make_timestamp_ntz"
        ],
        [
         "make_valid_utf8"
        ],
        [
         "make_ym_interval"
        ],
        [
         "map"
        ],
        [
         "map_concat"
        ],
        [
         "map_contains_key"
        ],
        [
         "map_entries"
        ],
        [
         "map_filter"
        ],
        [
         "map_from_arrays"
        ],
        [
         "map_from_entries"
        ],
        [
         "map_keys"
        ],
        [
         "map_values"
        ],
        [
         "map_zip_with"
        ],
        [
         "mask"
        ],
        [
         "max"
        ],
        [
         "max_by"
        ],
        [
         "md5"
        ],
        [
         "mean"
        ],
        [
         "median"
        ],
        [
         "metric_store"
        ],
        [
         "min"
        ],
        [
         "min_by"
        ],
        [
         "minute"
        ],
        [
         "mod"
        ],
        [
         "mode"
        ],
        [
         "monotonically_increasing_id"
        ],
        [
         "month"
        ],
        [
         "monthname"
        ],
        [
         "months_between"
        ],
        [
         "named_struct"
        ],
        [
         "nanvl"
        ],
        [
         "negative"
        ],
        [
         "next_day"
        ],
        [
         "not"
        ],
        [
         "now"
        ],
        [
         "nth_value"
        ],
        [
         "ntile"
        ],
        [
         "nullif"
        ],
        [
         "nvl"
        ],
        [
         "nvl2"
        ],
        [
         "octet_length"
        ],
        [
         "or"
        ],
        [
         "overlay"
        ],
        [
         "parse_json"
        ],
        [
         "parse_url"
        ],
        [
         "percent_rank"
        ],
        [
         "percentile"
        ],
        [
         "percentile_approx"
        ],
        [
         "percentile_cont"
        ],
        [
         "percentile_disc"
        ],
        [
         "pi"
        ],
        [
         "pmod"
        ],
        [
         "posexplode"
        ],
        [
         "posexplode_outer"
        ],
        [
         "position"
        ],
        [
         "positive"
        ],
        [
         "pow"
        ],
        [
         "power"
        ],
        [
         "printf"
        ],
        [
         "quarter"
        ],
        [
         "radians"
        ],
        [
         "raise_error"
        ],
        [
         "rand"
        ],
        [
         "randn"
        ],
        [
         "random"
        ],
        [
         "range"
        ],
        [
         "rank"
        ],
        [
         "read_files"
        ],
        [
         "read_kafka"
        ],
        [
         "read_kinesis"
        ],
        [
         "read_pubsub"
        ],
        [
         "read_pulsar"
        ],
        [
         "read_state_metadata"
        ],
        [
         "read_statestore"
        ],
        [
         "reduce"
        ],
        [
         "reflect"
        ],
        [
         "regexp"
        ],
        [
         "regexp_count"
        ],
        [
         "regexp_extract"
        ],
        [
         "regexp_extract_all"
        ],
        [
         "regexp_instr"
        ],
        [
         "regexp_like"
        ],
        [
         "regexp_replace"
        ],
        [
         "regexp_substr"
        ],
        [
         "regr_avgx"
        ],
        [
         "regr_avgy"
        ],
        [
         "regr_count"
        ],
        [
         "regr_intercept"
        ],
        [
         "regr_r2"
        ],
        [
         "regr_slope"
        ],
        [
         "regr_sxx"
        ],
        [
         "regr_sxy"
        ],
        [
         "regr_syy"
        ],
        [
         "repeat"
        ],
        [
         "replace"
        ],
        [
         "reverse"
        ],
        [
         "right"
        ],
        [
         "rint"
        ],
        [
         "rlike"
        ],
        [
         "round"
        ],
        [
         "row_number"
        ],
        [
         "rpad"
        ],
        [
         "rtrim"
        ],
        [
         "schema_of_csv"
        ],
        [
         "schema_of_json"
        ],
        [
         "schema_of_json_agg"
        ],
        [
         "schema_of_variant"
        ],
        [
         "schema_of_variant_agg"
        ],
        [
         "schema_of_xml"
        ],
        [
         "sec"
        ],
        [
         "second"
        ],
        [
         "secret"
        ],
        [
         "sentences"
        ],
        [
         "sequence"
        ],
        [
         "session_user"
        ],
        [
         "session_window"
        ],
        [
         "sha"
        ],
        [
         "sha1"
        ],
        [
         "sha2"
        ],
        [
         "shiftleft"
        ],
        [
         "shiftright"
        ],
        [
         "shiftrightunsigned"
        ],
        [
         "shuffle"
        ],
        [
         "sign"
        ],
        [
         "signum"
        ],
        [
         "sin"
        ],
        [
         "sinh"
        ],
        [
         "size"
        ],
        [
         "skewness"
        ],
        [
         "slice"
        ],
        [
         "smallint"
        ],
        [
         "some"
        ],
        [
         "sort_array"
        ],
        [
         "soundex"
        ],
        [
         "space"
        ],
        [
         "spark_partition_id"
        ],
        [
         "split"
        ],
        [
         "split_part"
        ],
        [
         "sql_keywords"
        ],
        [
         "sqrt"
        ],
        [
         "st_area"
        ],
        [
         "st_asbinary"
        ],
        [
         "st_asewkb"
        ],
        [
         "st_asgeojson"
        ],
        [
         "st_astext"
        ],
        [
         "st_aswkb"
        ],
        [
         "st_aswkt"
        ],
        [
         "st_buffer"
        ],
        [
         "st_centroid"
        ],
        [
         "st_contains"
        ],
        [
         "st_convexhull"
        ],
        [
         "st_difference"
        ],
        [
         "st_distance"
        ],
        [
         "st_distancesphere"
        ],
        [
         "st_distancespheroid"
        ],
        [
         "st_envelope"
        ],
        [
         "st_geogarea"
        ],
        [
         "st_geogfromgeojson"
        ],
        [
         "st_geogfromtext"
        ],
        [
         "st_geogfromwkb"
        ],
        [
         "st_geogfromwkt"
        ],
        [
         "st_geoglength"
        ],
        [
         "st_geogperimeter"
        ],
        [
         "st_geohash"
        ],
        [
         "st_geometryn"
        ],
        [
         "st_geometrytype"
        ],
        [
         "st_geomfromewkb"
        ],
        [
         "st_geomfromgeohash"
        ],
        [
         "st_geomfromgeojson"
        ],
        [
         "st_geomfromtext"
        ],
        [
         "st_geomfromwkb"
        ],
        [
         "st_geomfromwkt"
        ],
        [
         "st_intersection"
        ],
        [
         "st_intersects"
        ],
        [
         "st_isempty"
        ],
        [
         "st_isvalid"
        ],
        [
         "st_length"
        ],
        [
         "st_makeline"
        ],
        [
         "st_makepolygon"
        ],
        [
         "st_ndims"
        ],
        [
         "st_npoints"
        ],
        [
         "st_numgeometries"
        ],
        [
         "st_perimeter"
        ],
        [
         "st_point"
        ],
        [
         "st_pointfromgeohash"
        ],
        [
         "st_rotate"
        ],
        [
         "st_scale"
        ],
        [
         "st_setsrid"
        ],
        [
         "st_simplify"
        ],
        [
         "st_srid"
        ],
        [
         "st_transform"
        ],
        [
         "st_translate"
        ],
        [
         "st_union"
        ],
        [
         "st_union_agg"
        ],
        [
         "st_x"
        ],
        [
         "st_xmax"
        ],
        [
         "st_xmin"
        ],
        [
         "st_y"
        ],
        [
         "st_ymax"
        ],
        [
         "st_ymin"
        ],
        [
         "st_zmax"
        ],
        [
         "st_zmin"
        ],
        [
         "stack"
        ],
        [
         "startswith"
        ],
        [
         "std"
        ],
        [
         "stddev"
        ],
        [
         "stddev_pop"
        ],
        [
         "stddev_samp"
        ],
        [
         "str_to_map"
        ],
        [
         "string"
        ],
        [
         "stringdecode"
        ],
        [
         "struct"
        ],
        [
         "substr"
        ],
        [
         "substring"
        ],
        [
         "substring_index"
        ],
        [
         "sum"
        ],
        [
         "table_changes"
        ],
        [
         "table_changes_by_path"
        ],
        [
         "tan"
        ],
        [
         "tanh"
        ],
        [
         "timestamp"
        ],
        [
         "timestamp_micros"
        ],
        [
         "timestamp_millis"
        ],
        [
         "timestamp_seconds"
        ],
        [
         "tinyint"
        ],
        [
         "to_binary"
        ],
        [
         "to_char"
        ],
        [
         "to_csv"
        ],
        [
         "to_date"
        ],
        [
         "to_geography"
        ],
        [
         "to_geometry"
        ],
        [
         "to_json"
        ],
        [
         "to_number"
        ],
        [
         "to_timestamp"
        ],
        [
         "to_timestamp_ltz"
        ],
        [
         "to_timestamp_ntz"
        ],
        [
         "to_unix_timestamp"
        ],
        [
         "to_utc_timestamp"
        ],
        [
         "to_varchar"
        ],
        [
         "to_variant_object"
        ],
        [
         "to_xml"
        ],
        [
         "transform"
        ],
        [
         "transform_keys"
        ],
        [
         "transform_values"
        ],
        [
         "translate"
        ],
        [
         "trim"
        ],
        [
         "trunc"
        ],
        [
         "try_add"
        ],
        [
         "try_aes_decrypt"
        ],
        [
         "try_avg"
        ],
        [
         "try_divide"
        ],
        [
         "try_element_at"
        ],
        [
         "try_mod"
        ],
        [
         "try_multiply"
        ],
        [
         "try_parse_json"
        ],
        [
         "try_reflect"
        ],
        [
         "try_remainder"
        ],
        [
         "try_secret"
        ],
        [
         "try_subtract"
        ],
        [
         "try_sum"
        ],
        [
         "try_to_binary"
        ],
        [
         "try_to_geography"
        ],
        [
         "try_to_geometry"
        ],
        [
         "try_to_number"
        ],
        [
         "try_to_timestamp"
        ],
        [
         "try_validate_utf8"
        ],
        [
         "try_variant_get"
        ],
        [
         "try_zstd_decompress"
        ],
        [
         "typeof"
        ],
        [
         "ucase"
        ],
        [
         "unbase64"
        ],
        [
         "unhex"
        ],
        [
         "unix_date"
        ],
        [
         "unix_micros"
        ],
        [
         "unix_millis"
        ],
        [
         "unix_seconds"
        ],
        [
         "unix_timestamp"
        ],
        [
         "upper"
        ],
        [
         "url_decode"
        ],
        [
         "url_encode"
        ],
        [
         "user"
        ],
        [
         "uuid"
        ],
        [
         "validate_utf8"
        ],
        [
         "var_pop"
        ],
        [
         "var_samp"
        ],
        [
         "variance"
        ],
        [
         "variant_explode"
        ],
        [
         "variant_explode_outer"
        ],
        [
         "variant_get"
        ],
        [
         "vector_search"
        ],
        [
         "version"
        ],
        [
         "weekday"
        ],
        [
         "weekofyear"
        ],
        [
         "when"
        ],
        [
         "width_bucket"
        ],
        [
         "window"
        ],
        [
         "window_time"
        ],
        [
         "xpath"
        ],
        [
         "xpath_boolean"
        ],
        [
         "xpath_double"
        ],
        [
         "xpath_float"
        ],
        [
         "xpath_int"
        ],
        [
         "xpath_long"
        ],
        [
         "xpath_number"
        ],
        [
         "xpath_short"
        ],
        [
         "xpath_string"
        ],
        [
         "xxhash64"
        ],
        [
         "year"
        ],
        [
         "zip_with"
        ],
        [
         "zstd_compress"
        ],
        [
         "zstd_decompress"
        ],
        [
         "|"
        ],
        [
         "||"
        ],
        [
         "~"
        ]
       ],
       "datasetInfos": [],
       "dbfsResultPath": null,
       "isJsonSchema": true,
       "metadata": {
        "createTempViewForImplicitDf": true,
        "dataframeName": "_sqldf",
        "executionCount": 40
       },
       "overflow": false,
       "plotOptions": {
        "customPlotOptions": {},
        "displayType": "table",
        "pivotAggregation": null,
        "pivotColumns": null,
        "xColumns": null,
        "yColumns": null
       },
       "removedWidgets": [],
       "schema": [
        {
         "metadata": "{}",
         "name": "function",
         "type": "\"string\""
        }
       ],
       "type": "table"
      }
     },
     "output_type": "display_data"
    }
   ],
   "source": [
    "%sql\n",
    "show functions"
   ]
  },
  {
   "cell_type": "code",
   "execution_count": 0,
   "metadata": {
    "application/vnd.databricks.v1+cell": {
     "cellMetadata": {
      "byteLimit": 2048000,
      "implicitDf": true,
      "rowLimit": 10000
     },
     "inputWidgets": {},
     "nuid": "89548615-3074-4008-afde-65b93f076efe",
     "showTitle": false,
     "tableResultSettingsMap": {},
     "title": ""
    }
   },
   "outputs": [
    {
     "output_type": "display_data",
     "data": {
      "text/html": [
       "<style scoped>\n",
       "  .table-result-container {\n",
       "    max-height: 300px;\n",
       "    overflow: auto;\n",
       "  }\n",
       "  table, th, td {\n",
       "    border: 1px solid black;\n",
       "    border-collapse: collapse;\n",
       "  }\n",
       "  th, td {\n",
       "    padding: 5px;\n",
       "  }\n",
       "  th {\n",
       "    text-align: left;\n",
       "  }\n",
       "</style><div class='table-result-container'><table class='table-result'><thead style='background-color: white'><tr><th>function</th></tr></thead><tbody><tr><td>!</td></tr><tr><td>!=</td></tr><tr><td>%</td></tr><tr><td>&</td></tr><tr><td>*</td></tr><tr><td>+</td></tr><tr><td>-</td></tr><tr><td>/</td></tr><tr><td><</td></tr><tr><td><<</td></tr><tr><td><=</td></tr><tr><td><=></td></tr><tr><td><></td></tr><tr><td>=</td></tr><tr><td>==</td></tr><tr><td>></td></tr><tr><td>>=</td></tr><tr><td>>></td></tr><tr><td>>>></td></tr><tr><td>^</td></tr><tr><td>abs</td></tr><tr><td>acos</td></tr><tr><td>acosh</td></tr><tr><td>add_months</td></tr><tr><td>aes_decrypt</td></tr><tr><td>aes_encrypt</td></tr><tr><td>aggregate</td></tr><tr><td>ai_analyze_sentiment</td></tr><tr><td>ai_classify</td></tr><tr><td>ai_extract</td></tr><tr><td>ai_fix_grammar</td></tr><tr><td>ai_forecast</td></tr><tr><td>ai_gen</td></tr><tr><td>ai_generate_text</td></tr><tr><td>ai_mask</td></tr><tr><td>ai_query</td></tr><tr><td>ai_similarity</td></tr><tr><td>ai_summarize</td></tr><tr><td>ai_translate</td></tr><tr><td>and</td></tr><tr><td>any</td></tr><tr><td>any_value</td></tr><tr><td>approx_count_distinct</td></tr><tr><td>approx_percentile</td></tr><tr><td>approx_top_k</td></tr><tr><td>array</td></tr><tr><td>array_agg</td></tr><tr><td>array_append</td></tr><tr><td>array_compact</td></tr><tr><td>array_contains</td></tr><tr><td>array_distinct</td></tr><tr><td>array_except</td></tr><tr><td>array_insert</td></tr><tr><td>array_intersect</td></tr><tr><td>array_join</td></tr><tr><td>array_max</td></tr><tr><td>array_min</td></tr><tr><td>array_position</td></tr><tr><td>array_prepend</td></tr><tr><td>array_remove</td></tr><tr><td>array_repeat</td></tr><tr><td>array_size</td></tr><tr><td>array_sort</td></tr><tr><td>array_union</td></tr><tr><td>arrays_overlap</td></tr><tr><td>arrays_zip</td></tr><tr><td>ascii</td></tr><tr><td>asin</td></tr><tr><td>asinh</td></tr><tr><td>assert_true</td></tr><tr><td>atan</td></tr><tr><td>atan2</td></tr><tr><td>atanh</td></tr><tr><td>avg</td></tr><tr><td>base64</td></tr><tr><td>between</td></tr><tr><td>bigint</td></tr><tr><td>bin</td></tr><tr><td>binary</td></tr><tr><td>bit_and</td></tr><tr><td>bit_count</td></tr><tr><td>bit_get</td></tr><tr><td>bit_length</td></tr><tr><td>bit_or</td></tr><tr><td>bit_reverse</td></tr><tr><td>bit_xor</td></tr><tr><td>bitmap_bit_position</td></tr><tr><td>bitmap_bucket_number</td></tr><tr><td>bitmap_construct_agg</td></tr><tr><td>bitmap_count</td></tr><tr><td>bitmap_or_agg</td></tr><tr><td>bool_and</td></tr><tr><td>bool_or</td></tr><tr><td>boolean</td></tr><tr><td>bround</td></tr><tr><td>btrim</td></tr><tr><td>cardinality</td></tr><tr><td>case</td></tr><tr><td>cast</td></tr><tr><td>cbrt</td></tr><tr><td>ceil</td></tr><tr><td>ceiling</td></tr><tr><td>char</td></tr><tr><td>char_length</td></tr><tr><td>character_length</td></tr><tr><td>charindex</td></tr><tr><td>chr</td></tr><tr><td>cloud_files</td></tr><tr><td>cloud_files_state</td></tr><tr><td>coalesce</td></tr><tr><td>collate</td></tr><tr><td>collation</td></tr><tr><td>collect_list</td></tr><tr><td>collect_set</td></tr><tr><td>concat</td></tr><tr><td>concat_ws</td></tr><tr><td>contains</td></tr><tr><td>conv</td></tr><tr><td>convert_timezone</td></tr><tr><td>corr</td></tr><tr><td>cos</td></tr><tr><td>cosh</td></tr><tr><td>cot</td></tr><tr><td>count</td></tr><tr><td>count_if</td></tr><tr><td>count_min_sketch</td></tr><tr><td>covar_pop</td></tr><tr><td>covar_samp</td></tr><tr><td>crc32</td></tr><tr><td>csc</td></tr><tr><td>cume_dist</td></tr><tr><td>curdate</td></tr><tr><td>current_catalog</td></tr><tr><td>current_database</td></tr><tr><td>current_date</td></tr><tr><td>current_metastore</td></tr><tr><td>current_oauth_custom_identity_claim</td></tr><tr><td>current_recipient</td></tr><tr><td>current_schema</td></tr><tr><td>current_timestamp</td></tr><tr><td>current_timezone</td></tr><tr><td>current_user</td></tr><tr><td>current_version</td></tr><tr><td>date</td></tr><tr><td>date_add</td></tr><tr><td>date_diff</td></tr><tr><td>date_format</td></tr><tr><td>date_from_unix_date</td></tr><tr><td>date_part</td></tr><tr><td>date_sub</td></tr><tr><td>date_trunc</td></tr><tr><td>dateadd</td></tr><tr><td>datediff</td></tr><tr><td>datepart</td></tr><tr><td>day</td></tr><tr><td>dayofmonth</td></tr><tr><td>dayofweek</td></tr><tr><td>dayofyear</td></tr><tr><td>decimal</td></tr><tr><td>decode</td></tr><tr><td>degrees</td></tr><tr><td>dense_rank</td></tr><tr><td>div</td></tr><tr><td>double</td></tr><tr><td>e</td></tr><tr><td>element_at</td></tr><tr><td>elt</td></tr><tr><td>encode</td></tr><tr><td>endswith</td></tr><tr><td>equal_null</td></tr><tr><td>event_log</td></tr><tr><td>every</td></tr><tr><td>exists</td></tr><tr><td>exp</td></tr><tr><td>explode</td></tr><tr><td>explode_outer</td></tr><tr><td>expm1</td></tr><tr><td>extract</td></tr><tr><td>factorial</td></tr><tr><td>filter</td></tr><tr><td>find_in_set</td></tr><tr><td>first</td></tr><tr><td>first_value</td></tr><tr><td>flatten</td></tr><tr><td>float</td></tr><tr><td>floor</td></tr><tr><td>forall</td></tr><tr><td>format_number</td></tr><tr><td>format_string</td></tr><tr><td>from_csv</td></tr><tr><td>from_json</td></tr><tr><td>from_unixtime</td></tr><tr><td>from_utc_timestamp</td></tr><tr><td>from_xml</td></tr><tr><td>get</td></tr><tr><td>get_json_object</td></tr><tr><td>get_warmup_tracing</td></tr><tr><td>getbit</td></tr><tr><td>getdate</td></tr><tr><td>greatest</td></tr><tr><td>grouping</td></tr><tr><td>grouping_id</td></tr><tr><td>h3_boundaryasgeojson</td></tr><tr><td>h3_boundaryaswkb</td></tr><tr><td>h3_boundaryaswkt</td></tr><tr><td>h3_centerasgeojson</td></tr><tr><td>h3_centeraswkb</td></tr><tr><td>h3_centeraswkt</td></tr><tr><td>h3_compact</td></tr><tr><td>h3_coverash3</td></tr><tr><td>h3_coverash3string</td></tr><tr><td>h3_distance</td></tr><tr><td>h3_getpentagoncellids</td></tr><tr><td>h3_h3tostring</td></tr><tr><td>h3_hexring</td></tr><tr><td>h3_ischildof</td></tr><tr><td>h3_ispentagon</td></tr><tr><td>h3_isvalid</td></tr><tr><td>h3_kring</td></tr><tr><td>h3_kringdistances</td></tr><tr><td>h3_longlatash3</td></tr><tr><td>h3_longlatash3string</td></tr><tr><td>h3_maxchild</td></tr><tr><td>h3_minchild</td></tr><tr><td>h3_pointash3</td></tr><tr><td>h3_pointash3string</td></tr><tr><td>h3_polyfillash3</td></tr><tr><td>h3_polyfillash3string</td></tr><tr><td>h3_resolution</td></tr><tr><td>h3_stringtoh3</td></tr><tr><td>h3_tessellateaswkb</td></tr><tr><td>h3_tochildren</td></tr><tr><td>h3_toparent</td></tr><tr><td>h3_try_distance</td></tr><tr><td>h3_try_polyfillash3</td></tr><tr><td>h3_try_polyfillash3string</td></tr><tr><td>h3_try_validate</td></tr><tr><td>h3_uncompact</td></tr><tr><td>h3_validate</td></tr><tr><td>hash</td></tr><tr><td>hex</td></tr><tr><td>histogram_numeric</td></tr><tr><td>hll_cardinality_internal</td></tr><tr><td>hll_collect_internal</td></tr><tr><td>hll_sketch_agg</td></tr><tr><td>hll_sketch_estimate</td></tr><tr><td>hll_union</td></tr><tr><td>hll_union_agg</td></tr><tr><td>hour</td></tr><tr><td>http_request</td></tr><tr><td>hypot</td></tr><tr><td>if</td></tr><tr><td>iff</td></tr><tr><td>ifnull</td></tr><tr><td>ilike</td></tr><tr><td>in</td></tr><tr><td>ingestion_describe_table</td></tr><tr><td>ingestion_list_catalogs</td></tr><tr><td>ingestion_list_schemas</td></tr><tr><td>ingestion_list_tables</td></tr><tr><td>ingestion_read_data</td></tr><tr><td>initcap</td></tr><tr><td>inline</td></tr><tr><td>inline_outer</td></tr><tr><td>input_file_block_length</td></tr><tr><td>input_file_block_start</td></tr><tr><td>input_file_name</td></tr><tr><td>instr</td></tr><tr><td>int</td></tr><tr><td>is_account_group_member</td></tr><tr><td>is_member</td></tr><tr><td>is_valid_utf8</td></tr><tr><td>is_variant_null</td></tr><tr><td>isnan</td></tr><tr><td>isnotnull</td></tr><tr><td>isnull</td></tr><tr><td>java_method</td></tr><tr><td>json_array_length</td></tr><tr><td>json_object_keys</td></tr><tr><td>json_tuple</td></tr><tr><td>kurtosis</td></tr><tr><td>lag</td></tr><tr><td>last</td></tr><tr><td>last_day</td></tr><tr><td>last_value</td></tr><tr><td>lcase</td></tr><tr><td>lead</td></tr><tr><td>least</td></tr><tr><td>left</td></tr><tr><td>len</td></tr><tr><td>length</td></tr><tr><td>levenshtein</td></tr><tr><td>like</td></tr><tr><td>list_secrets</td></tr><tr><td>ln</td></tr><tr><td>localtimestamp</td></tr><tr><td>locate</td></tr><tr><td>log</td></tr><tr><td>log10</td></tr><tr><td>log1p</td></tr><tr><td>log2</td></tr><tr><td>lower</td></tr><tr><td>lpad</td></tr><tr><td>ltrim</td></tr><tr><td>luhn_check</td></tr><tr><td>make_date</td></tr><tr><td>make_dt_interval</td></tr><tr><td>make_interval</td></tr><tr><td>make_timestamp</td></tr><tr><td>make_timestamp_ltz</td></tr><tr><td>make_timestamp_ntz</td></tr><tr><td>make_valid_utf8</td></tr><tr><td>make_ym_interval</td></tr><tr><td>map</td></tr><tr><td>map_concat</td></tr><tr><td>map_contains_key</td></tr><tr><td>map_entries</td></tr><tr><td>map_filter</td></tr><tr><td>map_from_arrays</td></tr><tr><td>map_from_entries</td></tr><tr><td>map_keys</td></tr><tr><td>map_values</td></tr><tr><td>map_zip_with</td></tr><tr><td>mask</td></tr><tr><td>max</td></tr><tr><td>max_by</td></tr><tr><td>md5</td></tr><tr><td>mean</td></tr><tr><td>median</td></tr><tr><td>metric_store</td></tr><tr><td>min</td></tr><tr><td>min_by</td></tr><tr><td>minute</td></tr><tr><td>mod</td></tr><tr><td>mode</td></tr><tr><td>monotonically_increasing_id</td></tr><tr><td>month</td></tr><tr><td>monthname</td></tr><tr><td>months_between</td></tr><tr><td>named_struct</td></tr><tr><td>nanvl</td></tr><tr><td>negative</td></tr><tr><td>next_day</td></tr><tr><td>not</td></tr><tr><td>now</td></tr><tr><td>nth_value</td></tr><tr><td>ntile</td></tr><tr><td>nullif</td></tr><tr><td>nvl</td></tr><tr><td>nvl2</td></tr><tr><td>octet_length</td></tr><tr><td>or</td></tr><tr><td>overlay</td></tr><tr><td>parse_json</td></tr><tr><td>parse_url</td></tr><tr><td>percent_rank</td></tr><tr><td>percentile</td></tr><tr><td>percentile_approx</td></tr><tr><td>percentile_cont</td></tr><tr><td>percentile_disc</td></tr><tr><td>pi</td></tr><tr><td>pmod</td></tr><tr><td>posexplode</td></tr><tr><td>posexplode_outer</td></tr><tr><td>position</td></tr><tr><td>positive</td></tr><tr><td>pow</td></tr><tr><td>power</td></tr><tr><td>printf</td></tr><tr><td>quarter</td></tr><tr><td>radians</td></tr><tr><td>raise_error</td></tr><tr><td>rand</td></tr><tr><td>randn</td></tr><tr><td>random</td></tr><tr><td>range</td></tr><tr><td>rank</td></tr><tr><td>read_files</td></tr><tr><td>read_kafka</td></tr><tr><td>read_kinesis</td></tr><tr><td>read_pubsub</td></tr><tr><td>read_pulsar</td></tr><tr><td>read_state_metadata</td></tr><tr><td>read_statestore</td></tr><tr><td>reduce</td></tr><tr><td>reflect</td></tr><tr><td>regexp</td></tr><tr><td>regexp_count</td></tr><tr><td>regexp_extract</td></tr><tr><td>regexp_extract_all</td></tr><tr><td>regexp_instr</td></tr><tr><td>regexp_like</td></tr><tr><td>regexp_replace</td></tr><tr><td>regexp_substr</td></tr><tr><td>regr_avgx</td></tr><tr><td>regr_avgy</td></tr><tr><td>regr_count</td></tr><tr><td>regr_intercept</td></tr><tr><td>regr_r2</td></tr><tr><td>regr_slope</td></tr><tr><td>regr_sxx</td></tr><tr><td>regr_sxy</td></tr><tr><td>regr_syy</td></tr><tr><td>repeat</td></tr><tr><td>replace</td></tr><tr><td>reverse</td></tr><tr><td>right</td></tr><tr><td>rint</td></tr><tr><td>rlike</td></tr><tr><td>round</td></tr><tr><td>row_number</td></tr><tr><td>rpad</td></tr><tr><td>rtrim</td></tr><tr><td>schema_of_csv</td></tr><tr><td>schema_of_json</td></tr><tr><td>schema_of_json_agg</td></tr><tr><td>schema_of_variant</td></tr><tr><td>schema_of_variant_agg</td></tr><tr><td>schema_of_xml</td></tr><tr><td>sec</td></tr><tr><td>second</td></tr><tr><td>secret</td></tr><tr><td>sentences</td></tr><tr><td>sequence</td></tr><tr><td>session_user</td></tr><tr><td>session_window</td></tr><tr><td>sha</td></tr><tr><td>sha1</td></tr><tr><td>sha2</td></tr><tr><td>shiftleft</td></tr><tr><td>shiftright</td></tr><tr><td>shiftrightunsigned</td></tr><tr><td>shuffle</td></tr><tr><td>sign</td></tr><tr><td>signum</td></tr><tr><td>sin</td></tr><tr><td>sinh</td></tr><tr><td>size</td></tr><tr><td>skewness</td></tr><tr><td>slice</td></tr><tr><td>smallint</td></tr><tr><td>some</td></tr><tr><td>sort_array</td></tr><tr><td>soundex</td></tr><tr><td>space</td></tr><tr><td>spark_partition_id</td></tr><tr><td>split</td></tr><tr><td>split_part</td></tr><tr><td>sql_keywords</td></tr><tr><td>sqrt</td></tr><tr><td>st_area</td></tr><tr><td>st_asbinary</td></tr><tr><td>st_asewkb</td></tr><tr><td>st_asgeojson</td></tr><tr><td>st_astext</td></tr><tr><td>st_aswkb</td></tr><tr><td>st_aswkt</td></tr><tr><td>st_buffer</td></tr><tr><td>st_centroid</td></tr><tr><td>st_contains</td></tr><tr><td>st_convexhull</td></tr><tr><td>st_difference</td></tr><tr><td>st_distance</td></tr><tr><td>st_distancesphere</td></tr><tr><td>st_distancespheroid</td></tr><tr><td>st_envelope</td></tr><tr><td>st_geogarea</td></tr><tr><td>st_geogfromgeojson</td></tr><tr><td>st_geogfromtext</td></tr><tr><td>st_geogfromwkb</td></tr><tr><td>st_geogfromwkt</td></tr><tr><td>st_geoglength</td></tr><tr><td>st_geogperimeter</td></tr><tr><td>st_geohash</td></tr><tr><td>st_geometryn</td></tr><tr><td>st_geometrytype</td></tr><tr><td>st_geomfromewkb</td></tr><tr><td>st_geomfromgeohash</td></tr><tr><td>st_geomfromgeojson</td></tr><tr><td>st_geomfromtext</td></tr><tr><td>st_geomfromwkb</td></tr><tr><td>st_geomfromwkt</td></tr><tr><td>st_intersection</td></tr><tr><td>st_intersects</td></tr><tr><td>st_isempty</td></tr><tr><td>st_isvalid</td></tr><tr><td>st_length</td></tr><tr><td>st_makeline</td></tr><tr><td>st_makepolygon</td></tr><tr><td>st_ndims</td></tr><tr><td>st_npoints</td></tr><tr><td>st_numgeometries</td></tr><tr><td>st_perimeter</td></tr><tr><td>st_point</td></tr><tr><td>st_pointfromgeohash</td></tr><tr><td>st_rotate</td></tr><tr><td>st_scale</td></tr><tr><td>st_setsrid</td></tr><tr><td>st_simplify</td></tr><tr><td>st_srid</td></tr><tr><td>st_transform</td></tr><tr><td>st_translate</td></tr><tr><td>st_union</td></tr><tr><td>st_union_agg</td></tr><tr><td>st_x</td></tr><tr><td>st_xmax</td></tr><tr><td>st_xmin</td></tr><tr><td>st_y</td></tr><tr><td>st_ymax</td></tr><tr><td>st_ymin</td></tr><tr><td>st_zmax</td></tr><tr><td>st_zmin</td></tr><tr><td>stack</td></tr><tr><td>startswith</td></tr><tr><td>std</td></tr><tr><td>stddev</td></tr><tr><td>stddev_pop</td></tr><tr><td>stddev_samp</td></tr><tr><td>str_to_map</td></tr><tr><td>string</td></tr><tr><td>stringdecode</td></tr><tr><td>struct</td></tr><tr><td>substr</td></tr><tr><td>substring</td></tr><tr><td>substring_index</td></tr><tr><td>sum</td></tr><tr><td>table_changes</td></tr><tr><td>table_changes_by_path</td></tr><tr><td>tan</td></tr><tr><td>tanh</td></tr><tr><td>timestamp</td></tr><tr><td>timestamp_micros</td></tr><tr><td>timestamp_millis</td></tr><tr><td>timestamp_seconds</td></tr><tr><td>tinyint</td></tr><tr><td>to_binary</td></tr><tr><td>to_char</td></tr><tr><td>to_csv</td></tr><tr><td>to_date</td></tr><tr><td>to_geography</td></tr><tr><td>to_geometry</td></tr><tr><td>to_json</td></tr><tr><td>to_number</td></tr><tr><td>to_timestamp</td></tr><tr><td>to_timestamp_ltz</td></tr><tr><td>to_timestamp_ntz</td></tr><tr><td>to_unix_timestamp</td></tr><tr><td>to_utc_timestamp</td></tr><tr><td>to_varchar</td></tr><tr><td>to_variant_object</td></tr><tr><td>to_xml</td></tr><tr><td>transform</td></tr><tr><td>transform_keys</td></tr><tr><td>transform_values</td></tr><tr><td>translate</td></tr><tr><td>trim</td></tr><tr><td>trunc</td></tr><tr><td>try_add</td></tr><tr><td>try_aes_decrypt</td></tr><tr><td>try_avg</td></tr><tr><td>try_divide</td></tr><tr><td>try_element_at</td></tr><tr><td>try_mod</td></tr><tr><td>try_multiply</td></tr><tr><td>try_parse_json</td></tr><tr><td>try_reflect</td></tr><tr><td>try_remainder</td></tr><tr><td>try_secret</td></tr><tr><td>try_subtract</td></tr><tr><td>try_sum</td></tr><tr><td>try_to_binary</td></tr><tr><td>try_to_geography</td></tr><tr><td>try_to_geometry</td></tr><tr><td>try_to_number</td></tr><tr><td>try_to_timestamp</td></tr><tr><td>try_validate_utf8</td></tr><tr><td>try_variant_get</td></tr><tr><td>try_zstd_decompress</td></tr><tr><td>typeof</td></tr><tr><td>ucase</td></tr><tr><td>unbase64</td></tr><tr><td>unhex</td></tr><tr><td>unix_date</td></tr><tr><td>unix_micros</td></tr><tr><td>unix_millis</td></tr><tr><td>unix_seconds</td></tr><tr><td>unix_timestamp</td></tr><tr><td>upper</td></tr><tr><td>url_decode</td></tr><tr><td>url_encode</td></tr><tr><td>user</td></tr><tr><td>uuid</td></tr><tr><td>validate_utf8</td></tr><tr><td>var_pop</td></tr><tr><td>var_samp</td></tr><tr><td>variance</td></tr><tr><td>variant_explode</td></tr><tr><td>variant_explode_outer</td></tr><tr><td>variant_get</td></tr><tr><td>vector_search</td></tr><tr><td>version</td></tr><tr><td>weekday</td></tr><tr><td>weekofyear</td></tr><tr><td>when</td></tr><tr><td>width_bucket</td></tr><tr><td>window</td></tr><tr><td>window_time</td></tr><tr><td>xpath</td></tr><tr><td>xpath_boolean</td></tr><tr><td>xpath_double</td></tr><tr><td>xpath_float</td></tr><tr><td>xpath_int</td></tr><tr><td>xpath_long</td></tr><tr><td>xpath_number</td></tr><tr><td>xpath_short</td></tr><tr><td>xpath_string</td></tr><tr><td>xxhash64</td></tr><tr><td>year</td></tr><tr><td>zip_with</td></tr><tr><td>zstd_compress</td></tr><tr><td>zstd_decompress</td></tr><tr><td>|</td></tr><tr><td>||</td></tr><tr><td>~</td></tr></tbody></table></div>"
      ]
     },
     "metadata": {
      "application/vnd.databricks.v1+output": {
       "addedWidgets": {},
       "aggData": [],
       "aggError": "",
       "aggOverflow": false,
       "aggSchema": [],
       "aggSeriesLimitReached": false,
       "aggType": "",
       "arguments": {},
       "columnCustomDisplayInfos": {},
       "data": [
        [
         "!"
        ],
        [
         "!="
        ],
        [
         "%"
        ],
        [
         "&"
        ],
        [
         "*"
        ],
        [
         "+"
        ],
        [
         "-"
        ],
        [
         "/"
        ],
        [
         "<"
        ],
        [
         "<<"
        ],
        [
         "<="
        ],
        [
         "<=>"
        ],
        [
         "<>"
        ],
        [
         "="
        ],
        [
         "=="
        ],
        [
         ">"
        ],
        [
         ">="
        ],
        [
         ">>"
        ],
        [
         ">>>"
        ],
        [
         "^"
        ],
        [
         "abs"
        ],
        [
         "acos"
        ],
        [
         "acosh"
        ],
        [
         "add_months"
        ],
        [
         "aes_decrypt"
        ],
        [
         "aes_encrypt"
        ],
        [
         "aggregate"
        ],
        [
         "ai_analyze_sentiment"
        ],
        [
         "ai_classify"
        ],
        [
         "ai_extract"
        ],
        [
         "ai_fix_grammar"
        ],
        [
         "ai_forecast"
        ],
        [
         "ai_gen"
        ],
        [
         "ai_generate_text"
        ],
        [
         "ai_mask"
        ],
        [
         "ai_query"
        ],
        [
         "ai_similarity"
        ],
        [
         "ai_summarize"
        ],
        [
         "ai_translate"
        ],
        [
         "and"
        ],
        [
         "any"
        ],
        [
         "any_value"
        ],
        [
         "approx_count_distinct"
        ],
        [
         "approx_percentile"
        ],
        [
         "approx_top_k"
        ],
        [
         "array"
        ],
        [
         "array_agg"
        ],
        [
         "array_append"
        ],
        [
         "array_compact"
        ],
        [
         "array_contains"
        ],
        [
         "array_distinct"
        ],
        [
         "array_except"
        ],
        [
         "array_insert"
        ],
        [
         "array_intersect"
        ],
        [
         "array_join"
        ],
        [
         "array_max"
        ],
        [
         "array_min"
        ],
        [
         "array_position"
        ],
        [
         "array_prepend"
        ],
        [
         "array_remove"
        ],
        [
         "array_repeat"
        ],
        [
         "array_size"
        ],
        [
         "array_sort"
        ],
        [
         "array_union"
        ],
        [
         "arrays_overlap"
        ],
        [
         "arrays_zip"
        ],
        [
         "ascii"
        ],
        [
         "asin"
        ],
        [
         "asinh"
        ],
        [
         "assert_true"
        ],
        [
         "atan"
        ],
        [
         "atan2"
        ],
        [
         "atanh"
        ],
        [
         "avg"
        ],
        [
         "base64"
        ],
        [
         "between"
        ],
        [
         "bigint"
        ],
        [
         "bin"
        ],
        [
         "binary"
        ],
        [
         "bit_and"
        ],
        [
         "bit_count"
        ],
        [
         "bit_get"
        ],
        [
         "bit_length"
        ],
        [
         "bit_or"
        ],
        [
         "bit_reverse"
        ],
        [
         "bit_xor"
        ],
        [
         "bitmap_bit_position"
        ],
        [
         "bitmap_bucket_number"
        ],
        [
         "bitmap_construct_agg"
        ],
        [
         "bitmap_count"
        ],
        [
         "bitmap_or_agg"
        ],
        [
         "bool_and"
        ],
        [
         "bool_or"
        ],
        [
         "boolean"
        ],
        [
         "bround"
        ],
        [
         "btrim"
        ],
        [
         "cardinality"
        ],
        [
         "case"
        ],
        [
         "cast"
        ],
        [
         "cbrt"
        ],
        [
         "ceil"
        ],
        [
         "ceiling"
        ],
        [
         "char"
        ],
        [
         "char_length"
        ],
        [
         "character_length"
        ],
        [
         "charindex"
        ],
        [
         "chr"
        ],
        [
         "cloud_files"
        ],
        [
         "cloud_files_state"
        ],
        [
         "coalesce"
        ],
        [
         "collate"
        ],
        [
         "collation"
        ],
        [
         "collect_list"
        ],
        [
         "collect_set"
        ],
        [
         "concat"
        ],
        [
         "concat_ws"
        ],
        [
         "contains"
        ],
        [
         "conv"
        ],
        [
         "convert_timezone"
        ],
        [
         "corr"
        ],
        [
         "cos"
        ],
        [
         "cosh"
        ],
        [
         "cot"
        ],
        [
         "count"
        ],
        [
         "count_if"
        ],
        [
         "count_min_sketch"
        ],
        [
         "covar_pop"
        ],
        [
         "covar_samp"
        ],
        [
         "crc32"
        ],
        [
         "csc"
        ],
        [
         "cume_dist"
        ],
        [
         "curdate"
        ],
        [
         "current_catalog"
        ],
        [
         "current_database"
        ],
        [
         "current_date"
        ],
        [
         "current_metastore"
        ],
        [
         "current_oauth_custom_identity_claim"
        ],
        [
         "current_recipient"
        ],
        [
         "current_schema"
        ],
        [
         "current_timestamp"
        ],
        [
         "current_timezone"
        ],
        [
         "current_user"
        ],
        [
         "current_version"
        ],
        [
         "date"
        ],
        [
         "date_add"
        ],
        [
         "date_diff"
        ],
        [
         "date_format"
        ],
        [
         "date_from_unix_date"
        ],
        [
         "date_part"
        ],
        [
         "date_sub"
        ],
        [
         "date_trunc"
        ],
        [
         "dateadd"
        ],
        [
         "datediff"
        ],
        [
         "datepart"
        ],
        [
         "day"
        ],
        [
         "dayofmonth"
        ],
        [
         "dayofweek"
        ],
        [
         "dayofyear"
        ],
        [
         "decimal"
        ],
        [
         "decode"
        ],
        [
         "degrees"
        ],
        [
         "dense_rank"
        ],
        [
         "div"
        ],
        [
         "double"
        ],
        [
         "e"
        ],
        [
         "element_at"
        ],
        [
         "elt"
        ],
        [
         "encode"
        ],
        [
         "endswith"
        ],
        [
         "equal_null"
        ],
        [
         "event_log"
        ],
        [
         "every"
        ],
        [
         "exists"
        ],
        [
         "exp"
        ],
        [
         "explode"
        ],
        [
         "explode_outer"
        ],
        [
         "expm1"
        ],
        [
         "extract"
        ],
        [
         "factorial"
        ],
        [
         "filter"
        ],
        [
         "find_in_set"
        ],
        [
         "first"
        ],
        [
         "first_value"
        ],
        [
         "flatten"
        ],
        [
         "float"
        ],
        [
         "floor"
        ],
        [
         "forall"
        ],
        [
         "format_number"
        ],
        [
         "format_string"
        ],
        [
         "from_csv"
        ],
        [
         "from_json"
        ],
        [
         "from_unixtime"
        ],
        [
         "from_utc_timestamp"
        ],
        [
         "from_xml"
        ],
        [
         "get"
        ],
        [
         "get_json_object"
        ],
        [
         "get_warmup_tracing"
        ],
        [
         "getbit"
        ],
        [
         "getdate"
        ],
        [
         "greatest"
        ],
        [
         "grouping"
        ],
        [
         "grouping_id"
        ],
        [
         "h3_boundaryasgeojson"
        ],
        [
         "h3_boundaryaswkb"
        ],
        [
         "h3_boundaryaswkt"
        ],
        [
         "h3_centerasgeojson"
        ],
        [
         "h3_centeraswkb"
        ],
        [
         "h3_centeraswkt"
        ],
        [
         "h3_compact"
        ],
        [
         "h3_coverash3"
        ],
        [
         "h3_coverash3string"
        ],
        [
         "h3_distance"
        ],
        [
         "h3_getpentagoncellids"
        ],
        [
         "h3_h3tostring"
        ],
        [
         "h3_hexring"
        ],
        [
         "h3_ischildof"
        ],
        [
         "h3_ispentagon"
        ],
        [
         "h3_isvalid"
        ],
        [
         "h3_kring"
        ],
        [
         "h3_kringdistances"
        ],
        [
         "h3_longlatash3"
        ],
        [
         "h3_longlatash3string"
        ],
        [
         "h3_maxchild"
        ],
        [
         "h3_minchild"
        ],
        [
         "h3_pointash3"
        ],
        [
         "h3_pointash3string"
        ],
        [
         "h3_polyfillash3"
        ],
        [
         "h3_polyfillash3string"
        ],
        [
         "h3_resolution"
        ],
        [
         "h3_stringtoh3"
        ],
        [
         "h3_tessellateaswkb"
        ],
        [
         "h3_tochildren"
        ],
        [
         "h3_toparent"
        ],
        [
         "h3_try_distance"
        ],
        [
         "h3_try_polyfillash3"
        ],
        [
         "h3_try_polyfillash3string"
        ],
        [
         "h3_try_validate"
        ],
        [
         "h3_uncompact"
        ],
        [
         "h3_validate"
        ],
        [
         "hash"
        ],
        [
         "hex"
        ],
        [
         "histogram_numeric"
        ],
        [
         "hll_cardinality_internal"
        ],
        [
         "hll_collect_internal"
        ],
        [
         "hll_sketch_agg"
        ],
        [
         "hll_sketch_estimate"
        ],
        [
         "hll_union"
        ],
        [
         "hll_union_agg"
        ],
        [
         "hour"
        ],
        [
         "http_request"
        ],
        [
         "hypot"
        ],
        [
         "if"
        ],
        [
         "iff"
        ],
        [
         "ifnull"
        ],
        [
         "ilike"
        ],
        [
         "in"
        ],
        [
         "ingestion_describe_table"
        ],
        [
         "ingestion_list_catalogs"
        ],
        [
         "ingestion_list_schemas"
        ],
        [
         "ingestion_list_tables"
        ],
        [
         "ingestion_read_data"
        ],
        [
         "initcap"
        ],
        [
         "inline"
        ],
        [
         "inline_outer"
        ],
        [
         "input_file_block_length"
        ],
        [
         "input_file_block_start"
        ],
        [
         "input_file_name"
        ],
        [
         "instr"
        ],
        [
         "int"
        ],
        [
         "is_account_group_member"
        ],
        [
         "is_member"
        ],
        [
         "is_valid_utf8"
        ],
        [
         "is_variant_null"
        ],
        [
         "isnan"
        ],
        [
         "isnotnull"
        ],
        [
         "isnull"
        ],
        [
         "java_method"
        ],
        [
         "json_array_length"
        ],
        [
         "json_object_keys"
        ],
        [
         "json_tuple"
        ],
        [
         "kurtosis"
        ],
        [
         "lag"
        ],
        [
         "last"
        ],
        [
         "last_day"
        ],
        [
         "last_value"
        ],
        [
         "lcase"
        ],
        [
         "lead"
        ],
        [
         "least"
        ],
        [
         "left"
        ],
        [
         "len"
        ],
        [
         "length"
        ],
        [
         "levenshtein"
        ],
        [
         "like"
        ],
        [
         "list_secrets"
        ],
        [
         "ln"
        ],
        [
         "localtimestamp"
        ],
        [
         "locate"
        ],
        [
         "log"
        ],
        [
         "log10"
        ],
        [
         "log1p"
        ],
        [
         "log2"
        ],
        [
         "lower"
        ],
        [
         "lpad"
        ],
        [
         "ltrim"
        ],
        [
         "luhn_check"
        ],
        [
         "make_date"
        ],
        [
         "make_dt_interval"
        ],
        [
         "make_interval"
        ],
        [
         "make_timestamp"
        ],
        [
         "make_timestamp_ltz"
        ],
        [
         "make_timestamp_ntz"
        ],
        [
         "make_valid_utf8"
        ],
        [
         "make_ym_interval"
        ],
        [
         "map"
        ],
        [
         "map_concat"
        ],
        [
         "map_contains_key"
        ],
        [
         "map_entries"
        ],
        [
         "map_filter"
        ],
        [
         "map_from_arrays"
        ],
        [
         "map_from_entries"
        ],
        [
         "map_keys"
        ],
        [
         "map_values"
        ],
        [
         "map_zip_with"
        ],
        [
         "mask"
        ],
        [
         "max"
        ],
        [
         "max_by"
        ],
        [
         "md5"
        ],
        [
         "mean"
        ],
        [
         "median"
        ],
        [
         "metric_store"
        ],
        [
         "min"
        ],
        [
         "min_by"
        ],
        [
         "minute"
        ],
        [
         "mod"
        ],
        [
         "mode"
        ],
        [
         "monotonically_increasing_id"
        ],
        [
         "month"
        ],
        [
         "monthname"
        ],
        [
         "months_between"
        ],
        [
         "named_struct"
        ],
        [
         "nanvl"
        ],
        [
         "negative"
        ],
        [
         "next_day"
        ],
        [
         "not"
        ],
        [
         "now"
        ],
        [
         "nth_value"
        ],
        [
         "ntile"
        ],
        [
         "nullif"
        ],
        [
         "nvl"
        ],
        [
         "nvl2"
        ],
        [
         "octet_length"
        ],
        [
         "or"
        ],
        [
         "overlay"
        ],
        [
         "parse_json"
        ],
        [
         "parse_url"
        ],
        [
         "percent_rank"
        ],
        [
         "percentile"
        ],
        [
         "percentile_approx"
        ],
        [
         "percentile_cont"
        ],
        [
         "percentile_disc"
        ],
        [
         "pi"
        ],
        [
         "pmod"
        ],
        [
         "posexplode"
        ],
        [
         "posexplode_outer"
        ],
        [
         "position"
        ],
        [
         "positive"
        ],
        [
         "pow"
        ],
        [
         "power"
        ],
        [
         "printf"
        ],
        [
         "quarter"
        ],
        [
         "radians"
        ],
        [
         "raise_error"
        ],
        [
         "rand"
        ],
        [
         "randn"
        ],
        [
         "random"
        ],
        [
         "range"
        ],
        [
         "rank"
        ],
        [
         "read_files"
        ],
        [
         "read_kafka"
        ],
        [
         "read_kinesis"
        ],
        [
         "read_pubsub"
        ],
        [
         "read_pulsar"
        ],
        [
         "read_state_metadata"
        ],
        [
         "read_statestore"
        ],
        [
         "reduce"
        ],
        [
         "reflect"
        ],
        [
         "regexp"
        ],
        [
         "regexp_count"
        ],
        [
         "regexp_extract"
        ],
        [
         "regexp_extract_all"
        ],
        [
         "regexp_instr"
        ],
        [
         "regexp_like"
        ],
        [
         "regexp_replace"
        ],
        [
         "regexp_substr"
        ],
        [
         "regr_avgx"
        ],
        [
         "regr_avgy"
        ],
        [
         "regr_count"
        ],
        [
         "regr_intercept"
        ],
        [
         "regr_r2"
        ],
        [
         "regr_slope"
        ],
        [
         "regr_sxx"
        ],
        [
         "regr_sxy"
        ],
        [
         "regr_syy"
        ],
        [
         "repeat"
        ],
        [
         "replace"
        ],
        [
         "reverse"
        ],
        [
         "right"
        ],
        [
         "rint"
        ],
        [
         "rlike"
        ],
        [
         "round"
        ],
        [
         "row_number"
        ],
        [
         "rpad"
        ],
        [
         "rtrim"
        ],
        [
         "schema_of_csv"
        ],
        [
         "schema_of_json"
        ],
        [
         "schema_of_json_agg"
        ],
        [
         "schema_of_variant"
        ],
        [
         "schema_of_variant_agg"
        ],
        [
         "schema_of_xml"
        ],
        [
         "sec"
        ],
        [
         "second"
        ],
        [
         "secret"
        ],
        [
         "sentences"
        ],
        [
         "sequence"
        ],
        [
         "session_user"
        ],
        [
         "session_window"
        ],
        [
         "sha"
        ],
        [
         "sha1"
        ],
        [
         "sha2"
        ],
        [
         "shiftleft"
        ],
        [
         "shiftright"
        ],
        [
         "shiftrightunsigned"
        ],
        [
         "shuffle"
        ],
        [
         "sign"
        ],
        [
         "signum"
        ],
        [
         "sin"
        ],
        [
         "sinh"
        ],
        [
         "size"
        ],
        [
         "skewness"
        ],
        [
         "slice"
        ],
        [
         "smallint"
        ],
        [
         "some"
        ],
        [
         "sort_array"
        ],
        [
         "soundex"
        ],
        [
         "space"
        ],
        [
         "spark_partition_id"
        ],
        [
         "split"
        ],
        [
         "split_part"
        ],
        [
         "sql_keywords"
        ],
        [
         "sqrt"
        ],
        [
         "st_area"
        ],
        [
         "st_asbinary"
        ],
        [
         "st_asewkb"
        ],
        [
         "st_asgeojson"
        ],
        [
         "st_astext"
        ],
        [
         "st_aswkb"
        ],
        [
         "st_aswkt"
        ],
        [
         "st_buffer"
        ],
        [
         "st_centroid"
        ],
        [
         "st_contains"
        ],
        [
         "st_convexhull"
        ],
        [
         "st_difference"
        ],
        [
         "st_distance"
        ],
        [
         "st_distancesphere"
        ],
        [
         "st_distancespheroid"
        ],
        [
         "st_envelope"
        ],
        [
         "st_geogarea"
        ],
        [
         "st_geogfromgeojson"
        ],
        [
         "st_geogfromtext"
        ],
        [
         "st_geogfromwkb"
        ],
        [
         "st_geogfromwkt"
        ],
        [
         "st_geoglength"
        ],
        [
         "st_geogperimeter"
        ],
        [
         "st_geohash"
        ],
        [
         "st_geometryn"
        ],
        [
         "st_geometrytype"
        ],
        [
         "st_geomfromewkb"
        ],
        [
         "st_geomfromgeohash"
        ],
        [
         "st_geomfromgeojson"
        ],
        [
         "st_geomfromtext"
        ],
        [
         "st_geomfromwkb"
        ],
        [
         "st_geomfromwkt"
        ],
        [
         "st_intersection"
        ],
        [
         "st_intersects"
        ],
        [
         "st_isempty"
        ],
        [
         "st_isvalid"
        ],
        [
         "st_length"
        ],
        [
         "st_makeline"
        ],
        [
         "st_makepolygon"
        ],
        [
         "st_ndims"
        ],
        [
         "st_npoints"
        ],
        [
         "st_numgeometries"
        ],
        [
         "st_perimeter"
        ],
        [
         "st_point"
        ],
        [
         "st_pointfromgeohash"
        ],
        [
         "st_rotate"
        ],
        [
         "st_scale"
        ],
        [
         "st_setsrid"
        ],
        [
         "st_simplify"
        ],
        [
         "st_srid"
        ],
        [
         "st_transform"
        ],
        [
         "st_translate"
        ],
        [
         "st_union"
        ],
        [
         "st_union_agg"
        ],
        [
         "st_x"
        ],
        [
         "st_xmax"
        ],
        [
         "st_xmin"
        ],
        [
         "st_y"
        ],
        [
         "st_ymax"
        ],
        [
         "st_ymin"
        ],
        [
         "st_zmax"
        ],
        [
         "st_zmin"
        ],
        [
         "stack"
        ],
        [
         "startswith"
        ],
        [
         "std"
        ],
        [
         "stddev"
        ],
        [
         "stddev_pop"
        ],
        [
         "stddev_samp"
        ],
        [
         "str_to_map"
        ],
        [
         "string"
        ],
        [
         "stringdecode"
        ],
        [
         "struct"
        ],
        [
         "substr"
        ],
        [
         "substring"
        ],
        [
         "substring_index"
        ],
        [
         "sum"
        ],
        [
         "table_changes"
        ],
        [
         "table_changes_by_path"
        ],
        [
         "tan"
        ],
        [
         "tanh"
        ],
        [
         "timestamp"
        ],
        [
         "timestamp_micros"
        ],
        [
         "timestamp_millis"
        ],
        [
         "timestamp_seconds"
        ],
        [
         "tinyint"
        ],
        [
         "to_binary"
        ],
        [
         "to_char"
        ],
        [
         "to_csv"
        ],
        [
         "to_date"
        ],
        [
         "to_geography"
        ],
        [
         "to_geometry"
        ],
        [
         "to_json"
        ],
        [
         "to_number"
        ],
        [
         "to_timestamp"
        ],
        [
         "to_timestamp_ltz"
        ],
        [
         "to_timestamp_ntz"
        ],
        [
         "to_unix_timestamp"
        ],
        [
         "to_utc_timestamp"
        ],
        [
         "to_varchar"
        ],
        [
         "to_variant_object"
        ],
        [
         "to_xml"
        ],
        [
         "transform"
        ],
        [
         "transform_keys"
        ],
        [
         "transform_values"
        ],
        [
         "translate"
        ],
        [
         "trim"
        ],
        [
         "trunc"
        ],
        [
         "try_add"
        ],
        [
         "try_aes_decrypt"
        ],
        [
         "try_avg"
        ],
        [
         "try_divide"
        ],
        [
         "try_element_at"
        ],
        [
         "try_mod"
        ],
        [
         "try_multiply"
        ],
        [
         "try_parse_json"
        ],
        [
         "try_reflect"
        ],
        [
         "try_remainder"
        ],
        [
         "try_secret"
        ],
        [
         "try_subtract"
        ],
        [
         "try_sum"
        ],
        [
         "try_to_binary"
        ],
        [
         "try_to_geography"
        ],
        [
         "try_to_geometry"
        ],
        [
         "try_to_number"
        ],
        [
         "try_to_timestamp"
        ],
        [
         "try_validate_utf8"
        ],
        [
         "try_variant_get"
        ],
        [
         "try_zstd_decompress"
        ],
        [
         "typeof"
        ],
        [
         "ucase"
        ],
        [
         "unbase64"
        ],
        [
         "unhex"
        ],
        [
         "unix_date"
        ],
        [
         "unix_micros"
        ],
        [
         "unix_millis"
        ],
        [
         "unix_seconds"
        ],
        [
         "unix_timestamp"
        ],
        [
         "upper"
        ],
        [
         "url_decode"
        ],
        [
         "url_encode"
        ],
        [
         "user"
        ],
        [
         "uuid"
        ],
        [
         "validate_utf8"
        ],
        [
         "var_pop"
        ],
        [
         "var_samp"
        ],
        [
         "variance"
        ],
        [
         "variant_explode"
        ],
        [
         "variant_explode_outer"
        ],
        [
         "variant_get"
        ],
        [
         "vector_search"
        ],
        [
         "version"
        ],
        [
         "weekday"
        ],
        [
         "weekofyear"
        ],
        [
         "when"
        ],
        [
         "width_bucket"
        ],
        [
         "window"
        ],
        [
         "window_time"
        ],
        [
         "xpath"
        ],
        [
         "xpath_boolean"
        ],
        [
         "xpath_double"
        ],
        [
         "xpath_float"
        ],
        [
         "xpath_int"
        ],
        [
         "xpath_long"
        ],
        [
         "xpath_number"
        ],
        [
         "xpath_short"
        ],
        [
         "xpath_string"
        ],
        [
         "xxhash64"
        ],
        [
         "year"
        ],
        [
         "zip_with"
        ],
        [
         "zstd_compress"
        ],
        [
         "zstd_decompress"
        ],
        [
         "|"
        ],
        [
         "||"
        ],
        [
         "~"
        ]
       ],
       "datasetInfos": [],
       "dbfsResultPath": null,
       "isJsonSchema": true,
       "metadata": {
        "createTempViewForImplicitDf": true,
        "dataframeName": "_sqldf",
        "executionCount": 41
       },
       "overflow": false,
       "plotOptions": {
        "customPlotOptions": {},
        "displayType": "table",
        "pivotAggregation": null,
        "pivotColumns": null,
        "xColumns": null,
        "yColumns": null
       },
       "removedWidgets": [],
       "schema": [
        {
         "metadata": "{}",
         "name": "function",
         "type": "\"string\""
        }
       ],
       "type": "table"
      }
     },
     "output_type": "display_data"
    }
   ],
   "source": [
    "%sql\n",
    "show system functions"
   ]
  },
  {
   "cell_type": "code",
   "execution_count": 0,
   "metadata": {
    "application/vnd.databricks.v1+cell": {
     "cellMetadata": {
      "byteLimit": 2048000,
      "implicitDf": true,
      "rowLimit": 10000
     },
     "inputWidgets": {},
     "nuid": "ceba162b-78d9-457a-9259-e541ef2eb63b",
     "showTitle": false,
     "tableResultSettingsMap": {},
     "title": ""
    }
   },
   "outputs": [
    {
     "output_type": "display_data",
     "data": {
      "text/html": [
       "<style scoped>\n",
       "  .table-result-container {\n",
       "    max-height: 300px;\n",
       "    overflow: auto;\n",
       "  }\n",
       "  table, th, td {\n",
       "    border: 1px solid black;\n",
       "    border-collapse: collapse;\n",
       "  }\n",
       "  th, td {\n",
       "    padding: 5px;\n",
       "  }\n",
       "  th {\n",
       "    text-align: left;\n",
       "  }\n",
       "</style><div class='table-result-container'><table class='table-result'><thead style='background-color: white'><tr><th>function</th></tr></thead><tbody><tr><td>getargument</td></tr></tbody></table></div>"
      ]
     },
     "metadata": {
      "application/vnd.databricks.v1+output": {
       "addedWidgets": {},
       "aggData": [],
       "aggError": "",
       "aggOverflow": false,
       "aggSchema": [],
       "aggSeriesLimitReached": false,
       "aggType": "",
       "arguments": {},
       "columnCustomDisplayInfos": {},
       "data": [
        [
         "getargument"
        ]
       ],
       "datasetInfos": [],
       "dbfsResultPath": null,
       "isJsonSchema": true,
       "metadata": {
        "createTempViewForImplicitDf": true,
        "dataframeName": "_sqldf",
        "executionCount": 42
       },
       "overflow": false,
       "plotOptions": {
        "customPlotOptions": {},
        "displayType": "table",
        "pivotAggregation": null,
        "pivotColumns": null,
        "xColumns": null,
        "yColumns": null
       },
       "removedWidgets": [],
       "schema": [
        {
         "metadata": "{}",
         "name": "function",
         "type": "\"string\""
        }
       ],
       "type": "table"
      }
     },
     "output_type": "display_data"
    }
   ],
   "source": [
    "%sql\n",
    "show user functions"
   ]
  },
  {
   "cell_type": "code",
   "execution_count": 0,
   "metadata": {
    "application/vnd.databricks.v1+cell": {
     "cellMetadata": {
      "byteLimit": 2048000,
      "implicitDf": true,
      "rowLimit": 10000
     },
     "inputWidgets": {},
     "nuid": "415295fd-47d4-48af-bd5b-cdcc68fe6d5d",
     "showTitle": false,
     "tableResultSettingsMap": {},
     "title": ""
    }
   },
   "outputs": [
    {
     "output_type": "display_data",
     "data": {
      "text/html": [
       "<style scoped>\n",
       "  .table-result-container {\n",
       "    max-height: 300px;\n",
       "    overflow: auto;\n",
       "  }\n",
       "  table, th, td {\n",
       "    border: 1px solid black;\n",
       "    border-collapse: collapse;\n",
       "  }\n",
       "  th, td {\n",
       "    padding: 5px;\n",
       "  }\n",
       "  th {\n",
       "    text-align: left;\n",
       "  }\n",
       "</style><div class='table-result-container'><table class='table-result'><thead style='background-color: white'><tr><th>function</th></tr></thead><tbody><tr><td>schema_of_csv</td></tr><tr><td>schema_of_json</td></tr><tr><td>schema_of_json_agg</td></tr><tr><td>schema_of_variant</td></tr><tr><td>schema_of_variant_agg</td></tr><tr><td>schema_of_xml</td></tr><tr><td>sec</td></tr><tr><td>second</td></tr><tr><td>secret</td></tr><tr><td>sentences</td></tr><tr><td>sequence</td></tr><tr><td>session_user</td></tr><tr><td>session_window</td></tr><tr><td>sha</td></tr><tr><td>sha1</td></tr><tr><td>sha2</td></tr><tr><td>shiftleft</td></tr><tr><td>shiftright</td></tr><tr><td>shiftrightunsigned</td></tr><tr><td>shuffle</td></tr><tr><td>sign</td></tr><tr><td>signum</td></tr><tr><td>sin</td></tr><tr><td>sinh</td></tr><tr><td>size</td></tr><tr><td>skewness</td></tr><tr><td>slice</td></tr><tr><td>smallint</td></tr><tr><td>some</td></tr><tr><td>sort_array</td></tr><tr><td>soundex</td></tr><tr><td>space</td></tr><tr><td>spark_partition_id</td></tr><tr><td>split</td></tr><tr><td>split_part</td></tr><tr><td>sql_keywords</td></tr><tr><td>sqrt</td></tr><tr><td>st_area</td></tr><tr><td>st_asbinary</td></tr><tr><td>st_asewkb</td></tr><tr><td>st_asgeojson</td></tr><tr><td>st_astext</td></tr><tr><td>st_aswkb</td></tr><tr><td>st_aswkt</td></tr><tr><td>st_buffer</td></tr><tr><td>st_centroid</td></tr><tr><td>st_contains</td></tr><tr><td>st_convexhull</td></tr><tr><td>st_difference</td></tr><tr><td>st_distance</td></tr><tr><td>st_distancesphere</td></tr><tr><td>st_distancespheroid</td></tr><tr><td>st_envelope</td></tr><tr><td>st_geogarea</td></tr><tr><td>st_geogfromgeojson</td></tr><tr><td>st_geogfromtext</td></tr><tr><td>st_geogfromwkb</td></tr><tr><td>st_geogfromwkt</td></tr><tr><td>st_geoglength</td></tr><tr><td>st_geogperimeter</td></tr><tr><td>st_geohash</td></tr><tr><td>st_geometryn</td></tr><tr><td>st_geometrytype</td></tr><tr><td>st_geomfromewkb</td></tr><tr><td>st_geomfromgeohash</td></tr><tr><td>st_geomfromgeojson</td></tr><tr><td>st_geomfromtext</td></tr><tr><td>st_geomfromwkb</td></tr><tr><td>st_geomfromwkt</td></tr><tr><td>st_intersection</td></tr><tr><td>st_intersects</td></tr><tr><td>st_isempty</td></tr><tr><td>st_isvalid</td></tr><tr><td>st_length</td></tr><tr><td>st_makeline</td></tr><tr><td>st_makepolygon</td></tr><tr><td>st_ndims</td></tr><tr><td>st_npoints</td></tr><tr><td>st_numgeometries</td></tr><tr><td>st_perimeter</td></tr><tr><td>st_point</td></tr><tr><td>st_pointfromgeohash</td></tr><tr><td>st_rotate</td></tr><tr><td>st_scale</td></tr><tr><td>st_setsrid</td></tr><tr><td>st_simplify</td></tr><tr><td>st_srid</td></tr><tr><td>st_transform</td></tr><tr><td>st_translate</td></tr><tr><td>st_union</td></tr><tr><td>st_union_agg</td></tr><tr><td>st_x</td></tr><tr><td>st_xmax</td></tr><tr><td>st_xmin</td></tr><tr><td>st_y</td></tr><tr><td>st_ymax</td></tr><tr><td>st_ymin</td></tr><tr><td>st_zmax</td></tr><tr><td>st_zmin</td></tr><tr><td>stack</td></tr><tr><td>startswith</td></tr><tr><td>std</td></tr><tr><td>stddev</td></tr><tr><td>stddev_pop</td></tr><tr><td>stddev_samp</td></tr><tr><td>str_to_map</td></tr><tr><td>string</td></tr><tr><td>stringdecode</td></tr><tr><td>struct</td></tr><tr><td>substr</td></tr><tr><td>substring</td></tr><tr><td>substring_index</td></tr><tr><td>sum</td></tr></tbody></table></div>"
      ]
     },
     "metadata": {
      "application/vnd.databricks.v1+output": {
       "addedWidgets": {},
       "aggData": [],
       "aggError": "",
       "aggOverflow": false,
       "aggSchema": [],
       "aggSeriesLimitReached": false,
       "aggType": "",
       "arguments": {},
       "columnCustomDisplayInfos": {},
       "data": [
        [
         "schema_of_csv"
        ],
        [
         "schema_of_json"
        ],
        [
         "schema_of_json_agg"
        ],
        [
         "schema_of_variant"
        ],
        [
         "schema_of_variant_agg"
        ],
        [
         "schema_of_xml"
        ],
        [
         "sec"
        ],
        [
         "second"
        ],
        [
         "secret"
        ],
        [
         "sentences"
        ],
        [
         "sequence"
        ],
        [
         "session_user"
        ],
        [
         "session_window"
        ],
        [
         "sha"
        ],
        [
         "sha1"
        ],
        [
         "sha2"
        ],
        [
         "shiftleft"
        ],
        [
         "shiftright"
        ],
        [
         "shiftrightunsigned"
        ],
        [
         "shuffle"
        ],
        [
         "sign"
        ],
        [
         "signum"
        ],
        [
         "sin"
        ],
        [
         "sinh"
        ],
        [
         "size"
        ],
        [
         "skewness"
        ],
        [
         "slice"
        ],
        [
         "smallint"
        ],
        [
         "some"
        ],
        [
         "sort_array"
        ],
        [
         "soundex"
        ],
        [
         "space"
        ],
        [
         "spark_partition_id"
        ],
        [
         "split"
        ],
        [
         "split_part"
        ],
        [
         "sql_keywords"
        ],
        [
         "sqrt"
        ],
        [
         "st_area"
        ],
        [
         "st_asbinary"
        ],
        [
         "st_asewkb"
        ],
        [
         "st_asgeojson"
        ],
        [
         "st_astext"
        ],
        [
         "st_aswkb"
        ],
        [
         "st_aswkt"
        ],
        [
         "st_buffer"
        ],
        [
         "st_centroid"
        ],
        [
         "st_contains"
        ],
        [
         "st_convexhull"
        ],
        [
         "st_difference"
        ],
        [
         "st_distance"
        ],
        [
         "st_distancesphere"
        ],
        [
         "st_distancespheroid"
        ],
        [
         "st_envelope"
        ],
        [
         "st_geogarea"
        ],
        [
         "st_geogfromgeojson"
        ],
        [
         "st_geogfromtext"
        ],
        [
         "st_geogfromwkb"
        ],
        [
         "st_geogfromwkt"
        ],
        [
         "st_geoglength"
        ],
        [
         "st_geogperimeter"
        ],
        [
         "st_geohash"
        ],
        [
         "st_geometryn"
        ],
        [
         "st_geometrytype"
        ],
        [
         "st_geomfromewkb"
        ],
        [
         "st_geomfromgeohash"
        ],
        [
         "st_geomfromgeojson"
        ],
        [
         "st_geomfromtext"
        ],
        [
         "st_geomfromwkb"
        ],
        [
         "st_geomfromwkt"
        ],
        [
         "st_intersection"
        ],
        [
         "st_intersects"
        ],
        [
         "st_isempty"
        ],
        [
         "st_isvalid"
        ],
        [
         "st_length"
        ],
        [
         "st_makeline"
        ],
        [
         "st_makepolygon"
        ],
        [
         "st_ndims"
        ],
        [
         "st_npoints"
        ],
        [
         "st_numgeometries"
        ],
        [
         "st_perimeter"
        ],
        [
         "st_point"
        ],
        [
         "st_pointfromgeohash"
        ],
        [
         "st_rotate"
        ],
        [
         "st_scale"
        ],
        [
         "st_setsrid"
        ],
        [
         "st_simplify"
        ],
        [
         "st_srid"
        ],
        [
         "st_transform"
        ],
        [
         "st_translate"
        ],
        [
         "st_union"
        ],
        [
         "st_union_agg"
        ],
        [
         "st_x"
        ],
        [
         "st_xmax"
        ],
        [
         "st_xmin"
        ],
        [
         "st_y"
        ],
        [
         "st_ymax"
        ],
        [
         "st_ymin"
        ],
        [
         "st_zmax"
        ],
        [
         "st_zmin"
        ],
        [
         "stack"
        ],
        [
         "startswith"
        ],
        [
         "std"
        ],
        [
         "stddev"
        ],
        [
         "stddev_pop"
        ],
        [
         "stddev_samp"
        ],
        [
         "str_to_map"
        ],
        [
         "string"
        ],
        [
         "stringdecode"
        ],
        [
         "struct"
        ],
        [
         "substr"
        ],
        [
         "substring"
        ],
        [
         "substring_index"
        ],
        [
         "sum"
        ]
       ],
       "datasetInfos": [],
       "dbfsResultPath": null,
       "isJsonSchema": true,
       "metadata": {
        "createTempViewForImplicitDf": true,
        "dataframeName": "_sqldf",
        "executionCount": 43
       },
       "overflow": false,
       "plotOptions": {
        "customPlotOptions": {},
        "displayType": "table",
        "pivotAggregation": null,
        "pivotColumns": null,
        "xColumns": null,
        "yColumns": null
       },
       "removedWidgets": [],
       "schema": [
        {
         "metadata": "{}",
         "name": "function",
         "type": "\"string\""
        }
       ],
       "type": "table"
      }
     },
     "output_type": "display_data"
    }
   ],
   "source": [
    "%sql\n",
    "SHOW FUNCTIONS \"s*\";"
   ]
  },
  {
   "cell_type": "code",
   "execution_count": 0,
   "metadata": {
    "application/vnd.databricks.v1+cell": {
     "cellMetadata": {
      "byteLimit": 2048000,
      "implicitDf": true,
      "rowLimit": 10000
     },
     "inputWidgets": {},
     "nuid": "28259af7-1b6b-4747-b19b-26a09c555445",
     "showTitle": false,
     "tableResultSettingsMap": {},
     "title": ""
    }
   },
   "outputs": [
    {
     "output_type": "display_data",
     "data": {
      "text/html": [
       "<style scoped>\n",
       "  .table-result-container {\n",
       "    max-height: 300px;\n",
       "    overflow: auto;\n",
       "  }\n",
       "  table, th, td {\n",
       "    border: 1px solid black;\n",
       "    border-collapse: collapse;\n",
       "  }\n",
       "  th, td {\n",
       "    padding: 5px;\n",
       "  }\n",
       "  th {\n",
       "    text-align: left;\n",
       "  }\n",
       "</style><div class='table-result-container'><table class='table-result'><thead style='background-color: white'><tr><th>function</th></tr></thead><tbody><tr><td>collect_list</td></tr><tr><td>collect_set</td></tr></tbody></table></div>"
      ]
     },
     "metadata": {
      "application/vnd.databricks.v1+output": {
       "addedWidgets": {},
       "aggData": [],
       "aggError": "",
       "aggOverflow": false,
       "aggSchema": [],
       "aggSeriesLimitReached": false,
       "aggType": "",
       "arguments": {},
       "columnCustomDisplayInfos": {},
       "data": [
        [
         "collect_list"
        ],
        [
         "collect_set"
        ]
       ],
       "datasetInfos": [],
       "dbfsResultPath": null,
       "isJsonSchema": true,
       "metadata": {
        "createTempViewForImplicitDf": true,
        "dataframeName": "_sqldf",
        "executionCount": 44
       },
       "overflow": false,
       "plotOptions": {
        "customPlotOptions": {},
        "displayType": "table",
        "pivotAggregation": null,
        "pivotColumns": null,
        "xColumns": null,
        "yColumns": null
       },
       "removedWidgets": [],
       "schema": [
        {
         "metadata": "{}",
         "name": "function",
         "type": "\"string\""
        }
       ],
       "type": "table"
      }
     },
     "output_type": "display_data"
    }
   ],
   "source": [
    "%sql\n",
    "show functions like \"collect*\""
   ]
  },
  {
   "cell_type": "code",
   "execution_count": 0,
   "metadata": {
    "application/vnd.databricks.v1+cell": {
     "cellMetadata": {
      "byteLimit": 2048000,
      "implicitDf": true,
      "rowLimit": 10000
     },
     "inputWidgets": {},
     "nuid": "a290b138-b8f2-492f-875f-0e21d0ff8745",
     "showTitle": false,
     "tableResultSettingsMap": {},
     "title": ""
    }
   },
   "outputs": [
    {
     "output_type": "display_data",
     "data": {
      "text/html": [
       "<style scoped>\n",
       "  .table-result-container {\n",
       "    max-height: 300px;\n",
       "    overflow: auto;\n",
       "  }\n",
       "  table, th, td {\n",
       "    border: 1px solid black;\n",
       "    border-collapse: collapse;\n",
       "  }\n",
       "  th, td {\n",
       "    padding: 5px;\n",
       "  }\n",
       "  th {\n",
       "    text-align: left;\n",
       "  }\n",
       "</style><div class='table-result-container'><table class='table-result'><thead style='background-color: white'><tr><th>dest_country_name</th></tr></thead><tbody><tr><td>United States</td></tr><tr><td>Canada</td></tr><tr><td>Mexico</td></tr><tr><td>United Kingdom</td></tr><tr><td>Japan</td></tr></tbody></table></div>"
      ]
     },
     "metadata": {
      "application/vnd.databricks.v1+output": {
       "addedWidgets": {},
       "aggData": [],
       "aggError": "",
       "aggOverflow": false,
       "aggSchema": [],
       "aggSeriesLimitReached": false,
       "aggType": "",
       "arguments": {},
       "columnCustomDisplayInfos": {},
       "data": [
        [
         "United States"
        ],
        [
         "Canada"
        ],
        [
         "Mexico"
        ],
        [
         "United Kingdom"
        ],
        [
         "Japan"
        ]
       ],
       "datasetInfos": [],
       "dbfsResultPath": null,
       "isJsonSchema": true,
       "metadata": {
        "createTempViewForImplicitDf": true,
        "dataframeName": "_sqldf",
        "executionCount": 45
       },
       "overflow": false,
       "plotOptions": {
        "customPlotOptions": {},
        "displayType": "table",
        "pivotAggregation": null,
        "pivotColumns": null,
        "xColumns": null,
        "yColumns": null
       },
       "removedWidgets": [],
       "schema": [
        {
         "metadata": "{}",
         "name": "dest_country_name",
         "type": "\"string\""
        }
       ],
       "type": "table"
      }
     },
     "output_type": "display_data"
    }
   ],
   "source": [
    "%sql\n",
    "SELECT dest_country_name FROM flights_from_select\n",
    "GROUP BY dest_country_name ORDER BY sum(count) DESC LIMIT 5"
   ]
  },
  {
   "cell_type": "code",
   "execution_count": 0,
   "metadata": {
    "application/vnd.databricks.v1+cell": {
     "cellMetadata": {
      "byteLimit": 2048000,
      "implicitDf": true,
      "rowLimit": 10000
     },
     "inputWidgets": {},
     "nuid": "69d753f3-8f5d-4997-b683-1636c80e84ea",
     "showTitle": false,
     "tableResultSettingsMap": {},
     "title": ""
    }
   },
   "outputs": [
    {
     "output_type": "display_data",
     "data": {
      "text/html": [
       "<style scoped>\n",
       "  .table-result-container {\n",
       "    max-height: 300px;\n",
       "    overflow: auto;\n",
       "  }\n",
       "  table, th, td {\n",
       "    border: 1px solid black;\n",
       "    border-collapse: collapse;\n",
       "  }\n",
       "  th, td {\n",
       "    padding: 5px;\n",
       "  }\n",
       "  th {\n",
       "    text-align: left;\n",
       "  }\n",
       "</style><div class='table-result-container'><table class='table-result'><thead style='background-color: white'><tr><th>DEST_COUNTRY_NAME</th><th>ORIGIN_COUNTRY_NAME</th><th>count</th></tr></thead><tbody><tr><td>Egypt</td><td>United States</td><td>15</td></tr><tr><td>Costa Rica</td><td>United States</td><td>588</td></tr><tr><td>Senegal</td><td>United States</td><td>40</td></tr><tr><td>Moldova</td><td>United States</td><td>1</td></tr><tr><td>Guyana</td><td>United States</td><td>64</td></tr><tr><td>Malta</td><td>United States</td><td>1</td></tr><tr><td>Anguilla</td><td>United States</td><td>41</td></tr><tr><td>Bolivia</td><td>United States</td><td>30</td></tr><tr><td>Algeria</td><td>United States</td><td>4</td></tr><tr><td>Turks and Caicos Islands</td><td>United States</td><td>230</td></tr><tr><td>Saint Vincent and the Grenadines</td><td>United States</td><td>1</td></tr><tr><td>Italy</td><td>United States</td><td>382</td></tr><tr><td>Pakistan</td><td>United States</td><td>12</td></tr><tr><td>Iceland</td><td>United States</td><td>181</td></tr><tr><td>Marshall Islands</td><td>United States</td><td>42</td></tr><tr><td>Luxembourg</td><td>United States</td><td>155</td></tr><tr><td>Honduras</td><td>United States</td><td>362</td></tr><tr><td>The Bahamas</td><td>United States</td><td>955</td></tr><tr><td>El Salvador</td><td>United States</td><td>561</td></tr><tr><td>Samoa</td><td>United States</td><td>25</td></tr><tr><td>Switzerland</td><td>United States</td><td>294</td></tr><tr><td>Sint Maarten</td><td>United States</td><td>325</td></tr><tr><td>Hong Kong</td><td>United States</td><td>332</td></tr><tr><td>Trinidad and Tobago</td><td>United States</td><td>211</td></tr><tr><td>Latvia</td><td>United States</td><td>19</td></tr><tr><td>Suriname</td><td>United States</td><td>1</td></tr><tr><td>Mexico</td><td>United States</td><td>7140</td></tr><tr><td>Ecuador</td><td>United States</td><td>268</td></tr><tr><td>Colombia</td><td>United States</td><td>873</td></tr><tr><td>Norway</td><td>United States</td><td>121</td></tr><tr><td>Thailand</td><td>United States</td><td>3</td></tr><tr><td>Venezuela</td><td>United States</td><td>290</td></tr><tr><td>Panama</td><td>United States</td><td>510</td></tr><tr><td>Antigua and Barbuda</td><td>United States</td><td>126</td></tr><tr><td>Morocco</td><td>United States</td><td>15</td></tr><tr><td>Azerbaijan</td><td>United States</td><td>21</td></tr><tr><td>New Zealand</td><td>United States</td><td>111</td></tr><tr><td>Liberia</td><td>United States</td><td>2</td></tr><tr><td>Hungary</td><td>United States</td><td>2</td></tr><tr><td>Burkina Faso</td><td>United States</td><td>1</td></tr><tr><td>Sweden</td><td>United States</td><td>118</td></tr><tr><td>Israel</td><td>United States</td><td>134</td></tr><tr><td>United States</td><td>United States</td><td>370002</td></tr><tr><td>Ethiopia</td><td>United States</td><td>13</td></tr><tr><td>Martinique</td><td>United States</td><td>44</td></tr><tr><td>Saint Barthelemy</td><td>United States</td><td>39</td></tr><tr><td>Barbados</td><td>United States</td><td>154</td></tr><tr><td>Djibouti</td><td>United States</td><td>1</td></tr><tr><td>Germany</td><td>United States</td><td>1468</td></tr><tr><td>Ireland</td><td>United States</td><td>335</td></tr><tr><td>Zambia</td><td>United States</td><td>1</td></tr><tr><td>Malaysia</td><td>United States</td><td>2</td></tr><tr><td>Croatia</td><td>United States</td><td>2</td></tr><tr><td>Cyprus</td><td>United States</td><td>1</td></tr><tr><td>Fiji</td><td>United States</td><td>24</td></tr><tr><td>Qatar</td><td>United States</td><td>108</td></tr><tr><td>Saint Kitts and Nevis</td><td>United States</td><td>139</td></tr><tr><td>Kuwait</td><td>United States</td><td>32</td></tr><tr><td>Taiwan</td><td>United States</td><td>266</td></tr><tr><td>Haiti</td><td>United States</td><td>226</td></tr><tr><td>Canada</td><td>United States</td><td>8399</td></tr><tr><td>Federated States of Micronesia</td><td>United States</td><td>69</td></tr><tr><td>Jamaica</td><td>United States</td><td>666</td></tr><tr><td>Dominican Republic</td><td>United States</td><td>1353</td></tr><tr><td>Japan</td><td>United States</td><td>1548</td></tr><tr><td>Finland</td><td>United States</td><td>26</td></tr><tr><td>Aruba</td><td>United States</td><td>346</td></tr><tr><td>French Guiana</td><td>United States</td><td>5</td></tr><tr><td>India</td><td>United States</td><td>61</td></tr><tr><td>British Virgin Islands</td><td>United States</td><td>107</td></tr><tr><td>Brazil</td><td>United States</td><td>853</td></tr><tr><td>French Polynesia</td><td>United States</td><td>43</td></tr><tr><td>United Arab Emirates</td><td>United States</td><td>320</td></tr><tr><td>Singapore</td><td>United States</td><td>3</td></tr><tr><td>United States</td><td>Mexico</td><td>7187</td></tr><tr><td>Netherlands</td><td>United States</td><td>776</td></tr><tr><td>Denmark</td><td>United States</td><td>153</td></tr><tr><td>China</td><td>United States</td><td>772</td></tr><tr><td>Cayman Islands</td><td>United States</td><td>314</td></tr><tr><td>Argentina</td><td>United States</td><td>180</td></tr><tr><td>Peru</td><td>United States</td><td>279</td></tr><tr><td>South Africa</td><td>United States</td><td>36</td></tr><tr><td>Spain</td><td>United States</td><td>420</td></tr><tr><td>Bermuda</td><td>United States</td><td>183</td></tr><tr><td>Kiribati</td><td>United States</td><td>26</td></tr><tr><td>Saudi Arabia</td><td>United States</td><td>83</td></tr><tr><td>Czech Republic</td><td>United States</td><td>13</td></tr><tr><td>Belgium</td><td>United States</td><td>259</td></tr><tr><td>Curacao</td><td>United States</td><td>90</td></tr><tr><td>Georgia</td><td>United States</td><td>2</td></tr><tr><td>Philippines</td><td>United States</td><td>134</td></tr><tr><td>Grenada</td><td>United States</td><td>53</td></tr><tr><td>Cape Verde</td><td>United States</td><td>20</td></tr><tr><td>Cote d'Ivoire</td><td>United States</td><td>1</td></tr><tr><td>Ukraine</td><td>United States</td><td>14</td></tr><tr><td>Russia</td><td>United States</td><td>176</td></tr><tr><td>Guatemala</td><td>United States</td><td>397</td></tr><tr><td>Saint Lucia</td><td>United States</td><td>123</td></tr><tr><td>Paraguay</td><td>United States</td><td>60</td></tr><tr><td>Kosovo</td><td>United States</td><td>1</td></tr><tr><td>Tunisia</td><td>United States</td><td>3</td></tr><tr><td>Niger</td><td>United States</td><td>2</td></tr><tr><td>Turkey</td><td>United States</td><td>138</td></tr><tr><td>United Kingdom</td><td>United States</td><td>2025</td></tr><tr><td>Romania</td><td>United States</td><td>14</td></tr><tr><td>Papua New Guinea</td><td>United States</td><td>3</td></tr><tr><td>Iraq</td><td>United States</td><td>1</td></tr><tr><td>Cuba</td><td>United States</td><td>466</td></tr><tr><td>Dominica</td><td>United States</td><td>20</td></tr><tr><td>United States</td><td>Japan</td><td>1496</td></tr><tr><td>Portugal</td><td>United States</td><td>127</td></tr><tr><td>Bahrain</td><td>United States</td><td>19</td></tr><tr><td>Indonesia</td><td>United States</td><td>1</td></tr><tr><td>United States</td><td>United Kingdom</td><td>1970</td></tr><tr><td>Belize</td><td>United States</td><td>188</td></tr><tr><td>United States</td><td>Canada</td><td>8483</td></tr><tr><td>Nicaragua</td><td>United States</td><td>179</td></tr><tr><td>Austria</td><td>United States</td><td>62</td></tr><tr><td>Jordan</td><td>United States</td><td>44</td></tr><tr><td>Palau</td><td>United States</td><td>30</td></tr><tr><td>South Korea</td><td>United States</td><td>1048</td></tr><tr><td>Angola</td><td>United States</td><td>15</td></tr><tr><td>Ghana</td><td>United States</td><td>18</td></tr><tr><td>New Caledonia</td><td>United States</td><td>1</td></tr><tr><td>Guadeloupe</td><td>United States</td><td>56</td></tr><tr><td>France</td><td>United States</td><td>935</td></tr><tr><td>Poland</td><td>United States</td><td>32</td></tr><tr><td>Nigeria</td><td>United States</td><td>59</td></tr><tr><td>Greenland</td><td>United States</td><td>2</td></tr><tr><td>Chile</td><td>United States</td><td>174</td></tr><tr><td>Australia</td><td>United States</td><td>329</td></tr><tr><td>Cook Islands</td><td>United States</td><td>13</td></tr><tr><td>Bulgaria</td><td>United States</td><td>3</td></tr><tr><td>Uruguay</td><td>United States</td><td>43</td></tr><tr><td>Bonaire, Sint Eustatius, and Saba</td><td>United States</td><td>58</td></tr><tr><td>Greece</td><td>United States</td><td>30</td></tr><tr><td>Egypt</td><td>United States</td><td>15</td></tr><tr><td>Costa Rica</td><td>United States</td><td>588</td></tr><tr><td>Senegal</td><td>United States</td><td>40</td></tr><tr><td>Moldova</td><td>United States</td><td>1</td></tr><tr><td>Guyana</td><td>United States</td><td>64</td></tr><tr><td>Malta</td><td>United States</td><td>1</td></tr><tr><td>Anguilla</td><td>United States</td><td>41</td></tr><tr><td>Bolivia</td><td>United States</td><td>30</td></tr><tr><td>Algeria</td><td>United States</td><td>4</td></tr><tr><td>Turks and Caicos Islands</td><td>United States</td><td>230</td></tr></tbody></table></div>"
      ]
     },
     "metadata": {
      "application/vnd.databricks.v1+output": {
       "addedWidgets": {},
       "aggData": [],
       "aggError": "",
       "aggOverflow": false,
       "aggSchema": [],
       "aggSeriesLimitReached": false,
       "aggType": "",
       "arguments": {},
       "columnCustomDisplayInfos": {},
       "data": [
        [
         "Egypt",
         "United States",
         "15"
        ],
        [
         "Costa Rica",
         "United States",
         "588"
        ],
        [
         "Senegal",
         "United States",
         "40"
        ],
        [
         "Moldova",
         "United States",
         "1"
        ],
        [
         "Guyana",
         "United States",
         "64"
        ],
        [
         "Malta",
         "United States",
         "1"
        ],
        [
         "Anguilla",
         "United States",
         "41"
        ],
        [
         "Bolivia",
         "United States",
         "30"
        ],
        [
         "Algeria",
         "United States",
         "4"
        ],
        [
         "Turks and Caicos Islands",
         "United States",
         "230"
        ],
        [
         "Saint Vincent and the Grenadines",
         "United States",
         "1"
        ],
        [
         "Italy",
         "United States",
         "382"
        ],
        [
         "Pakistan",
         "United States",
         "12"
        ],
        [
         "Iceland",
         "United States",
         "181"
        ],
        [
         "Marshall Islands",
         "United States",
         "42"
        ],
        [
         "Luxembourg",
         "United States",
         "155"
        ],
        [
         "Honduras",
         "United States",
         "362"
        ],
        [
         "The Bahamas",
         "United States",
         "955"
        ],
        [
         "El Salvador",
         "United States",
         "561"
        ],
        [
         "Samoa",
         "United States",
         "25"
        ],
        [
         "Switzerland",
         "United States",
         "294"
        ],
        [
         "Sint Maarten",
         "United States",
         "325"
        ],
        [
         "Hong Kong",
         "United States",
         "332"
        ],
        [
         "Trinidad and Tobago",
         "United States",
         "211"
        ],
        [
         "Latvia",
         "United States",
         "19"
        ],
        [
         "Suriname",
         "United States",
         "1"
        ],
        [
         "Mexico",
         "United States",
         "7140"
        ],
        [
         "Ecuador",
         "United States",
         "268"
        ],
        [
         "Colombia",
         "United States",
         "873"
        ],
        [
         "Norway",
         "United States",
         "121"
        ],
        [
         "Thailand",
         "United States",
         "3"
        ],
        [
         "Venezuela",
         "United States",
         "290"
        ],
        [
         "Panama",
         "United States",
         "510"
        ],
        [
         "Antigua and Barbuda",
         "United States",
         "126"
        ],
        [
         "Morocco",
         "United States",
         "15"
        ],
        [
         "Azerbaijan",
         "United States",
         "21"
        ],
        [
         "New Zealand",
         "United States",
         "111"
        ],
        [
         "Liberia",
         "United States",
         "2"
        ],
        [
         "Hungary",
         "United States",
         "2"
        ],
        [
         "Burkina Faso",
         "United States",
         "1"
        ],
        [
         "Sweden",
         "United States",
         "118"
        ],
        [
         "Israel",
         "United States",
         "134"
        ],
        [
         "United States",
         "United States",
         "370002"
        ],
        [
         "Ethiopia",
         "United States",
         "13"
        ],
        [
         "Martinique",
         "United States",
         "44"
        ],
        [
         "Saint Barthelemy",
         "United States",
         "39"
        ],
        [
         "Barbados",
         "United States",
         "154"
        ],
        [
         "Djibouti",
         "United States",
         "1"
        ],
        [
         "Germany",
         "United States",
         "1468"
        ],
        [
         "Ireland",
         "United States",
         "335"
        ],
        [
         "Zambia",
         "United States",
         "1"
        ],
        [
         "Malaysia",
         "United States",
         "2"
        ],
        [
         "Croatia",
         "United States",
         "2"
        ],
        [
         "Cyprus",
         "United States",
         "1"
        ],
        [
         "Fiji",
         "United States",
         "24"
        ],
        [
         "Qatar",
         "United States",
         "108"
        ],
        [
         "Saint Kitts and Nevis",
         "United States",
         "139"
        ],
        [
         "Kuwait",
         "United States",
         "32"
        ],
        [
         "Taiwan",
         "United States",
         "266"
        ],
        [
         "Haiti",
         "United States",
         "226"
        ],
        [
         "Canada",
         "United States",
         "8399"
        ],
        [
         "Federated States of Micronesia",
         "United States",
         "69"
        ],
        [
         "Jamaica",
         "United States",
         "666"
        ],
        [
         "Dominican Republic",
         "United States",
         "1353"
        ],
        [
         "Japan",
         "United States",
         "1548"
        ],
        [
         "Finland",
         "United States",
         "26"
        ],
        [
         "Aruba",
         "United States",
         "346"
        ],
        [
         "French Guiana",
         "United States",
         "5"
        ],
        [
         "India",
         "United States",
         "61"
        ],
        [
         "British Virgin Islands",
         "United States",
         "107"
        ],
        [
         "Brazil",
         "United States",
         "853"
        ],
        [
         "French Polynesia",
         "United States",
         "43"
        ],
        [
         "United Arab Emirates",
         "United States",
         "320"
        ],
        [
         "Singapore",
         "United States",
         "3"
        ],
        [
         "United States",
         "Mexico",
         "7187"
        ],
        [
         "Netherlands",
         "United States",
         "776"
        ],
        [
         "Denmark",
         "United States",
         "153"
        ],
        [
         "China",
         "United States",
         "772"
        ],
        [
         "Cayman Islands",
         "United States",
         "314"
        ],
        [
         "Argentina",
         "United States",
         "180"
        ],
        [
         "Peru",
         "United States",
         "279"
        ],
        [
         "South Africa",
         "United States",
         "36"
        ],
        [
         "Spain",
         "United States",
         "420"
        ],
        [
         "Bermuda",
         "United States",
         "183"
        ],
        [
         "Kiribati",
         "United States",
         "26"
        ],
        [
         "Saudi Arabia",
         "United States",
         "83"
        ],
        [
         "Czech Republic",
         "United States",
         "13"
        ],
        [
         "Belgium",
         "United States",
         "259"
        ],
        [
         "Curacao",
         "United States",
         "90"
        ],
        [
         "Georgia",
         "United States",
         "2"
        ],
        [
         "Philippines",
         "United States",
         "134"
        ],
        [
         "Grenada",
         "United States",
         "53"
        ],
        [
         "Cape Verde",
         "United States",
         "20"
        ],
        [
         "Cote d'Ivoire",
         "United States",
         "1"
        ],
        [
         "Ukraine",
         "United States",
         "14"
        ],
        [
         "Russia",
         "United States",
         "176"
        ],
        [
         "Guatemala",
         "United States",
         "397"
        ],
        [
         "Saint Lucia",
         "United States",
         "123"
        ],
        [
         "Paraguay",
         "United States",
         "60"
        ],
        [
         "Kosovo",
         "United States",
         "1"
        ],
        [
         "Tunisia",
         "United States",
         "3"
        ],
        [
         "Niger",
         "United States",
         "2"
        ],
        [
         "Turkey",
         "United States",
         "138"
        ],
        [
         "United Kingdom",
         "United States",
         "2025"
        ],
        [
         "Romania",
         "United States",
         "14"
        ],
        [
         "Papua New Guinea",
         "United States",
         "3"
        ],
        [
         "Iraq",
         "United States",
         "1"
        ],
        [
         "Cuba",
         "United States",
         "466"
        ],
        [
         "Dominica",
         "United States",
         "20"
        ],
        [
         "United States",
         "Japan",
         "1496"
        ],
        [
         "Portugal",
         "United States",
         "127"
        ],
        [
         "Bahrain",
         "United States",
         "19"
        ],
        [
         "Indonesia",
         "United States",
         "1"
        ],
        [
         "United States",
         "United Kingdom",
         "1970"
        ],
        [
         "Belize",
         "United States",
         "188"
        ],
        [
         "United States",
         "Canada",
         "8483"
        ],
        [
         "Nicaragua",
         "United States",
         "179"
        ],
        [
         "Austria",
         "United States",
         "62"
        ],
        [
         "Jordan",
         "United States",
         "44"
        ],
        [
         "Palau",
         "United States",
         "30"
        ],
        [
         "South Korea",
         "United States",
         "1048"
        ],
        [
         "Angola",
         "United States",
         "15"
        ],
        [
         "Ghana",
         "United States",
         "18"
        ],
        [
         "New Caledonia",
         "United States",
         "1"
        ],
        [
         "Guadeloupe",
         "United States",
         "56"
        ],
        [
         "France",
         "United States",
         "935"
        ],
        [
         "Poland",
         "United States",
         "32"
        ],
        [
         "Nigeria",
         "United States",
         "59"
        ],
        [
         "Greenland",
         "United States",
         "2"
        ],
        [
         "Chile",
         "United States",
         "174"
        ],
        [
         "Australia",
         "United States",
         "329"
        ],
        [
         "Cook Islands",
         "United States",
         "13"
        ],
        [
         "Bulgaria",
         "United States",
         "3"
        ],
        [
         "Uruguay",
         "United States",
         "43"
        ],
        [
         "Bonaire, Sint Eustatius, and Saba",
         "United States",
         "58"
        ],
        [
         "Greece",
         "United States",
         "30"
        ],
        [
         "Egypt",
         "United States",
         "15"
        ],
        [
         "Costa Rica",
         "United States",
         "588"
        ],
        [
         "Senegal",
         "United States",
         "40"
        ],
        [
         "Moldova",
         "United States",
         "1"
        ],
        [
         "Guyana",
         "United States",
         "64"
        ],
        [
         "Malta",
         "United States",
         "1"
        ],
        [
         "Anguilla",
         "United States",
         "41"
        ],
        [
         "Bolivia",
         "United States",
         "30"
        ],
        [
         "Algeria",
         "United States",
         "4"
        ],
        [
         "Turks and Caicos Islands",
         "United States",
         "230"
        ]
       ],
       "datasetInfos": [],
       "dbfsResultPath": null,
       "isJsonSchema": true,
       "metadata": {
        "createTempViewForImplicitDf": true,
        "dataframeName": "_sqldf",
        "executionCount": 48
       },
       "overflow": false,
       "plotOptions": {
        "customPlotOptions": {},
        "displayType": "table",
        "pivotAggregation": null,
        "pivotColumns": null,
        "xColumns": null,
        "yColumns": null
       },
       "removedWidgets": [],
       "schema": [
        {
         "metadata": "{}",
         "name": "DEST_COUNTRY_NAME",
         "type": "\"string\""
        },
        {
         "metadata": "{}",
         "name": "ORIGIN_COUNTRY_NAME",
         "type": "\"string\""
        },
        {
         "metadata": "{}",
         "name": "count",
         "type": "\"string\""
        }
       ],
       "type": "table"
      }
     },
     "output_type": "display_data"
    }
   ],
   "source": [
    "%sql\n",
    "SELECT * FROM flights_from_select\n",
    "WHERE origin_country_name IN (SELECT dest_country_name FROM flights_from_select\n",
    "GROUP BY dest_country_name ORDER BY sum(count) DESC LIMIT 5)"
   ]
  },
  {
   "cell_type": "code",
   "execution_count": 0,
   "metadata": {
    "application/vnd.databricks.v1+cell": {
     "cellMetadata": {
      "byteLimit": 2048000,
      "implicitDf": true,
      "rowLimit": 10000
     },
     "inputWidgets": {},
     "nuid": "8f752738-2018-4056-a00e-3cb04154d83e",
     "showTitle": false,
     "tableResultSettingsMap": {},
     "title": ""
    }
   },
   "outputs": [
    {
     "output_type": "display_data",
     "data": {
      "text/html": [
       "<style scoped>\n",
       "  .table-result-container {\n",
       "    max-height: 300px;\n",
       "    overflow: auto;\n",
       "  }\n",
       "  table, th, td {\n",
       "    border: 1px solid black;\n",
       "    border-collapse: collapse;\n",
       "  }\n",
       "  th, td {\n",
       "    padding: 5px;\n",
       "  }\n",
       "  th {\n",
       "    text-align: left;\n",
       "  }\n",
       "</style><div class='table-result-container'><table class='table-result'><thead style='background-color: white'><tr><th>DEST_COUNTRY_NAME</th><th>ORIGIN_COUNTRY_NAME</th><th>count</th></tr></thead><tbody><tr><td>United States</td><td>Romania</td><td>15</td></tr><tr><td>United States</td><td>Croatia</td><td>1</td></tr><tr><td>United States</td><td>Ireland</td><td>344</td></tr><tr><td>Egypt</td><td>United States</td><td>15</td></tr><tr><td>United States</td><td>India</td><td>62</td></tr><tr><td>United States</td><td>Singapore</td><td>1</td></tr><tr><td>United States</td><td>Grenada</td><td>62</td></tr><tr><td>Costa Rica</td><td>United States</td><td>588</td></tr><tr><td>Senegal</td><td>United States</td><td>40</td></tr><tr><td>United States</td><td>Sint Maarten</td><td>325</td></tr><tr><td>United States</td><td>Marshall Islands</td><td>39</td></tr><tr><td>Guyana</td><td>United States</td><td>64</td></tr><tr><td>Malta</td><td>United States</td><td>1</td></tr><tr><td>Anguilla</td><td>United States</td><td>41</td></tr><tr><td>Bolivia</td><td>United States</td><td>30</td></tr><tr><td>United States</td><td>Paraguay</td><td>6</td></tr><tr><td>Turks and Caicos Islands</td><td>United States</td><td>230</td></tr><tr><td>Italy</td><td>United States</td><td>382</td></tr><tr><td>United States</td><td>Federated States of Micronesia</td><td>69</td></tr><tr><td>United States</td><td>Russia</td><td>161</td></tr><tr><td>Pakistan</td><td>United States</td><td>12</td></tr><tr><td>United States</td><td>Netherlands</td><td>660</td></tr><tr><td>Iceland</td><td>United States</td><td>181</td></tr><tr><td>Marshall Islands</td><td>United States</td><td>42</td></tr><tr><td>Luxembourg</td><td>United States</td><td>155</td></tr><tr><td>Honduras</td><td>United States</td><td>362</td></tr><tr><td>The Bahamas</td><td>United States</td><td>955</td></tr><tr><td>United States</td><td>Senegal</td><td>42</td></tr><tr><td>El Salvador</td><td>United States</td><td>561</td></tr><tr><td>Samoa</td><td>United States</td><td>25</td></tr><tr><td>United States</td><td>Angola</td><td>13</td></tr><tr><td>Switzerland</td><td>United States</td><td>294</td></tr><tr><td>United States</td><td>Anguilla</td><td>38</td></tr><tr><td>Sint Maarten</td><td>United States</td><td>325</td></tr><tr><td>Hong Kong</td><td>United States</td><td>332</td></tr><tr><td>Trinidad and Tobago</td><td>United States</td><td>211</td></tr><tr><td>Latvia</td><td>United States</td><td>19</td></tr><tr><td>United States</td><td>Ecuador</td><td>300</td></tr><tr><td>Suriname</td><td>United States</td><td>1</td></tr><tr><td>Mexico</td><td>United States</td><td>7140</td></tr><tr><td>United States</td><td>Cyprus</td><td>1</td></tr><tr><td>Ecuador</td><td>United States</td><td>268</td></tr><tr><td>United States</td><td>Portugal</td><td>134</td></tr><tr><td>United States</td><td>Costa Rica</td><td>608</td></tr><tr><td>United States</td><td>Guatemala</td><td>318</td></tr><tr><td>United States</td><td>Suriname</td><td>34</td></tr><tr><td>Colombia</td><td>United States</td><td>873</td></tr><tr><td>United States</td><td>Cape Verde</td><td>14</td></tr><tr><td>United States</td><td>Jamaica</td><td>712</td></tr><tr><td>Norway</td><td>United States</td><td>121</td></tr><tr><td>United States</td><td>Malaysia</td><td>3</td></tr><tr><td>United States</td><td>Morocco</td><td>19</td></tr><tr><td>Thailand</td><td>United States</td><td>3</td></tr><tr><td>United States</td><td>Samoa</td><td>25</td></tr><tr><td>Venezuela</td><td>United States</td><td>290</td></tr><tr><td>United States</td><td>Palau</td><td>31</td></tr><tr><td>United States</td><td>Venezuela</td><td>246</td></tr><tr><td>Panama</td><td>United States</td><td>510</td></tr><tr><td>Antigua and Barbuda</td><td>United States</td><td>126</td></tr><tr><td>United States</td><td>Chile</td><td>185</td></tr><tr><td>Morocco</td><td>United States</td><td>15</td></tr><tr><td>United States</td><td>Finland</td><td>28</td></tr><tr><td>Azerbaijan</td><td>United States</td><td>21</td></tr><tr><td>United States</td><td>Greece</td><td>23</td></tr><tr><td>United States</td><td>The Bahamas</td><td>986</td></tr><tr><td>New Zealand</td><td>United States</td><td>111</td></tr><tr><td>Liberia</td><td>United States</td><td>2</td></tr><tr><td>United States</td><td>Hong Kong</td><td>414</td></tr><tr><td>Hungary</td><td>United States</td><td>2</td></tr><tr><td>United States</td><td>China</td><td>920</td></tr><tr><td>Sweden</td><td>United States</td><td>118</td></tr><tr><td>United States</td><td>Kuwait</td><td>28</td></tr><tr><td>United States</td><td>Dominican Republic</td><td>1420</td></tr><tr><td>United States</td><td>Egypt</td><td>12</td></tr><tr><td>Israel</td><td>United States</td><td>134</td></tr><tr><td>United States</td><td>United States</td><td>370002</td></tr><tr><td>Ethiopia</td><td>United States</td><td>13</td></tr><tr><td>United States</td><td>Luxembourg</td><td>134</td></tr><tr><td>United States</td><td>Poland</td><td>33</td></tr><tr><td>Martinique</td><td>United States</td><td>44</td></tr><tr><td>United States</td><td>Saint Barthelemy</td><td>41</td></tr><tr><td>Saint Barthelemy</td><td>United States</td><td>39</td></tr><tr><td>Barbados</td><td>United States</td><td>154</td></tr><tr><td>United States</td><td>Turkey</td><td>129</td></tr><tr><td>United States</td><td>Azerbaijan</td><td>21</td></tr><tr><td>Germany</td><td>United States</td><td>1468</td></tr><tr><td>United States</td><td>South Korea</td><td>827</td></tr><tr><td>United States</td><td>El Salvador</td><td>508</td></tr><tr><td>Ireland</td><td>United States</td><td>335</td></tr><tr><td>United States</td><td>Hungary</td><td>3</td></tr><tr><td>Malaysia</td><td>United States</td><td>2</td></tr><tr><td>United States</td><td>Ethiopia</td><td>12</td></tr><tr><td>United States</td><td>Panama</td><td>465</td></tr><tr><td>United States</td><td>Aruba</td><td>342</td></tr><tr><td>United States</td><td>Thailand</td><td>4</td></tr><tr><td>United States</td><td>Turks and Caicos Islands</td><td>236</td></tr><tr><td>Croatia</td><td>United States</td><td>2</td></tr><tr><td>United States</td><td>Pakistan</td><td>12</td></tr><tr><td>Cyprus</td><td>United States</td><td>1</td></tr><tr><td>United States</td><td>Honduras</td><td>407</td></tr><tr><td>Fiji</td><td>United States</td><td>24</td></tr><tr><td>Qatar</td><td>United States</td><td>108</td></tr><tr><td>Saint Kitts and Nevis</td><td>United States</td><td>139</td></tr><tr><td>Kuwait</td><td>United States</td><td>32</td></tr><tr><td>Taiwan</td><td>United States</td><td>266</td></tr><tr><td>Haiti</td><td>United States</td><td>226</td></tr><tr><td>Canada</td><td>United States</td><td>8399</td></tr><tr><td>Federated States of Micronesia</td><td>United States</td><td>69</td></tr><tr><td>United States</td><td>Liberia</td><td>2</td></tr><tr><td>Jamaica</td><td>United States</td><td>666</td></tr><tr><td>United States</td><td>Malta</td><td>2</td></tr><tr><td>Dominican Republic</td><td>United States</td><td>1353</td></tr><tr><td>Japan</td><td>United States</td><td>1548</td></tr><tr><td>Finland</td><td>United States</td><td>26</td></tr><tr><td>United States</td><td>Guadeloupe</td><td>59</td></tr><tr><td>United States</td><td>Ukraine</td><td>13</td></tr><tr><td>United States</td><td>France</td><td>952</td></tr><tr><td>United States</td><td>Norway</td><td>115</td></tr><tr><td>Aruba</td><td>United States</td><td>346</td></tr><tr><td>United States</td><td>Kiribati</td><td>35</td></tr><tr><td>India</td><td>United States</td><td>61</td></tr><tr><td>British Virgin Islands</td><td>United States</td><td>107</td></tr><tr><td>Brazil</td><td>United States</td><td>853</td></tr><tr><td>United States</td><td>Germany</td><td>1336</td></tr><tr><td>United States</td><td>New Zealand</td><td>74</td></tr><tr><td>French Polynesia</td><td>United States</td><td>43</td></tr><tr><td>United Arab Emirates</td><td>United States</td><td>320</td></tr><tr><td>Singapore</td><td>United States</td><td>3</td></tr><tr><td>United States</td><td>Mexico</td><td>7187</td></tr><tr><td>United States</td><td>Sweden</td><td>119</td></tr><tr><td>Netherlands</td><td>United States</td><td>776</td></tr><tr><td>United States</td><td>Martinique</td><td>43</td></tr><tr><td>United States</td><td>United Arab Emirates</td><td>313</td></tr><tr><td>United States</td><td>Bulgaria</td><td>1</td></tr><tr><td>Denmark</td><td>United States</td><td>153</td></tr><tr><td>China</td><td>United States</td><td>772</td></tr><tr><td>United States</td><td>Nicaragua</td><td>201</td></tr><tr><td>United States</td><td>Philippines</td><td>126</td></tr><tr><td>United States</td><td>Georgia</td><td>1</td></tr><tr><td>United States</td><td>Belgium</td><td>228</td></tr><tr><td>Cayman Islands</td><td>United States</td><td>314</td></tr><tr><td>Argentina</td><td>United States</td><td>180</td></tr><tr><td>Peru</td><td>United States</td><td>279</td></tr><tr><td>South Africa</td><td>United States</td><td>36</td></tr><tr><td>United States</td><td>Iceland</td><td>202</td></tr><tr><td>United States</td><td>Argentina</td><td>141</td></tr><tr><td>Spain</td><td>United States</td><td>420</td></tr><tr><td>Bermuda</td><td>United States</td><td>183</td></tr><tr><td>United States</td><td>Nigeria</td><td>50</td></tr><tr><td>United States</td><td>Austria</td><td>63</td></tr><tr><td>United States</td><td>Bonaire, Sint Eustatius, and Saba</td><td>59</td></tr><tr><td>Kiribati</td><td>United States</td><td>26</td></tr><tr><td>Saudi Arabia</td><td>United States</td><td>83</td></tr><tr><td>Czech Republic</td><td>United States</td><td>13</td></tr><tr><td>United States</td><td>Israel</td><td>127</td></tr><tr><td>Belgium</td><td>United States</td><td>259</td></tr><tr><td>United States</td><td>Saint Lucia</td><td>136</td></tr><tr><td>United States</td><td>Bahrain</td><td>1</td></tr><tr><td>United States</td><td>British Virgin Islands</td><td>80</td></tr><tr><td>Curacao</td><td>United States</td><td>90</td></tr><tr><td>Georgia</td><td>United States</td><td>2</td></tr><tr><td>United States</td><td>Denmark</td><td>152</td></tr><tr><td>United States</td><td>Guyana</td><td>63</td></tr><tr><td>Philippines</td><td>United States</td><td>134</td></tr><tr><td>Grenada</td><td>United States</td><td>53</td></tr><tr><td>Cape Verde</td><td>United States</td><td>20</td></tr><tr><td>Ukraine</td><td>United States</td><td>14</td></tr><tr><td>United States</td><td>Papua New Guinea</td><td>1</td></tr><tr><td>Russia</td><td>United States</td><td>176</td></tr><tr><td>United States</td><td>Saudi Arabia</td><td>70</td></tr><tr><td>Guatemala</td><td>United States</td><td>397</td></tr><tr><td>Saint Lucia</td><td>United States</td><td>123</td></tr><tr><td>Paraguay</td><td>United States</td><td>60</td></tr><tr><td>United States</td><td>Curacao</td><td>83</td></tr><tr><td>United States</td><td>Taiwan</td><td>235</td></tr><tr><td>United States</td><td>South Africa</td><td>40</td></tr><tr><td>Turkey</td><td>United States</td><td>138</td></tr><tr><td>United Kingdom</td><td>United States</td><td>2025</td></tr><tr><td>Romania</td><td>United States</td><td>14</td></tr><tr><td>United States</td><td>Greenland</td><td>4</td></tr><tr><td>Papua New Guinea</td><td>United States</td><td>3</td></tr><tr><td>United States</td><td>Spain</td><td>442</td></tr><tr><td>United States</td><td>Italy</td><td>438</td></tr><tr><td>Cuba</td><td>United States</td><td>466</td></tr><tr><td>United States</td><td>Switzerland</td><td>305</td></tr><tr><td>Dominica</td><td>United States</td><td>20</td></tr><tr><td>United States</td><td>Japan</td><td>1496</td></tr><tr><td>Portugal</td><td>United States</td><td>127</td></tr><tr><td>United States</td><td>Brazil</td><td>619</td></tr><tr><td>Bahrain</td><td>United States</td><td>19</td></tr><tr><td>United States</td><td>Peru</td><td>337</td></tr><tr><td>Indonesia</td><td>United States</td><td>1</td></tr><tr><td>United States</td><td>Belize</td><td>193</td></tr><tr><td>United States</td><td>United Kingdom</td><td>1970</td></tr><tr><td>Belize</td><td>United States</td><td>188</td></tr><tr><td>United States</td><td>Ghana</td><td>20</td></tr><tr><td>United States</td><td>Indonesia</td><td>2</td></tr><tr><td>United States</td><td>Fiji</td><td>25</td></tr><tr><td>United States</td><td>Canada</td><td>8483</td></tr><tr><td>United States</td><td>Antigua and Barbuda</td><td>117</td></tr><tr><td>United States</td><td>French Polynesia</td><td>40</td></tr><tr><td>Nicaragua</td><td>United States</td><td>179</td></tr><tr><td>United States</td><td>Latvia</td><td>15</td></tr><tr><td>United States</td><td>Dominica</td><td>27</td></tr><tr><td>United States</td><td>Czech Republic</td><td>12</td></tr><tr><td>United States</td><td>Australia</td><td>258</td></tr><tr><td>United States</td><td>Cook Islands</td><td>13</td></tr><tr><td>Austria</td><td>United States</td><td>62</td></tr><tr><td>Jordan</td><td>United States</td><td>44</td></tr><tr><td>Palau</td><td>United States</td><td>30</td></tr><tr><td>South Korea</td><td>United States</td><td>1048</td></tr><tr><td>Angola</td><td>United States</td><td>15</td></tr><tr><td>Ghana</td><td>United States</td><td>18</td></tr><tr><td>Guadeloupe</td><td>United States</td><td>56</td></tr><tr><td>France</td><td>United States</td><td>935</td></tr><tr><td>Poland</td><td>United States</td><td>32</td></tr><tr><td>Nigeria</td><td>United States</td><td>59</td></tr><tr><td>United States</td><td>Uruguay</td><td>13</td></tr><tr><td>Greenland</td><td>United States</td><td>2</td></tr><tr><td>United States</td><td>Bermuda</td><td>193</td></tr><tr><td>Chile</td><td>United States</td><td>174</td></tr><tr><td>United States</td><td>Cuba</td><td>478</td></tr><tr><td>United States</td><td>Colombia</td><td>867</td></tr><tr><td>United States</td><td>Barbados</td><td>130</td></tr><tr><td>United States</td><td>Qatar</td><td>109</td></tr><tr><td>Australia</td><td>United States</td><td>329</td></tr><tr><td>United States</td><td>Cayman Islands</td><td>310</td></tr><tr><td>United States</td><td>Jordan</td><td>44</td></tr><tr><td>United States</td><td>Trinidad and Tobago</td><td>217</td></tr><tr><td>United States</td><td>Bolivia</td><td>13</td></tr><tr><td>Cook Islands</td><td>United States</td><td>13</td></tr><tr><td>Bulgaria</td><td>United States</td><td>3</td></tr><tr><td>United States</td><td>Saint Kitts and Nevis</td><td>145</td></tr><tr><td>Uruguay</td><td>United States</td><td>43</td></tr><tr><td>United States</td><td>Haiti</td><td>225</td></tr><tr><td>Bonaire, Sint Eustatius, and Saba</td><td>United States</td><td>58</td></tr><tr><td>Greece</td><td>United States</td><td>30</td></tr><tr><td>United States</td><td>Romania</td><td>15</td></tr><tr><td>United States</td><td>Croatia</td><td>1</td></tr><tr><td>United States</td><td>Ireland</td><td>344</td></tr><tr><td>Egypt</td><td>United States</td><td>15</td></tr><tr><td>United States</td><td>India</td><td>62</td></tr><tr><td>United States</td><td>Singapore</td><td>1</td></tr><tr><td>United States</td><td>Grenada</td><td>62</td></tr><tr><td>Costa Rica</td><td>United States</td><td>588</td></tr><tr><td>Senegal</td><td>United States</td><td>40</td></tr><tr><td>United States</td><td>Sint Maarten</td><td>325</td></tr><tr><td>United States</td><td>Marshall Islands</td><td>39</td></tr><tr><td>Guyana</td><td>United States</td><td>64</td></tr><tr><td>Malta</td><td>United States</td><td>1</td></tr><tr><td>Anguilla</td><td>United States</td><td>41</td></tr><tr><td>Bolivia</td><td>United States</td><td>30</td></tr><tr><td>United States</td><td>Paraguay</td><td>6</td></tr><tr><td>Turks and Caicos Islands</td><td>United States</td><td>230</td></tr></tbody></table></div>"
      ]
     },
     "metadata": {
      "application/vnd.databricks.v1+output": {
       "addedWidgets": {},
       "aggData": [],
       "aggError": "",
       "aggOverflow": false,
       "aggSchema": [],
       "aggSeriesLimitReached": false,
       "aggType": "",
       "arguments": {},
       "columnCustomDisplayInfos": {},
       "data": [
        [
         "United States",
         "Romania",
         "15"
        ],
        [
         "United States",
         "Croatia",
         "1"
        ],
        [
         "United States",
         "Ireland",
         "344"
        ],
        [
         "Egypt",
         "United States",
         "15"
        ],
        [
         "United States",
         "India",
         "62"
        ],
        [
         "United States",
         "Singapore",
         "1"
        ],
        [
         "United States",
         "Grenada",
         "62"
        ],
        [
         "Costa Rica",
         "United States",
         "588"
        ],
        [
         "Senegal",
         "United States",
         "40"
        ],
        [
         "United States",
         "Sint Maarten",
         "325"
        ],
        [
         "United States",
         "Marshall Islands",
         "39"
        ],
        [
         "Guyana",
         "United States",
         "64"
        ],
        [
         "Malta",
         "United States",
         "1"
        ],
        [
         "Anguilla",
         "United States",
         "41"
        ],
        [
         "Bolivia",
         "United States",
         "30"
        ],
        [
         "United States",
         "Paraguay",
         "6"
        ],
        [
         "Turks and Caicos Islands",
         "United States",
         "230"
        ],
        [
         "Italy",
         "United States",
         "382"
        ],
        [
         "United States",
         "Federated States of Micronesia",
         "69"
        ],
        [
         "United States",
         "Russia",
         "161"
        ],
        [
         "Pakistan",
         "United States",
         "12"
        ],
        [
         "United States",
         "Netherlands",
         "660"
        ],
        [
         "Iceland",
         "United States",
         "181"
        ],
        [
         "Marshall Islands",
         "United States",
         "42"
        ],
        [
         "Luxembourg",
         "United States",
         "155"
        ],
        [
         "Honduras",
         "United States",
         "362"
        ],
        [
         "The Bahamas",
         "United States",
         "955"
        ],
        [
         "United States",
         "Senegal",
         "42"
        ],
        [
         "El Salvador",
         "United States",
         "561"
        ],
        [
         "Samoa",
         "United States",
         "25"
        ],
        [
         "United States",
         "Angola",
         "13"
        ],
        [
         "Switzerland",
         "United States",
         "294"
        ],
        [
         "United States",
         "Anguilla",
         "38"
        ],
        [
         "Sint Maarten",
         "United States",
         "325"
        ],
        [
         "Hong Kong",
         "United States",
         "332"
        ],
        [
         "Trinidad and Tobago",
         "United States",
         "211"
        ],
        [
         "Latvia",
         "United States",
         "19"
        ],
        [
         "United States",
         "Ecuador",
         "300"
        ],
        [
         "Suriname",
         "United States",
         "1"
        ],
        [
         "Mexico",
         "United States",
         "7140"
        ],
        [
         "United States",
         "Cyprus",
         "1"
        ],
        [
         "Ecuador",
         "United States",
         "268"
        ],
        [
         "United States",
         "Portugal",
         "134"
        ],
        [
         "United States",
         "Costa Rica",
         "608"
        ],
        [
         "United States",
         "Guatemala",
         "318"
        ],
        [
         "United States",
         "Suriname",
         "34"
        ],
        [
         "Colombia",
         "United States",
         "873"
        ],
        [
         "United States",
         "Cape Verde",
         "14"
        ],
        [
         "United States",
         "Jamaica",
         "712"
        ],
        [
         "Norway",
         "United States",
         "121"
        ],
        [
         "United States",
         "Malaysia",
         "3"
        ],
        [
         "United States",
         "Morocco",
         "19"
        ],
        [
         "Thailand",
         "United States",
         "3"
        ],
        [
         "United States",
         "Samoa",
         "25"
        ],
        [
         "Venezuela",
         "United States",
         "290"
        ],
        [
         "United States",
         "Palau",
         "31"
        ],
        [
         "United States",
         "Venezuela",
         "246"
        ],
        [
         "Panama",
         "United States",
         "510"
        ],
        [
         "Antigua and Barbuda",
         "United States",
         "126"
        ],
        [
         "United States",
         "Chile",
         "185"
        ],
        [
         "Morocco",
         "United States",
         "15"
        ],
        [
         "United States",
         "Finland",
         "28"
        ],
        [
         "Azerbaijan",
         "United States",
         "21"
        ],
        [
         "United States",
         "Greece",
         "23"
        ],
        [
         "United States",
         "The Bahamas",
         "986"
        ],
        [
         "New Zealand",
         "United States",
         "111"
        ],
        [
         "Liberia",
         "United States",
         "2"
        ],
        [
         "United States",
         "Hong Kong",
         "414"
        ],
        [
         "Hungary",
         "United States",
         "2"
        ],
        [
         "United States",
         "China",
         "920"
        ],
        [
         "Sweden",
         "United States",
         "118"
        ],
        [
         "United States",
         "Kuwait",
         "28"
        ],
        [
         "United States",
         "Dominican Republic",
         "1420"
        ],
        [
         "United States",
         "Egypt",
         "12"
        ],
        [
         "Israel",
         "United States",
         "134"
        ],
        [
         "United States",
         "United States",
         "370002"
        ],
        [
         "Ethiopia",
         "United States",
         "13"
        ],
        [
         "United States",
         "Luxembourg",
         "134"
        ],
        [
         "United States",
         "Poland",
         "33"
        ],
        [
         "Martinique",
         "United States",
         "44"
        ],
        [
         "United States",
         "Saint Barthelemy",
         "41"
        ],
        [
         "Saint Barthelemy",
         "United States",
         "39"
        ],
        [
         "Barbados",
         "United States",
         "154"
        ],
        [
         "United States",
         "Turkey",
         "129"
        ],
        [
         "United States",
         "Azerbaijan",
         "21"
        ],
        [
         "Germany",
         "United States",
         "1468"
        ],
        [
         "United States",
         "South Korea",
         "827"
        ],
        [
         "United States",
         "El Salvador",
         "508"
        ],
        [
         "Ireland",
         "United States",
         "335"
        ],
        [
         "United States",
         "Hungary",
         "3"
        ],
        [
         "Malaysia",
         "United States",
         "2"
        ],
        [
         "United States",
         "Ethiopia",
         "12"
        ],
        [
         "United States",
         "Panama",
         "465"
        ],
        [
         "United States",
         "Aruba",
         "342"
        ],
        [
         "United States",
         "Thailand",
         "4"
        ],
        [
         "United States",
         "Turks and Caicos Islands",
         "236"
        ],
        [
         "Croatia",
         "United States",
         "2"
        ],
        [
         "United States",
         "Pakistan",
         "12"
        ],
        [
         "Cyprus",
         "United States",
         "1"
        ],
        [
         "United States",
         "Honduras",
         "407"
        ],
        [
         "Fiji",
         "United States",
         "24"
        ],
        [
         "Qatar",
         "United States",
         "108"
        ],
        [
         "Saint Kitts and Nevis",
         "United States",
         "139"
        ],
        [
         "Kuwait",
         "United States",
         "32"
        ],
        [
         "Taiwan",
         "United States",
         "266"
        ],
        [
         "Haiti",
         "United States",
         "226"
        ],
        [
         "Canada",
         "United States",
         "8399"
        ],
        [
         "Federated States of Micronesia",
         "United States",
         "69"
        ],
        [
         "United States",
         "Liberia",
         "2"
        ],
        [
         "Jamaica",
         "United States",
         "666"
        ],
        [
         "United States",
         "Malta",
         "2"
        ],
        [
         "Dominican Republic",
         "United States",
         "1353"
        ],
        [
         "Japan",
         "United States",
         "1548"
        ],
        [
         "Finland",
         "United States",
         "26"
        ],
        [
         "United States",
         "Guadeloupe",
         "59"
        ],
        [
         "United States",
         "Ukraine",
         "13"
        ],
        [
         "United States",
         "France",
         "952"
        ],
        [
         "United States",
         "Norway",
         "115"
        ],
        [
         "Aruba",
         "United States",
         "346"
        ],
        [
         "United States",
         "Kiribati",
         "35"
        ],
        [
         "India",
         "United States",
         "61"
        ],
        [
         "British Virgin Islands",
         "United States",
         "107"
        ],
        [
         "Brazil",
         "United States",
         "853"
        ],
        [
         "United States",
         "Germany",
         "1336"
        ],
        [
         "United States",
         "New Zealand",
         "74"
        ],
        [
         "French Polynesia",
         "United States",
         "43"
        ],
        [
         "United Arab Emirates",
         "United States",
         "320"
        ],
        [
         "Singapore",
         "United States",
         "3"
        ],
        [
         "United States",
         "Mexico",
         "7187"
        ],
        [
         "United States",
         "Sweden",
         "119"
        ],
        [
         "Netherlands",
         "United States",
         "776"
        ],
        [
         "United States",
         "Martinique",
         "43"
        ],
        [
         "United States",
         "United Arab Emirates",
         "313"
        ],
        [
         "United States",
         "Bulgaria",
         "1"
        ],
        [
         "Denmark",
         "United States",
         "153"
        ],
        [
         "China",
         "United States",
         "772"
        ],
        [
         "United States",
         "Nicaragua",
         "201"
        ],
        [
         "United States",
         "Philippines",
         "126"
        ],
        [
         "United States",
         "Georgia",
         "1"
        ],
        [
         "United States",
         "Belgium",
         "228"
        ],
        [
         "Cayman Islands",
         "United States",
         "314"
        ],
        [
         "Argentina",
         "United States",
         "180"
        ],
        [
         "Peru",
         "United States",
         "279"
        ],
        [
         "South Africa",
         "United States",
         "36"
        ],
        [
         "United States",
         "Iceland",
         "202"
        ],
        [
         "United States",
         "Argentina",
         "141"
        ],
        [
         "Spain",
         "United States",
         "420"
        ],
        [
         "Bermuda",
         "United States",
         "183"
        ],
        [
         "United States",
         "Nigeria",
         "50"
        ],
        [
         "United States",
         "Austria",
         "63"
        ],
        [
         "United States",
         "Bonaire, Sint Eustatius, and Saba",
         "59"
        ],
        [
         "Kiribati",
         "United States",
         "26"
        ],
        [
         "Saudi Arabia",
         "United States",
         "83"
        ],
        [
         "Czech Republic",
         "United States",
         "13"
        ],
        [
         "United States",
         "Israel",
         "127"
        ],
        [
         "Belgium",
         "United States",
         "259"
        ],
        [
         "United States",
         "Saint Lucia",
         "136"
        ],
        [
         "United States",
         "Bahrain",
         "1"
        ],
        [
         "United States",
         "British Virgin Islands",
         "80"
        ],
        [
         "Curacao",
         "United States",
         "90"
        ],
        [
         "Georgia",
         "United States",
         "2"
        ],
        [
         "United States",
         "Denmark",
         "152"
        ],
        [
         "United States",
         "Guyana",
         "63"
        ],
        [
         "Philippines",
         "United States",
         "134"
        ],
        [
         "Grenada",
         "United States",
         "53"
        ],
        [
         "Cape Verde",
         "United States",
         "20"
        ],
        [
         "Ukraine",
         "United States",
         "14"
        ],
        [
         "United States",
         "Papua New Guinea",
         "1"
        ],
        [
         "Russia",
         "United States",
         "176"
        ],
        [
         "United States",
         "Saudi Arabia",
         "70"
        ],
        [
         "Guatemala",
         "United States",
         "397"
        ],
        [
         "Saint Lucia",
         "United States",
         "123"
        ],
        [
         "Paraguay",
         "United States",
         "60"
        ],
        [
         "United States",
         "Curacao",
         "83"
        ],
        [
         "United States",
         "Taiwan",
         "235"
        ],
        [
         "United States",
         "South Africa",
         "40"
        ],
        [
         "Turkey",
         "United States",
         "138"
        ],
        [
         "United Kingdom",
         "United States",
         "2025"
        ],
        [
         "Romania",
         "United States",
         "14"
        ],
        [
         "United States",
         "Greenland",
         "4"
        ],
        [
         "Papua New Guinea",
         "United States",
         "3"
        ],
        [
         "United States",
         "Spain",
         "442"
        ],
        [
         "United States",
         "Italy",
         "438"
        ],
        [
         "Cuba",
         "United States",
         "466"
        ],
        [
         "United States",
         "Switzerland",
         "305"
        ],
        [
         "Dominica",
         "United States",
         "20"
        ],
        [
         "United States",
         "Japan",
         "1496"
        ],
        [
         "Portugal",
         "United States",
         "127"
        ],
        [
         "United States",
         "Brazil",
         "619"
        ],
        [
         "Bahrain",
         "United States",
         "19"
        ],
        [
         "United States",
         "Peru",
         "337"
        ],
        [
         "Indonesia",
         "United States",
         "1"
        ],
        [
         "United States",
         "Belize",
         "193"
        ],
        [
         "United States",
         "United Kingdom",
         "1970"
        ],
        [
         "Belize",
         "United States",
         "188"
        ],
        [
         "United States",
         "Ghana",
         "20"
        ],
        [
         "United States",
         "Indonesia",
         "2"
        ],
        [
         "United States",
         "Fiji",
         "25"
        ],
        [
         "United States",
         "Canada",
         "8483"
        ],
        [
         "United States",
         "Antigua and Barbuda",
         "117"
        ],
        [
         "United States",
         "French Polynesia",
         "40"
        ],
        [
         "Nicaragua",
         "United States",
         "179"
        ],
        [
         "United States",
         "Latvia",
         "15"
        ],
        [
         "United States",
         "Dominica",
         "27"
        ],
        [
         "United States",
         "Czech Republic",
         "12"
        ],
        [
         "United States",
         "Australia",
         "258"
        ],
        [
         "United States",
         "Cook Islands",
         "13"
        ],
        [
         "Austria",
         "United States",
         "62"
        ],
        [
         "Jordan",
         "United States",
         "44"
        ],
        [
         "Palau",
         "United States",
         "30"
        ],
        [
         "South Korea",
         "United States",
         "1048"
        ],
        [
         "Angola",
         "United States",
         "15"
        ],
        [
         "Ghana",
         "United States",
         "18"
        ],
        [
         "Guadeloupe",
         "United States",
         "56"
        ],
        [
         "France",
         "United States",
         "935"
        ],
        [
         "Poland",
         "United States",
         "32"
        ],
        [
         "Nigeria",
         "United States",
         "59"
        ],
        [
         "United States",
         "Uruguay",
         "13"
        ],
        [
         "Greenland",
         "United States",
         "2"
        ],
        [
         "United States",
         "Bermuda",
         "193"
        ],
        [
         "Chile",
         "United States",
         "174"
        ],
        [
         "United States",
         "Cuba",
         "478"
        ],
        [
         "United States",
         "Colombia",
         "867"
        ],
        [
         "United States",
         "Barbados",
         "130"
        ],
        [
         "United States",
         "Qatar",
         "109"
        ],
        [
         "Australia",
         "United States",
         "329"
        ],
        [
         "United States",
         "Cayman Islands",
         "310"
        ],
        [
         "United States",
         "Jordan",
         "44"
        ],
        [
         "United States",
         "Trinidad and Tobago",
         "217"
        ],
        [
         "United States",
         "Bolivia",
         "13"
        ],
        [
         "Cook Islands",
         "United States",
         "13"
        ],
        [
         "Bulgaria",
         "United States",
         "3"
        ],
        [
         "United States",
         "Saint Kitts and Nevis",
         "145"
        ],
        [
         "Uruguay",
         "United States",
         "43"
        ],
        [
         "United States",
         "Haiti",
         "225"
        ],
        [
         "Bonaire, Sint Eustatius, and Saba",
         "United States",
         "58"
        ],
        [
         "Greece",
         "United States",
         "30"
        ],
        [
         "United States",
         "Romania",
         "15"
        ],
        [
         "United States",
         "Croatia",
         "1"
        ],
        [
         "United States",
         "Ireland",
         "344"
        ],
        [
         "Egypt",
         "United States",
         "15"
        ],
        [
         "United States",
         "India",
         "62"
        ],
        [
         "United States",
         "Singapore",
         "1"
        ],
        [
         "United States",
         "Grenada",
         "62"
        ],
        [
         "Costa Rica",
         "United States",
         "588"
        ],
        [
         "Senegal",
         "United States",
         "40"
        ],
        [
         "United States",
         "Sint Maarten",
         "325"
        ],
        [
         "United States",
         "Marshall Islands",
         "39"
        ],
        [
         "Guyana",
         "United States",
         "64"
        ],
        [
         "Malta",
         "United States",
         "1"
        ],
        [
         "Anguilla",
         "United States",
         "41"
        ],
        [
         "Bolivia",
         "United States",
         "30"
        ],
        [
         "United States",
         "Paraguay",
         "6"
        ],
        [
         "Turks and Caicos Islands",
         "United States",
         "230"
        ]
       ],
       "datasetInfos": [],
       "dbfsResultPath": null,
       "isJsonSchema": true,
       "metadata": {
        "createTempViewForImplicitDf": true,
        "dataframeName": "_sqldf",
        "executionCount": 46
       },
       "overflow": false,
       "plotOptions": {
        "customPlotOptions": {},
        "displayType": "table",
        "pivotAggregation": null,
        "pivotColumns": null,
        "xColumns": null,
        "yColumns": null
       },
       "removedWidgets": [],
       "schema": [
        {
         "metadata": "{}",
         "name": "DEST_COUNTRY_NAME",
         "type": "\"string\""
        },
        {
         "metadata": "{}",
         "name": "ORIGIN_COUNTRY_NAME",
         "type": "\"string\""
        },
        {
         "metadata": "{}",
         "name": "count",
         "type": "\"string\""
        }
       ],
       "type": "table"
      }
     },
     "output_type": "display_data"
    }
   ],
   "source": [
    "%sql\n",
    "SELECT * FROM flights_from_select f1\n",
    "WHERE EXISTS (SELECT 1 FROM flights_from_select f2\n",
    "WHERE f1.dest_country_name = f2.origin_country_name)\n",
    "AND EXISTS (SELECT 1 FROM flights_from_select f2\n",
    "WHERE f2.dest_country_name = f1.origin_country_name)"
   ]
  },
  {
   "cell_type": "code",
   "execution_count": 0,
   "metadata": {
    "application/vnd.databricks.v1+cell": {
     "cellMetadata": {
      "byteLimit": 2048000,
      "implicitDf": true,
      "rowLimit": 10000
     },
     "inputWidgets": {},
     "nuid": "1642b3e6-810f-4268-bad4-033f819490d4",
     "showTitle": false,
     "tableResultSettingsMap": {},
     "title": ""
    }
   },
   "outputs": [
    {
     "output_type": "display_data",
     "data": {
      "text/html": [
       "<style scoped>\n",
       "  .table-result-container {\n",
       "    max-height: 300px;\n",
       "    overflow: auto;\n",
       "  }\n",
       "  table, th, td {\n",
       "    border: 1px solid black;\n",
       "    border-collapse: collapse;\n",
       "  }\n",
       "  th, td {\n",
       "    padding: 5px;\n",
       "  }\n",
       "  th {\n",
       "    text-align: left;\n",
       "  }\n",
       "</style><div class='table-result-container'><table class='table-result'><thead style='background-color: white'><tr><th>DEST_COUNTRY_NAME</th><th>ORIGIN_COUNTRY_NAME</th><th>count</th><th>maximum</th></tr></thead><tbody><tr><td>United States</td><td>Romania</td><td>15</td><td>986</td></tr><tr><td>United States</td><td>Croatia</td><td>1</td><td>986</td></tr><tr><td>United States</td><td>Ireland</td><td>344</td><td>986</td></tr><tr><td>Egypt</td><td>United States</td><td>15</td><td>986</td></tr><tr><td>United States</td><td>India</td><td>62</td><td>986</td></tr><tr><td>United States</td><td>Singapore</td><td>1</td><td>986</td></tr><tr><td>United States</td><td>Grenada</td><td>62</td><td>986</td></tr><tr><td>Costa Rica</td><td>United States</td><td>588</td><td>986</td></tr><tr><td>Senegal</td><td>United States</td><td>40</td><td>986</td></tr><tr><td>Moldova</td><td>United States</td><td>1</td><td>986</td></tr><tr><td>United States</td><td>Sint Maarten</td><td>325</td><td>986</td></tr><tr><td>United States</td><td>Marshall Islands</td><td>39</td><td>986</td></tr><tr><td>Guyana</td><td>United States</td><td>64</td><td>986</td></tr><tr><td>Malta</td><td>United States</td><td>1</td><td>986</td></tr><tr><td>Anguilla</td><td>United States</td><td>41</td><td>986</td></tr><tr><td>Bolivia</td><td>United States</td><td>30</td><td>986</td></tr><tr><td>United States</td><td>Paraguay</td><td>6</td><td>986</td></tr><tr><td>Algeria</td><td>United States</td><td>4</td><td>986</td></tr><tr><td>Turks and Caicos Islands</td><td>United States</td><td>230</td><td>986</td></tr><tr><td>United States</td><td>Gibraltar</td><td>1</td><td>986</td></tr><tr><td>Saint Vincent and the Grenadines</td><td>United States</td><td>1</td><td>986</td></tr><tr><td>Italy</td><td>United States</td><td>382</td><td>986</td></tr><tr><td>United States</td><td>Federated States of Micronesia</td><td>69</td><td>986</td></tr><tr><td>United States</td><td>Russia</td><td>161</td><td>986</td></tr><tr><td>Pakistan</td><td>United States</td><td>12</td><td>986</td></tr><tr><td>United States</td><td>Netherlands</td><td>660</td><td>986</td></tr><tr><td>Iceland</td><td>United States</td><td>181</td><td>986</td></tr><tr><td>Marshall Islands</td><td>United States</td><td>42</td><td>986</td></tr><tr><td>Luxembourg</td><td>United States</td><td>155</td><td>986</td></tr><tr><td>Honduras</td><td>United States</td><td>362</td><td>986</td></tr><tr><td>The Bahamas</td><td>United States</td><td>955</td><td>986</td></tr><tr><td>United States</td><td>Senegal</td><td>42</td><td>986</td></tr><tr><td>El Salvador</td><td>United States</td><td>561</td><td>986</td></tr><tr><td>Samoa</td><td>United States</td><td>25</td><td>986</td></tr><tr><td>United States</td><td>Angola</td><td>13</td><td>986</td></tr><tr><td>Switzerland</td><td>United States</td><td>294</td><td>986</td></tr><tr><td>United States</td><td>Anguilla</td><td>38</td><td>986</td></tr><tr><td>Sint Maarten</td><td>United States</td><td>325</td><td>986</td></tr><tr><td>Hong Kong</td><td>United States</td><td>332</td><td>986</td></tr><tr><td>Trinidad and Tobago</td><td>United States</td><td>211</td><td>986</td></tr><tr><td>Latvia</td><td>United States</td><td>19</td><td>986</td></tr><tr><td>United States</td><td>Ecuador</td><td>300</td><td>986</td></tr><tr><td>Suriname</td><td>United States</td><td>1</td><td>986</td></tr><tr><td>Mexico</td><td>United States</td><td>7140</td><td>986</td></tr><tr><td>United States</td><td>Cyprus</td><td>1</td><td>986</td></tr><tr><td>Ecuador</td><td>United States</td><td>268</td><td>986</td></tr><tr><td>United States</td><td>Portugal</td><td>134</td><td>986</td></tr><tr><td>United States</td><td>Costa Rica</td><td>608</td><td>986</td></tr><tr><td>United States</td><td>Guatemala</td><td>318</td><td>986</td></tr><tr><td>United States</td><td>Suriname</td><td>34</td><td>986</td></tr><tr><td>Colombia</td><td>United States</td><td>873</td><td>986</td></tr><tr><td>United States</td><td>Cape Verde</td><td>14</td><td>986</td></tr><tr><td>United States</td><td>Jamaica</td><td>712</td><td>986</td></tr><tr><td>Norway</td><td>United States</td><td>121</td><td>986</td></tr><tr><td>United States</td><td>Malaysia</td><td>3</td><td>986</td></tr><tr><td>United States</td><td>Morocco</td><td>19</td><td>986</td></tr><tr><td>Thailand</td><td>United States</td><td>3</td><td>986</td></tr><tr><td>United States</td><td>Samoa</td><td>25</td><td>986</td></tr><tr><td>Venezuela</td><td>United States</td><td>290</td><td>986</td></tr><tr><td>United States</td><td>Palau</td><td>31</td><td>986</td></tr><tr><td>United States</td><td>Venezuela</td><td>246</td><td>986</td></tr><tr><td>Panama</td><td>United States</td><td>510</td><td>986</td></tr><tr><td>Antigua and Barbuda</td><td>United States</td><td>126</td><td>986</td></tr><tr><td>United States</td><td>Chile</td><td>185</td><td>986</td></tr><tr><td>Morocco</td><td>United States</td><td>15</td><td>986</td></tr><tr><td>United States</td><td>Finland</td><td>28</td><td>986</td></tr><tr><td>Azerbaijan</td><td>United States</td><td>21</td><td>986</td></tr><tr><td>United States</td><td>Greece</td><td>23</td><td>986</td></tr><tr><td>United States</td><td>The Bahamas</td><td>986</td><td>986</td></tr><tr><td>New Zealand</td><td>United States</td><td>111</td><td>986</td></tr><tr><td>Liberia</td><td>United States</td><td>2</td><td>986</td></tr><tr><td>United States</td><td>Hong Kong</td><td>414</td><td>986</td></tr><tr><td>Hungary</td><td>United States</td><td>2</td><td>986</td></tr><tr><td>United States</td><td>China</td><td>920</td><td>986</td></tr><tr><td>United States</td><td>Vietnam</td><td>2</td><td>986</td></tr><tr><td>Burkina Faso</td><td>United States</td><td>1</td><td>986</td></tr><tr><td>Sweden</td><td>United States</td><td>118</td><td>986</td></tr><tr><td>United States</td><td>Kuwait</td><td>28</td><td>986</td></tr><tr><td>United States</td><td>Dominican Republic</td><td>1420</td><td>986</td></tr><tr><td>United States</td><td>Egypt</td><td>12</td><td>986</td></tr><tr><td>Israel</td><td>United States</td><td>134</td><td>986</td></tr><tr><td>United States</td><td>United States</td><td>370002</td><td>986</td></tr><tr><td>Ethiopia</td><td>United States</td><td>13</td><td>986</td></tr><tr><td>United States</td><td>Luxembourg</td><td>134</td><td>986</td></tr><tr><td>United States</td><td>Poland</td><td>33</td><td>986</td></tr><tr><td>Martinique</td><td>United States</td><td>44</td><td>986</td></tr><tr><td>United States</td><td>Saint Barthelemy</td><td>41</td><td>986</td></tr><tr><td>Saint Barthelemy</td><td>United States</td><td>39</td><td>986</td></tr><tr><td>Barbados</td><td>United States</td><td>154</td><td>986</td></tr><tr><td>United States</td><td>Turkey</td><td>129</td><td>986</td></tr><tr><td>Djibouti</td><td>United States</td><td>1</td><td>986</td></tr><tr><td>United States</td><td>Azerbaijan</td><td>21</td><td>986</td></tr><tr><td>United States</td><td>Estonia</td><td>1</td><td>986</td></tr><tr><td>Germany</td><td>United States</td><td>1468</td><td>986</td></tr><tr><td>United States</td><td>South Korea</td><td>827</td><td>986</td></tr><tr><td>United States</td><td>El Salvador</td><td>508</td><td>986</td></tr><tr><td>Ireland</td><td>United States</td><td>335</td><td>986</td></tr><tr><td>United States</td><td>Hungary</td><td>3</td><td>986</td></tr><tr><td>Zambia</td><td>United States</td><td>1</td><td>986</td></tr><tr><td>Malaysia</td><td>United States</td><td>2</td><td>986</td></tr><tr><td>United States</td><td>Ethiopia</td><td>12</td><td>986</td></tr><tr><td>United States</td><td>Panama</td><td>465</td><td>986</td></tr><tr><td>United States</td><td>Aruba</td><td>342</td><td>986</td></tr><tr><td>United States</td><td>Thailand</td><td>4</td><td>986</td></tr><tr><td>United States</td><td>Turks and Caicos Islands</td><td>236</td><td>986</td></tr><tr><td>Croatia</td><td>United States</td><td>2</td><td>986</td></tr><tr><td>United States</td><td>Pakistan</td><td>12</td><td>986</td></tr><tr><td>Cyprus</td><td>United States</td><td>1</td><td>986</td></tr><tr><td>United States</td><td>Honduras</td><td>407</td><td>986</td></tr><tr><td>Fiji</td><td>United States</td><td>24</td><td>986</td></tr><tr><td>Qatar</td><td>United States</td><td>108</td><td>986</td></tr><tr><td>Saint Kitts and Nevis</td><td>United States</td><td>139</td><td>986</td></tr><tr><td>Kuwait</td><td>United States</td><td>32</td><td>986</td></tr><tr><td>Taiwan</td><td>United States</td><td>266</td><td>986</td></tr><tr><td>Haiti</td><td>United States</td><td>226</td><td>986</td></tr><tr><td>Canada</td><td>United States</td><td>8399</td><td>986</td></tr><tr><td>Federated States of Micronesia</td><td>United States</td><td>69</td><td>986</td></tr><tr><td>United States</td><td>Liberia</td><td>2</td><td>986</td></tr><tr><td>Jamaica</td><td>United States</td><td>666</td><td>986</td></tr><tr><td>United States</td><td>Malta</td><td>2</td><td>986</td></tr><tr><td>Dominican Republic</td><td>United States</td><td>1353</td><td>986</td></tr><tr><td>Japan</td><td>United States</td><td>1548</td><td>986</td></tr><tr><td>United States</td><td>Lithuania</td><td>1</td><td>986</td></tr><tr><td>Finland</td><td>United States</td><td>26</td><td>986</td></tr><tr><td>United States</td><td>Guadeloupe</td><td>59</td><td>986</td></tr><tr><td>United States</td><td>Ukraine</td><td>13</td><td>986</td></tr><tr><td>United States</td><td>France</td><td>952</td><td>986</td></tr><tr><td>United States</td><td>Norway</td><td>115</td><td>986</td></tr><tr><td>Aruba</td><td>United States</td><td>346</td><td>986</td></tr><tr><td>French Guiana</td><td>United States</td><td>5</td><td>986</td></tr><tr><td>United States</td><td>Kiribati</td><td>35</td><td>986</td></tr><tr><td>India</td><td>United States</td><td>61</td><td>986</td></tr><tr><td>British Virgin Islands</td><td>United States</td><td>107</td><td>986</td></tr><tr><td>Brazil</td><td>United States</td><td>853</td><td>986</td></tr><tr><td>United States</td><td>Germany</td><td>1336</td><td>986</td></tr><tr><td>United States</td><td>New Zealand</td><td>74</td><td>986</td></tr><tr><td>French Polynesia</td><td>United States</td><td>43</td><td>986</td></tr><tr><td>United Arab Emirates</td><td>United States</td><td>320</td><td>986</td></tr><tr><td>Singapore</td><td>United States</td><td>3</td><td>986</td></tr><tr><td>United States</td><td>Mexico</td><td>7187</td><td>986</td></tr><tr><td>United States</td><td>Sweden</td><td>119</td><td>986</td></tr><tr><td>Netherlands</td><td>United States</td><td>776</td><td>986</td></tr><tr><td>United States</td><td>Martinique</td><td>43</td><td>986</td></tr><tr><td>United States</td><td>United Arab Emirates</td><td>313</td><td>986</td></tr><tr><td>United States</td><td>Bulgaria</td><td>1</td><td>986</td></tr><tr><td>Denmark</td><td>United States</td><td>153</td><td>986</td></tr><tr><td>China</td><td>United States</td><td>772</td><td>986</td></tr><tr><td>United States</td><td>Nicaragua</td><td>201</td><td>986</td></tr><tr><td>United States</td><td>Philippines</td><td>126</td><td>986</td></tr><tr><td>United States</td><td>Georgia</td><td>1</td><td>986</td></tr><tr><td>United States</td><td>Belgium</td><td>228</td><td>986</td></tr><tr><td>Cayman Islands</td><td>United States</td><td>314</td><td>986</td></tr><tr><td>Argentina</td><td>United States</td><td>180</td><td>986</td></tr><tr><td>Peru</td><td>United States</td><td>279</td><td>986</td></tr><tr><td>South Africa</td><td>United States</td><td>36</td><td>986</td></tr><tr><td>United States</td><td>Iceland</td><td>202</td><td>986</td></tr><tr><td>United States</td><td>Argentina</td><td>141</td><td>986</td></tr><tr><td>Spain</td><td>United States</td><td>420</td><td>986</td></tr><tr><td>Bermuda</td><td>United States</td><td>183</td><td>986</td></tr><tr><td>United States</td><td>Nigeria</td><td>50</td><td>986</td></tr><tr><td>United States</td><td>Austria</td><td>63</td><td>986</td></tr><tr><td>United States</td><td>Bonaire, Sint Eustatius, and Saba</td><td>59</td><td>986</td></tr><tr><td>Kiribati</td><td>United States</td><td>26</td><td>986</td></tr><tr><td>Saudi Arabia</td><td>United States</td><td>83</td><td>986</td></tr><tr><td>Czech Republic</td><td>United States</td><td>13</td><td>986</td></tr><tr><td>United States</td><td>Israel</td><td>127</td><td>986</td></tr><tr><td>Belgium</td><td>United States</td><td>259</td><td>986</td></tr><tr><td>United States</td><td>Saint Lucia</td><td>136</td><td>986</td></tr><tr><td>United States</td><td>Bahrain</td><td>1</td><td>986</td></tr><tr><td>United States</td><td>British Virgin Islands</td><td>80</td><td>986</td></tr><tr><td>Curacao</td><td>United States</td><td>90</td><td>986</td></tr><tr><td>Georgia</td><td>United States</td><td>2</td><td>986</td></tr><tr><td>United States</td><td>Denmark</td><td>152</td><td>986</td></tr><tr><td>United States</td><td>Guyana</td><td>63</td><td>986</td></tr><tr><td>Philippines</td><td>United States</td><td>134</td><td>986</td></tr><tr><td>Grenada</td><td>United States</td><td>53</td><td>986</td></tr><tr><td>Cape Verde</td><td>United States</td><td>20</td><td>986</td></tr><tr><td>Cote d'Ivoire</td><td>United States</td><td>1</td><td>986</td></tr><tr><td>Ukraine</td><td>United States</td><td>14</td><td>986</td></tr><tr><td>United States</td><td>Papua New Guinea</td><td>1</td><td>986</td></tr><tr><td>Russia</td><td>United States</td><td>176</td><td>986</td></tr><tr><td>United States</td><td>Saudi Arabia</td><td>70</td><td>986</td></tr><tr><td>Guatemala</td><td>United States</td><td>397</td><td>986</td></tr><tr><td>Saint Lucia</td><td>United States</td><td>123</td><td>986</td></tr><tr><td>Paraguay</td><td>United States</td><td>60</td><td>986</td></tr><tr><td>United States</td><td>Curacao</td><td>83</td><td>986</td></tr><tr><td>Kosovo</td><td>United States</td><td>1</td><td>986</td></tr><tr><td>United States</td><td>Taiwan</td><td>235</td><td>986</td></tr><tr><td>Tunisia</td><td>United States</td><td>3</td><td>986</td></tr><tr><td>United States</td><td>South Africa</td><td>40</td><td>986</td></tr><tr><td>Niger</td><td>United States</td><td>2</td><td>986</td></tr><tr><td>Turkey</td><td>United States</td><td>138</td><td>986</td></tr><tr><td>United Kingdom</td><td>United States</td><td>2025</td><td>986</td></tr><tr><td>Romania</td><td>United States</td><td>14</td><td>986</td></tr><tr><td>United States</td><td>Greenland</td><td>4</td><td>986</td></tr><tr><td>Papua New Guinea</td><td>United States</td><td>3</td><td>986</td></tr><tr><td>United States</td><td>Spain</td><td>442</td><td>986</td></tr><tr><td>Iraq</td><td>United States</td><td>1</td><td>986</td></tr><tr><td>United States</td><td>Italy</td><td>438</td><td>986</td></tr><tr><td>Cuba</td><td>United States</td><td>466</td><td>986</td></tr><tr><td>United States</td><td>Switzerland</td><td>305</td><td>986</td></tr><tr><td>Dominica</td><td>United States</td><td>20</td><td>986</td></tr><tr><td>United States</td><td>Japan</td><td>1496</td><td>986</td></tr><tr><td>Portugal</td><td>United States</td><td>127</td><td>986</td></tr><tr><td>United States</td><td>Brazil</td><td>619</td><td>986</td></tr><tr><td>Bahrain</td><td>United States</td><td>19</td><td>986</td></tr><tr><td>United States</td><td>Peru</td><td>337</td><td>986</td></tr><tr><td>Indonesia</td><td>United States</td><td>1</td><td>986</td></tr><tr><td>United States</td><td>Belize</td><td>193</td><td>986</td></tr><tr><td>United States</td><td>United Kingdom</td><td>1970</td><td>986</td></tr><tr><td>Belize</td><td>United States</td><td>188</td><td>986</td></tr><tr><td>United States</td><td>Ghana</td><td>20</td><td>986</td></tr><tr><td>United States</td><td>Indonesia</td><td>2</td><td>986</td></tr><tr><td>United States</td><td>Fiji</td><td>25</td><td>986</td></tr><tr><td>United States</td><td>Canada</td><td>8483</td><td>986</td></tr><tr><td>United States</td><td>Antigua and Barbuda</td><td>117</td><td>986</td></tr><tr><td>United States</td><td>French Polynesia</td><td>40</td><td>986</td></tr><tr><td>Nicaragua</td><td>United States</td><td>179</td><td>986</td></tr><tr><td>United States</td><td>Latvia</td><td>15</td><td>986</td></tr><tr><td>United States</td><td>Dominica</td><td>27</td><td>986</td></tr><tr><td>United States</td><td>Czech Republic</td><td>12</td><td>986</td></tr><tr><td>United States</td><td>Australia</td><td>258</td><td>986</td></tr><tr><td>United States</td><td>Cook Islands</td><td>13</td><td>986</td></tr><tr><td>Austria</td><td>United States</td><td>62</td><td>986</td></tr><tr><td>Jordan</td><td>United States</td><td>44</td><td>986</td></tr><tr><td>Palau</td><td>United States</td><td>30</td><td>986</td></tr><tr><td>South Korea</td><td>United States</td><td>1048</td><td>986</td></tr><tr><td>Angola</td><td>United States</td><td>15</td><td>986</td></tr><tr><td>Ghana</td><td>United States</td><td>18</td><td>986</td></tr><tr><td>New Caledonia</td><td>United States</td><td>1</td><td>986</td></tr><tr><td>Guadeloupe</td><td>United States</td><td>56</td><td>986</td></tr><tr><td>France</td><td>United States</td><td>935</td><td>986</td></tr><tr><td>Poland</td><td>United States</td><td>32</td><td>986</td></tr><tr><td>Nigeria</td><td>United States</td><td>59</td><td>986</td></tr><tr><td>United States</td><td>Uruguay</td><td>13</td><td>986</td></tr><tr><td>Greenland</td><td>United States</td><td>2</td><td>986</td></tr><tr><td>United States</td><td>Bermuda</td><td>193</td><td>986</td></tr><tr><td>Chile</td><td>United States</td><td>174</td><td>986</td></tr><tr><td>United States</td><td>Cuba</td><td>478</td><td>986</td></tr><tr><td>United States</td><td>Montenegro</td><td>1</td><td>986</td></tr><tr><td>United States</td><td>Colombia</td><td>867</td><td>986</td></tr><tr><td>United States</td><td>Barbados</td><td>130</td><td>986</td></tr><tr><td>United States</td><td>Qatar</td><td>109</td><td>986</td></tr><tr><td>Australia</td><td>United States</td><td>329</td><td>986</td></tr><tr><td>United States</td><td>Cayman Islands</td><td>310</td><td>986</td></tr><tr><td>United States</td><td>Jordan</td><td>44</td><td>986</td></tr><tr><td>United States</td><td>Namibia</td><td>1</td><td>986</td></tr><tr><td>United States</td><td>Trinidad and Tobago</td><td>217</td><td>986</td></tr><tr><td>United States</td><td>Bolivia</td><td>13</td><td>986</td></tr><tr><td>Cook Islands</td><td>United States</td><td>13</td><td>986</td></tr><tr><td>Bulgaria</td><td>United States</td><td>3</td><td>986</td></tr><tr><td>United States</td><td>Saint Kitts and Nevis</td><td>145</td><td>986</td></tr><tr><td>Uruguay</td><td>United States</td><td>43</td><td>986</td></tr><tr><td>United States</td><td>Haiti</td><td>225</td><td>986</td></tr><tr><td>Bonaire, Sint Eustatius, and Saba</td><td>United States</td><td>58</td><td>986</td></tr><tr><td>Greece</td><td>United States</td><td>30</td><td>986</td></tr><tr><td>United States</td><td>Romania</td><td>15</td><td>986</td></tr><tr><td>United States</td><td>Croatia</td><td>1</td><td>986</td></tr><tr><td>United States</td><td>Ireland</td><td>344</td><td>986</td></tr><tr><td>Egypt</td><td>United States</td><td>15</td><td>986</td></tr><tr><td>United States</td><td>India</td><td>62</td><td>986</td></tr><tr><td>United States</td><td>Singapore</td><td>1</td><td>986</td></tr><tr><td>United States</td><td>Grenada</td><td>62</td><td>986</td></tr><tr><td>Costa Rica</td><td>United States</td><td>588</td><td>986</td></tr><tr><td>Senegal</td><td>United States</td><td>40</td><td>986</td></tr><tr><td>Moldova</td><td>United States</td><td>1</td><td>986</td></tr><tr><td>United States</td><td>Sint Maarten</td><td>325</td><td>986</td></tr><tr><td>United States</td><td>Marshall Islands</td><td>39</td><td>986</td></tr><tr><td>Guyana</td><td>United States</td><td>64</td><td>986</td></tr><tr><td>Malta</td><td>United States</td><td>1</td><td>986</td></tr><tr><td>Anguilla</td><td>United States</td><td>41</td><td>986</td></tr><tr><td>Bolivia</td><td>United States</td><td>30</td><td>986</td></tr><tr><td>United States</td><td>Paraguay</td><td>6</td><td>986</td></tr><tr><td>Algeria</td><td>United States</td><td>4</td><td>986</td></tr><tr><td>Turks and Caicos Islands</td><td>United States</td><td>230</td><td>986</td></tr><tr><td>United States</td><td>Gibraltar</td><td>1</td><td>986</td></tr></tbody></table></div>"
      ]
     },
     "metadata": {
      "application/vnd.databricks.v1+output": {
       "addedWidgets": {},
       "aggData": [],
       "aggError": "",
       "aggOverflow": false,
       "aggSchema": [],
       "aggSeriesLimitReached": false,
       "aggType": "",
       "arguments": {},
       "columnCustomDisplayInfos": {},
       "data": [
        [
         "United States",
         "Romania",
         "15",
         "986"
        ],
        [
         "United States",
         "Croatia",
         "1",
         "986"
        ],
        [
         "United States",
         "Ireland",
         "344",
         "986"
        ],
        [
         "Egypt",
         "United States",
         "15",
         "986"
        ],
        [
         "United States",
         "India",
         "62",
         "986"
        ],
        [
         "United States",
         "Singapore",
         "1",
         "986"
        ],
        [
         "United States",
         "Grenada",
         "62",
         "986"
        ],
        [
         "Costa Rica",
         "United States",
         "588",
         "986"
        ],
        [
         "Senegal",
         "United States",
         "40",
         "986"
        ],
        [
         "Moldova",
         "United States",
         "1",
         "986"
        ],
        [
         "United States",
         "Sint Maarten",
         "325",
         "986"
        ],
        [
         "United States",
         "Marshall Islands",
         "39",
         "986"
        ],
        [
         "Guyana",
         "United States",
         "64",
         "986"
        ],
        [
         "Malta",
         "United States",
         "1",
         "986"
        ],
        [
         "Anguilla",
         "United States",
         "41",
         "986"
        ],
        [
         "Bolivia",
         "United States",
         "30",
         "986"
        ],
        [
         "United States",
         "Paraguay",
         "6",
         "986"
        ],
        [
         "Algeria",
         "United States",
         "4",
         "986"
        ],
        [
         "Turks and Caicos Islands",
         "United States",
         "230",
         "986"
        ],
        [
         "United States",
         "Gibraltar",
         "1",
         "986"
        ],
        [
         "Saint Vincent and the Grenadines",
         "United States",
         "1",
         "986"
        ],
        [
         "Italy",
         "United States",
         "382",
         "986"
        ],
        [
         "United States",
         "Federated States of Micronesia",
         "69",
         "986"
        ],
        [
         "United States",
         "Russia",
         "161",
         "986"
        ],
        [
         "Pakistan",
         "United States",
         "12",
         "986"
        ],
        [
         "United States",
         "Netherlands",
         "660",
         "986"
        ],
        [
         "Iceland",
         "United States",
         "181",
         "986"
        ],
        [
         "Marshall Islands",
         "United States",
         "42",
         "986"
        ],
        [
         "Luxembourg",
         "United States",
         "155",
         "986"
        ],
        [
         "Honduras",
         "United States",
         "362",
         "986"
        ],
        [
         "The Bahamas",
         "United States",
         "955",
         "986"
        ],
        [
         "United States",
         "Senegal",
         "42",
         "986"
        ],
        [
         "El Salvador",
         "United States",
         "561",
         "986"
        ],
        [
         "Samoa",
         "United States",
         "25",
         "986"
        ],
        [
         "United States",
         "Angola",
         "13",
         "986"
        ],
        [
         "Switzerland",
         "United States",
         "294",
         "986"
        ],
        [
         "United States",
         "Anguilla",
         "38",
         "986"
        ],
        [
         "Sint Maarten",
         "United States",
         "325",
         "986"
        ],
        [
         "Hong Kong",
         "United States",
         "332",
         "986"
        ],
        [
         "Trinidad and Tobago",
         "United States",
         "211",
         "986"
        ],
        [
         "Latvia",
         "United States",
         "19",
         "986"
        ],
        [
         "United States",
         "Ecuador",
         "300",
         "986"
        ],
        [
         "Suriname",
         "United States",
         "1",
         "986"
        ],
        [
         "Mexico",
         "United States",
         "7140",
         "986"
        ],
        [
         "United States",
         "Cyprus",
         "1",
         "986"
        ],
        [
         "Ecuador",
         "United States",
         "268",
         "986"
        ],
        [
         "United States",
         "Portugal",
         "134",
         "986"
        ],
        [
         "United States",
         "Costa Rica",
         "608",
         "986"
        ],
        [
         "United States",
         "Guatemala",
         "318",
         "986"
        ],
        [
         "United States",
         "Suriname",
         "34",
         "986"
        ],
        [
         "Colombia",
         "United States",
         "873",
         "986"
        ],
        [
         "United States",
         "Cape Verde",
         "14",
         "986"
        ],
        [
         "United States",
         "Jamaica",
         "712",
         "986"
        ],
        [
         "Norway",
         "United States",
         "121",
         "986"
        ],
        [
         "United States",
         "Malaysia",
         "3",
         "986"
        ],
        [
         "United States",
         "Morocco",
         "19",
         "986"
        ],
        [
         "Thailand",
         "United States",
         "3",
         "986"
        ],
        [
         "United States",
         "Samoa",
         "25",
         "986"
        ],
        [
         "Venezuela",
         "United States",
         "290",
         "986"
        ],
        [
         "United States",
         "Palau",
         "31",
         "986"
        ],
        [
         "United States",
         "Venezuela",
         "246",
         "986"
        ],
        [
         "Panama",
         "United States",
         "510",
         "986"
        ],
        [
         "Antigua and Barbuda",
         "United States",
         "126",
         "986"
        ],
        [
         "United States",
         "Chile",
         "185",
         "986"
        ],
        [
         "Morocco",
         "United States",
         "15",
         "986"
        ],
        [
         "United States",
         "Finland",
         "28",
         "986"
        ],
        [
         "Azerbaijan",
         "United States",
         "21",
         "986"
        ],
        [
         "United States",
         "Greece",
         "23",
         "986"
        ],
        [
         "United States",
         "The Bahamas",
         "986",
         "986"
        ],
        [
         "New Zealand",
         "United States",
         "111",
         "986"
        ],
        [
         "Liberia",
         "United States",
         "2",
         "986"
        ],
        [
         "United States",
         "Hong Kong",
         "414",
         "986"
        ],
        [
         "Hungary",
         "United States",
         "2",
         "986"
        ],
        [
         "United States",
         "China",
         "920",
         "986"
        ],
        [
         "United States",
         "Vietnam",
         "2",
         "986"
        ],
        [
         "Burkina Faso",
         "United States",
         "1",
         "986"
        ],
        [
         "Sweden",
         "United States",
         "118",
         "986"
        ],
        [
         "United States",
         "Kuwait",
         "28",
         "986"
        ],
        [
         "United States",
         "Dominican Republic",
         "1420",
         "986"
        ],
        [
         "United States",
         "Egypt",
         "12",
         "986"
        ],
        [
         "Israel",
         "United States",
         "134",
         "986"
        ],
        [
         "United States",
         "United States",
         "370002",
         "986"
        ],
        [
         "Ethiopia",
         "United States",
         "13",
         "986"
        ],
        [
         "United States",
         "Luxembourg",
         "134",
         "986"
        ],
        [
         "United States",
         "Poland",
         "33",
         "986"
        ],
        [
         "Martinique",
         "United States",
         "44",
         "986"
        ],
        [
         "United States",
         "Saint Barthelemy",
         "41",
         "986"
        ],
        [
         "Saint Barthelemy",
         "United States",
         "39",
         "986"
        ],
        [
         "Barbados",
         "United States",
         "154",
         "986"
        ],
        [
         "United States",
         "Turkey",
         "129",
         "986"
        ],
        [
         "Djibouti",
         "United States",
         "1",
         "986"
        ],
        [
         "United States",
         "Azerbaijan",
         "21",
         "986"
        ],
        [
         "United States",
         "Estonia",
         "1",
         "986"
        ],
        [
         "Germany",
         "United States",
         "1468",
         "986"
        ],
        [
         "United States",
         "South Korea",
         "827",
         "986"
        ],
        [
         "United States",
         "El Salvador",
         "508",
         "986"
        ],
        [
         "Ireland",
         "United States",
         "335",
         "986"
        ],
        [
         "United States",
         "Hungary",
         "3",
         "986"
        ],
        [
         "Zambia",
         "United States",
         "1",
         "986"
        ],
        [
         "Malaysia",
         "United States",
         "2",
         "986"
        ],
        [
         "United States",
         "Ethiopia",
         "12",
         "986"
        ],
        [
         "United States",
         "Panama",
         "465",
         "986"
        ],
        [
         "United States",
         "Aruba",
         "342",
         "986"
        ],
        [
         "United States",
         "Thailand",
         "4",
         "986"
        ],
        [
         "United States",
         "Turks and Caicos Islands",
         "236",
         "986"
        ],
        [
         "Croatia",
         "United States",
         "2",
         "986"
        ],
        [
         "United States",
         "Pakistan",
         "12",
         "986"
        ],
        [
         "Cyprus",
         "United States",
         "1",
         "986"
        ],
        [
         "United States",
         "Honduras",
         "407",
         "986"
        ],
        [
         "Fiji",
         "United States",
         "24",
         "986"
        ],
        [
         "Qatar",
         "United States",
         "108",
         "986"
        ],
        [
         "Saint Kitts and Nevis",
         "United States",
         "139",
         "986"
        ],
        [
         "Kuwait",
         "United States",
         "32",
         "986"
        ],
        [
         "Taiwan",
         "United States",
         "266",
         "986"
        ],
        [
         "Haiti",
         "United States",
         "226",
         "986"
        ],
        [
         "Canada",
         "United States",
         "8399",
         "986"
        ],
        [
         "Federated States of Micronesia",
         "United States",
         "69",
         "986"
        ],
        [
         "United States",
         "Liberia",
         "2",
         "986"
        ],
        [
         "Jamaica",
         "United States",
         "666",
         "986"
        ],
        [
         "United States",
         "Malta",
         "2",
         "986"
        ],
        [
         "Dominican Republic",
         "United States",
         "1353",
         "986"
        ],
        [
         "Japan",
         "United States",
         "1548",
         "986"
        ],
        [
         "United States",
         "Lithuania",
         "1",
         "986"
        ],
        [
         "Finland",
         "United States",
         "26",
         "986"
        ],
        [
         "United States",
         "Guadeloupe",
         "59",
         "986"
        ],
        [
         "United States",
         "Ukraine",
         "13",
         "986"
        ],
        [
         "United States",
         "France",
         "952",
         "986"
        ],
        [
         "United States",
         "Norway",
         "115",
         "986"
        ],
        [
         "Aruba",
         "United States",
         "346",
         "986"
        ],
        [
         "French Guiana",
         "United States",
         "5",
         "986"
        ],
        [
         "United States",
         "Kiribati",
         "35",
         "986"
        ],
        [
         "India",
         "United States",
         "61",
         "986"
        ],
        [
         "British Virgin Islands",
         "United States",
         "107",
         "986"
        ],
        [
         "Brazil",
         "United States",
         "853",
         "986"
        ],
        [
         "United States",
         "Germany",
         "1336",
         "986"
        ],
        [
         "United States",
         "New Zealand",
         "74",
         "986"
        ],
        [
         "French Polynesia",
         "United States",
         "43",
         "986"
        ],
        [
         "United Arab Emirates",
         "United States",
         "320",
         "986"
        ],
        [
         "Singapore",
         "United States",
         "3",
         "986"
        ],
        [
         "United States",
         "Mexico",
         "7187",
         "986"
        ],
        [
         "United States",
         "Sweden",
         "119",
         "986"
        ],
        [
         "Netherlands",
         "United States",
         "776",
         "986"
        ],
        [
         "United States",
         "Martinique",
         "43",
         "986"
        ],
        [
         "United States",
         "United Arab Emirates",
         "313",
         "986"
        ],
        [
         "United States",
         "Bulgaria",
         "1",
         "986"
        ],
        [
         "Denmark",
         "United States",
         "153",
         "986"
        ],
        [
         "China",
         "United States",
         "772",
         "986"
        ],
        [
         "United States",
         "Nicaragua",
         "201",
         "986"
        ],
        [
         "United States",
         "Philippines",
         "126",
         "986"
        ],
        [
         "United States",
         "Georgia",
         "1",
         "986"
        ],
        [
         "United States",
         "Belgium",
         "228",
         "986"
        ],
        [
         "Cayman Islands",
         "United States",
         "314",
         "986"
        ],
        [
         "Argentina",
         "United States",
         "180",
         "986"
        ],
        [
         "Peru",
         "United States",
         "279",
         "986"
        ],
        [
         "South Africa",
         "United States",
         "36",
         "986"
        ],
        [
         "United States",
         "Iceland",
         "202",
         "986"
        ],
        [
         "United States",
         "Argentina",
         "141",
         "986"
        ],
        [
         "Spain",
         "United States",
         "420",
         "986"
        ],
        [
         "Bermuda",
         "United States",
         "183",
         "986"
        ],
        [
         "United States",
         "Nigeria",
         "50",
         "986"
        ],
        [
         "United States",
         "Austria",
         "63",
         "986"
        ],
        [
         "United States",
         "Bonaire, Sint Eustatius, and Saba",
         "59",
         "986"
        ],
        [
         "Kiribati",
         "United States",
         "26",
         "986"
        ],
        [
         "Saudi Arabia",
         "United States",
         "83",
         "986"
        ],
        [
         "Czech Republic",
         "United States",
         "13",
         "986"
        ],
        [
         "United States",
         "Israel",
         "127",
         "986"
        ],
        [
         "Belgium",
         "United States",
         "259",
         "986"
        ],
        [
         "United States",
         "Saint Lucia",
         "136",
         "986"
        ],
        [
         "United States",
         "Bahrain",
         "1",
         "986"
        ],
        [
         "United States",
         "British Virgin Islands",
         "80",
         "986"
        ],
        [
         "Curacao",
         "United States",
         "90",
         "986"
        ],
        [
         "Georgia",
         "United States",
         "2",
         "986"
        ],
        [
         "United States",
         "Denmark",
         "152",
         "986"
        ],
        [
         "United States",
         "Guyana",
         "63",
         "986"
        ],
        [
         "Philippines",
         "United States",
         "134",
         "986"
        ],
        [
         "Grenada",
         "United States",
         "53",
         "986"
        ],
        [
         "Cape Verde",
         "United States",
         "20",
         "986"
        ],
        [
         "Cote d'Ivoire",
         "United States",
         "1",
         "986"
        ],
        [
         "Ukraine",
         "United States",
         "14",
         "986"
        ],
        [
         "United States",
         "Papua New Guinea",
         "1",
         "986"
        ],
        [
         "Russia",
         "United States",
         "176",
         "986"
        ],
        [
         "United States",
         "Saudi Arabia",
         "70",
         "986"
        ],
        [
         "Guatemala",
         "United States",
         "397",
         "986"
        ],
        [
         "Saint Lucia",
         "United States",
         "123",
         "986"
        ],
        [
         "Paraguay",
         "United States",
         "60",
         "986"
        ],
        [
         "United States",
         "Curacao",
         "83",
         "986"
        ],
        [
         "Kosovo",
         "United States",
         "1",
         "986"
        ],
        [
         "United States",
         "Taiwan",
         "235",
         "986"
        ],
        [
         "Tunisia",
         "United States",
         "3",
         "986"
        ],
        [
         "United States",
         "South Africa",
         "40",
         "986"
        ],
        [
         "Niger",
         "United States",
         "2",
         "986"
        ],
        [
         "Turkey",
         "United States",
         "138",
         "986"
        ],
        [
         "United Kingdom",
         "United States",
         "2025",
         "986"
        ],
        [
         "Romania",
         "United States",
         "14",
         "986"
        ],
        [
         "United States",
         "Greenland",
         "4",
         "986"
        ],
        [
         "Papua New Guinea",
         "United States",
         "3",
         "986"
        ],
        [
         "United States",
         "Spain",
         "442",
         "986"
        ],
        [
         "Iraq",
         "United States",
         "1",
         "986"
        ],
        [
         "United States",
         "Italy",
         "438",
         "986"
        ],
        [
         "Cuba",
         "United States",
         "466",
         "986"
        ],
        [
         "United States",
         "Switzerland",
         "305",
         "986"
        ],
        [
         "Dominica",
         "United States",
         "20",
         "986"
        ],
        [
         "United States",
         "Japan",
         "1496",
         "986"
        ],
        [
         "Portugal",
         "United States",
         "127",
         "986"
        ],
        [
         "United States",
         "Brazil",
         "619",
         "986"
        ],
        [
         "Bahrain",
         "United States",
         "19",
         "986"
        ],
        [
         "United States",
         "Peru",
         "337",
         "986"
        ],
        [
         "Indonesia",
         "United States",
         "1",
         "986"
        ],
        [
         "United States",
         "Belize",
         "193",
         "986"
        ],
        [
         "United States",
         "United Kingdom",
         "1970",
         "986"
        ],
        [
         "Belize",
         "United States",
         "188",
         "986"
        ],
        [
         "United States",
         "Ghana",
         "20",
         "986"
        ],
        [
         "United States",
         "Indonesia",
         "2",
         "986"
        ],
        [
         "United States",
         "Fiji",
         "25",
         "986"
        ],
        [
         "United States",
         "Canada",
         "8483",
         "986"
        ],
        [
         "United States",
         "Antigua and Barbuda",
         "117",
         "986"
        ],
        [
         "United States",
         "French Polynesia",
         "40",
         "986"
        ],
        [
         "Nicaragua",
         "United States",
         "179",
         "986"
        ],
        [
         "United States",
         "Latvia",
         "15",
         "986"
        ],
        [
         "United States",
         "Dominica",
         "27",
         "986"
        ],
        [
         "United States",
         "Czech Republic",
         "12",
         "986"
        ],
        [
         "United States",
         "Australia",
         "258",
         "986"
        ],
        [
         "United States",
         "Cook Islands",
         "13",
         "986"
        ],
        [
         "Austria",
         "United States",
         "62",
         "986"
        ],
        [
         "Jordan",
         "United States",
         "44",
         "986"
        ],
        [
         "Palau",
         "United States",
         "30",
         "986"
        ],
        [
         "South Korea",
         "United States",
         "1048",
         "986"
        ],
        [
         "Angola",
         "United States",
         "15",
         "986"
        ],
        [
         "Ghana",
         "United States",
         "18",
         "986"
        ],
        [
         "New Caledonia",
         "United States",
         "1",
         "986"
        ],
        [
         "Guadeloupe",
         "United States",
         "56",
         "986"
        ],
        [
         "France",
         "United States",
         "935",
         "986"
        ],
        [
         "Poland",
         "United States",
         "32",
         "986"
        ],
        [
         "Nigeria",
         "United States",
         "59",
         "986"
        ],
        [
         "United States",
         "Uruguay",
         "13",
         "986"
        ],
        [
         "Greenland",
         "United States",
         "2",
         "986"
        ],
        [
         "United States",
         "Bermuda",
         "193",
         "986"
        ],
        [
         "Chile",
         "United States",
         "174",
         "986"
        ],
        [
         "United States",
         "Cuba",
         "478",
         "986"
        ],
        [
         "United States",
         "Montenegro",
         "1",
         "986"
        ],
        [
         "United States",
         "Colombia",
         "867",
         "986"
        ],
        [
         "United States",
         "Barbados",
         "130",
         "986"
        ],
        [
         "United States",
         "Qatar",
         "109",
         "986"
        ],
        [
         "Australia",
         "United States",
         "329",
         "986"
        ],
        [
         "United States",
         "Cayman Islands",
         "310",
         "986"
        ],
        [
         "United States",
         "Jordan",
         "44",
         "986"
        ],
        [
         "United States",
         "Namibia",
         "1",
         "986"
        ],
        [
         "United States",
         "Trinidad and Tobago",
         "217",
         "986"
        ],
        [
         "United States",
         "Bolivia",
         "13",
         "986"
        ],
        [
         "Cook Islands",
         "United States",
         "13",
         "986"
        ],
        [
         "Bulgaria",
         "United States",
         "3",
         "986"
        ],
        [
         "United States",
         "Saint Kitts and Nevis",
         "145",
         "986"
        ],
        [
         "Uruguay",
         "United States",
         "43",
         "986"
        ],
        [
         "United States",
         "Haiti",
         "225",
         "986"
        ],
        [
         "Bonaire, Sint Eustatius, and Saba",
         "United States",
         "58",
         "986"
        ],
        [
         "Greece",
         "United States",
         "30",
         "986"
        ],
        [
         "United States",
         "Romania",
         "15",
         "986"
        ],
        [
         "United States",
         "Croatia",
         "1",
         "986"
        ],
        [
         "United States",
         "Ireland",
         "344",
         "986"
        ],
        [
         "Egypt",
         "United States",
         "15",
         "986"
        ],
        [
         "United States",
         "India",
         "62",
         "986"
        ],
        [
         "United States",
         "Singapore",
         "1",
         "986"
        ],
        [
         "United States",
         "Grenada",
         "62",
         "986"
        ],
        [
         "Costa Rica",
         "United States",
         "588",
         "986"
        ],
        [
         "Senegal",
         "United States",
         "40",
         "986"
        ],
        [
         "Moldova",
         "United States",
         "1",
         "986"
        ],
        [
         "United States",
         "Sint Maarten",
         "325",
         "986"
        ],
        [
         "United States",
         "Marshall Islands",
         "39",
         "986"
        ],
        [
         "Guyana",
         "United States",
         "64",
         "986"
        ],
        [
         "Malta",
         "United States",
         "1",
         "986"
        ],
        [
         "Anguilla",
         "United States",
         "41",
         "986"
        ],
        [
         "Bolivia",
         "United States",
         "30",
         "986"
        ],
        [
         "United States",
         "Paraguay",
         "6",
         "986"
        ],
        [
         "Algeria",
         "United States",
         "4",
         "986"
        ],
        [
         "Turks and Caicos Islands",
         "United States",
         "230",
         "986"
        ],
        [
         "United States",
         "Gibraltar",
         "1",
         "986"
        ]
       ],
       "datasetInfos": [],
       "dbfsResultPath": null,
       "isJsonSchema": true,
       "metadata": {
        "createTempViewForImplicitDf": true,
        "dataframeName": "_sqldf",
        "executionCount": 47
       },
       "overflow": false,
       "plotOptions": {
        "customPlotOptions": {},
        "displayType": "table",
        "pivotAggregation": null,
        "pivotColumns": null,
        "xColumns": null,
        "yColumns": null
       },
       "removedWidgets": [],
       "schema": [
        {
         "metadata": "{}",
         "name": "DEST_COUNTRY_NAME",
         "type": "\"string\""
        },
        {
         "metadata": "{}",
         "name": "ORIGIN_COUNTRY_NAME",
         "type": "\"string\""
        },
        {
         "metadata": "{}",
         "name": "count",
         "type": "\"string\""
        },
        {
         "metadata": "{}",
         "name": "maximum",
         "type": "\"string\""
        }
       ],
       "type": "table"
      }
     },
     "output_type": "display_data"
    }
   ],
   "source": [
    "%sql\n",
    "SELECT *, (SELECT max(count) FROM flights_from_select) AS maximum FROM flights_from_select"
   ]
  }
 ],
 "metadata": {
  "application/vnd.databricks.v1+notebook": {
   "computePreferences": null,
   "dashboards": [],
   "environmentMetadata": {
    "base_environment": "",
    "environment_version": "2"
   },
   "inputWidgetPreferences": null,
   "language": "python",
   "notebookMetadata": {
    "mostRecentlyExecutedCommandWithImplicitDF": {
     "commandId": 8242012834321999,
     "dataframes": [
      "_sqldf"
     ]
    },
    "pythonIndentUnit": 4
   },
   "notebookName": "Notebook 6",
   "widgets": {}
  },
  "language_info": {
   "name": "python"
  }
 },
 "nbformat": 4,
 "nbformat_minor": 0
}