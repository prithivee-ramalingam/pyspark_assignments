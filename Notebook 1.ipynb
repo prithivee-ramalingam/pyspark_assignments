{
 "cells": [
  {
   "cell_type": "code",
   "execution_count": 0,
   "metadata": {
    "application/vnd.databricks.v1+cell": {
     "cellMetadata": {
      "byteLimit": 2048000,
      "rowLimit": 10000
     },
     "inputWidgets": {},
     "nuid": "78766af1-9774-4e12-8c1b-6bfed5ca0632",
     "showTitle": false,
     "tableResultSettingsMap": {},
     "title": ""
    }
   },
   "outputs": [],
   "source": [
    "from pyspark.sql import SparkSession\n",
    "spark = SparkSession.builder.appName(\"Spark DataFrames\").getOrCreate()"
   ]
  },
  {
   "cell_type": "markdown",
   "metadata": {
    "application/vnd.databricks.v1+cell": {
     "cellMetadata": {},
     "inputWidgets": {},
     "nuid": "bb5b997f-c582-4f4b-ba2e-2e7b4a50abb5",
     "showTitle": false,
     "tableResultSettingsMap": {},
     "title": ""
    }
   },
   "source": [
    "### Basics"
   ]
  },
  {
   "cell_type": "code",
   "execution_count": 0,
   "metadata": {
    "application/vnd.databricks.v1+cell": {
     "cellMetadata": {
      "byteLimit": 2048000,
      "rowLimit": 10000
     },
     "inputWidgets": {},
     "nuid": "e7c55b16-7d48-47e0-8aae-94d0c9cab05b",
     "showTitle": false,
     "tableResultSettingsMap": {},
     "title": ""
    }
   },
   "outputs": [
    {
     "output_type": "execute_result",
     "data": {
      "text/plain": [
       "DataFrame[number: bigint]"
      ]
     },
     "execution_count": 3,
     "metadata": {},
     "output_type": "execute_result"
    }
   ],
   "source": [
    "my_range = spark.range(1000).toDF('number')\n",
    "my_range"
   ]
  },
  {
   "cell_type": "code",
   "execution_count": 0,
   "metadata": {
    "application/vnd.databricks.v1+cell": {
     "cellMetadata": {
      "byteLimit": 2048000,
      "rowLimit": 10000
     },
     "inputWidgets": {},
     "nuid": "31709b50-f46e-4d57-89e4-12e8bb0b3d24",
     "showTitle": false,
     "tableResultSettingsMap": {},
     "title": ""
    }
   },
   "outputs": [
    {
     "output_type": "execute_result",
     "data": {
      "text/plain": [
       "DataFrame[number: bigint]"
      ]
     },
     "execution_count": 4,
     "metadata": {},
     "output_type": "execute_result"
    }
   ],
   "source": [
    "even_number = my_range.where(\"number % 2 == 0\")\n",
    "even_number"
   ]
  },
  {
   "cell_type": "code",
   "execution_count": 0,
   "metadata": {
    "application/vnd.databricks.v1+cell": {
     "cellMetadata": {
      "byteLimit": 2048000,
      "rowLimit": 10000
     },
     "inputWidgets": {},
     "nuid": "e9a99cdd-3526-409c-bb53-3e1d03035557",
     "showTitle": false,
     "tableResultSettingsMap": {},
     "title": ""
    }
   },
   "outputs": [
    {
     "output_type": "stream",
     "name": "stdout",
     "output_type": "stream",
     "text": [
      "== Parsed Logical Plan ==\n'Filter (('number % 2) = 0)\n+- Filter ((number#4L % cast(2 as bigint)) = cast(0 as bigint))\n   +- Project [id#2L AS number#4L]\n      +- Range (0, 1000, step=1, splits=Some(4))\n\n== Analyzed Logical Plan ==\nnumber: bigint\nFilter ((number#4L % cast(2 as bigint)) = cast(0 as bigint))\n+- Filter ((number#4L % cast(2 as bigint)) = cast(0 as bigint))\n   +- Project [id#2L AS number#4L]\n      +- Range (0, 1000, step=1, splits=Some(4))\n\n== Optimized Logical Plan ==\nProject [id#2L AS number#4L]\n+- Filter ((id#2L % 2) = 0)\n   +- Range (0, 1000, step=1, splits=Some(4))\n\n== Physical Plan ==\n*(1) ColumnarToRow\n+- PhotonResultStage\n   +- PhotonProject [id#2L AS number#4L]\n      +- PhotonFilter ((id#2L % 2) = 0)\n         +- PhotonRange Range (0, 1000, step=1, splits=4)\n\n== Photon Explanation ==\nThe query is fully supported by Photon.\n"
     ]
    }
   ],
   "source": [
    "even_number.filter(\"number % 2 ==0\").explain(True)"
   ]
  },
  {
   "cell_type": "code",
   "execution_count": 0,
   "metadata": {
    "application/vnd.databricks.v1+cell": {
     "cellMetadata": {
      "byteLimit": 2048000,
      "rowLimit": 10000
     },
     "inputWidgets": {},
     "nuid": "2f1bae12-b61c-49ae-b5c8-d6c38b562b50",
     "showTitle": false,
     "tableResultSettingsMap": {},
     "title": ""
    }
   },
   "outputs": [
    {
     "output_type": "display_data",
     "data": {
      "text/html": [
       "<style scoped>\n",
       "  .table-result-container {\n",
       "    max-height: 300px;\n",
       "    overflow: auto;\n",
       "  }\n",
       "  table, th, td {\n",
       "    border: 1px solid black;\n",
       "    border-collapse: collapse;\n",
       "  }\n",
       "  th, td {\n",
       "    padding: 5px;\n",
       "  }\n",
       "  th {\n",
       "    text-align: left;\n",
       "  }\n",
       "</style><div class='table-result-container'><table class='table-result'><thead style='background-color: white'><tr><th>path</th><th>name</th><th>size</th><th>modificationTime</th></tr></thead><tbody><tr><td>dbfs:/Volume/</td><td>Volume/</td><td>0</td><td>0</td></tr><tr><td>dbfs:/Volumes/</td><td>Volumes/</td><td>0</td><td>0</td></tr><tr><td>dbfs:/databricks-datasets/</td><td>databricks-datasets/</td><td>0</td><td>0</td></tr><tr><td>dbfs:/databricks-results/</td><td>databricks-results/</td><td>0</td><td>0</td></tr><tr><td>dbfs:/volume/</td><td>volume/</td><td>0</td><td>0</td></tr><tr><td>dbfs:/volumes/</td><td>volumes/</td><td>0</td><td>0</td></tr></tbody></table></div>"
      ]
     },
     "metadata": {
      "application/vnd.databricks.v1+output": {
       "addedWidgets": {},
       "aggData": [],
       "aggError": "",
       "aggOverflow": false,
       "aggSchema": [],
       "aggSeriesLimitReached": false,
       "aggType": "",
       "arguments": {},
       "columnCustomDisplayInfos": {},
       "data": [
        [
         "dbfs:/Volume/",
         "Volume/",
         0,
         0
        ],
        [
         "dbfs:/Volumes/",
         "Volumes/",
         0,
         0
        ],
        [
         "dbfs:/databricks-datasets/",
         "databricks-datasets/",
         0,
         0
        ],
        [
         "dbfs:/databricks-results/",
         "databricks-results/",
         0,
         0
        ],
        [
         "dbfs:/volume/",
         "volume/",
         0,
         0
        ],
        [
         "dbfs:/volumes/",
         "volumes/",
         0,
         0
        ]
       ],
       "datasetInfos": [],
       "dbfsResultPath": null,
       "isJsonSchema": true,
       "metadata": {},
       "overflow": false,
       "plotOptions": {
        "customPlotOptions": {},
        "displayType": "table",
        "pivotAggregation": null,
        "pivotColumns": null,
        "xColumns": null,
        "yColumns": null
       },
       "removedWidgets": [],
       "schema": [
        {
         "metadata": "{}",
         "name": "path",
         "type": "\"string\""
        },
        {
         "metadata": "{}",
         "name": "name",
         "type": "\"string\""
        },
        {
         "metadata": "{}",
         "name": "size",
         "type": "\"long\""
        },
        {
         "metadata": "{}",
         "name": "modificationTime",
         "type": "\"long\""
        }
       ],
       "type": "table"
      }
     },
     "output_type": "display_data"
    }
   ],
   "source": [
    "display(dbutils.fs.ls(\"dbfs:/\"))"
   ]
  },
  {
   "cell_type": "markdown",
   "metadata": {
    "application/vnd.databricks.v1+cell": {
     "cellMetadata": {},
     "inputWidgets": {},
     "nuid": "c5cc3a85-5925-40f1-9ab8-28131189c1e2",
     "showTitle": false,
     "tableResultSettingsMap": {},
     "title": ""
    }
   },
   "source": [
    "### Working with csv data"
   ]
  },
  {
   "cell_type": "code",
   "execution_count": 0,
   "metadata": {
    "application/vnd.databricks.v1+cell": {
     "cellMetadata": {
      "byteLimit": 2048000,
      "rowLimit": 10000
     },
     "inputWidgets": {},
     "nuid": "39e11349-1ae2-49bc-8738-72522c4ee7fd",
     "showTitle": false,
     "tableResultSettingsMap": {},
     "title": ""
    }
   },
   "outputs": [],
   "source": [
    "import os\n",
    "os.makedirs(\"/dbfs/tmp/\", exist_ok=True)"
   ]
  },
  {
   "cell_type": "code",
   "execution_count": 0,
   "metadata": {
    "application/vnd.databricks.v1+cell": {
     "cellMetadata": {
      "byteLimit": 2048000,
      "rowLimit": 10000
     },
     "inputWidgets": {},
     "nuid": "543a376c-7faf-489a-98f5-acd8124f5938",
     "showTitle": false,
     "tableResultSettingsMap": {},
     "title": ""
    }
   },
   "outputs": [
    {
     "output_type": "execute_result",
     "data": {
      "text/plain": [
       "('/dbfs/tmp/2015-summary.csv', <http.client.HTTPMessage at 0x7046c5844e50>)"
      ]
     },
     "execution_count": 4,
     "metadata": {},
     "output_type": "execute_result"
    }
   ],
   "source": [
    "import urllib.request\n",
    "\n",
    "url = \"https://raw.githubusercontent.com/databricks/Spark-The-Definitive-Guide/refs/heads/master/data/flight-data/csv/2015-summary.csv\"\n",
    "\n",
    "path = \"/dbfs/tmp/2015-summary.csv\"\n",
    "\n",
    "urllib.request.urlretrieve(url, path)\n"
   ]
  },
  {
   "cell_type": "code",
   "execution_count": 0,
   "metadata": {
    "application/vnd.databricks.v1+cell": {
     "cellMetadata": {
      "byteLimit": 2048000,
      "rowLimit": 10000
     },
     "inputWidgets": {},
     "nuid": "a2bd4ad4-24bd-4193-a3a1-e449ce7fc12e",
     "showTitle": false,
     "tableResultSettingsMap": {},
     "title": ""
    }
   },
   "outputs": [],
   "source": [
    "flight_data = spark.read.option('header',True).csv(\"/tmp/2015-summary.csv\")"
   ]
  },
  {
   "cell_type": "code",
   "execution_count": 0,
   "metadata": {
    "application/vnd.databricks.v1+cell": {
     "cellMetadata": {
      "byteLimit": 2048000,
      "rowLimit": 10000
     },
     "inputWidgets": {},
     "nuid": "87e99ae7-3c09-4a56-83d9-0e49b22e657f",
     "showTitle": false,
     "tableResultSettingsMap": {},
     "title": ""
    }
   },
   "outputs": [
    {
     "output_type": "execute_result",
     "data": {
      "text/plain": [
       "[Row(DEST_COUNTRY_NAME='United States', ORIGIN_COUNTRY_NAME='Romania', count='15'),\n",
       " Row(DEST_COUNTRY_NAME='United States', ORIGIN_COUNTRY_NAME='Croatia', count='1'),\n",
       " Row(DEST_COUNTRY_NAME='United States', ORIGIN_COUNTRY_NAME='Ireland', count='344'),\n",
       " Row(DEST_COUNTRY_NAME='Egypt', ORIGIN_COUNTRY_NAME='United States', count='15'),\n",
       " Row(DEST_COUNTRY_NAME='United States', ORIGIN_COUNTRY_NAME='India', count='62')]"
      ]
     },
     "execution_count": 6,
     "metadata": {},
     "output_type": "execute_result"
    }
   ],
   "source": [
    "flight_data.take(5)"
   ]
  },
  {
   "cell_type": "code",
   "execution_count": 0,
   "metadata": {
    "application/vnd.databricks.v1+cell": {
     "cellMetadata": {
      "byteLimit": 2048000,
      "rowLimit": 10000
     },
     "inputWidgets": {},
     "nuid": "f5b80a7c-08e2-4231-8572-38a15550a190",
     "showTitle": false,
     "tableResultSettingsMap": {},
     "title": ""
    }
   },
   "outputs": [
    {
     "output_type": "stream",
     "name": "stdout",
     "output_type": "stream",
     "text": [
      "== Physical Plan ==\nAdaptiveSparkPlan isFinalPlan=false\n+- == Initial Plan ==\n   ColumnarToRow\n   +- PhotonResultStage\n      +- PhotonSort [count#91 ASC NULLS FIRST]\n         +- PhotonShuffleExchangeSource\n            +- PhotonShuffleMapStage\n               +- PhotonShuffleExchangeSink rangepartitioning(count#91 ASC NULLS FIRST, 200)\n                  +- PhotonRowToColumnar\n                     +- FileScan csv [DEST_COUNTRY_NAME#89,ORIGIN_COUNTRY_NAME#90,count#91] Batched: false, DataFilters: [], Format: CSV, Location: InMemoryFileIndex(1 paths)[dbfs:/tmp/2015-summary.csv], PartitionFilters: [], PushedFilters: [], ReadSchema: struct<DEST_COUNTRY_NAME:string,ORIGIN_COUNTRY_NAME:string,count:string>\n\n\n== Photon Explanation ==\nThe query is fully supported by Photon.\n"
     ]
    }
   ],
   "source": [
    "flight_data.sort('count').explain()"
   ]
  },
  {
   "cell_type": "code",
   "execution_count": 0,
   "metadata": {
    "application/vnd.databricks.v1+cell": {
     "cellMetadata": {
      "byteLimit": 2048000,
      "rowLimit": 10000
     },
     "inputWidgets": {},
     "nuid": "c6a8f954-2953-44c5-a2f2-518c60530ae1",
     "showTitle": false,
     "tableResultSettingsMap": {},
     "title": ""
    }
   },
   "outputs": [
    {
     "output_type": "execute_result",
     "data": {
      "text/plain": [
       "[Row(DEST_COUNTRY_NAME='United States', ORIGIN_COUNTRY_NAME='The Bahamas', count='986'),\n",
       " Row(DEST_COUNTRY_NAME='The Bahamas', ORIGIN_COUNTRY_NAME='United States', count='955'),\n",
       " Row(DEST_COUNTRY_NAME='United States', ORIGIN_COUNTRY_NAME='France', count='952')]"
      ]
     },
     "execution_count": 11,
     "metadata": {},
     "output_type": "execute_result"
    }
   ],
   "source": [
    "flight_data.sort('count', ascending=False).take(3)"
   ]
  },
  {
   "cell_type": "code",
   "execution_count": 0,
   "metadata": {
    "application/vnd.databricks.v1+cell": {
     "cellMetadata": {
      "byteLimit": 2048000,
      "rowLimit": 10000
     },
     "inputWidgets": {},
     "nuid": "c9e700d8-4637-4f56-ad9b-c3d0d72f0f5f",
     "showTitle": false,
     "tableResultSettingsMap": {},
     "title": ""
    }
   },
   "outputs": [
    {
     "output_type": "execute_result",
     "data": {
      "text/plain": [
       "[Row(DEST_COUNTRY_NAME='United States', ORIGIN_COUNTRY_NAME='Croatia', count='1'),\n",
       " Row(DEST_COUNTRY_NAME='United States', ORIGIN_COUNTRY_NAME='Singapore', count='1'),\n",
       " Row(DEST_COUNTRY_NAME='Moldova', ORIGIN_COUNTRY_NAME='United States', count='1')]"
      ]
     },
     "execution_count": 12,
     "metadata": {},
     "output_type": "execute_result"
    }
   ],
   "source": [
    "flight_data.sort('count').take(3)"
   ]
  },
  {
   "cell_type": "code",
   "execution_count": 0,
   "metadata": {
    "application/vnd.databricks.v1+cell": {
     "cellMetadata": {
      "byteLimit": 2048000,
      "rowLimit": 10000
     },
     "inputWidgets": {},
     "nuid": "003c9636-0e80-4de0-b5fd-25ea33fe33c0",
     "showTitle": false,
     "tableResultSettingsMap": {},
     "title": ""
    }
   },
   "outputs": [],
   "source": [
    "flight_data.createOrReplaceTempView(\"flight_data\")"
   ]
  },
  {
   "cell_type": "code",
   "execution_count": 0,
   "metadata": {
    "application/vnd.databricks.v1+cell": {
     "cellMetadata": {
      "byteLimit": 2048000,
      "rowLimit": 10000
     },
     "inputWidgets": {},
     "nuid": "29b7cdbb-bf68-4571-8fa9-f8051a2296e6",
     "showTitle": false,
     "tableResultSettingsMap": {},
     "title": ""
    }
   },
   "outputs": [
    {
     "output_type": "display_data",
     "data": {
      "text/html": [
       "<style scoped>\n",
       "  .table-result-container {\n",
       "    max-height: 300px;\n",
       "    overflow: auto;\n",
       "  }\n",
       "  table, th, td {\n",
       "    border: 1px solid black;\n",
       "    border-collapse: collapse;\n",
       "  }\n",
       "  th, td {\n",
       "    padding: 5px;\n",
       "  }\n",
       "  th {\n",
       "    text-align: left;\n",
       "  }\n",
       "</style><div class='table-result-container'><table class='table-result'><thead style='background-color: white'><tr><th>count(1)</th></tr></thead><tbody><tr><td>256</td></tr></tbody></table></div>"
      ]
     },
     "metadata": {
      "application/vnd.databricks.v1+output": {
       "addedWidgets": {},
       "aggData": [],
       "aggError": "",
       "aggOverflow": false,
       "aggSchema": [],
       "aggSeriesLimitReached": false,
       "aggType": "",
       "arguments": {},
       "columnCustomDisplayInfos": {},
       "data": [
        [
         256
        ]
       ],
       "datasetInfos": [],
       "dbfsResultPath": null,
       "isJsonSchema": true,
       "metadata": {},
       "overflow": false,
       "plotOptions": {
        "customPlotOptions": {},
        "displayType": "table",
        "pivotAggregation": null,
        "pivotColumns": null,
        "xColumns": null,
        "yColumns": null
       },
       "removedWidgets": [],
       "schema": [
        {
         "metadata": "{\"__autoGeneratedAlias\":\"true\"}",
         "name": "count(1)",
         "type": "\"long\""
        }
       ],
       "type": "table"
      }
     },
     "output_type": "display_data"
    }
   ],
   "source": [
    "count_df = spark.sql(\"select count(*) from flight_data\")\n",
    "count_df.display()"
   ]
  },
  {
   "cell_type": "code",
   "execution_count": 0,
   "metadata": {
    "application/vnd.databricks.v1+cell": {
     "cellMetadata": {
      "byteLimit": 2048000,
      "rowLimit": 10000
     },
     "inputWidgets": {},
     "nuid": "256b60c2-9f00-4499-aa4c-79514c1c26bd",
     "showTitle": false,
     "tableResultSettingsMap": {},
     "title": ""
    }
   },
   "outputs": [
    {
     "output_type": "display_data",
     "data": {
      "text/html": [
       "<style scoped>\n",
       "  .table-result-container {\n",
       "    max-height: 300px;\n",
       "    overflow: auto;\n",
       "  }\n",
       "  table, th, td {\n",
       "    border: 1px solid black;\n",
       "    border-collapse: collapse;\n",
       "  }\n",
       "  th, td {\n",
       "    padding: 5px;\n",
       "  }\n",
       "  th {\n",
       "    text-align: left;\n",
       "  }\n",
       "</style><div class='table-result-container'><table class='table-result'><thead style='background-color: white'><tr><th>DEST_COUNTRY_NAME</th><th>dest_count</th></tr></thead><tbody><tr><td>United States</td><td>125</td></tr><tr><td>Russia</td><td>1</td></tr><tr><td>Senegal</td><td>1</td></tr><tr><td>Anguilla</td><td>1</td></tr><tr><td>Paraguay</td><td>1</td></tr></tbody></table></div>"
      ]
     },
     "metadata": {
      "application/vnd.databricks.v1+output": {
       "addedWidgets": {},
       "aggData": [],
       "aggError": "",
       "aggOverflow": false,
       "aggSchema": [],
       "aggSeriesLimitReached": false,
       "aggType": "",
       "arguments": {},
       "columnCustomDisplayInfos": {},
       "data": [
        [
         "United States",
         125
        ],
        [
         "Russia",
         1
        ],
        [
         "Senegal",
         1
        ],
        [
         "Anguilla",
         1
        ],
        [
         "Paraguay",
         1
        ]
       ],
       "datasetInfos": [],
       "dbfsResultPath": null,
       "isJsonSchema": true,
       "metadata": {},
       "overflow": false,
       "plotOptions": {
        "customPlotOptions": {},
        "displayType": "table",
        "pivotAggregation": null,
        "pivotColumns": null,
        "xColumns": null,
        "yColumns": null
       },
       "removedWidgets": [],
       "schema": [
        {
         "metadata": "{}",
         "name": "DEST_COUNTRY_NAME",
         "type": "\"string\""
        },
        {
         "metadata": "{}",
         "name": "dest_count",
         "type": "\"long\""
        }
       ],
       "type": "table"
      }
     },
     "output_type": "display_data"
    }
   ],
   "source": [
    "dest_country_5 = spark.sql(\"select DEST_COUNTRY_NAME, count(*) as dest_count from flight_data \\\n",
    "                        group by DEST_COUNTRY_NAME \\\n",
    "                        order by dest_count desc limit 5\")\n",
    "dest_country_5.display()"
   ]
  },
  {
   "cell_type": "code",
   "execution_count": 0,
   "metadata": {
    "application/vnd.databricks.v1+cell": {
     "cellMetadata": {
      "byteLimit": 2048000,
      "rowLimit": 10000
     },
     "inputWidgets": {},
     "nuid": "d0620fdf-aee1-4669-b600-c55d289cb07a",
     "showTitle": false,
     "tableResultSettingsMap": {},
     "title": ""
    }
   },
   "outputs": [
    {
     "output_type": "display_data",
     "data": {
      "text/html": [
       "<style scoped>\n",
       "  .table-result-container {\n",
       "    max-height: 300px;\n",
       "    overflow: auto;\n",
       "  }\n",
       "  table, th, td {\n",
       "    border: 1px solid black;\n",
       "    border-collapse: collapse;\n",
       "  }\n",
       "  th, td {\n",
       "    padding: 5px;\n",
       "  }\n",
       "  th {\n",
       "    text-align: left;\n",
       "  }\n",
       "</style><div class='table-result-container'><table class='table-result'><thead style='background-color: white'><tr><th>DEST_COUNTRY_NAME</th><th>dest_count</th></tr></thead><tbody><tr><td>United States</td><td>125</td></tr><tr><td>Russia</td><td>1</td></tr><tr><td>Senegal</td><td>1</td></tr><tr><td>Anguilla</td><td>1</td></tr><tr><td>Paraguay</td><td>1</td></tr></tbody></table></div>"
      ]
     },
     "metadata": {
      "application/vnd.databricks.v1+output": {
       "addedWidgets": {},
       "aggData": [],
       "aggError": "",
       "aggOverflow": false,
       "aggSchema": [],
       "aggSeriesLimitReached": false,
       "aggType": "",
       "arguments": {},
       "columnCustomDisplayInfos": {},
       "data": [
        [
         "United States",
         125
        ],
        [
         "Russia",
         1
        ],
        [
         "Senegal",
         1
        ],
        [
         "Anguilla",
         1
        ],
        [
         "Paraguay",
         1
        ]
       ],
       "datasetInfos": [],
       "dbfsResultPath": null,
       "isJsonSchema": true,
       "metadata": {},
       "overflow": false,
       "plotOptions": {
        "customPlotOptions": {},
        "displayType": "table",
        "pivotAggregation": null,
        "pivotColumns": null,
        "xColumns": null,
        "yColumns": null
       },
       "removedWidgets": [],
       "schema": [
        {
         "metadata": "{}",
         "name": "DEST_COUNTRY_NAME",
         "type": "\"string\""
        },
        {
         "metadata": "{}",
         "name": "dest_count",
         "type": "\"long\""
        }
       ],
       "type": "table"
      }
     },
     "output_type": "display_data"
    }
   ],
   "source": [
    "from pyspark.sql.functions import count\n",
    "\n",
    "dest_country_5 = (\n",
    "                flight_data\n",
    "                .groupBy(\"DEST_COUNTRY_NAME\")\n",
    "                .agg(count(\"*\").alias(\"dest_count\"))\n",
    "                .orderBy(\"dest_count\", ascending=False)\n",
    "                .limit(5) \n",
    ")\n",
    "dest_country_5.display()"
   ]
  },
  {
   "cell_type": "code",
   "execution_count": 0,
   "metadata": {
    "application/vnd.databricks.v1+cell": {
     "cellMetadata": {
      "byteLimit": 2048000,
      "rowLimit": 10000
     },
     "inputWidgets": {},
     "nuid": "7c1d2b36-6752-498a-96ea-d3b300168930",
     "showTitle": false,
     "tableResultSettingsMap": {},
     "title": ""
    }
   },
   "outputs": [
    {
     "output_type": "execute_result",
     "data": {
      "text/plain": [
       "[Row(DEST_COUNTRY_NAME='United States', ORIGIN_COUNTRY_NAME='Romania', count='15'),\n",
       " Row(DEST_COUNTRY_NAME='United States', ORIGIN_COUNTRY_NAME='Croatia', count='1'),\n",
       " Row(DEST_COUNTRY_NAME='United States', ORIGIN_COUNTRY_NAME='Ireland', count='344')]"
      ]
     },
     "execution_count": 22,
     "metadata": {},
     "output_type": "execute_result"
    }
   ],
   "source": [
    "flight_data.take(3)"
   ]
  },
  {
   "cell_type": "code",
   "execution_count": 0,
   "metadata": {
    "application/vnd.databricks.v1+cell": {
     "cellMetadata": {
      "byteLimit": 2048000,
      "rowLimit": 10000
     },
     "inputWidgets": {},
     "nuid": "96d54c6b-9828-42ba-8d19-59eb8fc5f57e",
     "showTitle": false,
     "tableResultSettingsMap": {},
     "title": ""
    }
   },
   "outputs": [
    {
     "output_type": "execute_result",
     "data": {
      "text/plain": [
       "[Row(total_count_of_each_dest=411352.0, DEST_COUNTRY_NAME='United States'),\n",
       " Row(total_count_of_each_dest=8399.0, DEST_COUNTRY_NAME='Canada'),\n",
       " Row(total_count_of_each_dest=7140.0, DEST_COUNTRY_NAME='Mexico')]"
      ]
     },
     "execution_count": 29,
     "metadata": {},
     "output_type": "execute_result"
    }
   ],
   "source": [
    "spark.sql(\"select sum(count) as total_count_of_each_dest, DEST_COUNTRY_NAME from flight_data \\\n",
    "          group by DEST_COUNTRY_NAME \\\n",
    "          order by total_count_of_each_dest desc\"\n",
    ").take(3)"
   ]
  },
  {
   "cell_type": "code",
   "execution_count": 0,
   "metadata": {
    "application/vnd.databricks.v1+cell": {
     "cellMetadata": {
      "byteLimit": 2048000,
      "rowLimit": 10000
     },
     "inputWidgets": {},
     "nuid": "4d26e1cf-4e0e-469e-acd6-8e3944f9aff0",
     "showTitle": false,
     "tableResultSettingsMap": {},
     "title": ""
    }
   },
   "outputs": [
    {
     "output_type": "display_data",
     "data": {
      "text/html": [
       "<style scoped>\n",
       "  .table-result-container {\n",
       "    max-height: 300px;\n",
       "    overflow: auto;\n",
       "  }\n",
       "  table, th, td {\n",
       "    border: 1px solid black;\n",
       "    border-collapse: collapse;\n",
       "  }\n",
       "  th, td {\n",
       "    padding: 5px;\n",
       "  }\n",
       "  th {\n",
       "    text-align: left;\n",
       "  }\n",
       "</style><div class='table-result-container'><table class='table-result'><thead style='background-color: white'><tr><th>DEST_COUNTRY_NAME</th><th>total_count_of_each_dest</th></tr></thead><tbody><tr><td>United States</td><td>411352.0</td></tr><tr><td>Canada</td><td>8399.0</td></tr><tr><td>Mexico</td><td>7140.0</td></tr></tbody></table></div>"
      ]
     },
     "metadata": {
      "application/vnd.databricks.v1+output": {
       "addedWidgets": {},
       "aggData": [],
       "aggError": "",
       "aggOverflow": false,
       "aggSchema": [],
       "aggSeriesLimitReached": false,
       "aggType": "",
       "arguments": {},
       "columnCustomDisplayInfos": {},
       "data": [
        [
         "United States",
         411352.0
        ],
        [
         "Canada",
         8399.0
        ],
        [
         "Mexico",
         7140.0
        ]
       ],
       "datasetInfos": [],
       "dbfsResultPath": null,
       "isJsonSchema": true,
       "metadata": {},
       "overflow": false,
       "plotOptions": {
        "customPlotOptions": {},
        "displayType": "table",
        "pivotAggregation": null,
        "pivotColumns": null,
        "xColumns": null,
        "yColumns": null
       },
       "removedWidgets": [],
       "schema": [
        {
         "metadata": "{}",
         "name": "DEST_COUNTRY_NAME",
         "type": "\"string\""
        },
        {
         "metadata": "{}",
         "name": "total_count_of_each_dest",
         "type": "\"double\""
        }
       ],
       "type": "table"
      }
     },
     "output_type": "display_data"
    }
   ],
   "source": [
    "from pyspark.sql.functions import sum as _sum\n",
    "\n",
    "top_3 = (\n",
    "    flight_data\n",
    "    .groupBy('DEST_COUNTRY_NAME')\n",
    "    .agg(_sum(\"count\").alias(\"total_count_of_each_dest\"))\n",
    "    .orderBy(\"total_count_of_each_dest\", ascending=False)\n",
    "    .limit(3).display()\n",
    ")"
   ]
  },
  {
   "cell_type": "code",
   "execution_count": 0,
   "metadata": {
    "application/vnd.databricks.v1+cell": {
     "cellMetadata": {
      "byteLimit": 2048000,
      "rowLimit": 10000
     },
     "inputWidgets": {},
     "nuid": "bbc190ba-9774-4cad-b429-748c603b2642",
     "showTitle": false,
     "tableResultSettingsMap": {},
     "title": ""
    }
   },
   "outputs": [
    {
     "output_type": "display_data",
     "data": {
      "text/html": [
       "<style scoped>\n",
       "  .table-result-container {\n",
       "    max-height: 300px;\n",
       "    overflow: auto;\n",
       "  }\n",
       "  table, th, td {\n",
       "    border: 1px solid black;\n",
       "    border-collapse: collapse;\n",
       "  }\n",
       "  th, td {\n",
       "    padding: 5px;\n",
       "  }\n",
       "  th {\n",
       "    text-align: left;\n",
       "  }\n",
       "</style><div class='table-result-container'><table class='table-result'><thead style='background-color: white'><tr><th>max(count)</th></tr></thead><tbody><tr><td>986</td></tr></tbody></table></div>"
      ]
     },
     "metadata": {
      "application/vnd.databricks.v1+output": {
       "addedWidgets": {},
       "aggData": [],
       "aggError": "",
       "aggOverflow": false,
       "aggSchema": [],
       "aggSeriesLimitReached": false,
       "aggType": "",
       "arguments": {},
       "columnCustomDisplayInfos": {},
       "data": [
        [
         "986"
        ]
       ],
       "datasetInfos": [],
       "dbfsResultPath": null,
       "isJsonSchema": true,
       "metadata": {},
       "overflow": false,
       "plotOptions": {
        "customPlotOptions": {},
        "displayType": "table",
        "pivotAggregation": null,
        "pivotColumns": null,
        "xColumns": null,
        "yColumns": null
       },
       "removedWidgets": [],
       "schema": [
        {
         "metadata": "{\"__autoGeneratedAlias\":\"true\"}",
         "name": "max(count)",
         "type": "\"string\""
        }
       ],
       "type": "table"
      }
     },
     "output_type": "display_data"
    }
   ],
   "source": [
    "max_value = spark.sql(\"select max(count) from flight_data limit 1\").display()"
   ]
  },
  {
   "cell_type": "code",
   "execution_count": 0,
   "metadata": {
    "application/vnd.databricks.v1+cell": {
     "cellMetadata": {
      "byteLimit": 2048000,
      "rowLimit": 10000
     },
     "inputWidgets": {},
     "nuid": "f2f43a30-11cc-4da0-b0b2-033d5e55d93e",
     "showTitle": false,
     "tableResultSettingsMap": {},
     "title": ""
    }
   },
   "outputs": [
    {
     "output_type": "display_data",
     "data": {
      "text/html": [
       "<style scoped>\n",
       "  .table-result-container {\n",
       "    max-height: 300px;\n",
       "    overflow: auto;\n",
       "  }\n",
       "  table, th, td {\n",
       "    border: 1px solid black;\n",
       "    border-collapse: collapse;\n",
       "  }\n",
       "  th, td {\n",
       "    padding: 5px;\n",
       "  }\n",
       "  th {\n",
       "    text-align: left;\n",
       "  }\n",
       "</style><div class='table-result-container'><table class='table-result'><thead style='background-color: white'><tr><th>max_count</th></tr></thead><tbody><tr><td>986</td></tr></tbody></table></div>"
      ]
     },
     "metadata": {
      "application/vnd.databricks.v1+output": {
       "addedWidgets": {},
       "aggData": [],
       "aggError": "",
       "aggOverflow": false,
       "aggSchema": [],
       "aggSeriesLimitReached": false,
       "aggType": "",
       "arguments": {},
       "columnCustomDisplayInfos": {},
       "data": [
        [
         "986"
        ]
       ],
       "datasetInfos": [],
       "dbfsResultPath": null,
       "isJsonSchema": true,
       "metadata": {},
       "overflow": false,
       "plotOptions": {
        "customPlotOptions": {},
        "displayType": "table",
        "pivotAggregation": null,
        "pivotColumns": null,
        "xColumns": null,
        "yColumns": null
       },
       "removedWidgets": [],
       "schema": [
        {
         "metadata": "{}",
         "name": "max_count",
         "type": "\"string\""
        }
       ],
       "type": "table"
      }
     },
     "output_type": "display_data"
    }
   ],
   "source": [
    "from pyspark.sql.functions import max as _max\n",
    "\n",
    "max_value = flight_data.agg(_max(\"count\").alias(\"max_count\")).display(1)"
   ]
  },
  {
   "cell_type": "code",
   "execution_count": 0,
   "metadata": {
    "application/vnd.databricks.v1+cell": {
     "cellMetadata": {
      "byteLimit": 2048000,
      "rowLimit": 10000
     },
     "inputWidgets": {},
     "nuid": "9d9c7804-c159-42de-9c38-08f3f6aeb74f",
     "showTitle": false,
     "tableResultSettingsMap": {},
     "title": ""
    }
   },
   "outputs": [
    {
     "output_type": "display_data",
     "data": {
      "text/html": [
       "<style scoped>\n",
       "  .table-result-container {\n",
       "    max-height: 300px;\n",
       "    overflow: auto;\n",
       "  }\n",
       "  table, th, td {\n",
       "    border: 1px solid black;\n",
       "    border-collapse: collapse;\n",
       "  }\n",
       "  th, td {\n",
       "    padding: 5px;\n",
       "  }\n",
       "  th {\n",
       "    text-align: left;\n",
       "  }\n",
       "</style><div class='table-result-container'><table class='table-result'><thead style='background-color: white'><tr><th>DEST_COUNTRY_NAME</th><th>ORIGIN_COUNTRY_NAME</th><th>count</th></tr></thead><tbody><tr><td>United States</td><td>Romania</td><td>15</td></tr><tr><td>United States</td><td>Croatia</td><td>1</td></tr><tr><td>United States</td><td>Ireland</td><td>344</td></tr><tr><td>Egypt</td><td>United States</td><td>15</td></tr><tr><td>United States</td><td>India</td><td>62</td></tr></tbody></table></div>"
      ]
     },
     "metadata": {
      "application/vnd.databricks.v1+output": {
       "addedWidgets": {},
       "aggData": [],
       "aggError": "",
       "aggOverflow": false,
       "aggSchema": [],
       "aggSeriesLimitReached": false,
       "aggType": "",
       "arguments": {},
       "columnCustomDisplayInfos": {},
       "data": [
        [
         "United States",
         "Romania",
         "15"
        ],
        [
         "United States",
         "Croatia",
         "1"
        ],
        [
         "United States",
         "Ireland",
         "344"
        ],
        [
         "Egypt",
         "United States",
         "15"
        ],
        [
         "United States",
         "India",
         "62"
        ]
       ],
       "datasetInfos": [],
       "dbfsResultPath": null,
       "isJsonSchema": true,
       "metadata": {},
       "overflow": false,
       "plotOptions": {
        "customPlotOptions": {},
        "displayType": "table",
        "pivotAggregation": null,
        "pivotColumns": null,
        "xColumns": null,
        "yColumns": null
       },
       "removedWidgets": [],
       "schema": [
        {
         "metadata": "{}",
         "name": "DEST_COUNTRY_NAME",
         "type": "\"string\""
        },
        {
         "metadata": "{}",
         "name": "ORIGIN_COUNTRY_NAME",
         "type": "\"string\""
        },
        {
         "metadata": "{}",
         "name": "count",
         "type": "\"string\""
        }
       ],
       "type": "table"
      }
     },
     "output_type": "display_data"
    }
   ],
   "source": [
    "flight_data.limit(5).display()"
   ]
  },
  {
   "cell_type": "code",
   "execution_count": 0,
   "metadata": {
    "application/vnd.databricks.v1+cell": {
     "cellMetadata": {
      "byteLimit": 2048000,
      "rowLimit": 10000
     },
     "inputWidgets": {},
     "nuid": "ed700098-3ce8-4c29-98cf-26f22633ad70",
     "showTitle": false,
     "tableResultSettingsMap": {},
     "title": ""
    }
   },
   "outputs": [
    {
     "output_type": "display_data",
     "data": {
      "text/html": [
       "<style scoped>\n",
       "  .table-result-container {\n",
       "    max-height: 300px;\n",
       "    overflow: auto;\n",
       "  }\n",
       "  table, th, td {\n",
       "    border: 1px solid black;\n",
       "    border-collapse: collapse;\n",
       "  }\n",
       "  th, td {\n",
       "    padding: 5px;\n",
       "  }\n",
       "  th {\n",
       "    text-align: left;\n",
       "  }\n",
       "</style><div class='table-result-container'><table class='table-result'><thead style='background-color: white'><tr><th>top_dest_country_count</th><th>DEST_COUNTRY_NAME</th></tr></thead><tbody><tr><td>411352.0</td><td>United States</td></tr><tr><td>8399.0</td><td>Canada</td></tr><tr><td>7140.0</td><td>Mexico</td></tr><tr><td>2025.0</td><td>United Kingdom</td></tr><tr><td>1548.0</td><td>Japan</td></tr></tbody></table></div>"
      ]
     },
     "metadata": {
      "application/vnd.databricks.v1+output": {
       "addedWidgets": {},
       "aggData": [],
       "aggError": "",
       "aggOverflow": false,
       "aggSchema": [],
       "aggSeriesLimitReached": false,
       "aggType": "",
       "arguments": {},
       "columnCustomDisplayInfos": {},
       "data": [
        [
         411352.0,
         "United States"
        ],
        [
         8399.0,
         "Canada"
        ],
        [
         7140.0,
         "Mexico"
        ],
        [
         2025.0,
         "United Kingdom"
        ],
        [
         1548.0,
         "Japan"
        ]
       ],
       "datasetInfos": [],
       "dbfsResultPath": null,
       "isJsonSchema": true,
       "metadata": {},
       "overflow": false,
       "plotOptions": {
        "customPlotOptions": {},
        "displayType": "table",
        "pivotAggregation": null,
        "pivotColumns": null,
        "xColumns": null,
        "yColumns": null
       },
       "removedWidgets": [],
       "schema": [
        {
         "metadata": "{}",
         "name": "top_dest_country_count",
         "type": "\"double\""
        },
        {
         "metadata": "{}",
         "name": "DEST_COUNTRY_NAME",
         "type": "\"string\""
        }
       ],
       "type": "table"
      }
     },
     "output_type": "display_data"
    }
   ],
   "source": [
    "spark.sql(\"select sum(count) as top_dest_country_count, DEST_COUNTRY_NAME \\\n",
    "        from flight_data group by DEST_COUNTRY_NAME order by top_dest_country_count desc limit 5\"\n",
    ").display()"
   ]
  },
  {
   "cell_type": "code",
   "execution_count": 0,
   "metadata": {
    "application/vnd.databricks.v1+cell": {
     "cellMetadata": {
      "byteLimit": 2048000,
      "rowLimit": 10000
     },
     "inputWidgets": {},
     "nuid": "9e66947f-10b3-414c-981c-e6375d1d787e",
     "showTitle": false,
     "tableResultSettingsMap": {},
     "title": ""
    }
   },
   "outputs": [
    {
     "output_type": "display_data",
     "data": {
      "text/html": [
       "<style scoped>\n",
       "  .table-result-container {\n",
       "    max-height: 300px;\n",
       "    overflow: auto;\n",
       "  }\n",
       "  table, th, td {\n",
       "    border: 1px solid black;\n",
       "    border-collapse: collapse;\n",
       "  }\n",
       "  th, td {\n",
       "    padding: 5px;\n",
       "  }\n",
       "  th {\n",
       "    text-align: left;\n",
       "  }\n",
       "</style><div class='table-result-container'><table class='table-result'><thead style='background-color: white'><tr><th>DEST_COUNTRY_NAME</th><th>top_dest_country_count</th></tr></thead><tbody><tr><td>United States</td><td>411352.0</td></tr><tr><td>Canada</td><td>8399.0</td></tr><tr><td>Mexico</td><td>7140.0</td></tr><tr><td>United Kingdom</td><td>2025.0</td></tr><tr><td>Japan</td><td>1548.0</td></tr></tbody></table></div>"
      ]
     },
     "metadata": {
      "application/vnd.databricks.v1+output": {
       "addedWidgets": {},
       "aggData": [],
       "aggError": "",
       "aggOverflow": false,
       "aggSchema": [],
       "aggSeriesLimitReached": false,
       "aggType": "",
       "arguments": {},
       "columnCustomDisplayInfos": {},
       "data": [
        [
         "United States",
         411352.0
        ],
        [
         "Canada",
         8399.0
        ],
        [
         "Mexico",
         7140.0
        ],
        [
         "United Kingdom",
         2025.0
        ],
        [
         "Japan",
         1548.0
        ]
       ],
       "datasetInfos": [],
       "dbfsResultPath": null,
       "isJsonSchema": true,
       "metadata": {},
       "overflow": false,
       "plotOptions": {
        "customPlotOptions": {},
        "displayType": "table",
        "pivotAggregation": null,
        "pivotColumns": null,
        "xColumns": null,
        "yColumns": null
       },
       "removedWidgets": [],
       "schema": [
        {
         "metadata": "{}",
         "name": "DEST_COUNTRY_NAME",
         "type": "\"string\""
        },
        {
         "metadata": "{}",
         "name": "top_dest_country_count",
         "type": "\"double\""
        }
       ],
       "type": "table"
      }
     },
     "output_type": "display_data"
    }
   ],
   "source": [
    "(\n",
    "    flight_data\n",
    "    .groupBy('DEST_COUNTRY_NAME')\n",
    "    .agg(_sum(\"count\").alias(\"top_dest_country_count\"))\n",
    "    .orderBy(\"top_dest_country_count\", ascending=False)\n",
    "    .limit(5).display()\n",
    ")"
   ]
  },
  {
   "cell_type": "code",
   "execution_count": 0,
   "metadata": {
    "application/vnd.databricks.v1+cell": {
     "cellMetadata": {
      "byteLimit": 2048000,
      "rowLimit": 10000
     },
     "inputWidgets": {},
     "nuid": "a5de2da4-29bd-461f-9cd9-5f102d15f85a",
     "showTitle": false,
     "tableResultSettingsMap": {},
     "title": ""
    }
   },
   "outputs": [
    {
     "output_type": "display_data",
     "data": {
      "text/html": [
       "<style scoped>\n",
       "  .table-result-container {\n",
       "    max-height: 300px;\n",
       "    overflow: auto;\n",
       "  }\n",
       "  table, th, td {\n",
       "    border: 1px solid black;\n",
       "    border-collapse: collapse;\n",
       "  }\n",
       "  th, td {\n",
       "    padding: 5px;\n",
       "  }\n",
       "  th {\n",
       "    text-align: left;\n",
       "  }\n",
       "</style><div class='table-result-container'><table class='table-result'><thead style='background-color: white'><tr><th>DEST_COUNTRY_NAME</th><th>top_dest_country_count</th></tr></thead><tbody><tr><td>United States</td><td>411352.0</td></tr><tr><td>Canada</td><td>8399.0</td></tr><tr><td>Mexico</td><td>7140.0</td></tr><tr><td>United Kingdom</td><td>2025.0</td></tr><tr><td>Japan</td><td>1548.0</td></tr></tbody></table></div>"
      ]
     },
     "metadata": {
      "application/vnd.databricks.v1+output": {
       "addedWidgets": {},
       "aggData": [],
       "aggError": "",
       "aggOverflow": false,
       "aggSchema": [],
       "aggSeriesLimitReached": false,
       "aggType": "",
       "arguments": {},
       "columnCustomDisplayInfos": {},
       "data": [
        [
         "United States",
         411352.0
        ],
        [
         "Canada",
         8399.0
        ],
        [
         "Mexico",
         7140.0
        ],
        [
         "United Kingdom",
         2025.0
        ],
        [
         "Japan",
         1548.0
        ]
       ],
       "datasetInfos": [],
       "dbfsResultPath": null,
       "isJsonSchema": true,
       "metadata": {},
       "overflow": false,
       "plotOptions": {
        "customPlotOptions": {},
        "displayType": "table",
        "pivotAggregation": null,
        "pivotColumns": null,
        "xColumns": null,
        "yColumns": null
       },
       "removedWidgets": [],
       "schema": [
        {
         "metadata": "{}",
         "name": "DEST_COUNTRY_NAME",
         "type": "\"string\""
        },
        {
         "metadata": "{}",
         "name": "top_dest_country_count",
         "type": "\"double\""
        }
       ],
       "type": "table"
      }
     },
     "output_type": "display_data"
    }
   ],
   "source": [
    "(\n",
    "    flight_data\n",
    "    .groupBy('DEST_COUNTRY_NAME')\n",
    "    .agg(_sum(\"count\").alias(\"top_dest_country_count\"))\n",
    "    .sort(\"top_dest_country_count\", ascending=False)\n",
    "    .limit(5).display()\n",
    ")"
   ]
  },
  {
   "cell_type": "markdown",
   "metadata": {
    "application/vnd.databricks.v1+cell": {
     "cellMetadata": {},
     "inputWidgets": {},
     "nuid": "82e8f4ad-47ef-4a9f-83fa-39b3a2daa1e5",
     "showTitle": false,
     "tableResultSettingsMap": {},
     "title": ""
    }
   },
   "source": [
    "### Read from multiple csv files "
   ]
  },
  {
   "cell_type": "code",
   "execution_count": 0,
   "metadata": {
    "application/vnd.databricks.v1+cell": {
     "cellMetadata": {
      "byteLimit": 2048000,
      "rowLimit": 10000
     },
     "inputWidgets": {},
     "nuid": "8a2ad82a-ecc2-433f-aedc-e08bdd8a4f28",
     "showTitle": false,
     "tableResultSettingsMap": {},
     "title": ""
    }
   },
   "outputs": [
    {
     "output_type": "stream",
     "name": "stdout",
     "output_type": "stream",
     "text": [
      "Downloading 2010-12-01.csv...\nDownloading 2010-12-02.csv...\nDownloading 2010-12-03.csv...\nDownloading 2010-12-05.csv...\nDownloading 2010-12-06.csv...\nDownloading 2010-12-07.csv...\nDownloading 2010-12-08.csv...\nDownloading 2010-12-09.csv...\n"
     ]
    }
   ],
   "source": [
    "import os\n",
    "import urllib.request\n",
    "\n",
    "# List of file names\n",
    "file_names = [\n",
    "    \"2010-12-01.csv\", \"2010-12-02.csv\", \"2010-12-03.csv\",\n",
    "     \"2010-12-05.csv\", \"2010-12-06.csv\",\n",
    "    \"2010-12-07.csv\", \"2010-12-08.csv\", \"2010-12-09.csv\"\n",
    "]\n",
    "\n",
    "# Base GitHub URL\n",
    "base_url = \"https://raw.githubusercontent.com/databricks/Spark-The-Definitive-Guide/master/data/retail-data/by-day/\"\n",
    "\n",
    "# Directories\n",
    "raw_dir = \"dbfs/tmp/retail_data\"\n",
    "os.makedirs(raw_dir, exist_ok=True)\n",
    "# Loop to download, read, and save\n",
    "for file in file_names:\n",
    "    local_file_path = os.path.join(raw_dir, file)\n",
    "\n",
    "    # Download if not already present\n",
    "    if not os.path.exists(local_file_path):\n",
    "        print(f\"Downloading {file}...\")\n",
    "        urllib.request.urlretrieve(base_url + file, local_file_path)\n"
   ]
  },
  {
   "cell_type": "code",
   "execution_count": 0,
   "metadata": {
    "application/vnd.databricks.v1+cell": {
     "cellMetadata": {
      "byteLimit": 2048000,
      "rowLimit": 10000
     },
     "inputWidgets": {},
     "nuid": "ae8c4caf-6158-4361-8d05-f16d966707d0",
     "showTitle": false,
     "tableResultSettingsMap": {},
     "title": ""
    }
   },
   "outputs": [
    {
     "output_type": "execute_result",
     "data": {
      "text/plain": [
       "['2010-12-01.csv',\n",
       " '2010-12-02.csv',\n",
       " '2010-12-03.csv',\n",
       " '2010-12-05.csv',\n",
       " '2010-12-06.csv',\n",
       " '2010-12-07.csv',\n",
       " '2010-12-08.csv',\n",
       " '2010-12-09.csv']"
      ]
     },
     "execution_count": 37,
     "metadata": {},
     "output_type": "execute_result"
    }
   ],
   "source": [
    "os.listdir(raw_dir)"
   ]
  },
  {
   "cell_type": "code",
   "execution_count": 0,
   "metadata": {
    "application/vnd.databricks.v1+cell": {
     "cellMetadata": {
      "byteLimit": 2048000,
      "rowLimit": 10000
     },
     "inputWidgets": {},
     "nuid": "c325684f-1514-49df-be73-5a170d2b6cc5",
     "showTitle": false,
     "tableResultSettingsMap": {},
     "title": ""
    }
   },
   "outputs": [
    {
     "output_type": "execute_result",
     "data": {
      "text/plain": [
       "'dbfs/tmp/retail_data'"
      ]
     },
     "execution_count": 39,
     "metadata": {},
     "output_type": "execute_result"
    }
   ],
   "source": [
    "raw_dir"
   ]
  },
  {
   "cell_type": "code",
   "execution_count": 0,
   "metadata": {
    "application/vnd.databricks.v1+cell": {
     "cellMetadata": {
      "byteLimit": 2048000,
      "rowLimit": 10000
     },
     "inputWidgets": {},
     "nuid": "ebb600d7-07b6-4f8d-b054-09dcc64ff145",
     "showTitle": false,
     "tableResultSettingsMap": {},
     "title": ""
    }
   },
   "outputs": [],
   "source": [
    "import requests\n",
    "\n",
    "url = \"https://api.github.com/repos/databricks/Spark-The-Definitive-Guide/contents/data/retail-data/by-day\"\n",
    "response = requests.get(url)\n",
    "files = [item['name'] for item in response.json() if item['name'].endswith(\".csv\")]"
   ]
  },
  {
   "cell_type": "code",
   "execution_count": 0,
   "metadata": {
    "application/vnd.databricks.v1+cell": {
     "cellMetadata": {
      "byteLimit": 2048000,
      "rowLimit": 10000
     },
     "inputWidgets": {},
     "nuid": "bc8333af-b42f-49bc-91b8-e2bce8b9c828",
     "showTitle": false,
     "tableResultSettingsMap": {},
     "title": ""
    }
   },
   "outputs": [
    {
     "output_type": "stream",
     "name": "stdout",
     "output_type": "stream",
     "text": [
      "Saved: dbfs/by-day-spark-output/2010-12-01\nSaved: dbfs/by-day-spark-output/2010-12-02\nSaved: dbfs/by-day-spark-output/2010-12-03\nSaved: dbfs/by-day-spark-output/2010-12-05\nSaved: dbfs/by-day-spark-output/2010-12-06\nSaved: dbfs/by-day-spark-output/2010-12-07\nSaved: dbfs/by-day-spark-output/2010-12-08\nSaved: dbfs/by-day-spark-output/2010-12-09\nDownloading 2010-12-10.csv...\nSaved: dbfs/by-day-spark-output/2010-12-10\nDownloading 2010-12-12.csv...\nSaved: dbfs/by-day-spark-output/2010-12-12\nDownloading 2010-12-13.csv...\nSaved: dbfs/by-day-spark-output/2010-12-13\nDownloading 2010-12-14.csv...\nSaved: dbfs/by-day-spark-output/2010-12-14\nDownloading 2010-12-15.csv...\nSaved: dbfs/by-day-spark-output/2010-12-15\nDownloading 2010-12-16.csv...\nSaved: dbfs/by-day-spark-output/2010-12-16\nDownloading 2010-12-17.csv...\nSaved: dbfs/by-day-spark-output/2010-12-17\nDownloading 2010-12-19.csv...\nSaved: dbfs/by-day-spark-output/2010-12-19\nDownloading 2010-12-20.csv...\nSaved: dbfs/by-day-spark-output/2010-12-20\nDownloading 2010-12-21.csv...\nSaved: dbfs/by-day-spark-output/2010-12-21\nDownloading 2010-12-22.csv...\nSaved: dbfs/by-day-spark-output/2010-12-22\nDownloading 2010-12-23.csv...\nSaved: dbfs/by-day-spark-output/2010-12-23\nDownloading 2011-01-04.csv...\nSaved: dbfs/by-day-spark-output/2011-01-04\nDownloading 2011-01-05.csv...\nSaved: dbfs/by-day-spark-output/2011-01-05\nDownloading 2011-01-06.csv...\nSaved: dbfs/by-day-spark-output/2011-01-06\nDownloading 2011-01-07.csv...\nSaved: dbfs/by-day-spark-output/2011-01-07\nDownloading 2011-01-09.csv...\nSaved: dbfs/by-day-spark-output/2011-01-09\nDownloading 2011-01-10.csv...\nSaved: dbfs/by-day-spark-output/2011-01-10\nDownloading 2011-01-11.csv...\nSaved: dbfs/by-day-spark-output/2011-01-11\nDownloading 2011-01-12.csv...\nSaved: dbfs/by-day-spark-output/2011-01-12\nDownloading 2011-01-13.csv...\nSaved: dbfs/by-day-spark-output/2011-01-13\nDownloading 2011-01-14.csv...\nSaved: dbfs/by-day-spark-output/2011-01-14\nDownloading 2011-01-16.csv...\nSaved: dbfs/by-day-spark-output/2011-01-16\nDownloading 2011-01-17.csv...\nSaved: dbfs/by-day-spark-output/2011-01-17\nDownloading 2011-01-18.csv...\nSaved: dbfs/by-day-spark-output/2011-01-18\nDownloading 2011-01-19.csv...\nSaved: dbfs/by-day-spark-output/2011-01-19\nDownloading 2011-01-20.csv...\nSaved: dbfs/by-day-spark-output/2011-01-20\nDownloading 2011-01-21.csv...\nSaved: dbfs/by-day-spark-output/2011-01-21\nDownloading 2011-01-23.csv...\nSaved: dbfs/by-day-spark-output/2011-01-23\nDownloading 2011-01-24.csv...\nSaved: dbfs/by-day-spark-output/2011-01-24\nDownloading 2011-01-25.csv...\nSaved: dbfs/by-day-spark-output/2011-01-25\nDownloading 2011-01-26.csv...\nSaved: dbfs/by-day-spark-output/2011-01-26\nDownloading 2011-01-27.csv...\nSaved: dbfs/by-day-spark-output/2011-01-27\nDownloading 2011-01-28.csv...\nSaved: dbfs/by-day-spark-output/2011-01-28\nDownloading 2011-01-30.csv...\nSaved: dbfs/by-day-spark-output/2011-01-30\nDownloading 2011-01-31.csv...\nSaved: dbfs/by-day-spark-output/2011-01-31\nDownloading 2011-02-01.csv...\nSaved: dbfs/by-day-spark-output/2011-02-01\nDownloading 2011-02-02.csv...\nSaved: dbfs/by-day-spark-output/2011-02-02\nDownloading 2011-02-03.csv...\nSaved: dbfs/by-day-spark-output/2011-02-03\nDownloading 2011-02-04.csv...\nSaved: dbfs/by-day-spark-output/2011-02-04\nDownloading 2011-02-06.csv...\nSaved: dbfs/by-day-spark-output/2011-02-06\nDownloading 2011-02-07.csv...\nSaved: dbfs/by-day-spark-output/2011-02-07\nDownloading 2011-02-08.csv...\nSaved: dbfs/by-day-spark-output/2011-02-08\nDownloading 2011-02-09.csv...\nSaved: dbfs/by-day-spark-output/2011-02-09\nDownloading 2011-02-10.csv...\nSaved: dbfs/by-day-spark-output/2011-02-10\nDownloading 2011-02-11.csv...\nSaved: dbfs/by-day-spark-output/2011-02-11\nDownloading 2011-02-13.csv...\nSaved: dbfs/by-day-spark-output/2011-02-13\nDownloading 2011-02-14.csv...\nSaved: dbfs/by-day-spark-output/2011-02-14\nDownloading 2011-02-15.csv...\nSaved: dbfs/by-day-spark-output/2011-02-15\nDownloading 2011-02-16.csv...\nSaved: dbfs/by-day-spark-output/2011-02-16\nDownloading 2011-02-17.csv...\nSaved: dbfs/by-day-spark-output/2011-02-17\nDownloading 2011-02-18.csv...\nSaved: dbfs/by-day-spark-output/2011-02-18\nDownloading 2011-02-20.csv...\nSaved: dbfs/by-day-spark-output/2011-02-20\nDownloading 2011-02-21.csv...\nSaved: dbfs/by-day-spark-output/2011-02-21\nDownloading 2011-02-22.csv...\nSaved: dbfs/by-day-spark-output/2011-02-22\nDownloading 2011-02-23.csv...\nSaved: dbfs/by-day-spark-output/2011-02-23\nDownloading 2011-02-24.csv...\nSaved: dbfs/by-day-spark-output/2011-02-24\nDownloading 2011-02-25.csv...\nSaved: dbfs/by-day-spark-output/2011-02-25\nDownloading 2011-02-27.csv...\nSaved: dbfs/by-day-spark-output/2011-02-27\nDownloading 2011-02-28.csv...\nSaved: dbfs/by-day-spark-output/2011-02-28\nDownloading 2011-03-01.csv...\nSaved: dbfs/by-day-spark-output/2011-03-01\nDownloading 2011-03-02.csv...\nSaved: dbfs/by-day-spark-output/2011-03-02\nDownloading 2011-03-03.csv...\nSaved: dbfs/by-day-spark-output/2011-03-03\nDownloading 2011-03-04.csv...\nSaved: dbfs/by-day-spark-output/2011-03-04\nDownloading 2011-03-06.csv...\nSaved: dbfs/by-day-spark-output/2011-03-06\nDownloading 2011-03-07.csv...\nSaved: dbfs/by-day-spark-output/2011-03-07\nDownloading 2011-03-08.csv...\nSaved: dbfs/by-day-spark-output/2011-03-08\nDownloading 2011-03-09.csv...\nSaved: dbfs/by-day-spark-output/2011-03-09\nDownloading 2011-03-10.csv...\nSaved: dbfs/by-day-spark-output/2011-03-10\nDownloading 2011-03-11.csv...\nSaved: dbfs/by-day-spark-output/2011-03-11\nDownloading 2011-03-13.csv...\nSaved: dbfs/by-day-spark-output/2011-03-13\nDownloading 2011-03-14.csv...\nSaved: dbfs/by-day-spark-output/2011-03-14\nDownloading 2011-03-15.csv...\nSaved: dbfs/by-day-spark-output/2011-03-15\nDownloading 2011-03-16.csv...\nSaved: dbfs/by-day-spark-output/2011-03-16\nDownloading 2011-03-17.csv...\nSaved: dbfs/by-day-spark-output/2011-03-17\nDownloading 2011-03-18.csv...\nSaved: dbfs/by-day-spark-output/2011-03-18\nDownloading 2011-03-20.csv...\nSaved: dbfs/by-day-spark-output/2011-03-20\nDownloading 2011-03-21.csv...\nSaved: dbfs/by-day-spark-output/2011-03-21\nDownloading 2011-03-22.csv...\nSaved: dbfs/by-day-spark-output/2011-03-22\nDownloading 2011-03-23.csv...\nSaved: dbfs/by-day-spark-output/2011-03-23\nDownloading 2011-03-24.csv...\nSaved: dbfs/by-day-spark-output/2011-03-24\nDownloading 2011-03-25.csv...\nSaved: dbfs/by-day-spark-output/2011-03-25\nDownloading 2011-03-27.csv...\nSaved: dbfs/by-day-spark-output/2011-03-27\nDownloading 2011-03-28.csv...\nSaved: dbfs/by-day-spark-output/2011-03-28\nDownloading 2011-03-29.csv...\nSaved: dbfs/by-day-spark-output/2011-03-29\nDownloading 2011-03-30.csv...\nSaved: dbfs/by-day-spark-output/2011-03-30\nDownloading 2011-03-31.csv...\nSaved: dbfs/by-day-spark-output/2011-03-31\nDownloading 2011-04-01.csv...\nSaved: dbfs/by-day-spark-output/2011-04-01\nDownloading 2011-04-03.csv...\nSaved: dbfs/by-day-spark-output/2011-04-03\nDownloading 2011-04-04.csv...\nSaved: dbfs/by-day-spark-output/2011-04-04\nDownloading 2011-04-05.csv...\nSaved: dbfs/by-day-spark-output/2011-04-05\nDownloading 2011-04-06.csv...\nSaved: dbfs/by-day-spark-output/2011-04-06\nDownloading 2011-04-07.csv...\nSaved: dbfs/by-day-spark-output/2011-04-07\nDownloading 2011-04-08.csv...\nSaved: dbfs/by-day-spark-output/2011-04-08\nDownloading 2011-04-10.csv...\nSaved: dbfs/by-day-spark-output/2011-04-10\nDownloading 2011-04-11.csv...\nSaved: dbfs/by-day-spark-output/2011-04-11\nDownloading 2011-04-12.csv...\nSaved: dbfs/by-day-spark-output/2011-04-12\nDownloading 2011-04-13.csv...\nSaved: dbfs/by-day-spark-output/2011-04-13\nDownloading 2011-04-14.csv...\nSaved: dbfs/by-day-spark-output/2011-04-14\nDownloading 2011-04-15.csv...\nSaved: dbfs/by-day-spark-output/2011-04-15\nDownloading 2011-04-17.csv...\nSaved: dbfs/by-day-spark-output/2011-04-17\nDownloading 2011-04-18.csv...\nSaved: dbfs/by-day-spark-output/2011-04-18\nDownloading 2011-04-19.csv...\nSaved: dbfs/by-day-spark-output/2011-04-19\nDownloading 2011-04-20.csv...\nSaved: dbfs/by-day-spark-output/2011-04-20\nDownloading 2011-04-21.csv...\nSaved: dbfs/by-day-spark-output/2011-04-21\nDownloading 2011-04-26.csv...\nSaved: dbfs/by-day-spark-output/2011-04-26\nDownloading 2011-04-27.csv...\nSaved: dbfs/by-day-spark-output/2011-04-27\nDownloading 2011-04-28.csv...\nSaved: dbfs/by-day-spark-output/2011-04-28\nDownloading 2011-05-01.csv...\nSaved: dbfs/by-day-spark-output/2011-05-01\nDownloading 2011-05-03.csv...\nSaved: dbfs/by-day-spark-output/2011-05-03\nDownloading 2011-05-04.csv...\nSaved: dbfs/by-day-spark-output/2011-05-04\nDownloading 2011-05-05.csv...\nSaved: dbfs/by-day-spark-output/2011-05-05\nDownloading 2011-05-06.csv...\nSaved: dbfs/by-day-spark-output/2011-05-06\nDownloading 2011-05-08.csv...\nSaved: dbfs/by-day-spark-output/2011-05-08\nDownloading 2011-05-09.csv...\nSaved: dbfs/by-day-spark-output/2011-05-09\nDownloading 2011-05-10.csv...\nSaved: dbfs/by-day-spark-output/2011-05-10\nDownloading 2011-05-11.csv...\nSaved: dbfs/by-day-spark-output/2011-05-11\nDownloading 2011-05-12.csv...\nSaved: dbfs/by-day-spark-output/2011-05-12\nDownloading 2011-05-13.csv...\nSaved: dbfs/by-day-spark-output/2011-05-13\nDownloading 2011-05-15.csv...\nSaved: dbfs/by-day-spark-output/2011-05-15\nDownloading 2011-05-16.csv...\nSaved: dbfs/by-day-spark-output/2011-05-16\nDownloading 2011-05-17.csv...\nSaved: dbfs/by-day-spark-output/2011-05-17\nDownloading 2011-05-18.csv...\nSaved: dbfs/by-day-spark-output/2011-05-18\nDownloading 2011-05-19.csv...\nSaved: dbfs/by-day-spark-output/2011-05-19\nDownloading 2011-05-20.csv...\nSaved: dbfs/by-day-spark-output/2011-05-20\nDownloading 2011-05-22.csv...\nSaved: dbfs/by-day-spark-output/2011-05-22\nDownloading 2011-05-23.csv...\nSaved: dbfs/by-day-spark-output/2011-05-23\nDownloading 2011-05-24.csv...\nSaved: dbfs/by-day-spark-output/2011-05-24\nDownloading 2011-05-25.csv...\nSaved: dbfs/by-day-spark-output/2011-05-25\nDownloading 2011-05-26.csv...\nSaved: dbfs/by-day-spark-output/2011-05-26\nDownloading 2011-05-27.csv...\nSaved: dbfs/by-day-spark-output/2011-05-27\nDownloading 2011-05-29.csv...\nSaved: dbfs/by-day-spark-output/2011-05-29\nDownloading 2011-05-31.csv...\nSaved: dbfs/by-day-spark-output/2011-05-31\nDownloading 2011-06-01.csv...\nSaved: dbfs/by-day-spark-output/2011-06-01\nDownloading 2011-06-02.csv...\nSaved: dbfs/by-day-spark-output/2011-06-02\nDownloading 2011-06-03.csv...\nSaved: dbfs/by-day-spark-output/2011-06-03\nDownloading 2011-06-05.csv...\nSaved: dbfs/by-day-spark-output/2011-06-05\nDownloading 2011-06-06.csv...\nSaved: dbfs/by-day-spark-output/2011-06-06\nDownloading 2011-06-07.csv...\nSaved: dbfs/by-day-spark-output/2011-06-07\nDownloading 2011-06-08.csv...\nSaved: dbfs/by-day-spark-output/2011-06-08\nDownloading 2011-06-09.csv...\nSaved: dbfs/by-day-spark-output/2011-06-09\nDownloading 2011-06-10.csv...\nSaved: dbfs/by-day-spark-output/2011-06-10\nDownloading 2011-06-12.csv...\nSaved: dbfs/by-day-spark-output/2011-06-12\nDownloading 2011-06-13.csv...\nSaved: dbfs/by-day-spark-output/2011-06-13\nDownloading 2011-06-14.csv...\nSaved: dbfs/by-day-spark-output/2011-06-14\nDownloading 2011-06-15.csv...\nSaved: dbfs/by-day-spark-output/2011-06-15\nDownloading 2011-06-16.csv...\nSaved: dbfs/by-day-spark-output/2011-06-16\nDownloading 2011-06-17.csv...\nSaved: dbfs/by-day-spark-output/2011-06-17\nDownloading 2011-06-19.csv...\nSaved: dbfs/by-day-spark-output/2011-06-19\nDownloading 2011-06-20.csv...\nSaved: dbfs/by-day-spark-output/2011-06-20\nDownloading 2011-06-21.csv...\nSaved: dbfs/by-day-spark-output/2011-06-21\nDownloading 2011-06-22.csv...\nSaved: dbfs/by-day-spark-output/2011-06-22\nDownloading 2011-06-23.csv...\nSaved: dbfs/by-day-spark-output/2011-06-23\nDownloading 2011-06-24.csv...\nSaved: dbfs/by-day-spark-output/2011-06-24\nDownloading 2011-06-26.csv...\nSaved: dbfs/by-day-spark-output/2011-06-26\nDownloading 2011-06-27.csv...\nSaved: dbfs/by-day-spark-output/2011-06-27\nDownloading 2011-06-28.csv...\nSaved: dbfs/by-day-spark-output/2011-06-28\nDownloading 2011-06-29.csv...\nSaved: dbfs/by-day-spark-output/2011-06-29\nDownloading 2011-06-30.csv...\nSaved: dbfs/by-day-spark-output/2011-06-30\nDownloading 2011-07-01.csv...\nSaved: dbfs/by-day-spark-output/2011-07-01\nDownloading 2011-07-03.csv...\nSaved: dbfs/by-day-spark-output/2011-07-03\nDownloading 2011-07-04.csv...\nSaved: dbfs/by-day-spark-output/2011-07-04\nDownloading 2011-07-05.csv...\nSaved: dbfs/by-day-spark-output/2011-07-05\nDownloading 2011-07-06.csv...\nSaved: dbfs/by-day-spark-output/2011-07-06\nDownloading 2011-07-07.csv...\nSaved: dbfs/by-day-spark-output/2011-07-07\nDownloading 2011-07-08.csv...\nSaved: dbfs/by-day-spark-output/2011-07-08\nDownloading 2011-07-10.csv...\nSaved: dbfs/by-day-spark-output/2011-07-10\nDownloading 2011-07-11.csv...\nSaved: dbfs/by-day-spark-output/2011-07-11\nDownloading 2011-07-12.csv...\nSaved: dbfs/by-day-spark-output/2011-07-12\nDownloading 2011-07-13.csv...\nSaved: dbfs/by-day-spark-output/2011-07-13\nDownloading 2011-07-14.csv...\nSaved: dbfs/by-day-spark-output/2011-07-14\nDownloading 2011-07-15.csv...\nSaved: dbfs/by-day-spark-output/2011-07-15\nDownloading 2011-07-17.csv...\nSaved: dbfs/by-day-spark-output/2011-07-17\nDownloading 2011-07-18.csv...\nSaved: dbfs/by-day-spark-output/2011-07-18\nDownloading 2011-07-19.csv...\nSaved: dbfs/by-day-spark-output/2011-07-19\nDownloading 2011-07-20.csv...\nSaved: dbfs/by-day-spark-output/2011-07-20\nDownloading 2011-07-21.csv...\nSaved: dbfs/by-day-spark-output/2011-07-21\nDownloading 2011-07-22.csv...\nSaved: dbfs/by-day-spark-output/2011-07-22\nDownloading 2011-07-24.csv...\nSaved: dbfs/by-day-spark-output/2011-07-24\nDownloading 2011-07-25.csv...\nSaved: dbfs/by-day-spark-output/2011-07-25\nDownloading 2011-07-26.csv...\nSaved: dbfs/by-day-spark-output/2011-07-26\nDownloading 2011-07-27.csv...\nSaved: dbfs/by-day-spark-output/2011-07-27\nDownloading 2011-07-28.csv...\nSaved: dbfs/by-day-spark-output/2011-07-28\nDownloading 2011-07-29.csv...\nSaved: dbfs/by-day-spark-output/2011-07-29\nDownloading 2011-07-31.csv...\nSaved: dbfs/by-day-spark-output/2011-07-31\nDownloading 2011-08-01.csv...\nSaved: dbfs/by-day-spark-output/2011-08-01\nDownloading 2011-08-02.csv...\nSaved: dbfs/by-day-spark-output/2011-08-02\nDownloading 2011-08-03.csv...\nSaved: dbfs/by-day-spark-output/2011-08-03\nDownloading 2011-08-04.csv...\nSaved: dbfs/by-day-spark-output/2011-08-04\nDownloading 2011-08-05.csv...\nSaved: dbfs/by-day-spark-output/2011-08-05\nDownloading 2011-08-07.csv...\nSaved: dbfs/by-day-spark-output/2011-08-07\nDownloading 2011-08-08.csv...\nSaved: dbfs/by-day-spark-output/2011-08-08\nDownloading 2011-08-09.csv...\nSaved: dbfs/by-day-spark-output/2011-08-09\nDownloading 2011-08-10.csv...\nSaved: dbfs/by-day-spark-output/2011-08-10\nDownloading 2011-08-11.csv...\nSaved: dbfs/by-day-spark-output/2011-08-11\nDownloading 2011-08-12.csv...\nSaved: dbfs/by-day-spark-output/2011-08-12\nDownloading 2011-08-14.csv...\nSaved: dbfs/by-day-spark-output/2011-08-14\nDownloading 2011-08-15.csv...\nSaved: dbfs/by-day-spark-output/2011-08-15\nDownloading 2011-08-16.csv...\nSaved: dbfs/by-day-spark-output/2011-08-16\nDownloading 2011-08-17.csv...\nSaved: dbfs/by-day-spark-output/2011-08-17\nDownloading 2011-08-18.csv...\nSaved: dbfs/by-day-spark-output/2011-08-18\nDownloading 2011-08-19.csv...\nSaved: dbfs/by-day-spark-output/2011-08-19\nDownloading 2011-08-21.csv...\nSaved: dbfs/by-day-spark-output/2011-08-21\nDownloading 2011-08-22.csv...\nSaved: dbfs/by-day-spark-output/2011-08-22\nDownloading 2011-08-23.csv...\nSaved: dbfs/by-day-spark-output/2011-08-23\nDownloading 2011-08-24.csv...\nSaved: dbfs/by-day-spark-output/2011-08-24\nDownloading 2011-08-25.csv...\nSaved: dbfs/by-day-spark-output/2011-08-25\nDownloading 2011-08-26.csv...\nSaved: dbfs/by-day-spark-output/2011-08-26\nDownloading 2011-08-28.csv...\nSaved: dbfs/by-day-spark-output/2011-08-28\nDownloading 2011-08-30.csv...\nSaved: dbfs/by-day-spark-output/2011-08-30\nDownloading 2011-08-31.csv...\nSaved: dbfs/by-day-spark-output/2011-08-31\nDownloading 2011-09-01.csv...\nSaved: dbfs/by-day-spark-output/2011-09-01\nDownloading 2011-09-02.csv...\nSaved: dbfs/by-day-spark-output/2011-09-02\nDownloading 2011-09-04.csv...\nSaved: dbfs/by-day-spark-output/2011-09-04\nDownloading 2011-09-05.csv...\nSaved: dbfs/by-day-spark-output/2011-09-05\nDownloading 2011-09-06.csv...\nSaved: dbfs/by-day-spark-output/2011-09-06\nDownloading 2011-09-07.csv...\nSaved: dbfs/by-day-spark-output/2011-09-07\nDownloading 2011-09-08.csv...\nSaved: dbfs/by-day-spark-output/2011-09-08\nDownloading 2011-09-09.csv...\nSaved: dbfs/by-day-spark-output/2011-09-09\nDownloading 2011-09-11.csv...\nSaved: dbfs/by-day-spark-output/2011-09-11\nDownloading 2011-09-12.csv...\nSaved: dbfs/by-day-spark-output/2011-09-12\nDownloading 2011-09-13.csv...\nSaved: dbfs/by-day-spark-output/2011-09-13\nDownloading 2011-09-14.csv...\nSaved: dbfs/by-day-spark-output/2011-09-14\nDownloading 2011-09-15.csv...\nSaved: dbfs/by-day-spark-output/2011-09-15\nDownloading 2011-09-16.csv...\nSaved: dbfs/by-day-spark-output/2011-09-16\nDownloading 2011-09-18.csv...\nSaved: dbfs/by-day-spark-output/2011-09-18\nDownloading 2011-09-19.csv...\nSaved: dbfs/by-day-spark-output/2011-09-19\nDownloading 2011-09-20.csv...\nSaved: dbfs/by-day-spark-output/2011-09-20\nDownloading 2011-09-21.csv...\nSaved: dbfs/by-day-spark-output/2011-09-21\nDownloading 2011-09-22.csv...\nSaved: dbfs/by-day-spark-output/2011-09-22\nDownloading 2011-09-23.csv...\nSaved: dbfs/by-day-spark-output/2011-09-23\nDownloading 2011-09-25.csv...\nSaved: dbfs/by-day-spark-output/2011-09-25\nDownloading 2011-09-26.csv...\nSaved: dbfs/by-day-spark-output/2011-09-26\nDownloading 2011-09-27.csv...\nSaved: dbfs/by-day-spark-output/2011-09-27\nDownloading 2011-09-28.csv...\nSaved: dbfs/by-day-spark-output/2011-09-28\nDownloading 2011-09-29.csv...\nSaved: dbfs/by-day-spark-output/2011-09-29\nDownloading 2011-09-30.csv...\nSaved: dbfs/by-day-spark-output/2011-09-30\nDownloading 2011-10-02.csv...\nSaved: dbfs/by-day-spark-output/2011-10-02\nDownloading 2011-10-03.csv...\nSaved: dbfs/by-day-spark-output/2011-10-03\nDownloading 2011-10-04.csv...\nSaved: dbfs/by-day-spark-output/2011-10-04\nDownloading 2011-10-05.csv...\nSaved: dbfs/by-day-spark-output/2011-10-05\nDownloading 2011-10-06.csv...\nSaved: dbfs/by-day-spark-output/2011-10-06\nDownloading 2011-10-07.csv...\nSaved: dbfs/by-day-spark-output/2011-10-07\nDownloading 2011-10-09.csv...\nSaved: dbfs/by-day-spark-output/2011-10-09\nDownloading 2011-10-10.csv...\nSaved: dbfs/by-day-spark-output/2011-10-10\nDownloading 2011-10-11.csv...\nSaved: dbfs/by-day-spark-output/2011-10-11\nDownloading 2011-10-12.csv...\nSaved: dbfs/by-day-spark-output/2011-10-12\nDownloading 2011-10-13.csv...\nSaved: dbfs/by-day-spark-output/2011-10-13\nDownloading 2011-10-14.csv...\nSaved: dbfs/by-day-spark-output/2011-10-14\nDownloading 2011-10-16.csv...\nSaved: dbfs/by-day-spark-output/2011-10-16\nDownloading 2011-10-17.csv...\nSaved: dbfs/by-day-spark-output/2011-10-17\nDownloading 2011-10-18.csv...\nSaved: dbfs/by-day-spark-output/2011-10-18\nDownloading 2011-10-19.csv...\nSaved: dbfs/by-day-spark-output/2011-10-19\nDownloading 2011-10-20.csv...\nSaved: dbfs/by-day-spark-output/2011-10-20\nDownloading 2011-10-21.csv...\nSaved: dbfs/by-day-spark-output/2011-10-21\nDownloading 2011-10-23.csv...\nSaved: dbfs/by-day-spark-output/2011-10-23\nDownloading 2011-10-24.csv...\nSaved: dbfs/by-day-spark-output/2011-10-24\nDownloading 2011-10-25.csv...\nSaved: dbfs/by-day-spark-output/2011-10-25\nDownloading 2011-10-26.csv...\nSaved: dbfs/by-day-spark-output/2011-10-26\nDownloading 2011-10-27.csv...\nSaved: dbfs/by-day-spark-output/2011-10-27\nDownloading 2011-10-28.csv...\nSaved: dbfs/by-day-spark-output/2011-10-28\nDownloading 2011-10-30.csv...\nSaved: dbfs/by-day-spark-output/2011-10-30\nDownloading 2011-10-31.csv...\nSaved: dbfs/by-day-spark-output/2011-10-31\nDownloading 2011-11-01.csv...\nSaved: dbfs/by-day-spark-output/2011-11-01\nDownloading 2011-11-02.csv...\nSaved: dbfs/by-day-spark-output/2011-11-02\nDownloading 2011-11-03.csv...\nSaved: dbfs/by-day-spark-output/2011-11-03\nDownloading 2011-11-04.csv...\nSaved: dbfs/by-day-spark-output/2011-11-04\nDownloading 2011-11-06.csv...\nSaved: dbfs/by-day-spark-output/2011-11-06\nDownloading 2011-11-07.csv...\nSaved: dbfs/by-day-spark-output/2011-11-07\nDownloading 2011-11-08.csv...\nSaved: dbfs/by-day-spark-output/2011-11-08\nDownloading 2011-11-09.csv...\nSaved: dbfs/by-day-spark-output/2011-11-09\nDownloading 2011-11-10.csv...\nSaved: dbfs/by-day-spark-output/2011-11-10\nDownloading 2011-11-11.csv...\nSaved: dbfs/by-day-spark-output/2011-11-11\nDownloading 2011-11-13.csv...\nSaved: dbfs/by-day-spark-output/2011-11-13\nDownloading 2011-11-14.csv...\nSaved: dbfs/by-day-spark-output/2011-11-14\nDownloading 2011-11-15.csv...\nSaved: dbfs/by-day-spark-output/2011-11-15\nDownloading 2011-11-16.csv...\nSaved: dbfs/by-day-spark-output/2011-11-16\nDownloading 2011-11-17.csv...\nSaved: dbfs/by-day-spark-output/2011-11-17\nDownloading 2011-11-18.csv...\nSaved: dbfs/by-day-spark-output/2011-11-18\nDownloading 2011-11-20.csv...\nSaved: dbfs/by-day-spark-output/2011-11-20\nDownloading 2011-11-21.csv...\nSaved: dbfs/by-day-spark-output/2011-11-21\nDownloading 2011-11-22.csv...\nSaved: dbfs/by-day-spark-output/2011-11-22\nDownloading 2011-11-23.csv...\nSaved: dbfs/by-day-spark-output/2011-11-23\nDownloading 2011-11-24.csv...\nSaved: dbfs/by-day-spark-output/2011-11-24\nDownloading 2011-11-25.csv...\nSaved: dbfs/by-day-spark-output/2011-11-25\nDownloading 2011-11-27.csv...\nSaved: dbfs/by-day-spark-output/2011-11-27\nDownloading 2011-11-28.csv...\nSaved: dbfs/by-day-spark-output/2011-11-28\nDownloading 2011-11-29.csv...\nSaved: dbfs/by-day-spark-output/2011-11-29\nDownloading 2011-11-30.csv...\nSaved: dbfs/by-day-spark-output/2011-11-30\nDownloading 2011-12-01.csv...\nSaved: dbfs/by-day-spark-output/2011-12-01\nDownloading 2011-12-02.csv...\nSaved: dbfs/by-day-spark-output/2011-12-02\nDownloading 2011-12-04.csv...\nSaved: dbfs/by-day-spark-output/2011-12-04\nDownloading 2011-12-05.csv...\nSaved: dbfs/by-day-spark-output/2011-12-05\nDownloading 2011-12-06.csv...\nSaved: dbfs/by-day-spark-output/2011-12-06\nDownloading 2011-12-07.csv...\nSaved: dbfs/by-day-spark-output/2011-12-07\nDownloading 2011-12-08.csv...\nSaved: dbfs/by-day-spark-output/2011-12-08\nDownloading 2011-12-09.csv...\nSaved: dbfs/by-day-spark-output/2011-12-09\n"
     ]
    }
   ],
   "source": [
    "import os\n",
    "import urllib.request\n",
    "\n",
    "# Base GitHub URL\n",
    "base_url = \"https://raw.githubusercontent.com/databricks/Spark-The-Definitive-Guide/master/data/retail-data/by-day/\"\n",
    "\n",
    "# Directories\n",
    "raw_dir = \"dbfs/by-day-raw\"\n",
    "output_dir = \"dbfs/by-day-spark-output\"\n",
    "os.makedirs(raw_dir, exist_ok=True)\n",
    "os.makedirs(output_dir, exist_ok=True)\n",
    "\n",
    "# Loop to download, read, and save\n",
    "for file in files:\n",
    "    local_file_path = os.path.join(raw_dir, file)\n",
    "    output_path = os.path.join(output_dir, file.replace(\".csv\", \"\"))\n",
    "\n",
    "    # Download if not already present\n",
    "    if not os.path.exists(local_file_path):\n",
    "        print(f\"Downloading {file}...\")\n",
    "        urllib.request.urlretrieve(base_url + file, local_file_path)\n",
    "\n",
    "    # Read the CSV file with Spark\n",
    "    df = spark.read.option(\"header\", \"true\").csv(\"file://\" + os.path.abspath(local_file_path))\n",
    "\n",
    "    # Save to new output directory (no overwrite)\n",
    "    if not os.path.exists(output_path):\n",
    "        df.write.mode(\"overwrite\").option(\"header\", \"true\").csv(output_path)\n",
    "        print(f\"Saved: {output_path}\")\n",
    "    else:\n",
    "        print(f\"Already exists, skipped: {output_path}\")"
   ]
  },
  {
   "cell_type": "code",
   "execution_count": 0,
   "metadata": {
    "application/vnd.databricks.v1+cell": {
     "cellMetadata": {
      "byteLimit": 2048000,
      "rowLimit": 10000
     },
     "inputWidgets": {},
     "nuid": "de95d69e-337b-47d2-9690-4ebc5dfcb2bc",
     "showTitle": false,
     "tableResultSettingsMap": {},
     "title": ""
    }
   },
   "outputs": [],
   "source": [
    "static_df = spark.read \\\n",
    "    .option(\"header\", \"true\") \\\n",
    "    .option(\"inferSchema\", \"true\") \\\n",
    "    .csv(\"dbfs:/dbfs/by-day-spark-output/**/*.csv\")"
   ]
  },
  {
   "cell_type": "code",
   "execution_count": 0,
   "metadata": {
    "application/vnd.databricks.v1+cell": {
     "cellMetadata": {
      "byteLimit": 2048000,
      "rowLimit": 10000
     },
     "inputWidgets": {},
     "nuid": "54ab3437-539f-4351-8848-87755e4ecc3c",
     "showTitle": false,
     "tableResultSettingsMap": {},
     "title": ""
    }
   },
   "outputs": [
    {
     "output_type": "display_data",
     "data": {
      "text/html": [
       "<style scoped>\n",
       "  .table-result-container {\n",
       "    max-height: 300px;\n",
       "    overflow: auto;\n",
       "  }\n",
       "  table, th, td {\n",
       "    border: 1px solid black;\n",
       "    border-collapse: collapse;\n",
       "  }\n",
       "  th, td {\n",
       "    padding: 5px;\n",
       "  }\n",
       "  th {\n",
       "    text-align: left;\n",
       "  }\n",
       "</style><div class='table-result-container'><table class='table-result'><thead style='background-color: white'><tr><th>InvoiceNo</th><th>StockCode</th><th>Description</th><th>Quantity</th><th>InvoiceDate</th><th>UnitPrice</th><th>CustomerID</th><th>Country</th></tr></thead><tbody><tr><td>580538</td><td>23084</td><td>RABBIT NIGHT LIGHT</td><td>48</td><td>2011-12-05T08:38:00Z</td><td>1.79</td><td>14075.0</td><td>United Kingdom</td></tr><tr><td>580538</td><td>23077</td><td>DOUGHNUT LIP GLOSS</td><td>20</td><td>2011-12-05T08:38:00Z</td><td>1.25</td><td>14075.0</td><td>United Kingdom</td></tr><tr><td>580538</td><td>22906</td><td>12 MESSAGE CARDS WITH ENVELOPES</td><td>24</td><td>2011-12-05T08:38:00Z</td><td>1.65</td><td>14075.0</td><td>United Kingdom</td></tr><tr><td>580538</td><td>21914</td><td>BLUE HARMONICA IN BOX</td><td>24</td><td>2011-12-05T08:38:00Z</td><td>1.25</td><td>14075.0</td><td>United Kingdom</td></tr><tr><td>580538</td><td>22467</td><td>GUMBALL COAT RACK</td><td>6</td><td>2011-12-05T08:38:00Z</td><td>2.55</td><td>14075.0</td><td>United Kingdom</td></tr></tbody></table></div>"
      ]
     },
     "metadata": {
      "application/vnd.databricks.v1+output": {
       "addedWidgets": {},
       "aggData": [],
       "aggError": "",
       "aggOverflow": false,
       "aggSchema": [],
       "aggSeriesLimitReached": false,
       "aggType": "",
       "arguments": {},
       "columnCustomDisplayInfos": {},
       "data": [
        [
         "580538",
         "23084",
         "RABBIT NIGHT LIGHT",
         48,
         "2011-12-05T08:38:00Z",
         1.79,
         14075.0,
         "United Kingdom"
        ],
        [
         "580538",
         "23077",
         "DOUGHNUT LIP GLOSS",
         20,
         "2011-12-05T08:38:00Z",
         1.25,
         14075.0,
         "United Kingdom"
        ],
        [
         "580538",
         "22906",
         "12 MESSAGE CARDS WITH ENVELOPES",
         24,
         "2011-12-05T08:38:00Z",
         1.65,
         14075.0,
         "United Kingdom"
        ],
        [
         "580538",
         "21914",
         "BLUE HARMONICA IN BOX",
         24,
         "2011-12-05T08:38:00Z",
         1.25,
         14075.0,
         "United Kingdom"
        ],
        [
         "580538",
         "22467",
         "GUMBALL COAT RACK",
         6,
         "2011-12-05T08:38:00Z",
         2.55,
         14075.0,
         "United Kingdom"
        ]
       ],
       "datasetInfos": [],
       "dbfsResultPath": null,
       "isJsonSchema": true,
       "metadata": {},
       "overflow": false,
       "plotOptions": {
        "customPlotOptions": {},
        "displayType": "table",
        "pivotAggregation": null,
        "pivotColumns": null,
        "xColumns": null,
        "yColumns": null
       },
       "removedWidgets": [],
       "schema": [
        {
         "metadata": "{}",
         "name": "InvoiceNo",
         "type": "\"string\""
        },
        {
         "metadata": "{}",
         "name": "StockCode",
         "type": "\"string\""
        },
        {
         "metadata": "{}",
         "name": "Description",
         "type": "\"string\""
        },
        {
         "metadata": "{}",
         "name": "Quantity",
         "type": "\"integer\""
        },
        {
         "metadata": "{}",
         "name": "InvoiceDate",
         "type": "\"timestamp\""
        },
        {
         "metadata": "{}",
         "name": "UnitPrice",
         "type": "\"double\""
        },
        {
         "metadata": "{}",
         "name": "CustomerID",
         "type": "\"double\""
        },
        {
         "metadata": "{}",
         "name": "Country",
         "type": "\"string\""
        }
       ],
       "type": "table"
      }
     },
     "output_type": "display_data"
    }
   ],
   "source": [
    "static_df.limit(5).display()"
   ]
  },
  {
   "cell_type": "code",
   "execution_count": 0,
   "metadata": {
    "application/vnd.databricks.v1+cell": {
     "cellMetadata": {
      "byteLimit": 2048000,
      "rowLimit": 10000
     },
     "inputWidgets": {},
     "nuid": "32362e32-aa07-4141-a109-bf63f17ef629",
     "showTitle": false,
     "tableResultSettingsMap": {},
     "title": ""
    }
   },
   "outputs": [],
   "source": [
    "static_df.createOrReplaceGlobalTempView(\"retail_table\")\n",
    "static_schema = static_df.schema"
   ]
  },
  {
   "cell_type": "code",
   "execution_count": 0,
   "metadata": {
    "application/vnd.databricks.v1+cell": {
     "cellMetadata": {
      "byteLimit": 2048000,
      "rowLimit": 10000
     },
     "inputWidgets": {},
     "nuid": "58e21596-63f3-4959-be49-963749678734",
     "showTitle": false,
     "tableResultSettingsMap": {},
     "title": ""
    }
   },
   "outputs": [
    {
     "output_type": "execute_result",
     "data": {
      "text/plain": [
       "StructType([StructField('InvoiceNo', StringType(), True), StructField('StockCode', StringType(), True), StructField('Description', StringType(), True), StructField('Quantity', IntegerType(), True), StructField('InvoiceDate', TimestampType(), True), StructField('UnitPrice', DoubleType(), True), StructField('CustomerID', DoubleType(), True), StructField('Country', StringType(), True)])"
      ]
     },
     "execution_count": 82,
     "metadata": {},
     "output_type": "execute_result"
    }
   ],
   "source": [
    "static_schema"
   ]
  },
  {
   "cell_type": "markdown",
   "metadata": {
    "application/vnd.databricks.v1+cell": {
     "cellMetadata": {},
     "inputWidgets": {},
     "nuid": "2912d3b3-8f10-4c02-8387-96fe388236ff",
     "showTitle": false,
     "tableResultSettingsMap": {},
     "title": ""
    }
   },
   "source": [
    "### To compute the total amount spent per customer per day, and list the highest-spending customers first."
   ]
  },
  {
   "cell_type": "code",
   "execution_count": 0,
   "metadata": {
    "application/vnd.databricks.v1+cell": {
     "cellMetadata": {
      "byteLimit": 2048000,
      "implicitDf": true,
      "rowLimit": 10000
     },
     "inputWidgets": {},
     "nuid": "c7b0bbb9-bc2f-470e-89e2-30d5dbd352eb",
     "showTitle": false,
     "tableResultSettingsMap": {},
     "title": ""
    }
   },
   "outputs": [
    {
     "output_type": "display_data",
     "data": {
      "text/html": [
       "<style scoped>\n",
       "  .table-result-container {\n",
       "    max-height: 300px;\n",
       "    overflow: auto;\n",
       "  }\n",
       "  table, th, td {\n",
       "    border: 1px solid black;\n",
       "    border-collapse: collapse;\n",
       "  }\n",
       "  th, td {\n",
       "    padding: 5px;\n",
       "  }\n",
       "  th {\n",
       "    text-align: left;\n",
       "  }\n",
       "</style><div class='table-result-container'><table class='table-result'><thead style='background-color: white'><tr><th>InvoiceNo</th><th>StockCode</th><th>Description</th><th>Quantity</th><th>InvoiceDate</th><th>UnitPrice</th><th>CustomerID</th><th>Country</th></tr></thead><tbody><tr><td>580538</td><td>23084</td><td>RABBIT NIGHT LIGHT</td><td>48</td><td>2011-12-05T08:38:00Z</td><td>1.79</td><td>14075.0</td><td>United Kingdom</td></tr><tr><td>580538</td><td>23077</td><td>DOUGHNUT LIP GLOSS</td><td>20</td><td>2011-12-05T08:38:00Z</td><td>1.25</td><td>14075.0</td><td>United Kingdom</td></tr><tr><td>580538</td><td>22906</td><td>12 MESSAGE CARDS WITH ENVELOPES</td><td>24</td><td>2011-12-05T08:38:00Z</td><td>1.65</td><td>14075.0</td><td>United Kingdom</td></tr><tr><td>580538</td><td>21914</td><td>BLUE HARMONICA IN BOX</td><td>24</td><td>2011-12-05T08:38:00Z</td><td>1.25</td><td>14075.0</td><td>United Kingdom</td></tr><tr><td>580538</td><td>22467</td><td>GUMBALL COAT RACK</td><td>6</td><td>2011-12-05T08:38:00Z</td><td>2.55</td><td>14075.0</td><td>United Kingdom</td></tr></tbody></table></div>"
      ]
     },
     "metadata": {
      "application/vnd.databricks.v1+output": {
       "addedWidgets": {},
       "aggData": [],
       "aggError": "",
       "aggOverflow": false,
       "aggSchema": [],
       "aggSeriesLimitReached": false,
       "aggType": "",
       "arguments": {},
       "columnCustomDisplayInfos": {},
       "data": [
        [
         "580538",
         "23084",
         "RABBIT NIGHT LIGHT",
         48,
         "2011-12-05T08:38:00Z",
         1.79,
         14075.0,
         "United Kingdom"
        ],
        [
         "580538",
         "23077",
         "DOUGHNUT LIP GLOSS",
         20,
         "2011-12-05T08:38:00Z",
         1.25,
         14075.0,
         "United Kingdom"
        ],
        [
         "580538",
         "22906",
         "12 MESSAGE CARDS WITH ENVELOPES",
         24,
         "2011-12-05T08:38:00Z",
         1.65,
         14075.0,
         "United Kingdom"
        ],
        [
         "580538",
         "21914",
         "BLUE HARMONICA IN BOX",
         24,
         "2011-12-05T08:38:00Z",
         1.25,
         14075.0,
         "United Kingdom"
        ],
        [
         "580538",
         "22467",
         "GUMBALL COAT RACK",
         6,
         "2011-12-05T08:38:00Z",
         2.55,
         14075.0,
         "United Kingdom"
        ]
       ],
       "datasetInfos": [],
       "dbfsResultPath": null,
       "isJsonSchema": true,
       "metadata": {
        "createTempViewForImplicitDf": true,
        "dataframeName": "_sqldf",
        "executionCount": 90
       },
       "overflow": false,
       "plotOptions": {
        "customPlotOptions": {},
        "displayType": "table",
        "pivotAggregation": null,
        "pivotColumns": null,
        "xColumns": null,
        "yColumns": null
       },
       "removedWidgets": [],
       "schema": [
        {
         "metadata": "{}",
         "name": "InvoiceNo",
         "type": "\"string\""
        },
        {
         "metadata": "{}",
         "name": "StockCode",
         "type": "\"string\""
        },
        {
         "metadata": "{}",
         "name": "Description",
         "type": "\"string\""
        },
        {
         "metadata": "{}",
         "name": "Quantity",
         "type": "\"integer\""
        },
        {
         "metadata": "{}",
         "name": "InvoiceDate",
         "type": "\"timestamp\""
        },
        {
         "metadata": "{}",
         "name": "UnitPrice",
         "type": "\"double\""
        },
        {
         "metadata": "{}",
         "name": "CustomerID",
         "type": "\"double\""
        },
        {
         "metadata": "{}",
         "name": "Country",
         "type": "\"string\""
        }
       ],
       "type": "table"
      }
     },
     "output_type": "display_data"
    }
   ],
   "source": [
    "%sql\n",
    "select * from global_temp.retail_data limit 5;"
   ]
  },
  {
   "cell_type": "code",
   "execution_count": 0,
   "metadata": {
    "application/vnd.databricks.v1+cell": {
     "cellMetadata": {
      "byteLimit": 2048000,
      "rowLimit": 10000
     },
     "inputWidgets": {},
     "nuid": "c6d4fd7f-df26-4473-98b8-f73db96f6aba",
     "showTitle": false,
     "tableResultSettingsMap": {},
     "title": ""
    }
   },
   "outputs": [
    {
     "output_type": "display_data",
     "data": {
      "text/html": [
       "<style scoped>\n",
       "  .table-result-container {\n",
       "    max-height: 300px;\n",
       "    overflow: auto;\n",
       "  }\n",
       "  table, th, td {\n",
       "    border: 1px solid black;\n",
       "    border-collapse: collapse;\n",
       "  }\n",
       "  th, td {\n",
       "    padding: 5px;\n",
       "  }\n",
       "  th {\n",
       "    text-align: left;\n",
       "  }\n",
       "</style><div class='table-result-container'><table class='table-result'><thead style='background-color: white'><tr><th>sum(total_cost)</th><th>CustomerID</th><th>to_date(InvoiceDate)</th></tr></thead><tbody><tr><td>71601.44</td><td>17450.0</td><td>2011-09-20</td></tr><tr><td>55316.08</td><td>null</td><td>2011-11-14</td></tr><tr><td>42939.17</td><td>null</td><td>2011-11-07</td></tr><tr><td>33521.39999999998</td><td>null</td><td>2011-03-29</td></tr><tr><td>31975.590000000007</td><td>null</td><td>2011-12-08</td></tr></tbody></table></div>"
      ]
     },
     "metadata": {
      "application/vnd.databricks.v1+output": {
       "addedWidgets": {},
       "aggData": [],
       "aggError": "",
       "aggOverflow": false,
       "aggSchema": [],
       "aggSeriesLimitReached": false,
       "aggType": "",
       "arguments": {},
       "columnCustomDisplayInfos": {},
       "data": [
        [
         71601.44,
         17450.0,
         "2011-09-20"
        ],
        [
         55316.08,
         null,
         "2011-11-14"
        ],
        [
         42939.17,
         null,
         "2011-11-07"
        ],
        [
         33521.39999999998,
         null,
         "2011-03-29"
        ],
        [
         31975.590000000007,
         null,
         "2011-12-08"
        ]
       ],
       "datasetInfos": [],
       "dbfsResultPath": null,
       "isJsonSchema": true,
       "metadata": {},
       "overflow": false,
       "plotOptions": {
        "customPlotOptions": {},
        "displayType": "table",
        "pivotAggregation": null,
        "pivotColumns": null,
        "xColumns": null,
        "yColumns": null
       },
       "removedWidgets": [],
       "schema": [
        {
         "metadata": "{\"__autoGeneratedAlias\":\"true\"}",
         "name": "sum(total_cost)",
         "type": "\"double\""
        },
        {
         "metadata": "{}",
         "name": "CustomerID",
         "type": "\"double\""
        },
        {
         "metadata": "{\"__autoGeneratedAlias\":\"true\"}",
         "name": "to_date(InvoiceDate)",
         "type": "\"date\""
        }
       ],
       "type": "table"
      }
     },
     "output_type": "display_data"
    }
   ],
   "source": [
    "spark.sql(\n",
    "    \"select sum(total_cost), CustomerID, to_date(InvoiceDate) \\\n",
    "    from (select CustomerID, (UnitPrice*Quantity) as total_cost, InvoiceDate from global_temp.retail_data) \\\n",
    "    group by CustomerID, to_date(InvoiceDate) \\\n",
    "    order by sum(total_cost) desc \\\n",
    "    limit 5\"\n",
    ").display()"
   ]
  },
  {
   "cell_type": "code",
   "execution_count": 0,
   "metadata": {
    "application/vnd.databricks.v1+cell": {
     "cellMetadata": {
      "byteLimit": 2048000,
      "rowLimit": 10000
     },
     "inputWidgets": {},
     "nuid": "cf6373ba-ce02-458b-8da4-a0c41d44c15d",
     "showTitle": false,
     "tableResultSettingsMap": {},
     "title": ""
    }
   },
   "outputs": [
    {
     "output_type": "display_data",
     "data": {
      "text/html": [
       "<style scoped>\n",
       "  .table-result-container {\n",
       "    max-height: 300px;\n",
       "    overflow: auto;\n",
       "  }\n",
       "  table, th, td {\n",
       "    border: 1px solid black;\n",
       "    border-collapse: collapse;\n",
       "  }\n",
       "  th, td {\n",
       "    padding: 5px;\n",
       "  }\n",
       "  th {\n",
       "    text-align: left;\n",
       "  }\n",
       "</style><div class='table-result-container'><table class='table-result'><thead style='background-color: white'><tr><th>CustomerID</th><th>InvoiceDate</th><th>total_cost</th></tr></thead><tbody><tr><td>17450.0</td><td>2011-09-20</td><td>71601.44</td></tr><tr><td>null</td><td>2011-11-14</td><td>55316.08</td></tr><tr><td>null</td><td>2011-11-07</td><td>42939.17</td></tr><tr><td>null</td><td>2011-03-29</td><td>33521.39999999998</td></tr><tr><td>null</td><td>2011-12-08</td><td>31975.590000000007</td></tr></tbody></table></div>"
      ]
     },
     "metadata": {
      "application/vnd.databricks.v1+output": {
       "addedWidgets": {},
       "aggData": [],
       "aggError": "",
       "aggOverflow": false,
       "aggSchema": [],
       "aggSeriesLimitReached": false,
       "aggType": "",
       "arguments": {},
       "columnCustomDisplayInfos": {},
       "data": [
        [
         17450.0,
         "2011-09-20",
         71601.44
        ],
        [
         null,
         "2011-11-14",
         55316.08
        ],
        [
         null,
         "2011-11-07",
         42939.17
        ],
        [
         null,
         "2011-03-29",
         33521.39999999998
        ],
        [
         null,
         "2011-12-08",
         31975.590000000007
        ]
       ],
       "datasetInfos": [],
       "dbfsResultPath": null,
       "isJsonSchema": true,
       "metadata": {},
       "overflow": false,
       "plotOptions": {
        "customPlotOptions": {},
        "displayType": "table",
        "pivotAggregation": null,
        "pivotColumns": null,
        "xColumns": null,
        "yColumns": null
       },
       "removedWidgets": [],
       "schema": [
        {
         "metadata": "{}",
         "name": "CustomerID",
         "type": "\"double\""
        },
        {
         "metadata": "{}",
         "name": "InvoiceDate",
         "type": "\"date\""
        },
        {
         "metadata": "{}",
         "name": "total_cost",
         "type": "\"double\""
        }
       ],
       "type": "table"
      }
     },
     "output_type": "display_data"
    }
   ],
   "source": [
    "from pyspark.sql.functions import col, to_date, sum\n",
    "\n",
    "(\n",
    "    static_df\n",
    "    .select('UnitPrice', 'Quantity', 'InvoiceDate', 'CustomerID')\n",
    "    .withColumn('total_cost', col('UnitPrice') * col('Quantity'))\n",
    "    .groupBy(\"CustomerID\",to_date(\"InvoiceDate\").alias(\"InvoiceDate\"))\n",
    "    .agg(sum('total_cost').alias('total_cost'))\n",
    "    .orderBy(col('total_cost'), ascending=False)\n",
    "    .limit(5)\n",
    "    .display()\n",
    ")"
   ]
  },
  {
   "cell_type": "code",
   "execution_count": 0,
   "metadata": {
    "application/vnd.databricks.v1+cell": {
     "cellMetadata": {
      "byteLimit": 2048000,
      "rowLimit": 10000
     },
     "inputWidgets": {},
     "nuid": "a7fac4fd-bf2f-476c-8760-86769c2c83e9",
     "showTitle": false,
     "tableResultSettingsMap": {},
     "title": ""
    }
   },
   "outputs": [
    {
     "output_type": "display_data",
     "data": {
      "text/html": [
       "<style scoped>\n",
       "  .table-result-container {\n",
       "    max-height: 300px;\n",
       "    overflow: auto;\n",
       "  }\n",
       "  table, th, td {\n",
       "    border: 1px solid black;\n",
       "    border-collapse: collapse;\n",
       "  }\n",
       "  th, td {\n",
       "    padding: 5px;\n",
       "  }\n",
       "  th {\n",
       "    text-align: left;\n",
       "  }\n",
       "</style><div class='table-result-container'><table class='table-result'><thead style='background-color: white'><tr><th>CustomerID</th><th>InvoiceDate</th><th>total_cost</th></tr></thead><tbody><tr><td>17450.0</td><td>2011-09-20</td><td>71601.44</td></tr><tr><td>null</td><td>2011-11-14</td><td>55316.08</td></tr><tr><td>null</td><td>2011-11-07</td><td>42939.17</td></tr><tr><td>null</td><td>2011-03-29</td><td>33521.39999999998</td></tr><tr><td>null</td><td>2011-12-08</td><td>31975.590000000007</td></tr></tbody></table></div>"
      ]
     },
     "metadata": {
      "application/vnd.databricks.v1+output": {
       "addedWidgets": {},
       "aggData": [],
       "aggError": "",
       "aggOverflow": false,
       "aggSchema": [],
       "aggSeriesLimitReached": false,
       "aggType": "",
       "arguments": {},
       "columnCustomDisplayInfos": {},
       "data": [
        [
         17450.0,
         "2011-09-20",
         71601.44
        ],
        [
         null,
         "2011-11-14",
         55316.08
        ],
        [
         null,
         "2011-11-07",
         42939.17
        ],
        [
         null,
         "2011-03-29",
         33521.39999999998
        ],
        [
         null,
         "2011-12-08",
         31975.590000000007
        ]
       ],
       "datasetInfos": [],
       "dbfsResultPath": null,
       "isJsonSchema": true,
       "metadata": {},
       "overflow": false,
       "plotOptions": {
        "customPlotOptions": {},
        "displayType": "table",
        "pivotAggregation": null,
        "pivotColumns": null,
        "xColumns": null,
        "yColumns": null
       },
       "removedWidgets": [],
       "schema": [
        {
         "metadata": "{}",
         "name": "CustomerID",
         "type": "\"double\""
        },
        {
         "metadata": "{}",
         "name": "InvoiceDate",
         "type": "\"date\""
        },
        {
         "metadata": "{}",
         "name": "total_cost",
         "type": "\"double\""
        }
       ],
       "type": "table"
      }
     },
     "output_type": "display_data"
    }
   ],
   "source": [
    "( static_df\n",
    "    .withColumn('total_cost',col('UnitPrice') * col('Quantity'))\n",
    "    .groupBy(\"CustomerID\", to_date(\"InvoiceDate\").alias(\"InvoiceDate\"))\n",
    "    .agg(sum(\"total_cost\").alias(\"total_cost\"))\n",
    "    .orderBy(\"total_cost\", ascending=False)\n",
    "    .limit(5)\n",
    "    .display()\n",
    ")"
   ]
  },
  {
   "cell_type": "markdown",
   "metadata": {
    "application/vnd.databricks.v1+cell": {
     "cellMetadata": {},
     "inputWidgets": {},
     "nuid": "fbe53b9d-d4e3-4f4a-b4bf-4f01d11acb1b",
     "showTitle": false,
     "tableResultSettingsMap": {},
     "title": ""
    }
   },
   "source": [
    "### Machine Learning -> kmeans"
   ]
  },
  {
   "cell_type": "markdown",
   "metadata": {
    "application/vnd.databricks.v1+cell": {
     "cellMetadata": {},
     "inputWidgets": {},
     "nuid": "eb37626e-52ff-44d4-9e32-61eb25c3f291",
     "showTitle": false,
     "tableResultSettingsMap": {},
     "title": ""
    }
   },
   "source": [
    "\n",
    "**_Coalesce_** -> This reduces the number of data partitions in the DataFrame to 5.\n",
    "\n",
    "\uD83D\uDCCC Why use this?\n",
    "To control parallelism or optimize output when writing data to files (like in .write.csv()).\n",
    "\n",
    "The data is stored across 5 partitions (useful if you'll write it to disk later)\n",
    "\n",
    "Spark often creates many partitions by default (even hundreds) — if you're writing to disk, you'll get many tiny files. Coalescing fixes that."
   ]
  },
  {
   "cell_type": "code",
   "execution_count": 0,
   "metadata": {
    "application/vnd.databricks.v1+cell": {
     "cellMetadata": {
      "byteLimit": 2048000,
      "rowLimit": 10000
     },
     "inputWidgets": {},
     "nuid": "8af2bb6f-3540-4743-a952-c48d5646723f",
     "showTitle": false,
     "tableResultSettingsMap": {},
     "title": ""
    }
   },
   "outputs": [
    {
     "output_type": "display_data",
     "data": {
      "text/html": [
       "<style scoped>\n",
       "  .table-result-container {\n",
       "    max-height: 300px;\n",
       "    overflow: auto;\n",
       "  }\n",
       "  table, th, td {\n",
       "    border: 1px solid black;\n",
       "    border-collapse: collapse;\n",
       "  }\n",
       "  th, td {\n",
       "    padding: 5px;\n",
       "  }\n",
       "  th {\n",
       "    text-align: left;\n",
       "  }\n",
       "</style><div class='table-result-container'><table class='table-result'><thead style='background-color: white'><tr><th>InvoiceNo</th><th>StockCode</th><th>Description</th><th>Quantity</th><th>InvoiceDate</th><th>UnitPrice</th><th>CustomerID</th><th>Country</th><th>day_of_week</th></tr></thead><tbody><tr><td>580538</td><td>23084</td><td>RABBIT NIGHT LIGHT</td><td>48</td><td>2011-12-05T08:38:00Z</td><td>1.79</td><td>14075.0</td><td>United Kingdom</td><td>Monday</td></tr><tr><td>580538</td><td>23077</td><td>DOUGHNUT LIP GLOSS</td><td>20</td><td>2011-12-05T08:38:00Z</td><td>1.25</td><td>14075.0</td><td>United Kingdom</td><td>Monday</td></tr><tr><td>580538</td><td>22906</td><td>12 MESSAGE CARDS WITH ENVELOPES</td><td>24</td><td>2011-12-05T08:38:00Z</td><td>1.65</td><td>14075.0</td><td>United Kingdom</td><td>Monday</td></tr><tr><td>580538</td><td>21914</td><td>BLUE HARMONICA IN BOX</td><td>24</td><td>2011-12-05T08:38:00Z</td><td>1.25</td><td>14075.0</td><td>United Kingdom</td><td>Monday</td></tr><tr><td>580538</td><td>22467</td><td>GUMBALL COAT RACK</td><td>6</td><td>2011-12-05T08:38:00Z</td><td>2.55</td><td>14075.0</td><td>United Kingdom</td><td>Monday</td></tr></tbody></table></div>"
      ]
     },
     "metadata": {
      "application/vnd.databricks.v1+output": {
       "addedWidgets": {},
       "aggData": [],
       "aggError": "",
       "aggOverflow": false,
       "aggSchema": [],
       "aggSeriesLimitReached": false,
       "aggType": "",
       "arguments": {},
       "columnCustomDisplayInfos": {},
       "data": [
        [
         "580538",
         "23084",
         "RABBIT NIGHT LIGHT",
         48,
         "2011-12-05T08:38:00Z",
         1.79,
         14075.0,
         "United Kingdom",
         "Monday"
        ],
        [
         "580538",
         "23077",
         "DOUGHNUT LIP GLOSS",
         20,
         "2011-12-05T08:38:00Z",
         1.25,
         14075.0,
         "United Kingdom",
         "Monday"
        ],
        [
         "580538",
         "22906",
         "12 MESSAGE CARDS WITH ENVELOPES",
         24,
         "2011-12-05T08:38:00Z",
         1.65,
         14075.0,
         "United Kingdom",
         "Monday"
        ],
        [
         "580538",
         "21914",
         "BLUE HARMONICA IN BOX",
         24,
         "2011-12-05T08:38:00Z",
         1.25,
         14075.0,
         "United Kingdom",
         "Monday"
        ],
        [
         "580538",
         "22467",
         "GUMBALL COAT RACK",
         6,
         "2011-12-05T08:38:00Z",
         2.55,
         14075.0,
         "United Kingdom",
         "Monday"
        ]
       ],
       "datasetInfos": [],
       "dbfsResultPath": null,
       "isJsonSchema": true,
       "metadata": {},
       "overflow": false,
       "plotOptions": {
        "customPlotOptions": {},
        "displayType": "table",
        "pivotAggregation": null,
        "pivotColumns": null,
        "xColumns": null,
        "yColumns": null
       },
       "removedWidgets": [],
       "schema": [
        {
         "metadata": "{}",
         "name": "InvoiceNo",
         "type": "\"string\""
        },
        {
         "metadata": "{}",
         "name": "StockCode",
         "type": "\"string\""
        },
        {
         "metadata": "{}",
         "name": "Description",
         "type": "\"string\""
        },
        {
         "metadata": "{}",
         "name": "Quantity",
         "type": "\"integer\""
        },
        {
         "metadata": "{}",
         "name": "InvoiceDate",
         "type": "\"timestamp\""
        },
        {
         "metadata": "{}",
         "name": "UnitPrice",
         "type": "\"double\""
        },
        {
         "metadata": "{}",
         "name": "CustomerID",
         "type": "\"double\""
        },
        {
         "metadata": "{}",
         "name": "Country",
         "type": "\"string\""
        },
        {
         "metadata": "{}",
         "name": "day_of_week",
         "type": "\"string\""
        }
       ],
       "type": "table"
      }
     },
     "output_type": "display_data"
    }
   ],
   "source": [
    "from pyspark.sql.functions import date_format, coalesce\n",
    "prepped_df = (\n",
    "    static_df\n",
    "    .na.fill(0)\n",
    "    .withColumn(\"day_of_week\",date_format(col(\"InvoiceDate\"),\"EEEE\"))\n",
    "    .coalesce(5)\n",
    ")\n",
    "prepped_df.limit(5).display()"
   ]
  },
  {
   "cell_type": "code",
   "execution_count": 0,
   "metadata": {
    "application/vnd.databricks.v1+cell": {
     "cellMetadata": {
      "byteLimit": 2048000,
      "rowLimit": 10000
     },
     "inputWidgets": {},
     "nuid": "abd2d13f-610b-4a3c-bc44-e233fb77bd4c",
     "showTitle": false,
     "tableResultSettingsMap": {},
     "title": ""
    }
   },
   "outputs": [],
   "source": [
    "train_df = prepped_df.filter(to_date('InvoiceDate') < '2011-07-01')\n",
    "test_df = prepped_df.filter(to_date('InvoiceDate') >= '2011-07-01')"
   ]
  },
  {
   "cell_type": "code",
   "execution_count": 0,
   "metadata": {
    "application/vnd.databricks.v1+cell": {
     "cellMetadata": {
      "byteLimit": 2048000,
      "rowLimit": 10000
     },
     "inputWidgets": {},
     "nuid": "30ea90f6-35d5-45ac-bc0a-c3cb081d1c1d",
     "showTitle": false,
     "tableResultSettingsMap": {},
     "title": ""
    }
   },
   "outputs": [
    {
     "output_type": "execute_result",
     "data": {
      "text/plain": [
       "(245903, 296006)"
      ]
     },
     "execution_count": 12,
     "metadata": {},
     "output_type": "execute_result"
    }
   ],
   "source": [
    "train_df.count(), test_df.count()"
   ]
  },
  {
   "cell_type": "code",
   "execution_count": 0,
   "metadata": {
    "application/vnd.databricks.v1+cell": {
     "cellMetadata": {
      "byteLimit": 2048000,
      "rowLimit": 10000
     },
     "inputWidgets": {},
     "nuid": "737c0401-a3a8-4467-a2aa-4618b1eec2e7",
     "showTitle": false,
     "tableResultSettingsMap": {},
     "title": ""
    }
   },
   "outputs": [
    {
     "output_type": "display_data",
     "data": {
      "text/html": [
       "<style scoped>\n",
       "  .table-result-container {\n",
       "    max-height: 300px;\n",
       "    overflow: auto;\n",
       "  }\n",
       "  table, th, td {\n",
       "    border: 1px solid black;\n",
       "    border-collapse: collapse;\n",
       "  }\n",
       "  th, td {\n",
       "    padding: 5px;\n",
       "  }\n",
       "  th {\n",
       "    text-align: left;\n",
       "  }\n",
       "</style><div class='table-result-container'><table class='table-result'><thead style='background-color: white'><tr><th>InvoiceNo</th><th>StockCode</th><th>Description</th><th>Quantity</th><th>InvoiceDate</th><th>UnitPrice</th><th>CustomerID</th><th>Country</th><th>day_of_week</th><th>day_of_week_index</th></tr></thead><tbody><tr><td>537226</td><td>22811</td><td>SET OF 6 T-LIGHTS CACTI</td><td>6</td><td>2010-12-06T08:34:00Z</td><td>2.95</td><td>15987.0</td><td>United Kingdom</td><td>Monday</td><td>2.0</td></tr><tr><td>537226</td><td>21713</td><td>CITRONELLA CANDLE FLOWERPOT</td><td>8</td><td>2010-12-06T08:34:00Z</td><td>2.1</td><td>15987.0</td><td>United Kingdom</td><td>Monday</td><td>2.0</td></tr><tr><td>537226</td><td>22927</td><td>GREEN GIANT GARDEN THERMOMETER</td><td>2</td><td>2010-12-06T08:34:00Z</td><td>5.95</td><td>15987.0</td><td>United Kingdom</td><td>Monday</td><td>2.0</td></tr><tr><td>537226</td><td>20802</td><td>SMALL GLASS SUNDAE DISH CLEAR</td><td>6</td><td>2010-12-06T08:34:00Z</td><td>1.65</td><td>15987.0</td><td>United Kingdom</td><td>Monday</td><td>2.0</td></tr><tr><td>537226</td><td>22052</td><td>VINTAGE CARAVAN GIFT WRAP</td><td>25</td><td>2010-12-06T08:34:00Z</td><td>0.42</td><td>15987.0</td><td>United Kingdom</td><td>Monday</td><td>2.0</td></tr></tbody></table></div>"
      ]
     },
     "metadata": {
      "application/vnd.databricks.v1+output": {
       "addedWidgets": {},
       "aggData": [],
       "aggError": "",
       "aggOverflow": false,
       "aggSchema": [],
       "aggSeriesLimitReached": false,
       "aggType": "",
       "arguments": {},
       "columnCustomDisplayInfos": {},
       "data": [
        [
         "537226",
         "22811",
         "SET OF 6 T-LIGHTS CACTI",
         6,
         "2010-12-06T08:34:00Z",
         2.95,
         15987.0,
         "United Kingdom",
         "Monday",
         2.0
        ],
        [
         "537226",
         "21713",
         "CITRONELLA CANDLE FLOWERPOT",
         8,
         "2010-12-06T08:34:00Z",
         2.1,
         15987.0,
         "United Kingdom",
         "Monday",
         2.0
        ],
        [
         "537226",
         "22927",
         "GREEN GIANT GARDEN THERMOMETER",
         2,
         "2010-12-06T08:34:00Z",
         5.95,
         15987.0,
         "United Kingdom",
         "Monday",
         2.0
        ],
        [
         "537226",
         "20802",
         "SMALL GLASS SUNDAE DISH CLEAR",
         6,
         "2010-12-06T08:34:00Z",
         1.65,
         15987.0,
         "United Kingdom",
         "Monday",
         2.0
        ],
        [
         "537226",
         "22052",
         "VINTAGE CARAVAN GIFT WRAP",
         25,
         "2010-12-06T08:34:00Z",
         0.42,
         15987.0,
         "United Kingdom",
         "Monday",
         2.0
        ]
       ],
       "datasetInfos": [],
       "dbfsResultPath": null,
       "isJsonSchema": true,
       "metadata": {},
       "overflow": false,
       "plotOptions": {
        "customPlotOptions": {},
        "displayType": "table",
        "pivotAggregation": null,
        "pivotColumns": null,
        "xColumns": null,
        "yColumns": null
       },
       "removedWidgets": [],
       "schema": [
        {
         "metadata": "{}",
         "name": "InvoiceNo",
         "type": "\"string\""
        },
        {
         "metadata": "{}",
         "name": "StockCode",
         "type": "\"string\""
        },
        {
         "metadata": "{}",
         "name": "Description",
         "type": "\"string\""
        },
        {
         "metadata": "{}",
         "name": "Quantity",
         "type": "\"integer\""
        },
        {
         "metadata": "{}",
         "name": "InvoiceDate",
         "type": "\"timestamp\""
        },
        {
         "metadata": "{}",
         "name": "UnitPrice",
         "type": "\"double\""
        },
        {
         "metadata": "{}",
         "name": "CustomerID",
         "type": "\"double\""
        },
        {
         "metadata": "{}",
         "name": "Country",
         "type": "\"string\""
        },
        {
         "metadata": "{}",
         "name": "day_of_week",
         "type": "\"string\""
        },
        {
         "metadata": "{\"ml_attr\":{\"vals\":[\"Thursday\",\"Tuesday\",\"Monday\",\"Wednesday\",\"Friday\",\"Sunday\"],\"type\":\"nominal\",\"name\":\"day_of_week_index\"}}",
         "name": "day_of_week_index",
         "type": "\"double\""
        }
       ],
       "type": "table"
      }
     },
     "output_type": "display_data"
    }
   ],
   "source": [
    "from pyspark.ml.feature import StringIndexer\n",
    "\n",
    "indexer = (StringIndexer()\n",
    ".setInputCol(\"day_of_week\")\n",
    ".setOutputCol(\"day_of_week_index\"))\n",
    "\n",
    "understand_string_indexer = (\n",
    "                                indexer\n",
    "                                .fit(train_df)\n",
    "                                .transform(train_df)\n",
    "                            )\n",
    "\n",
    "understand_string_indexer.limit(5).display()"
   ]
  },
  {
   "cell_type": "code",
   "execution_count": 0,
   "metadata": {
    "application/vnd.databricks.v1+cell": {
     "cellMetadata": {
      "byteLimit": 2048000,
      "rowLimit": 10000
     },
     "inputWidgets": {},
     "nuid": "7b7ce44a-17b3-44ce-9a0a-6529a9abbac0",
     "showTitle": false,
     "tableResultSettingsMap": {},
     "title": ""
    }
   },
   "outputs": [
    {
     "output_type": "display_data",
     "data": {
      "text/html": [
       "<style scoped>\n",
       "  .table-result-container {\n",
       "    max-height: 300px;\n",
       "    overflow: auto;\n",
       "  }\n",
       "  table, th, td {\n",
       "    border: 1px solid black;\n",
       "    border-collapse: collapse;\n",
       "  }\n",
       "  th, td {\n",
       "    padding: 5px;\n",
       "  }\n",
       "  th {\n",
       "    text-align: left;\n",
       "  }\n",
       "</style><div class='table-result-container'><table class='table-result'><thead style='background-color: white'><tr><th>InvoiceNo</th><th>StockCode</th><th>Description</th><th>Quantity</th><th>InvoiceDate</th><th>UnitPrice</th><th>CustomerID</th><th>Country</th><th>day_of_week</th><th>day_of_week_index</th><th>day_of_week_encoded</th></tr></thead><tbody><tr><td>537226</td><td>22811</td><td>SET OF 6 T-LIGHTS CACTI</td><td>6</td><td>2010-12-06T08:34:00Z</td><td>2.95</td><td>15987.0</td><td>United Kingdom</td><td>Monday</td><td>2.0</td><td>Map(vectorType -> sparse, length -> 5, indices -> List(2), values -> List(1.0))</td></tr><tr><td>537226</td><td>21713</td><td>CITRONELLA CANDLE FLOWERPOT</td><td>8</td><td>2010-12-06T08:34:00Z</td><td>2.1</td><td>15987.0</td><td>United Kingdom</td><td>Monday</td><td>2.0</td><td>Map(vectorType -> sparse, length -> 5, indices -> List(2), values -> List(1.0))</td></tr><tr><td>537226</td><td>22927</td><td>GREEN GIANT GARDEN THERMOMETER</td><td>2</td><td>2010-12-06T08:34:00Z</td><td>5.95</td><td>15987.0</td><td>United Kingdom</td><td>Monday</td><td>2.0</td><td>Map(vectorType -> sparse, length -> 5, indices -> List(2), values -> List(1.0))</td></tr><tr><td>537226</td><td>20802</td><td>SMALL GLASS SUNDAE DISH CLEAR</td><td>6</td><td>2010-12-06T08:34:00Z</td><td>1.65</td><td>15987.0</td><td>United Kingdom</td><td>Monday</td><td>2.0</td><td>Map(vectorType -> sparse, length -> 5, indices -> List(2), values -> List(1.0))</td></tr><tr><td>537226</td><td>22052</td><td>VINTAGE CARAVAN GIFT WRAP</td><td>25</td><td>2010-12-06T08:34:00Z</td><td>0.42</td><td>15987.0</td><td>United Kingdom</td><td>Monday</td><td>2.0</td><td>Map(vectorType -> sparse, length -> 5, indices -> List(2), values -> List(1.0))</td></tr></tbody></table></div>"
      ]
     },
     "metadata": {
      "application/vnd.databricks.v1+output": {
       "addedWidgets": {},
       "aggData": [],
       "aggError": "",
       "aggOverflow": false,
       "aggSchema": [],
       "aggSeriesLimitReached": false,
       "aggType": "",
       "arguments": {},
       "columnCustomDisplayInfos": {},
       "data": [
        [
         "537226",
         "22811",
         "SET OF 6 T-LIGHTS CACTI",
         6,
         "2010-12-06T08:34:00Z",
         2.95,
         15987.0,
         "United Kingdom",
         "Monday",
         2.0,
         {
          "indices": [
           2
          ],
          "length": 5,
          "values": [
           1.0
          ],
          "vectorType": "sparse"
         }
        ],
        [
         "537226",
         "21713",
         "CITRONELLA CANDLE FLOWERPOT",
         8,
         "2010-12-06T08:34:00Z",
         2.1,
         15987.0,
         "United Kingdom",
         "Monday",
         2.0,
         {
          "indices": [
           2
          ],
          "length": 5,
          "values": [
           1.0
          ],
          "vectorType": "sparse"
         }
        ],
        [
         "537226",
         "22927",
         "GREEN GIANT GARDEN THERMOMETER",
         2,
         "2010-12-06T08:34:00Z",
         5.95,
         15987.0,
         "United Kingdom",
         "Monday",
         2.0,
         {
          "indices": [
           2
          ],
          "length": 5,
          "values": [
           1.0
          ],
          "vectorType": "sparse"
         }
        ],
        [
         "537226",
         "20802",
         "SMALL GLASS SUNDAE DISH CLEAR",
         6,
         "2010-12-06T08:34:00Z",
         1.65,
         15987.0,
         "United Kingdom",
         "Monday",
         2.0,
         {
          "indices": [
           2
          ],
          "length": 5,
          "values": [
           1.0
          ],
          "vectorType": "sparse"
         }
        ],
        [
         "537226",
         "22052",
         "VINTAGE CARAVAN GIFT WRAP",
         25,
         "2010-12-06T08:34:00Z",
         0.42,
         15987.0,
         "United Kingdom",
         "Monday",
         2.0,
         {
          "indices": [
           2
          ],
          "length": 5,
          "values": [
           1.0
          ],
          "vectorType": "sparse"
         }
        ]
       ],
       "datasetInfos": [],
       "dbfsResultPath": null,
       "isJsonSchema": true,
       "metadata": {},
       "overflow": false,
       "plotOptions": {
        "customPlotOptions": {},
        "displayType": "table",
        "pivotAggregation": null,
        "pivotColumns": null,
        "xColumns": null,
        "yColumns": null
       },
       "removedWidgets": [],
       "schema": [
        {
         "metadata": "{}",
         "name": "InvoiceNo",
         "type": "\"string\""
        },
        {
         "metadata": "{}",
         "name": "StockCode",
         "type": "\"string\""
        },
        {
         "metadata": "{}",
         "name": "Description",
         "type": "\"string\""
        },
        {
         "metadata": "{}",
         "name": "Quantity",
         "type": "\"integer\""
        },
        {
         "metadata": "{}",
         "name": "InvoiceDate",
         "type": "\"timestamp\""
        },
        {
         "metadata": "{}",
         "name": "UnitPrice",
         "type": "\"double\""
        },
        {
         "metadata": "{}",
         "name": "CustomerID",
         "type": "\"double\""
        },
        {
         "metadata": "{}",
         "name": "Country",
         "type": "\"string\""
        },
        {
         "metadata": "{}",
         "name": "day_of_week",
         "type": "\"string\""
        },
        {
         "metadata": "{\"ml_attr\":{\"vals\":[\"Thursday\",\"Tuesday\",\"Monday\",\"Wednesday\",\"Friday\",\"Sunday\"],\"type\":\"nominal\",\"name\":\"day_of_week_index\"}}",
         "name": "day_of_week_index",
         "type": "\"double\""
        },
        {
         "metadata": "{\"ml_attr\":{\"attrs\":{\"binary\":[{\"idx\":0,\"name\":\"Thursday\"},{\"idx\":1,\"name\":\"Tuesday\"},{\"idx\":2,\"name\":\"Monday\"},{\"idx\":3,\"name\":\"Wednesday\"},{\"idx\":4,\"name\":\"Friday\"}]},\"num_attrs\":5}}",
         "name": "day_of_week_encoded",
         "type": "{\"type\":\"udt\",\"class\":\"org.apache.spark.ml.linalg.VectorUDT\",\"pyClass\":\"pyspark.ml.linalg.VectorUDT\",\"sqlType\":{\"type\":\"struct\",\"fields\":[{\"name\":\"type\",\"type\":\"byte\",\"nullable\":false,\"metadata\":{}},{\"name\":\"size\",\"type\":\"integer\",\"nullable\":true,\"metadata\":{}},{\"name\":\"indices\",\"type\":{\"type\":\"array\",\"elementType\":\"integer\",\"containsNull\":false},\"nullable\":true,\"metadata\":{}},{\"name\":\"values\",\"type\":{\"type\":\"array\",\"elementType\":\"double\",\"containsNull\":false},\"nullable\":true,\"metadata\":{}}]}}"
        }
       ],
       "type": "table"
      }
     },
     "output_type": "display_data"
    }
   ],
   "source": [
    "from pyspark.ml.feature import OneHotEncoder\n",
    "\n",
    "encoder = (\n",
    "    OneHotEncoder()\n",
    "    .setInputCol(\"day_of_week_index\")\n",
    "    .setOutputCol(\"day_of_week_encoded\")\n",
    ")\n",
    "    \n",
    "understand_one_hot_encoder = (\n",
    "    encoder\n",
    "    .fit(understand_string_indexer)\n",
    "    .transform(understand_string_indexer)\n",
    "    )\n",
    "\n",
    "understand_one_hot_encoder.limit(5).display()"
   ]
  },
  {
   "cell_type": "markdown",
   "metadata": {
    "application/vnd.databricks.v1+cell": {
     "cellMetadata": {},
     "inputWidgets": {},
     "nuid": "5627cb5d-bf0f-4f8f-add6-7760d29628b1",
     "showTitle": false,
     "tableResultSettingsMap": {},
     "title": ""
    }
   },
   "source": [
    "Since there is no Saturday. We have a vector of size 5."
   ]
  },
  {
   "cell_type": "code",
   "execution_count": 0,
   "metadata": {
    "application/vnd.databricks.v1+cell": {
     "cellMetadata": {
      "byteLimit": 2048000,
      "rowLimit": 10000
     },
     "inputWidgets": {},
     "nuid": "bcd13c86-fa20-4695-85d6-119a63748583",
     "showTitle": false,
     "tableResultSettingsMap": {},
     "title": ""
    }
   },
   "outputs": [
    {
     "output_type": "display_data",
     "data": {
      "text/html": [
       "<style scoped>\n",
       "  .table-result-container {\n",
       "    max-height: 300px;\n",
       "    overflow: auto;\n",
       "  }\n",
       "  table, th, td {\n",
       "    border: 1px solid black;\n",
       "    border-collapse: collapse;\n",
       "  }\n",
       "  th, td {\n",
       "    padding: 5px;\n",
       "  }\n",
       "  th {\n",
       "    text-align: left;\n",
       "  }\n",
       "</style><div class='table-result-container'><table class='table-result'><thead style='background-color: white'><tr><th>day_of_week</th><th>day_of_week_index</th></tr></thead><tbody><tr><td>Monday</td><td>2.0</td></tr><tr><td>Friday</td><td>4.0</td></tr><tr><td>Wednesday</td><td>3.0</td></tr><tr><td>Thursday</td><td>0.0</td></tr><tr><td>Sunday</td><td>5.0</td></tr><tr><td>Tuesday</td><td>1.0</td></tr></tbody></table></div>"
      ]
     },
     "metadata": {
      "application/vnd.databricks.v1+output": {
       "addedWidgets": {},
       "aggData": [],
       "aggError": "",
       "aggOverflow": false,
       "aggSchema": [],
       "aggSeriesLimitReached": false,
       "aggType": "",
       "arguments": {},
       "columnCustomDisplayInfos": {},
       "data": [
        [
         "Monday",
         2.0
        ],
        [
         "Friday",
         4.0
        ],
        [
         "Wednesday",
         3.0
        ],
        [
         "Thursday",
         0.0
        ],
        [
         "Sunday",
         5.0
        ],
        [
         "Tuesday",
         1.0
        ]
       ],
       "datasetInfos": [],
       "dbfsResultPath": null,
       "isJsonSchema": true,
       "metadata": {},
       "overflow": false,
       "plotOptions": {
        "customPlotOptions": {},
        "displayType": "table",
        "pivotAggregation": null,
        "pivotColumns": null,
        "xColumns": null,
        "yColumns": null
       },
       "removedWidgets": [],
       "schema": [
        {
         "metadata": "{}",
         "name": "day_of_week",
         "type": "\"string\""
        },
        {
         "metadata": "{\"ml_attr\":{\"vals\":[\"Thursday\",\"Tuesday\",\"Monday\",\"Wednesday\",\"Friday\",\"Sunday\"],\"type\":\"nominal\",\"name\":\"day_of_week_index\"}}",
         "name": "day_of_week_index",
         "type": "\"double\""
        }
       ],
       "type": "table"
      }
     },
     "output_type": "display_data"
    }
   ],
   "source": [
    "understand_string_indexer.select('day_of_week', 'day_of_week_index').distinct().display()"
   ]
  },
  {
   "cell_type": "markdown",
   "metadata": {
    "application/vnd.databricks.v1+cell": {
     "cellMetadata": {},
     "inputWidgets": {},
     "nuid": "21f26210-3d7b-49b8-bff5-ef470b2b9a2d",
     "showTitle": false,
     "tableResultSettingsMap": {},
     "title": ""
    }
   },
   "source": [
    "\n",
    "features: [2.5, 6.0, 0.0, 0.0, 1.0, 0.0, 0.0]\n",
    "\n",
    "Where:\n",
    "\n",
    "2.5 is UnitPrice\n",
    "\n",
    "6.0 is Quantity\n",
    "\n",
    "Rest are the one-hot encoded values for the day of week"
   ]
  },
  {
   "cell_type": "code",
   "execution_count": 0,
   "metadata": {
    "application/vnd.databricks.v1+cell": {
     "cellMetadata": {
      "byteLimit": 2048000,
      "rowLimit": 10000
     },
     "inputWidgets": {},
     "nuid": "ab4171ea-7bc3-4d76-b29d-c3dd07ab7768",
     "showTitle": false,
     "tableResultSettingsMap": {},
     "title": ""
    }
   },
   "outputs": [
    {
     "output_type": "display_data",
     "data": {
      "text/html": [
       "<style scoped>\n",
       "  .table-result-container {\n",
       "    max-height: 300px;\n",
       "    overflow: auto;\n",
       "  }\n",
       "  table, th, td {\n",
       "    border: 1px solid black;\n",
       "    border-collapse: collapse;\n",
       "  }\n",
       "  th, td {\n",
       "    padding: 5px;\n",
       "  }\n",
       "  th {\n",
       "    text-align: left;\n",
       "  }\n",
       "</style><div class='table-result-container'><table class='table-result'><thead style='background-color: white'><tr><th>features</th></tr></thead><tbody><tr><td>Map(vectorType -> sparse, length -> 7, indices -> List(0, 1, 4), values -> List(2.95, 6.0, 1.0))</td></tr><tr><td>Map(vectorType -> sparse, length -> 7, indices -> List(0, 1, 4), values -> List(2.1, 8.0, 1.0))</td></tr><tr><td>Map(vectorType -> sparse, length -> 7, indices -> List(0, 1, 4), values -> List(5.95, 2.0, 1.0))</td></tr><tr><td>Map(vectorType -> sparse, length -> 7, indices -> List(0, 1, 4), values -> List(1.65, 6.0, 1.0))</td></tr><tr><td>Map(vectorType -> sparse, length -> 7, indices -> List(0, 1, 4), values -> List(0.42, 25.0, 1.0))</td></tr></tbody></table></div>"
      ]
     },
     "metadata": {
      "application/vnd.databricks.v1+output": {
       "addedWidgets": {},
       "aggData": [],
       "aggError": "",
       "aggOverflow": false,
       "aggSchema": [],
       "aggSeriesLimitReached": false,
       "aggType": "",
       "arguments": {},
       "columnCustomDisplayInfos": {},
       "data": [
        [
         {
          "indices": [
           0,
           1,
           4
          ],
          "length": 7,
          "values": [
           2.95,
           6.0,
           1.0
          ],
          "vectorType": "sparse"
         }
        ],
        [
         {
          "indices": [
           0,
           1,
           4
          ],
          "length": 7,
          "values": [
           2.1,
           8.0,
           1.0
          ],
          "vectorType": "sparse"
         }
        ],
        [
         {
          "indices": [
           0,
           1,
           4
          ],
          "length": 7,
          "values": [
           5.95,
           2.0,
           1.0
          ],
          "vectorType": "sparse"
         }
        ],
        [
         {
          "indices": [
           0,
           1,
           4
          ],
          "length": 7,
          "values": [
           1.65,
           6.0,
           1.0
          ],
          "vectorType": "sparse"
         }
        ],
        [
         {
          "indices": [
           0,
           1,
           4
          ],
          "length": 7,
          "values": [
           0.42,
           25.0,
           1.0
          ],
          "vectorType": "sparse"
         }
        ]
       ],
       "datasetInfos": [],
       "dbfsResultPath": null,
       "isJsonSchema": true,
       "metadata": {},
       "overflow": false,
       "plotOptions": {
        "customPlotOptions": {},
        "displayType": "table",
        "pivotAggregation": null,
        "pivotColumns": null,
        "xColumns": null,
        "yColumns": null
       },
       "removedWidgets": [],
       "schema": [
        {
         "metadata": "{\"ml_attr\":{\"attrs\":{\"numeric\":[{\"idx\":0,\"name\":\"UnitPrice\"},{\"idx\":1,\"name\":\"Quantity\"}],\"binary\":[{\"idx\":2,\"name\":\"day_of_week_encoded_Thursday\"},{\"idx\":3,\"name\":\"day_of_week_encoded_Tuesday\"},{\"idx\":4,\"name\":\"day_of_week_encoded_Monday\"},{\"idx\":5,\"name\":\"day_of_week_encoded_Wednesday\"},{\"idx\":6,\"name\":\"day_of_week_encoded_Friday\"}]},\"num_attrs\":7}}",
         "name": "features",
         "type": "{\"type\":\"udt\",\"class\":\"org.apache.spark.ml.linalg.VectorUDT\",\"pyClass\":\"pyspark.ml.linalg.VectorUDT\",\"sqlType\":{\"type\":\"struct\",\"fields\":[{\"name\":\"type\",\"type\":\"byte\",\"nullable\":false,\"metadata\":{}},{\"name\":\"size\",\"type\":\"integer\",\"nullable\":true,\"metadata\":{}},{\"name\":\"indices\",\"type\":{\"type\":\"array\",\"elementType\":\"integer\",\"containsNull\":false},\"nullable\":true,\"metadata\":{}},{\"name\":\"values\",\"type\":{\"type\":\"array\",\"elementType\":\"double\",\"containsNull\":false},\"nullable\":true,\"metadata\":{}}]}}"
        }
       ],
       "type": "table"
      }
     },
     "output_type": "display_data"
    }
   ],
   "source": [
    "from pyspark.ml.feature import VectorAssembler\n",
    "\n",
    "vector_assembler = (\n",
    "    VectorAssembler()\n",
    "    .setInputCols([\"UnitPrice\", \"Quantity\", \"day_of_week_encoded\"])\n",
    "    .setOutputCol(\"features\")\n",
    ")\n",
    "\n",
    "understand_vector_assembler = (\n",
    "    vector_assembler\n",
    ".transform(understand_one_hot_encoder)\n",
    "    .select(\"features\")\n",
    ")\n",
    "\n",
    "understand_vector_assembler.limit(5).display()"
   ]
  },
  {
   "cell_type": "markdown",
   "metadata": {
    "application/vnd.databricks.v1+cell": {
     "cellMetadata": {},
     "inputWidgets": {},
     "nuid": "e8a4f510-2ffe-4cd2-9c36-f7dd7b8a362e",
     "showTitle": false,
     "tableResultSettingsMap": {},
     "title": ""
    }
   },
   "source": [
    "### Combine using Pipelines"
   ]
  },
  {
   "cell_type": "code",
   "execution_count": 0,
   "metadata": {
    "application/vnd.databricks.v1+cell": {
     "cellMetadata": {
      "byteLimit": 2048000,
      "rowLimit": 10000
     },
     "inputWidgets": {},
     "nuid": "a88ee602-aba7-4c57-833d-f22046e1c277",
     "showTitle": false,
     "tableResultSettingsMap": {},
     "title": ""
    }
   },
   "outputs": [],
   "source": [
    "from pyspark.ml import Pipeline\n",
    "transformation_pipeline = Pipeline(stages=[indexer, encoder, vector_assembler])"
   ]
  },
  {
   "cell_type": "code",
   "execution_count": 0,
   "metadata": {
    "application/vnd.databricks.v1+cell": {
     "cellMetadata": {
      "byteLimit": 2048000,
      "rowLimit": 10000
     },
     "inputWidgets": {},
     "nuid": "d1b6d037-f4c7-43c6-9ccb-d733851cd558",
     "showTitle": false,
     "tableResultSettingsMap": {},
     "title": ""
    }
   },
   "outputs": [
    {
     "output_type": "display_data",
     "data": {
      "text/html": [
       "<style scoped>\n",
       "  .table-result-container {\n",
       "    max-height: 300px;\n",
       "    overflow: auto;\n",
       "  }\n",
       "  table, th, td {\n",
       "    border: 1px solid black;\n",
       "    border-collapse: collapse;\n",
       "  }\n",
       "  th, td {\n",
       "    padding: 5px;\n",
       "  }\n",
       "  th {\n",
       "    text-align: left;\n",
       "  }\n",
       "</style><div class='table-result-container'><table class='table-result'><thead style='background-color: white'><tr><th>InvoiceNo</th><th>StockCode</th><th>Description</th><th>Quantity</th><th>InvoiceDate</th><th>UnitPrice</th><th>CustomerID</th><th>Country</th><th>day_of_week</th><th>day_of_week_index</th><th>day_of_week_encoded</th><th>features</th></tr></thead><tbody><tr><td>537226</td><td>22811</td><td>SET OF 6 T-LIGHTS CACTI</td><td>6</td><td>2010-12-06T08:34:00Z</td><td>2.95</td><td>15987.0</td><td>United Kingdom</td><td>Monday</td><td>2.0</td><td>Map(vectorType -> sparse, length -> 5, indices -> List(2), values -> List(1.0))</td><td>Map(vectorType -> sparse, length -> 7, indices -> List(0, 1, 4), values -> List(2.95, 6.0, 1.0))</td></tr><tr><td>537226</td><td>21713</td><td>CITRONELLA CANDLE FLOWERPOT</td><td>8</td><td>2010-12-06T08:34:00Z</td><td>2.1</td><td>15987.0</td><td>United Kingdom</td><td>Monday</td><td>2.0</td><td>Map(vectorType -> sparse, length -> 5, indices -> List(2), values -> List(1.0))</td><td>Map(vectorType -> sparse, length -> 7, indices -> List(0, 1, 4), values -> List(2.1, 8.0, 1.0))</td></tr><tr><td>537226</td><td>22927</td><td>GREEN GIANT GARDEN THERMOMETER</td><td>2</td><td>2010-12-06T08:34:00Z</td><td>5.95</td><td>15987.0</td><td>United Kingdom</td><td>Monday</td><td>2.0</td><td>Map(vectorType -> sparse, length -> 5, indices -> List(2), values -> List(1.0))</td><td>Map(vectorType -> sparse, length -> 7, indices -> List(0, 1, 4), values -> List(5.95, 2.0, 1.0))</td></tr><tr><td>537226</td><td>20802</td><td>SMALL GLASS SUNDAE DISH CLEAR</td><td>6</td><td>2010-12-06T08:34:00Z</td><td>1.65</td><td>15987.0</td><td>United Kingdom</td><td>Monday</td><td>2.0</td><td>Map(vectorType -> sparse, length -> 5, indices -> List(2), values -> List(1.0))</td><td>Map(vectorType -> sparse, length -> 7, indices -> List(0, 1, 4), values -> List(1.65, 6.0, 1.0))</td></tr><tr><td>537226</td><td>22052</td><td>VINTAGE CARAVAN GIFT WRAP</td><td>25</td><td>2010-12-06T08:34:00Z</td><td>0.42</td><td>15987.0</td><td>United Kingdom</td><td>Monday</td><td>2.0</td><td>Map(vectorType -> sparse, length -> 5, indices -> List(2), values -> List(1.0))</td><td>Map(vectorType -> sparse, length -> 7, indices -> List(0, 1, 4), values -> List(0.42, 25.0, 1.0))</td></tr></tbody></table></div>"
      ]
     },
     "metadata": {
      "application/vnd.databricks.v1+output": {
       "addedWidgets": {},
       "aggData": [],
       "aggError": "",
       "aggOverflow": false,
       "aggSchema": [],
       "aggSeriesLimitReached": false,
       "aggType": "",
       "arguments": {},
       "columnCustomDisplayInfos": {},
       "data": [
        [
         "537226",
         "22811",
         "SET OF 6 T-LIGHTS CACTI",
         6,
         "2010-12-06T08:34:00Z",
         2.95,
         15987.0,
         "United Kingdom",
         "Monday",
         2.0,
         {
          "indices": [
           2
          ],
          "length": 5,
          "values": [
           1.0
          ],
          "vectorType": "sparse"
         },
         {
          "indices": [
           0,
           1,
           4
          ],
          "length": 7,
          "values": [
           2.95,
           6.0,
           1.0
          ],
          "vectorType": "sparse"
         }
        ],
        [
         "537226",
         "21713",
         "CITRONELLA CANDLE FLOWERPOT",
         8,
         "2010-12-06T08:34:00Z",
         2.1,
         15987.0,
         "United Kingdom",
         "Monday",
         2.0,
         {
          "indices": [
           2
          ],
          "length": 5,
          "values": [
           1.0
          ],
          "vectorType": "sparse"
         },
         {
          "indices": [
           0,
           1,
           4
          ],
          "length": 7,
          "values": [
           2.1,
           8.0,
           1.0
          ],
          "vectorType": "sparse"
         }
        ],
        [
         "537226",
         "22927",
         "GREEN GIANT GARDEN THERMOMETER",
         2,
         "2010-12-06T08:34:00Z",
         5.95,
         15987.0,
         "United Kingdom",
         "Monday",
         2.0,
         {
          "indices": [
           2
          ],
          "length": 5,
          "values": [
           1.0
          ],
          "vectorType": "sparse"
         },
         {
          "indices": [
           0,
           1,
           4
          ],
          "length": 7,
          "values": [
           5.95,
           2.0,
           1.0
          ],
          "vectorType": "sparse"
         }
        ],
        [
         "537226",
         "20802",
         "SMALL GLASS SUNDAE DISH CLEAR",
         6,
         "2010-12-06T08:34:00Z",
         1.65,
         15987.0,
         "United Kingdom",
         "Monday",
         2.0,
         {
          "indices": [
           2
          ],
          "length": 5,
          "values": [
           1.0
          ],
          "vectorType": "sparse"
         },
         {
          "indices": [
           0,
           1,
           4
          ],
          "length": 7,
          "values": [
           1.65,
           6.0,
           1.0
          ],
          "vectorType": "sparse"
         }
        ],
        [
         "537226",
         "22052",
         "VINTAGE CARAVAN GIFT WRAP",
         25,
         "2010-12-06T08:34:00Z",
         0.42,
         15987.0,
         "United Kingdom",
         "Monday",
         2.0,
         {
          "indices": [
           2
          ],
          "length": 5,
          "values": [
           1.0
          ],
          "vectorType": "sparse"
         },
         {
          "indices": [
           0,
           1,
           4
          ],
          "length": 7,
          "values": [
           0.42,
           25.0,
           1.0
          ],
          "vectorType": "sparse"
         }
        ]
       ],
       "datasetInfos": [],
       "dbfsResultPath": null,
       "isJsonSchema": true,
       "metadata": {},
       "overflow": false,
       "plotOptions": {
        "customPlotOptions": {},
        "displayType": "table",
        "pivotAggregation": null,
        "pivotColumns": null,
        "xColumns": null,
        "yColumns": null
       },
       "removedWidgets": [],
       "schema": [
        {
         "metadata": "{}",
         "name": "InvoiceNo",
         "type": "\"string\""
        },
        {
         "metadata": "{}",
         "name": "StockCode",
         "type": "\"string\""
        },
        {
         "metadata": "{}",
         "name": "Description",
         "type": "\"string\""
        },
        {
         "metadata": "{}",
         "name": "Quantity",
         "type": "\"integer\""
        },
        {
         "metadata": "{}",
         "name": "InvoiceDate",
         "type": "\"timestamp\""
        },
        {
         "metadata": "{}",
         "name": "UnitPrice",
         "type": "\"double\""
        },
        {
         "metadata": "{}",
         "name": "CustomerID",
         "type": "\"double\""
        },
        {
         "metadata": "{}",
         "name": "Country",
         "type": "\"string\""
        },
        {
         "metadata": "{}",
         "name": "day_of_week",
         "type": "\"string\""
        },
        {
         "metadata": "{\"ml_attr\":{\"vals\":[\"Thursday\",\"Tuesday\",\"Monday\",\"Wednesday\",\"Friday\",\"Sunday\"],\"type\":\"nominal\",\"name\":\"day_of_week_index\"}}",
         "name": "day_of_week_index",
         "type": "\"double\""
        },
        {
         "metadata": "{\"ml_attr\":{\"attrs\":{\"binary\":[{\"idx\":0,\"name\":\"Thursday\"},{\"idx\":1,\"name\":\"Tuesday\"},{\"idx\":2,\"name\":\"Monday\"},{\"idx\":3,\"name\":\"Wednesday\"},{\"idx\":4,\"name\":\"Friday\"}]},\"num_attrs\":5}}",
         "name": "day_of_week_encoded",
         "type": "{\"type\":\"udt\",\"class\":\"org.apache.spark.ml.linalg.VectorUDT\",\"pyClass\":\"pyspark.ml.linalg.VectorUDT\",\"sqlType\":{\"type\":\"struct\",\"fields\":[{\"name\":\"type\",\"type\":\"byte\",\"nullable\":false,\"metadata\":{}},{\"name\":\"size\",\"type\":\"integer\",\"nullable\":true,\"metadata\":{}},{\"name\":\"indices\",\"type\":{\"type\":\"array\",\"elementType\":\"integer\",\"containsNull\":false},\"nullable\":true,\"metadata\":{}},{\"name\":\"values\",\"type\":{\"type\":\"array\",\"elementType\":\"double\",\"containsNull\":false},\"nullable\":true,\"metadata\":{}}]}}"
        },
        {
         "metadata": "{\"ml_attr\":{\"attrs\":{\"numeric\":[{\"idx\":0,\"name\":\"UnitPrice\"},{\"idx\":1,\"name\":\"Quantity\"}],\"binary\":[{\"idx\":2,\"name\":\"day_of_week_encoded_Thursday\"},{\"idx\":3,\"name\":\"day_of_week_encoded_Tuesday\"},{\"idx\":4,\"name\":\"day_of_week_encoded_Monday\"},{\"idx\":5,\"name\":\"day_of_week_encoded_Wednesday\"},{\"idx\":6,\"name\":\"day_of_week_encoded_Friday\"}]},\"num_attrs\":7}}",
         "name": "features",
         "type": "{\"type\":\"udt\",\"class\":\"org.apache.spark.ml.linalg.VectorUDT\",\"pyClass\":\"pyspark.ml.linalg.VectorUDT\",\"sqlType\":{\"type\":\"struct\",\"fields\":[{\"name\":\"type\",\"type\":\"byte\",\"nullable\":false,\"metadata\":{}},{\"name\":\"size\",\"type\":\"integer\",\"nullable\":true,\"metadata\":{}},{\"name\":\"indices\",\"type\":{\"type\":\"array\",\"elementType\":\"integer\",\"containsNull\":false},\"nullable\":true,\"metadata\":{}},{\"name\":\"values\",\"type\":{\"type\":\"array\",\"elementType\":\"double\",\"containsNull\":false},\"nullable\":true,\"metadata\":{}}]}}"
        }
       ],
       "type": "table"
      }
     },
     "output_type": "display_data"
    }
   ],
   "source": [
    "fitted_pipeline = transformation_pipeline.fit(train_df)\n",
    "\n",
    "fitted_pipeline.transform(train_df)\n",
    "train_transformed.limit(5).display()"
   ]
  },
  {
   "cell_type": "code",
   "execution_count": 0,
   "metadata": {
    "application/vnd.databricks.v1+cell": {
     "cellMetadata": {
      "byteLimit": 2048000,
      "rowLimit": 10000
     },
     "inputWidgets": {},
     "nuid": "e04094f8-dbb9-408f-81b8-ba8e98e28edb",
     "showTitle": false,
     "tableResultSettingsMap": {},
     "title": ""
    }
   },
   "outputs": [
    {
     "output_type": "execute_result",
     "data": {
      "text/plain": [
       "DataFrame[InvoiceNo: string, StockCode: string, Description: string, Quantity: int, InvoiceDate: timestamp, UnitPrice: double, CustomerID: double, Country: string, day_of_week: string, day_of_week_index: double, day_of_week_encoded: vector, features: vector]"
      ]
     },
     "execution_count": 43,
     "metadata": {},
     "output_type": "execute_result"
    }
   ],
   "source": [
    "train_transformed.cache()"
   ]
  },
  {
   "cell_type": "code",
   "execution_count": 0,
   "metadata": {
    "application/vnd.databricks.v1+cell": {
     "cellMetadata": {
      "byteLimit": 2048000,
      "rowLimit": 10000
     },
     "inputWidgets": {},
     "nuid": "2036eb60-c6d6-451d-bdc8-eb415175d42a",
     "showTitle": false,
     "tableResultSettingsMap": {},
     "title": ""
    }
   },
   "outputs": [],
   "source": [
    "from pyspark.ml.clustering import KMeans\n",
    "\n",
    "kmeans = KMeans().setK(20).setSeed(1)\n",
    "kmeans_model = kmeans.fit(train_transformed)"
   ]
  },
  {
   "cell_type": "code",
   "execution_count": 0,
   "metadata": {
    "application/vnd.databricks.v1+cell": {
     "cellMetadata": {
      "byteLimit": 2048000,
      "rowLimit": 10000
     },
     "inputWidgets": {},
     "nuid": "9c28144c-2c7a-41e5-acd4-7e9914281df3",
     "showTitle": false,
     "tableResultSettingsMap": {},
     "title": ""
    }
   },
   "outputs": [
    {
     "output_type": "execute_result",
     "data": {
      "text/plain": [
       "80507237.08491144"
      ]
     },
     "execution_count": 48,
     "metadata": {},
     "output_type": "execute_result"
    }
   ],
   "source": [
    "kmeans_model.summary.trainingCost"
   ]
  },
  {
   "cell_type": "code",
   "execution_count": 0,
   "metadata": {
    "application/vnd.databricks.v1+cell": {
     "cellMetadata": {
      "byteLimit": 2048000,
      "rowLimit": 10000
     },
     "inputWidgets": {},
     "nuid": "97153efa-fd52-4184-8c07-e9af8c497072",
     "showTitle": false,
     "tableResultSettingsMap": {},
     "title": ""
    }
   },
   "outputs": [],
   "source": [
    "test_transformed = fitted_pipeline.transform(test_df)\n",
    "test_pred = kmeans_model.transform(test_transformed)\n",
    "\n",
    "centers = kmeans_model.clusterCenters()"
   ]
  },
  {
   "cell_type": "markdown",
   "metadata": {
    "application/vnd.databricks.v1+cell": {
     "cellMetadata": {},
     "inputWidgets": {},
     "nuid": "d2c629cc-69bb-4417-a7c0-bd438c011b4f",
     "showTitle": false,
     "tableResultSettingsMap": {},
     "title": ""
    }
   },
   "source": [
    "### For test data the cost has to be calculated manually"
   ]
  },
  {
   "cell_type": "code",
   "execution_count": 0,
   "metadata": {
    "application/vnd.databricks.v1+cell": {
     "cellMetadata": {
      "byteLimit": 2048000,
      "rowLimit": 10000
     },
     "inputWidgets": {},
     "nuid": "8a6397bf-6532-4298-99aa-c4095d6efa1b",
     "showTitle": false,
     "tableResultSettingsMap": {},
     "title": ""
    }
   },
   "outputs": [
    {
     "output_type": "stream",
     "name": "stdout",
     "output_type": "stream",
     "text": [
      "Test Cost: 546096339.169738\n"
     ]
    }
   ],
   "source": [
    "from pyspark.sql.functions import udf\n",
    "from pyspark.sql.types import DoubleType\n",
    "from pyspark.ml.linalg import Vectors\n",
    "\n",
    "def squared_distance(v1, cluster_id):\n",
    "    return float(v1.squared_distance(Vectors.dense(centers[cluster_id])))\n",
    "\n",
    "distance_udf = udf(squared_distance, DoubleType())\n",
    "\n",
    "# 7. Compute cost for test\n",
    "test_pred = test_pred.withColumn(\"squared_error\", distance_udf(\"features\", \"prediction\"))\n",
    "test_cost = test_pred.agg({\"squared_error\": \"sum\"}).collect()[0][0]\n",
    "print(\"Test Cost:\", test_cost)"
   ]
  }
 ],
 "metadata": {
  "application/vnd.databricks.v1+notebook": {
   "computePreferences": null,
   "dashboards": [],
   "environmentMetadata": {
    "base_environment": "",
    "environment_version": "2"
   },
   "inputWidgetPreferences": null,
   "language": "python",
   "notebookMetadata": {
    "mostRecentlyExecutedCommandWithImplicitDF": {
     "commandId": 4906257093457764,
     "dataframes": [
      "_sqldf"
     ]
    },
    "pythonIndentUnit": 4
   },
   "notebookName": "Notebook 1",
   "widgets": {}
  },
  "language_info": {
   "name": "python"
  }
 },
 "nbformat": 4,
 "nbformat_minor": 0
}